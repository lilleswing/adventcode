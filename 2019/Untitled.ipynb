{
 "cells": [
  {
   "cell_type": "code",
   "execution_count": 1,
   "metadata": {},
   "outputs": [],
   "source": [
    "import pandas as pd"
   ]
  },
  {
   "cell_type": "code",
   "execution_count": 2,
   "metadata": {},
   "outputs": [],
   "source": [
    "# Day1"
   ]
  },
  {
   "cell_type": "code",
   "execution_count": 1,
   "metadata": {},
   "outputs": [],
   "source": [
    "def read_file(fname):\n",
    "    with open(fname) as fin:\n",
    "        return [x.strip() for x in fin.readlines()]"
   ]
  },
  {
   "cell_type": "code",
   "execution_count": 14,
   "metadata": {},
   "outputs": [],
   "source": [
    "pinput = read_file('1.txt')"
   ]
  },
  {
   "cell_type": "code",
   "execution_count": 16,
   "metadata": {},
   "outputs": [],
   "source": [
    "pinput = [int(x) for x in pinput]"
   ]
  },
  {
   "cell_type": "code",
   "execution_count": 8,
   "metadata": {},
   "outputs": [],
   "source": [
    "def myf(x):\n",
    "    return x // 3 - 2"
   ]
  },
  {
   "cell_type": "code",
   "execution_count": 18,
   "metadata": {},
   "outputs": [
    {
     "data": {
      "text/plain": [
       "3452245"
      ]
     },
     "execution_count": 18,
     "metadata": {},
     "output_type": "execute_result"
    }
   ],
   "source": []
  },
  {
   "cell_type": "code",
   "execution_count": 23,
   "metadata": {},
   "outputs": [],
   "source": [
    "# day2"
   ]
  },
  {
   "cell_type": "code",
   "execution_count": 29,
   "metadata": {},
   "outputs": [],
   "source": [
    "def myf(x):\n",
    "    total =0\n",
    "    gas = x // 3 - 2\n",
    "    while gas != 0:\n",
    "        total += gas\n",
    "        gas = gas // 3 - 2\n",
    "        if gas < 0:\n",
    "            gas = 0\n",
    "    return total"
   ]
  },
  {
   "cell_type": "code",
   "execution_count": 30,
   "metadata": {},
   "outputs": [
    {
     "data": {
      "text/plain": [
       "5175499"
      ]
     },
     "execution_count": 30,
     "metadata": {},
     "output_type": "execute_result"
    }
   ],
   "source": [
    "sum([myf(x) for x in pinput])"
   ]
  },
  {
   "cell_type": "markdown",
   "metadata": {},
   "source": [
    "# Day 2"
   ]
  },
  {
   "cell_type": "code",
   "execution_count": 35,
   "metadata": {},
   "outputs": [],
   "source": [
    "def parse_input():\n",
    "    #return [1,0,0,0, 99]\n",
    "    #return [2,3,0,3,99]\n",
    "    #return [2, 4, 4, 5, 99, 0]\n",
    "    l = read_file('day2.in')\n",
    "    l = [int(x) for x in l[0].split(',')]\n",
    "    l[1] = 12\n",
    "    l[2] = 2\n",
    "    return l"
   ]
  },
  {
   "cell_type": "code",
   "execution_count": 36,
   "metadata": {},
   "outputs": [],
   "source": [
    "done = False\n",
    "index = 0\n",
    "\n",
    "l = parse_input()\n",
    "\n",
    "while not done:\n",
    "    op_code = l[index]\n",
    "    if op_code == 99:\n",
    "        done = True\n",
    "        continue\n",
    "    if op_code == 1:\n",
    "        v1 = l[l[index+1]]\n",
    "        v2 = l[l[index+2]]\n",
    "        result = v1 + v2\n",
    "        dest_index = l[index+3]\n",
    "        l[dest_index] = result\n",
    "        index += 4\n",
    "        continue\n",
    "    if op_code == 2:\n",
    "        v1 = l[l[index+1]]\n",
    "        v2 = l[l[index+2]]\n",
    "        result = v1 * v2\n",
    "        dest_index = l[index+3]\n",
    "        l[dest_index] = result\n",
    "        index += 4\n",
    "        continue"
   ]
  },
  {
   "cell_type": "markdown",
   "metadata": {},
   "source": [
    "### Part 2"
   ]
  },
  {
   "cell_type": "code",
   "execution_count": 47,
   "metadata": {},
   "outputs": [],
   "source": [
    "def run_round(noun, verb):\n",
    "    done = False\n",
    "    index = 0\n",
    "\n",
    "    l = parse_input()\n",
    "    l[1] = noun\n",
    "    l[2] = verb\n",
    "    while not done:\n",
    "        op_code = l[index]\n",
    "        if op_code == 99:\n",
    "            done = True\n",
    "            continue\n",
    "        if op_code == 1:\n",
    "            v1 = l[l[index+1]]\n",
    "            v2 = l[l[index+2]]\n",
    "            result = v1 + v2\n",
    "            dest_index = l[index+3]\n",
    "            l[dest_index] = result\n",
    "            index += 4\n",
    "            continue\n",
    "        if op_code == 2:\n",
    "            v1 = l[l[index+1]]\n",
    "            v2 = l[l[index+2]]\n",
    "            result = v1 * v2\n",
    "            dest_index = l[index+3]\n",
    "            l[dest_index] = result\n",
    "            index += 4\n",
    "            continue\n",
    "    return l[0]"
   ]
  },
  {
   "cell_type": "code",
   "execution_count": 49,
   "metadata": {},
   "outputs": [
    {
     "name": "stdout",
     "output_type": "stream",
     "text": [
      "2505\n"
     ]
    }
   ],
   "source": [
    "def solve(goal):\n",
    "    for i in range(0, 101):\n",
    "        for j in range(0, 101):\n",
    "            \n",
    "            if run_round(i, j) == goal:\n",
    "                print(100*i + j)\n",
    "                return\n",
    "goal = 19690720\n",
    "solve(goal)"
   ]
  },
  {
   "cell_type": "code",
   "execution_count": null,
   "metadata": {},
   "outputs": [],
   "source": []
  }
 ],
 "metadata": {
  "kernelspec": {
   "display_name": "Python 3",
   "language": "python",
   "name": "python3"
  },
  "language_info": {
   "codemirror_mode": {
    "name": "ipython",
    "version": 3
   },
   "file_extension": ".py",
   "mimetype": "text/x-python",
   "name": "python",
   "nbconvert_exporter": "python",
   "pygments_lexer": "ipython3",
   "version": "3.6.7"
  }
 },
 "nbformat": 4,
 "nbformat_minor": 4
}
