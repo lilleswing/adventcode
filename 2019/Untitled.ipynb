{
 "cells": [
  {
   "cell_type": "code",
   "execution_count": 50,
   "metadata": {},
   "outputs": [],
   "source": [
    "# Day1"
   ]
  },
  {
   "cell_type": "code",
   "execution_count": 31,
   "metadata": {},
   "outputs": [],
   "source": [
    "def read_file(fname):\n",
    "    with open(fname) as fin:\n",
    "        return [x.strip() for x in fin.readlines()]"
   ]
  },
  {
   "cell_type": "code",
   "execution_count": 52,
   "metadata": {},
   "outputs": [],
   "source": [
    "pinput = read_file('1.txt')"
   ]
  },
  {
   "cell_type": "code",
   "execution_count": 53,
   "metadata": {},
   "outputs": [],
   "source": [
    "pinput = [int(x) for x in pinput]"
   ]
  },
  {
   "cell_type": "code",
   "execution_count": 54,
   "metadata": {},
   "outputs": [],
   "source": [
    "def myf(x):\n",
    "    return x // 3 - 2"
   ]
  },
  {
   "cell_type": "code",
   "execution_count": 55,
   "metadata": {},
   "outputs": [
    {
     "data": {
      "text/plain": [
       "3452245"
      ]
     },
     "execution_count": 55,
     "metadata": {},
     "output_type": "execute_result"
    }
   ],
   "source": [
    "sum([myf(x) for x in pinput])"
   ]
  },
  {
   "cell_type": "code",
   "execution_count": 56,
   "metadata": {},
   "outputs": [],
   "source": [
    "# day2"
   ]
  },
  {
   "cell_type": "code",
   "execution_count": 57,
   "metadata": {},
   "outputs": [],
   "source": [
    "def myf(x):\n",
    "    total =0\n",
    "    gas = x // 3 - 2\n",
    "    while gas != 0:\n",
    "        total += gas\n",
    "        gas = gas // 3 - 2\n",
    "        if gas < 0:\n",
    "            gas = 0\n",
    "    return total"
   ]
  },
  {
   "cell_type": "code",
   "execution_count": 58,
   "metadata": {},
   "outputs": [
    {
     "data": {
      "text/plain": [
       "5175499"
      ]
     },
     "execution_count": 58,
     "metadata": {},
     "output_type": "execute_result"
    }
   ],
   "source": [
    "sum([myf(x) for x in pinput])"
   ]
  },
  {
   "cell_type": "markdown",
   "metadata": {},
   "source": [
    "# Day 2"
   ]
  },
  {
   "cell_type": "code",
   "execution_count": 59,
   "metadata": {},
   "outputs": [],
   "source": [
    "def parse_input():\n",
    "    #return [1,0,0,0, 99]\n",
    "    #return [2,3,0,3,99]\n",
    "    #return [2, 4, 4, 5, 99, 0]\n",
    "    l = read_file('day2.in')\n",
    "    l = [int(x) for x in l[0].split(',')]\n",
    "    l[1] = 12\n",
    "    l[2] = 2\n",
    "    return l"
   ]
  },
  {
   "cell_type": "code",
   "execution_count": 63,
   "metadata": {},
   "outputs": [
    {
     "data": {
      "text/plain": [
       "9581917"
      ]
     },
     "execution_count": 63,
     "metadata": {},
     "output_type": "execute_result"
    }
   ],
   "source": [
    "done = False\n",
    "index = 0\n",
    "\n",
    "l = parse_input()\n",
    "\n",
    "while not done:\n",
    "    op_code = l[index]\n",
    "    if op_code == 99:\n",
    "        done = True\n",
    "        continue\n",
    "    if op_code == 1:\n",
    "        v1 = l[l[index+1]]\n",
    "        v2 = l[l[index+2]]\n",
    "        result = v1 + v2\n",
    "        dest_index = l[index+3]\n",
    "        l[dest_index] = result\n",
    "        index += 4\n",
    "        continue\n",
    "    if op_code == 2:\n",
    "        v1 = l[l[index+1]]\n",
    "        v2 = l[l[index+2]]\n",
    "        result = v1 * v2\n",
    "        dest_index = l[index+3]\n",
    "        l[dest_index] = result\n",
    "        index += 4\n",
    "        continue\n",
    "l[0]"
   ]
  },
  {
   "cell_type": "markdown",
   "metadata": {},
   "source": [
    "### Part 2"
   ]
  },
  {
   "cell_type": "code",
   "execution_count": 61,
   "metadata": {},
   "outputs": [],
   "source": [
    "def run_round(noun, verb):\n",
    "    done = False\n",
    "    index = 0\n",
    "\n",
    "    l = parse_input()\n",
    "    l[1] = noun\n",
    "    l[2] = verb\n",
    "    while not done:\n",
    "        op_code = l[index]\n",
    "        if op_code == 99:\n",
    "            done = True\n",
    "            continue\n",
    "        if op_code == 1:\n",
    "            v1 = l[l[index+1]]\n",
    "            v2 = l[l[index+2]]\n",
    "            result = v1 + v2\n",
    "            dest_index = l[index+3]\n",
    "            l[dest_index] = result\n",
    "            index += 4\n",
    "            continue\n",
    "        if op_code == 2:\n",
    "            v1 = l[l[index+1]]\n",
    "            v2 = l[l[index+2]]\n",
    "            result = v1 * v2\n",
    "            dest_index = l[index+3]\n",
    "            l[dest_index] = result\n",
    "            index += 4\n",
    "            continue\n",
    "    return l[0]"
   ]
  },
  {
   "cell_type": "code",
   "execution_count": 62,
   "metadata": {},
   "outputs": [
    {
     "name": "stdout",
     "output_type": "stream",
     "text": [
      "2505\n"
     ]
    }
   ],
   "source": [
    "def solve(goal):\n",
    "    for i in range(0, 101):\n",
    "        for j in range(0, 101):\n",
    "            \n",
    "            if run_round(i, j) == goal:\n",
    "                print(100*i + j)\n",
    "                return\n",
    "goal = 19690720\n",
    "solve(goal)"
   ]
  },
  {
   "cell_type": "markdown",
   "metadata": {},
   "source": [
    "# Day 3"
   ]
  },
  {
   "cell_type": "code",
   "execution_count": 106,
   "metadata": {},
   "outputs": [],
   "source": [
    "class Point(object):\n",
    "    def __init__(self, x, y, grid=None):\n",
    "        if grid is None:\n",
    "            self.grid = {}\n",
    "        else:\n",
    "            self.grid = grid\n",
    "        self.x = x\n",
    "        self.y = y\n",
    "        self.step_count = 0\n",
    "    \n",
    "    def to_key(self):\n",
    "        return (self.x, self.y)\n",
    "    \n",
    "    def update_grid(self):\n",
    "        key = self.to_key()\n",
    "        if key not in self.grid:\n",
    "            self.grid[key] = self.step_count\n",
    "            \n",
    "    def move(self, s):\n",
    "        move_dict = {\n",
    "            'R': (0,1),\n",
    "            'L': (0,-1),\n",
    "            'U': (-1, 0),\n",
    "            'D': (1, 0)\n",
    "        }\n",
    "        my_dir = move_dict[s[0]]\n",
    "        s = int(s[1:])\n",
    "\n",
    "        for i in range(s):\n",
    "            self.step_count += 1\n",
    "            self.x += my_dir[1]\n",
    "            self.y += my_dir[0]\n",
    "            self.update_grid()\n",
    "        return\n",
    "        "
   ]
  },
  {
   "cell_type": "code",
   "execution_count": 107,
   "metadata": {},
   "outputs": [],
   "source": [
    "def solve1(l):\n",
    "    p1 = Point(0, 0)\n",
    "    for elem in l[0]:\n",
    "        p1.move(elem)\n",
    "    p2 = Point(0,0)\n",
    "    for elem in l[1]:\n",
    "        p2.move(elem)\n",
    "    g1, g2 = set(p1.grid.keys()), set(p2.grid.keys())\n",
    "    intersections = list(g1.intersection(g2))\n",
    "    intersections = sorted(intersections, key=lambda x: abs(x[0]) + abs(x[1]))\n",
    "    return intersections[0]"
   ]
  },
  {
   "cell_type": "code",
   "execution_count": 108,
   "metadata": {},
   "outputs": [
    {
     "data": {
      "text/plain": [
       "(403, 0)"
      ]
     },
     "execution_count": 108,
     "metadata": {},
     "output_type": "execute_result"
    }
   ],
   "source": [
    "l = read_file('day3.in')\n",
    "l = [x.split(',') for x in l]\n",
    "solve1(l)"
   ]
  },
  {
   "cell_type": "markdown",
   "metadata": {},
   "source": [
    "### Part 2"
   ]
  },
  {
   "cell_type": "code",
   "execution_count": 109,
   "metadata": {},
   "outputs": [],
   "source": [
    "def total_steps(point, g1, g2):\n",
    "    return g1[point] + g2[point]\n",
    "\n",
    "def solve2(l):\n",
    "    p1 = Point(0, 0)\n",
    "    for elem in l[0]:\n",
    "        p1.move(elem)\n",
    "    p2 = Point(0,0)\n",
    "    for elem in l[1]:\n",
    "        p2.move(elem)\n",
    "    g1, g2 = p1.grid, p2.grid\n",
    "    k1, k2 = set(p1.grid.keys()), set(p2.grid.keys())\n",
    "    intersections = list(k1.intersection(k2))\n",
    "    intersections = sorted(intersections, key=lambda x: total_steps(x, g1, g2))\n",
    "    return intersections[0], total_steps(intersections[0], g1, g2)"
   ]
  },
  {
   "cell_type": "code",
   "execution_count": 110,
   "metadata": {},
   "outputs": [
    {
     "data": {
      "text/plain": [
       "((610, 0), 4158)"
      ]
     },
     "execution_count": 110,
     "metadata": {},
     "output_type": "execute_result"
    }
   ],
   "source": [
    "l = read_file('day3.in')\n",
    "l = [x.split(',') for x in l]\n",
    "solve2(l)"
   ]
  },
  {
   "cell_type": "markdown",
   "metadata": {},
   "source": [
    "# Day 4"
   ]
  },
  {
   "cell_type": "code",
   "execution_count": 1,
   "metadata": {},
   "outputs": [],
   "source": [
    "low_area = 197487\n",
    "high_area = 673251"
   ]
  },
  {
   "cell_type": "code",
   "execution_count": 23,
   "metadata": {},
   "outputs": [],
   "source": [
    "def has_double(i):\n",
    "    s = str(i)\n",
    "    for i in range(2, len(s)+1):\n",
    "        if len(set(s[i-2:i])) == 1:\n",
    "            return True\n",
    "    return False\n",
    "\n",
    "def monitonically_increasing(i):\n",
    "    s = str(i)\n",
    "    l = [int(x) for x in s]\n",
    "    for i in range(1, len(l)):\n",
    "        if l[i] < l[i-1]:\n",
    "            return False\n",
    "    return True\n",
    "    \n",
    "def solve(i):\n",
    "    if not has_double(i):\n",
    "        return False\n",
    "    if not monitonically_increasing(i):\n",
    "        return False\n",
    "    return True"
   ]
  },
  {
   "cell_type": "code",
   "execution_count": 24,
   "metadata": {},
   "outputs": [],
   "source": [
    "total = 0\n",
    "for i in range(low_area, high_area):\n",
    "    total += solve(i)"
   ]
  },
  {
   "cell_type": "code",
   "execution_count": 25,
   "metadata": {},
   "outputs": [
    {
     "data": {
      "text/plain": [
       "1640"
      ]
     },
     "execution_count": 25,
     "metadata": {},
     "output_type": "execute_result"
    }
   ],
   "source": [
    "total"
   ]
  },
  {
   "cell_type": "markdown",
   "metadata": {},
   "source": [
    "### Part 2"
   ]
  },
  {
   "cell_type": "code",
   "execution_count": 30,
   "metadata": {},
   "outputs": [],
   "source": [
    "def not_triple(s, i):\n",
    "    if i >= 2:\n",
    "        part = s[i-3:i]\n",
    "        if len(set(list(part))) == 1:\n",
    "            return False\n",
    "    if i+1 <= len(s):\n",
    "        part = s[i-2:i+1]\n",
    "        if len(set(list(part))) == 1:\n",
    "            return False\n",
    "    return True\n",
    "\n",
    "def has_double(i):\n",
    "    s = str(i)\n",
    "    for i in range(2, len(s)+1):\n",
    "        if len(set(s[i-2:i])) == 1:\n",
    "            if not_triple(s, i):\n",
    "                return True\n",
    "    return False\n",
    "\n",
    "def monitonically_increasing(i):\n",
    "    s = str(i)\n",
    "    l = [int(x) for x in s]\n",
    "    for i in range(1, len(l)):\n",
    "        if l[i] < l[i-1]:\n",
    "            return False\n",
    "    return True\n",
    "    \n",
    "def solve(i):\n",
    "    if not has_double(i):\n",
    "        return False\n",
    "    if not monitonically_increasing(i):\n",
    "        return False\n",
    "    return True"
   ]
  },
  {
   "cell_type": "code",
   "execution_count": 35,
   "metadata": {},
   "outputs": [],
   "source": [
    "total = 0\n",
    "for i in range(low_area, high_area):\n",
    "    total += solve(i)"
   ]
  },
  {
   "cell_type": "code",
   "execution_count": 36,
   "metadata": {},
   "outputs": [
    {
     "data": {
      "text/plain": [
       "1126"
      ]
     },
     "execution_count": 36,
     "metadata": {},
     "output_type": "execute_result"
    }
   ],
   "source": [
    "total"
   ]
  },
  {
   "cell_type": "code",
   "execution_count": null,
   "metadata": {},
   "outputs": [],
   "source": []
  }
 ],
 "metadata": {
  "kernelspec": {
   "display_name": "Python 3",
   "language": "python",
   "name": "python3"
  },
  "language_info": {
   "codemirror_mode": {
    "name": "ipython",
    "version": 3
   },
   "file_extension": ".py",
   "mimetype": "text/x-python",
   "name": "python",
   "nbconvert_exporter": "python",
   "pygments_lexer": "ipython3",
   "version": "3.6.7"
  }
 },
 "nbformat": 4,
 "nbformat_minor": 4
}
