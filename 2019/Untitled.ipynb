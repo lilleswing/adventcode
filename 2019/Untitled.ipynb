{
 "cells": [
  {
   "cell_type": "code",
   "execution_count": 50,
   "metadata": {},
   "outputs": [],
   "source": [
    "# Day1"
   ]
  },
  {
   "cell_type": "code",
   "execution_count": 4,
   "metadata": {},
   "outputs": [],
   "source": [
    "def read_file(fname):\n",
    "    with open(fname) as fin:\n",
    "        return [x.strip() for x in fin.readlines()]"
   ]
  },
  {
   "cell_type": "code",
   "execution_count": 52,
   "metadata": {},
   "outputs": [],
   "source": [
    "pinput = read_file('1.txt')"
   ]
  },
  {
   "cell_type": "code",
   "execution_count": 53,
   "metadata": {},
   "outputs": [],
   "source": [
    "pinput = [int(x) for x in pinput]"
   ]
  },
  {
   "cell_type": "code",
   "execution_count": 54,
   "metadata": {},
   "outputs": [],
   "source": [
    "def myf(x):\n",
    "    return x // 3 - 2"
   ]
  },
  {
   "cell_type": "code",
   "execution_count": 55,
   "metadata": {},
   "outputs": [
    {
     "data": {
      "text/plain": [
       "3452245"
      ]
     },
     "execution_count": 55,
     "metadata": {},
     "output_type": "execute_result"
    }
   ],
   "source": [
    "sum([myf(x) for x in pinput])"
   ]
  },
  {
   "cell_type": "code",
   "execution_count": 56,
   "metadata": {},
   "outputs": [],
   "source": [
    "# day2"
   ]
  },
  {
   "cell_type": "code",
   "execution_count": 57,
   "metadata": {},
   "outputs": [],
   "source": [
    "def myf(x):\n",
    "    total =0\n",
    "    gas = x // 3 - 2\n",
    "    while gas != 0:\n",
    "        total += gas\n",
    "        gas = gas // 3 - 2\n",
    "        if gas < 0:\n",
    "            gas = 0\n",
    "    return total"
   ]
  },
  {
   "cell_type": "code",
   "execution_count": 58,
   "metadata": {},
   "outputs": [
    {
     "data": {
      "text/plain": [
       "5175499"
      ]
     },
     "execution_count": 58,
     "metadata": {},
     "output_type": "execute_result"
    }
   ],
   "source": [
    "sum([myf(x) for x in pinput])"
   ]
  },
  {
   "cell_type": "markdown",
   "metadata": {},
   "source": [
    "# Day 2"
   ]
  },
  {
   "cell_type": "code",
   "execution_count": 59,
   "metadata": {},
   "outputs": [],
   "source": [
    "def parse_input():\n",
    "    #return [1,0,0,0, 99]\n",
    "    #return [2,3,0,3,99]\n",
    "    #return [2, 4, 4, 5, 99, 0]\n",
    "    l = read_file('day2.in')\n",
    "    l = [int(x) for x in l[0].split(',')]\n",
    "    l[1] = 12\n",
    "    l[2] = 2\n",
    "    return l"
   ]
  },
  {
   "cell_type": "code",
   "execution_count": 63,
   "metadata": {},
   "outputs": [
    {
     "data": {
      "text/plain": [
       "9581917"
      ]
     },
     "execution_count": 63,
     "metadata": {},
     "output_type": "execute_result"
    }
   ],
   "source": [
    "done = False\n",
    "index = 0\n",
    "\n",
    "l = parse_input()\n",
    "\n",
    "while not done:\n",
    "    op_code = l[index]\n",
    "    if op_code == 99:\n",
    "        done = True\n",
    "        continue\n",
    "    if op_code == 1:\n",
    "        v1 = l[l[index+1]]\n",
    "        v2 = l[l[index+2]]\n",
    "        result = v1 + v2\n",
    "        dest_index = l[index+3]\n",
    "        l[dest_index] = result\n",
    "        index += 4\n",
    "        continue\n",
    "    if op_code == 2:\n",
    "        v1 = l[l[index+1]]\n",
    "        v2 = l[l[index+2]]\n",
    "        result = v1 * v2\n",
    "        dest_index = l[index+3]\n",
    "        l[dest_index] = result\n",
    "        index += 4\n",
    "        continue\n",
    "l[0]"
   ]
  },
  {
   "cell_type": "markdown",
   "metadata": {},
   "source": [
    "### Part 2"
   ]
  },
  {
   "cell_type": "code",
   "execution_count": 61,
   "metadata": {},
   "outputs": [],
   "source": [
    "def run_round(noun, verb):\n",
    "    done = False\n",
    "    index = 0\n",
    "\n",
    "    l = parse_input()\n",
    "    l[1] = noun\n",
    "    l[2] = verb\n",
    "    while not done:\n",
    "        op_code = l[index]\n",
    "        if op_code == 99:\n",
    "            done = True\n",
    "            continue\n",
    "        if op_code == 1:\n",
    "            v1 = l[l[index+1]]\n",
    "            v2 = l[l[index+2]]\n",
    "            result = v1 + v2\n",
    "            dest_index = l[index+3]\n",
    "            l[dest_index] = result\n",
    "            index += 4\n",
    "            continue\n",
    "        if op_code == 2:\n",
    "            v1 = l[l[index+1]]\n",
    "            v2 = l[l[index+2]]\n",
    "            result = v1 * v2\n",
    "            dest_index = l[index+3]\n",
    "            l[dest_index] = result\n",
    "            index += 4\n",
    "            continue\n",
    "    return l[0]"
   ]
  },
  {
   "cell_type": "code",
   "execution_count": 62,
   "metadata": {},
   "outputs": [
    {
     "name": "stdout",
     "output_type": "stream",
     "text": [
      "2505\n"
     ]
    }
   ],
   "source": [
    "def solve(goal):\n",
    "    for i in range(0, 101):\n",
    "        for j in range(0, 101):\n",
    "            \n",
    "            if run_round(i, j) == goal:\n",
    "                print(100*i + j)\n",
    "                return\n",
    "goal = 19690720\n",
    "solve(goal)"
   ]
  },
  {
   "cell_type": "markdown",
   "metadata": {},
   "source": [
    "# Day 3"
   ]
  },
  {
   "cell_type": "code",
   "execution_count": 106,
   "metadata": {},
   "outputs": [],
   "source": [
    "class Point(object):\n",
    "    def __init__(self, x, y, grid=None):\n",
    "        if grid is None:\n",
    "            self.grid = {}\n",
    "        else:\n",
    "            self.grid = grid\n",
    "        self.x = x\n",
    "        self.y = y\n",
    "        self.step_count = 0\n",
    "    \n",
    "    def to_key(self):\n",
    "        return (self.x, self.y)\n",
    "    \n",
    "    def update_grid(self):\n",
    "        key = self.to_key()\n",
    "        if key not in self.grid:\n",
    "            self.grid[key] = self.step_count\n",
    "            \n",
    "    def move(self, s):\n",
    "        move_dict = {\n",
    "            'R': (0,1),\n",
    "            'L': (0,-1),\n",
    "            'U': (-1, 0),\n",
    "            'D': (1, 0)\n",
    "        }\n",
    "        my_dir = move_dict[s[0]]\n",
    "        s = int(s[1:])\n",
    "\n",
    "        for i in range(s):\n",
    "            self.step_count += 1\n",
    "            self.x += my_dir[1]\n",
    "            self.y += my_dir[0]\n",
    "            self.update_grid()\n",
    "        return\n",
    "        "
   ]
  },
  {
   "cell_type": "code",
   "execution_count": 107,
   "metadata": {},
   "outputs": [],
   "source": [
    "def solve1(l):\n",
    "    p1 = Point(0, 0)\n",
    "    for elem in l[0]:\n",
    "        p1.move(elem)\n",
    "    p2 = Point(0,0)\n",
    "    for elem in l[1]:\n",
    "        p2.move(elem)\n",
    "    g1, g2 = set(p1.grid.keys()), set(p2.grid.keys())\n",
    "    intersections = list(g1.intersection(g2))\n",
    "    intersections = sorted(intersections, key=lambda x: abs(x[0]) + abs(x[1]))\n",
    "    return intersections[0]"
   ]
  },
  {
   "cell_type": "code",
   "execution_count": 108,
   "metadata": {},
   "outputs": [
    {
     "data": {
      "text/plain": [
       "(403, 0)"
      ]
     },
     "execution_count": 108,
     "metadata": {},
     "output_type": "execute_result"
    }
   ],
   "source": [
    "l = read_file('day3.in')\n",
    "l = [x.split(',') for x in l]\n",
    "solve1(l)"
   ]
  },
  {
   "cell_type": "markdown",
   "metadata": {},
   "source": [
    "### Part 2"
   ]
  },
  {
   "cell_type": "code",
   "execution_count": 109,
   "metadata": {},
   "outputs": [],
   "source": [
    "def total_steps(point, g1, g2):\n",
    "    return g1[point] + g2[point]\n",
    "\n",
    "def solve2(l):\n",
    "    p1 = Point(0, 0)\n",
    "    for elem in l[0]:\n",
    "        p1.move(elem)\n",
    "    p2 = Point(0,0)\n",
    "    for elem in l[1]:\n",
    "        p2.move(elem)\n",
    "    g1, g2 = p1.grid, p2.grid\n",
    "    k1, k2 = set(p1.grid.keys()), set(p2.grid.keys())\n",
    "    intersections = list(k1.intersection(k2))\n",
    "    intersections = sorted(intersections, key=lambda x: total_steps(x, g1, g2))\n",
    "    return intersections[0], total_steps(intersections[0], g1, g2)"
   ]
  },
  {
   "cell_type": "code",
   "execution_count": 110,
   "metadata": {},
   "outputs": [
    {
     "data": {
      "text/plain": [
       "((610, 0), 4158)"
      ]
     },
     "execution_count": 110,
     "metadata": {},
     "output_type": "execute_result"
    }
   ],
   "source": [
    "l = read_file('day3.in')\n",
    "l = [x.split(',') for x in l]\n",
    "solve2(l)"
   ]
  },
  {
   "cell_type": "markdown",
   "metadata": {},
   "source": [
    "# Day 4"
   ]
  },
  {
   "cell_type": "code",
   "execution_count": 1,
   "metadata": {},
   "outputs": [],
   "source": [
    "low_area = 197487\n",
    "high_area = 673251"
   ]
  },
  {
   "cell_type": "code",
   "execution_count": 23,
   "metadata": {},
   "outputs": [],
   "source": [
    "def has_double(i):\n",
    "    s = str(i)\n",
    "    for i in range(2, len(s)+1):\n",
    "        if len(set(s[i-2:i])) == 1:\n",
    "            return True\n",
    "    return False\n",
    "\n",
    "def monitonically_increasing(i):\n",
    "    s = str(i)\n",
    "    l = [int(x) for x in s]\n",
    "    for i in range(1, len(l)):\n",
    "        if l[i] < l[i-1]:\n",
    "            return False\n",
    "    return True\n",
    "    \n",
    "def solve(i):\n",
    "    if not has_double(i):\n",
    "        return False\n",
    "    if not monitonically_increasing(i):\n",
    "        return False\n",
    "    return True"
   ]
  },
  {
   "cell_type": "code",
   "execution_count": 24,
   "metadata": {},
   "outputs": [],
   "source": [
    "total = 0\n",
    "for i in range(low_area, high_area):\n",
    "    total += solve(i)"
   ]
  },
  {
   "cell_type": "code",
   "execution_count": 25,
   "metadata": {},
   "outputs": [
    {
     "data": {
      "text/plain": [
       "1640"
      ]
     },
     "execution_count": 25,
     "metadata": {},
     "output_type": "execute_result"
    }
   ],
   "source": [
    "total"
   ]
  },
  {
   "cell_type": "markdown",
   "metadata": {},
   "source": [
    "### Part 2"
   ]
  },
  {
   "cell_type": "code",
   "execution_count": 30,
   "metadata": {},
   "outputs": [],
   "source": [
    "def not_triple(s, i):\n",
    "    if i >= 2:\n",
    "        part = s[i-3:i]\n",
    "        if len(set(list(part))) == 1:\n",
    "            return False\n",
    "    if i+1 <= len(s):\n",
    "        part = s[i-2:i+1]\n",
    "        if len(set(list(part))) == 1:\n",
    "            return False\n",
    "    return True\n",
    "\n",
    "def has_double(i):\n",
    "    s = str(i)\n",
    "    for i in range(2, len(s)+1):\n",
    "        if len(set(s[i-2:i])) == 1:\n",
    "            if not_triple(s, i):\n",
    "                return True\n",
    "    return False\n",
    "\n",
    "def monitonically_increasing(i):\n",
    "    s = str(i)\n",
    "    l = [int(x) for x in s]\n",
    "    for i in range(1, len(l)):\n",
    "        if l[i] < l[i-1]:\n",
    "            return False\n",
    "    return True\n",
    "    \n",
    "def solve(i):\n",
    "    if not has_double(i):\n",
    "        return False\n",
    "    if not monitonically_increasing(i):\n",
    "        return False\n",
    "    return True"
   ]
  },
  {
   "cell_type": "code",
   "execution_count": 35,
   "metadata": {},
   "outputs": [],
   "source": [
    "total = 0\n",
    "for i in range(low_area, high_area):\n",
    "    total += solve(i)"
   ]
  },
  {
   "cell_type": "code",
   "execution_count": 36,
   "metadata": {},
   "outputs": [
    {
     "data": {
      "text/plain": [
       "1126"
      ]
     },
     "execution_count": 36,
     "metadata": {},
     "output_type": "execute_result"
    }
   ],
   "source": [
    "total"
   ]
  },
  {
   "cell_type": "code",
   "execution_count": 1,
   "metadata": {},
   "outputs": [
    {
     "data": {
      "text/plain": [
       "2"
      ]
     },
     "execution_count": 1,
     "metadata": {},
     "output_type": "execute_result"
    }
   ],
   "source": [
    "True + True"
   ]
  },
  {
   "cell_type": "code",
   "execution_count": 1,
   "metadata": {},
   "outputs": [],
   "source": [
    "def zero_pad(i, length):\n",
    "    s = str(i)\n",
    "    while len(s) < length:\n",
    "        s = \"0\" + s\n",
    "    return s\n",
    "    "
   ]
  },
  {
   "cell_type": "code",
   "execution_count": 2,
   "metadata": {},
   "outputs": [
    {
     "data": {
      "text/plain": [
       "'00002'"
      ]
     },
     "execution_count": 2,
     "metadata": {},
     "output_type": "execute_result"
    }
   ],
   "source": [
    "zero_pad(2, 5)"
   ]
  },
  {
   "cell_type": "markdown",
   "metadata": {},
   "source": [
    "# Day 6"
   ]
  },
  {
   "cell_type": "code",
   "execution_count": 5,
   "metadata": {},
   "outputs": [],
   "source": [
    "import networkx as nx\n"
   ]
  },
  {
   "cell_type": "code",
   "execution_count": 44,
   "metadata": {},
   "outputs": [],
   "source": [
    "lines = \"\"\"COM)B\n",
    "B)C\n",
    "C)D\n",
    "D)E\n",
    "E)F\n",
    "B)G\n",
    "G)H\n",
    "D)I\n",
    "E)J\n",
    "J)K\n",
    "K)L\"\"\".split('\\n')"
   ]
  },
  {
   "cell_type": "code",
   "execution_count": 34,
   "metadata": {},
   "outputs": [],
   "source": [
    "lines = read_file('day6.in')"
   ]
  },
  {
   "cell_type": "code",
   "execution_count": 35,
   "metadata": {},
   "outputs": [],
   "source": [
    "g = nx.DiGraph()\n",
    "for line in lines:\n",
    "    v1, v2 = line.split(')')\n",
    "    g.add_edge(v2, v1)"
   ]
  },
  {
   "cell_type": "code",
   "execution_count": 36,
   "metadata": {},
   "outputs": [],
   "source": [
    "total = 0\n",
    "for elem in g.nodes:\n",
    "    neighbors = list(g.neighbors(elem))\n",
    "    while len(neighbors) != 0:\n",
    "        total += 1\n",
    "        neighbors = list(g.neighbors(neighbors[0]))"
   ]
  },
  {
   "cell_type": "code",
   "execution_count": 37,
   "metadata": {},
   "outputs": [
    {
     "data": {
      "text/plain": [
       "160040"
      ]
     },
     "execution_count": 37,
     "metadata": {},
     "output_type": "execute_result"
    }
   ],
   "source": [
    "total"
   ]
  },
  {
   "cell_type": "markdown",
   "metadata": {},
   "source": [
    "# Part 2"
   ]
  },
  {
   "cell_type": "code",
   "execution_count": 48,
   "metadata": {},
   "outputs": [],
   "source": [
    "lines = \"\"\"COM)B\n",
    "B)C\n",
    "C)D\n",
    "D)E\n",
    "E)F\n",
    "B)G\n",
    "G)H\n",
    "D)I\n",
    "E)J\n",
    "J)K\n",
    "K)L\n",
    "K)YOU\n",
    "I)SAN\"\"\".split('\\n')"
   ]
  },
  {
   "cell_type": "code",
   "execution_count": 51,
   "metadata": {},
   "outputs": [],
   "source": [
    "lines = read_file('day6.in')"
   ]
  },
  {
   "cell_type": "code",
   "execution_count": 52,
   "metadata": {},
   "outputs": [],
   "source": [
    "from networkx.algorithms.shortest_paths.generic import shortest_path\n",
    "g = nx.Graph()\n",
    "for line in lines:\n",
    "    v1, v2 = line.split(')')\n",
    "    g.add_edge(v2, v1)"
   ]
  },
  {
   "cell_type": "code",
   "execution_count": 53,
   "metadata": {},
   "outputs": [
    {
     "name": "stdout",
     "output_type": "stream",
     "text": [
      "373\n"
     ]
    }
   ],
   "source": [
    "my_path = shortest_path(g, 'SAN', 'YOU')\n",
    "print(len(my_path) - 3)"
   ]
  },
  {
   "cell_type": "code",
   "execution_count": 1,
   "metadata": {},
   "outputs": [
    {
     "name": "stdout",
     "output_type": "stream",
     "text": [
      "/home/leswing/Documents/adventcode/2019/aoc2018\n"
     ]
    }
   ],
   "source": [
    "cd aoc2018"
   ]
  },
  {
   "cell_type": "code",
   "execution_count": 7,
   "metadata": {},
   "outputs": [],
   "source": [
    "\n",
    "OPEN = '.'\n",
    "TREE = '|'\n",
    "LUMBER = '#'\n",
    "\n",
    "\n",
    "def get_neighbors(board, r, c):\n",
    "    retval = []\n",
    "    for dr in [-1, 0, 1]:\n",
    "        for dc in [-1, 0, 1]:\n",
    "            cr, cc = r + dr, c + dc\n",
    "            if dr == 0 and dc == 0:\n",
    "                continue\n",
    "            if cr < 0 or cc < 0:\n",
    "                continue\n",
    "            if cr >= len(board) or cc >= len(board[0]):\n",
    "                continue\n",
    "            retval.append(board[cr][cc])\n",
    "    return retval\n",
    "\n",
    "\n",
    "def three_or_more_trees(board, r, c):\n",
    "    neighbors = get_neighbors(board, r, c)\n",
    "    num_trees = sum([1 for x in neighbors if x == TREE])\n",
    "    return num_trees >= 3\n",
    "\n",
    "\n",
    "def three_or_more_lumber(board, r, c):\n",
    "    neighbors = get_neighbors(board, r, c)\n",
    "    num_lumber = sum([1 for x in neighbors if x == LUMBER])\n",
    "    return num_lumber >= 3\n",
    "\n",
    "\n",
    "def at_least_one_lumber_and_at_least_one_tree(board, r, c):\n",
    "    neighbors = get_neighbors(board, r, c)\n",
    "    num_lumber = sum([1 for x in neighbors if x == LUMBER])\n",
    "    num_trees = sum([1 for x in neighbors if x == TREE])\n",
    "    return num_lumber >= 1 and num_trees >= 1\n",
    "\n",
    "\n",
    "def calc_new_pixel(board, r, c):\n",
    "    if board[r][c] == OPEN:\n",
    "        if three_or_more_trees(board, r, c):\n",
    "            return TREE\n",
    "        else:\n",
    "            return OPEN\n",
    "    if board[r][c] == TREE:\n",
    "        if three_or_more_lumber(board, r, c):\n",
    "            return LUMBER\n",
    "        else:\n",
    "            return TREE\n",
    "\n",
    "    if board[r][c] == LUMBER:\n",
    "        if at_least_one_lumber_and_at_least_one_tree(board, r, c):\n",
    "            return LUMBER\n",
    "        else:\n",
    "            return OPEN\n",
    "\n",
    "\n",
    "def count_squares(board, pixel):\n",
    "    total = 0\n",
    "    for row in board:\n",
    "        for square in row:\n",
    "            if square == pixel:\n",
    "                total += 1\n",
    "    return total"
   ]
  },
  {
   "cell_type": "code",
   "execution_count": 12,
   "metadata": {},
   "outputs": [],
   "source": [
    "def calculate_distance_and_offset():\n",
    "    board = read_file('day18.in')\n",
    "    board = [list(x) for x in board]\n",
    "    seen = {}\n",
    "    for i in range(1000):\n",
    "        if i % 100 == 0:\n",
    "            print(i)\n",
    "        new_board = []\n",
    "        for r, row in enumerate(board):\n",
    "            new_row = []\n",
    "            for c, col in enumerate(row):\n",
    "                new_pixel = calc_new_pixel(board, r, c)\n",
    "                new_row.append(new_pixel)\n",
    "            new_board.append(new_row)\n",
    "        board = new_board\n",
    "        num_lumber = count_squares(board, LUMBER)\n",
    "        num_trees = count_squares(board, TREE)\n",
    "        key = (num_lumber, num_trees)\n",
    "        if key not in seen:\n",
    "            seen[key] = list()\n",
    "        seen[key].append(i)\n",
    "    return seen"
   ]
  },
  {
   "cell_type": "code",
   "execution_count": 13,
   "metadata": {},
   "outputs": [
    {
     "name": "stdout",
     "output_type": "stream",
     "text": [
      "0\n",
      "100\n",
      "200\n",
      "300\n",
      "400\n",
      "500\n",
      "600\n",
      "700\n",
      "800\n",
      "900\n"
     ]
    }
   ],
   "source": [
    "periods = calculate_distance_and_offset()"
   ]
  },
  {
   "cell_type": "code",
   "execution_count": 14,
   "metadata": {},
   "outputs": [
    {
     "data": {
      "text/plain": [
       "{(445, 596): [0],\n",
       " (344, 770): [1],\n",
       " (319, 926): [2],\n",
       " (311, 1061): [3],\n",
       " (348, 1160): [4],\n",
       " (383, 1226): [5],\n",
       " (449, 1245): [6],\n",
       " (505, 1225): [7],\n",
       " (568, 1169): [8],\n",
       " (602, 1073): [9],\n",
       " (586, 967): [10],\n",
       " (557, 856): [11],\n",
       " (563, 727): [12],\n",
       " (509, 618): [13],\n",
       " (411, 543): [14],\n",
       " (383, 460): [15],\n",
       " (304, 401): [16, 51],\n",
       " (244, 361): [17],\n",
       " (208, 326): [18],\n",
       " (194, 293): [19],\n",
       " (173, 265): [20],\n",
       " (165, 242): [21],\n",
       " (157, 222): [22],\n",
       " (138, 215): [23],\n",
       " (123, 214): [24],\n",
       " (122, 216): [25],\n",
       " (127, 217): [26],\n",
       " (113, 225): [27],\n",
       " (119, 235): [28],\n",
       " (113, 247): [29],\n",
       " (124, 257): [30],\n",
       " (129, 271): [31],\n",
       " (142, 286): [32],\n",
       " (153, 298): [33],\n",
       " (163, 315): [34],\n",
       " (169, 336): [35],\n",
       " (185, 353): [36],\n",
       " (191, 376): [37],\n",
       " (202, 400): [38],\n",
       " (216, 416): [39],\n",
       " (237, 431): [40],\n",
       " (245, 452): [41],\n",
       " (267, 460): [42],\n",
       " (280, 465): [43],\n",
       " (301, 471): [44],\n",
       " (294, 474): [45],\n",
       " (302, 473): [46],\n",
       " (304, 471): [47],\n",
       " (317, 455): [48],\n",
       " (320, 432): [49],\n",
       " (315, 416): [50],\n",
       " (277, 398): [52],\n",
       " (267, 401): [53],\n",
       " (255, 406): [54],\n",
       " (253, 408): [55],\n",
       " (234, 421): [56],\n",
       " (240, 432): [57],\n",
       " (232, 446): [58],\n",
       " (240, 466): [59],\n",
       " (256, 479): [60],\n",
       " (270, 487): [61, 103],\n",
       " (278, 499): [62],\n",
       " (287, 516): [63],\n",
       " (305, 513): [64],\n",
       " (308, 515): [65],\n",
       " (303, 523): [66],\n",
       " (313, 527): [67],\n",
       " (317, 541): [68],\n",
       " (335, 545): [69],\n",
       " (306, 558): [70],\n",
       " (315, 576): [71],\n",
       " (329, 583): [72],\n",
       " (353, 574): [73],\n",
       " (361, 560): [74],\n",
       " (376, 541): [75],\n",
       " (376, 512): [76],\n",
       " (367, 487): [77],\n",
       " (358, 464): [78],\n",
       " (322, 447): [79],\n",
       " (310, 434): [80],\n",
       " (284, 429): [81],\n",
       " (285, 423): [82],\n",
       " (265, 420): [83],\n",
       " (244, 427): [84],\n",
       " (241, 433): [85],\n",
       " (233, 439): [86],\n",
       " (239, 441): [87],\n",
       " (245, 450): [88],\n",
       " (256, 453): [89],\n",
       " (265, 455): [90],\n",
       " (261, 466): [91],\n",
       " (261, 476): [92],\n",
       " (268, 485): [93],\n",
       " (268, 487): [94],\n",
       " (272, 484): [95],\n",
       " (282, 482): [96],\n",
       " (289, 480): [97],\n",
       " (292, 481): [98],\n",
       " (298, 481): [99],\n",
       " (285, 482): [100],\n",
       " (249, 490): [101],\n",
       " (256, 493): [102],\n",
       " (281, 482): [104],\n",
       " (292, 471): [105],\n",
       " (299, 460): [106],\n",
       " (290, 463): [107],\n",
       " (276, 475): [108],\n",
       " (277, 482): [109],\n",
       " (266, 496): [110],\n",
       " (270, 511): [111],\n",
       " (281, 524): [112],\n",
       " (291, 538): [113],\n",
       " (293, 540): [114],\n",
       " (298, 541): [115],\n",
       " (308, 538): [116],\n",
       " (320, 529): [117],\n",
       " (325, 517): [118],\n",
       " (322, 508): [119],\n",
       " (314, 507): [120],\n",
       " (308, 509): [121],\n",
       " (296, 510): [122],\n",
       " (293, 508): [123],\n",
       " (291, 510): [124],\n",
       " (294, 510): [125],\n",
       " (298, 506): [126, 127],\n",
       " (292, 505): [128],\n",
       " (286, 499): [129],\n",
       " (287, 493): [130],\n",
       " (285, 491): [131],\n",
       " (286, 488): [132],\n",
       " (288, 484): [133],\n",
       " (289, 481): [134],\n",
       " (284, 481): [135],\n",
       " (274, 485): [136],\n",
       " (271, 494): [137],\n",
       " (272, 504): [138],\n",
       " (278, 512): [139],\n",
       " (277, 525): [140],\n",
       " (286, 534): [141],\n",
       " (296, 541): [142, 262],\n",
       " (302, 553): [143],\n",
       " (306, 565): [144],\n",
       " (317, 569): [145],\n",
       " (316, 573): [146],\n",
       " (326, 575): [147],\n",
       " (342, 572): [148],\n",
       " (353, 565): [149],\n",
       " (344, 560): [150],\n",
       " (339, 560): [151],\n",
       " (337, 560): [152],\n",
       " (329, 560): [153],\n",
       " (326, 559): [154],\n",
       " (309, 565): [155],\n",
       " (315, 564): [156, 283],\n",
       " (320, 554): [157],\n",
       " (316, 545): [158],\n",
       " (317, 531): [159],\n",
       " (315, 519): [160],\n",
       " (306, 510): [161],\n",
       " (308, 498): [162],\n",
       " (297, 492): [163],\n",
       " (280, 496): [164],\n",
       " (276, 500): [165],\n",
       " (273, 508): [166],\n",
       " (275, 514): [167],\n",
       " (271, 523): [168],\n",
       " (282, 526): [169],\n",
       " (282, 535): [170],\n",
       " (290, 540): [171],\n",
       " (295, 549): [172],\n",
       " (305, 558): [173],\n",
       " (308, 566): [174],\n",
       " (321, 573): [175],\n",
       " (325, 583): [176],\n",
       " (338, 586): [177],\n",
       " (346, 590): [178],\n",
       " (347, 594): [179],\n",
       " (354, 596): [180],\n",
       " (359, 597): [181],\n",
       " (351, 600): [182, 470],\n",
       " (346, 603): [183],\n",
       " (345, 598): [184],\n",
       " (339, 588): [185, 309],\n",
       " (331, 580): [186],\n",
       " (343, 563): [187],\n",
       " (345, 546): [188],\n",
       " (338, 529): [189],\n",
       " (324, 515): [190],\n",
       " (314, 506): [191],\n",
       " (293, 506): [192],\n",
       " (290, 506): [193],\n",
       " (284, 508): [194],\n",
       " (280, 508): [195],\n",
       " (274, 511): [196],\n",
       " (277, 511): [197],\n",
       " (278, 511): [198],\n",
       " (278, 508): [199],\n",
       " (282, 508): [200],\n",
       " (286, 509): [201],\n",
       " (290, 513): [202],\n",
       " (292, 520): [203],\n",
       " (296, 525): [204],\n",
       " (296, 531): [205],\n",
       " (300, 538): [206],\n",
       " (303, 547): [207],\n",
       " (317, 554): [208],\n",
       " (318, 565): [209],\n",
       " (318, 578): [210],\n",
       " (319, 593): [211],\n",
       " (325, 599): [212],\n",
       " (327, 596): [213],\n",
       " (336, 592): [214],\n",
       " (350, 584): [215],\n",
       " (358, 573): [216],\n",
       " (357, 565): [217],\n",
       " (352, 558): [218],\n",
       " (336, 559): [219],\n",
       " (319, 564): [220, 225],\n",
       " (316, 571): [221],\n",
       " (315, 574): [222],\n",
       " (313, 573): [223],\n",
       " (316, 570): [224],\n",
       " (323, 555): [226],\n",
       " (320, 548): [227],\n",
       " (312, 541): [228],\n",
       " (311, 534): [229],\n",
       " (307, 530): [230],\n",
       " (308, 528): [231],\n",
       " (309, 528): [232],\n",
       " (303, 535): [233],\n",
       " (298, 547): [234],\n",
       " (300, 556): [235],\n",
       " (305, 568): [236],\n",
       " (311, 579): [237],\n",
       " (319, 588): [238],\n",
       " (329, 596): [239],\n",
       " (337, 602): [240],\n",
       " (336, 604): [241],\n",
       " (341, 606): [242],\n",
       " (348, 601): [243],\n",
       " (351, 594): [244],\n",
       " (356, 585): [245],\n",
       " (360, 576): [246],\n",
       " (360, 566): [247],\n",
       " (341, 567): [248],\n",
       " (332, 570): [249],\n",
       " (323, 578): [250],\n",
       " (318, 579): [251],\n",
       " (312, 580): [252],\n",
       " (319, 572): [253],\n",
       " (319, 565): [254],\n",
       " (326, 548): [255],\n",
       " (317, 538): [256],\n",
       " (316, 528): [257],\n",
       " (306, 525): [258],\n",
       " (308, 522): [259],\n",
       " (301, 525): [260],\n",
       " (301, 530): [261],\n",
       " (298, 553): [263],\n",
       " (303, 568): [264],\n",
       " (308, 582): [265],\n",
       " (314, 591): [266],\n",
       " (321, 600): [267],\n",
       " (331, 603): [268],\n",
       " (334, 602): [269],\n",
       " (344, 597): [270],\n",
       " (354, 591): [271],\n",
       " (351, 590): [272],\n",
       " (351, 587): [273],\n",
       " (352, 581): [274],\n",
       " (346, 576): [275],\n",
       " (330, 577): [276],\n",
       " (334, 575): [277],\n",
       " (335, 573): [278],\n",
       " (333, 571): [279],\n",
       " (322, 572): [280],\n",
       " (319, 571): [281],\n",
       " (314, 571): [282],\n",
       " (314, 558): [284],\n",
       " (318, 551): [285],\n",
       " (317, 546): [286],\n",
       " (319, 542): [287],\n",
       " (315, 541): [288],\n",
       " (313, 541): [289],\n",
       " (306, 547): [290],\n",
       " (306, 553): [291],\n",
       " (308, 562): [292],\n",
       " (306, 574): [293],\n",
       " (309, 587): [294],\n",
       " (316, 603): [295],\n",
       " (321, 614): [296],\n",
       " (327, 614): [297],\n",
       " (333, 612): [298],\n",
       " (347, 604): [299],\n",
       " (355, 596): [300],\n",
       " (361, 585): [301],\n",
       " (364, 576): [302],\n",
       " (350, 576): [303],\n",
       " (332, 583): [304],\n",
       " (329, 588): [305],\n",
       " (328, 592): [306],\n",
       " (328, 593): [307],\n",
       " (329, 594): [308],\n",
       " (339, 584): [310],\n",
       " (334, 576): [311],\n",
       " (327, 571): [312],\n",
       " (328, 564): [313],\n",
       " (325, 556): [314],\n",
       " (325, 549): [315],\n",
       " (319, 547): [316],\n",
       " (318, 543): [317],\n",
       " (308, 546): [318],\n",
       " (306, 550): [319],\n",
       " (303, 558): [320],\n",
       " (305, 567): [321],\n",
       " (303, 578): [322],\n",
       " (308, 591): [323],\n",
       " (312, 601): [324],\n",
       " (318, 605): [325],\n",
       " (325, 610): [326],\n",
       " (337, 610): [327, 437],\n",
       " (343, 605): [328],\n",
       " (347, 598): [329],\n",
       " (353, 588): [330],\n",
       " (351, 583): [331],\n",
       " (340, 581): [332],\n",
       " (338, 584): [333],\n",
       " (332, 593): [334],\n",
       " (329, 601): [335],\n",
       " (326, 607): [336],\n",
       " (330, 607): [337, 455],\n",
       " (334, 605): [338],\n",
       " (341, 596): [339],\n",
       " (349, 584): [340],\n",
       " (353, 573): [341],\n",
       " (342, 565): [342],\n",
       " (334, 559): [343],\n",
       " (325, 557): [344],\n",
       " (322, 553): [345],\n",
       " (312, 553): [346],\n",
       " (310, 554): [347],\n",
       " (309, 558): [348],\n",
       " (304, 565): [349],\n",
       " (303, 573): [350],\n",
       " (303, 585): [351],\n",
       " (307, 594): [352],\n",
       " (312, 596): [353],\n",
       " (317, 598): [354],\n",
       " (328, 596): [355],\n",
       " (334, 596): [356],\n",
       " (339, 595): [357],\n",
       " (343, 593): [358],\n",
       " (340, 592): [359],\n",
       " (325, 597): [360],\n",
       " (330, 600): [361],\n",
       " (331, 606): [362],\n",
       " (338, 605): [363],\n",
       " (337, 608): [364],\n",
       " (337, 611): [365],\n",
       " (338, 613): [366],\n",
       " (339, 607): [367],\n",
       " (341, 600): [368],\n",
       " (346, 592): [369],\n",
       " (347, 583): [370],\n",
       " (352, 571): [371],\n",
       " (346, 565): [372],\n",
       " (337, 561): [373],\n",
       " (321, 564): [374],\n",
       " (316, 564): [375],\n",
       " (314, 566): [376],\n",
       " (310, 570): [377],\n",
       " (307, 575): [378],\n",
       " (311, 582): [379],\n",
       " (305, 590): [380],\n",
       " (308, 592): [381],\n",
       " (312, 593): [382],\n",
       " (323, 591): [383],\n",
       " (329, 589): [384],\n",
       " (332, 586): [385],\n",
       " (337, 582): [386],\n",
       " (332, 585): [387],\n",
       " (320, 594): [388],\n",
       " (321, 603): [389],\n",
       " (322, 612): [390],\n",
       " (323, 619): [391],\n",
       " (326, 623): [392],\n",
       " (334, 624): [393],\n",
       " (342, 620): [394],\n",
       " (350, 612): [395],\n",
       " (349, 609): [396],\n",
       " (348, 606): [397],\n",
       " (345, 600): [398],\n",
       " (342, 592): [399],\n",
       " (341, 587): [400],\n",
       " (344, 580): [401],\n",
       " (340, 577): [402],\n",
       " (340, 576): [403],\n",
       " (330, 575): [404],\n",
       " (322, 577): [405],\n",
       " (315, 581): [406],\n",
       " (315, 586): [407],\n",
       " (316, 589): [408],\n",
       " (305, 591): [409],\n",
       " (311, 591): [410],\n",
       " (321, 588): [411],\n",
       " (325, 585): [412],\n",
       " (329, 580): [413],\n",
       " (333, 575): [414],\n",
       " (327, 575): [415],\n",
       " (313, 580): [416],\n",
       " (313, 587): [417],\n",
       " (313, 596): [418, 446],\n",
       " (315, 601): [419],\n",
       " (314, 607): [420],\n",
       " (320, 610): [421],\n",
       " (324, 612): [422],\n",
       " (329, 611): [423, 424],\n",
       " (334, 611): [425],\n",
       " (335, 612): [426],\n",
       " (338, 617): [427],\n",
       " (341, 621): [428],\n",
       " (341, 622): [429],\n",
       " (339, 624): [430],\n",
       " (340, 625): [431],\n",
       " (348, 624): [432],\n",
       " (351, 622): [433],\n",
       " (354, 617): [434],\n",
       " (347, 617): [435],\n",
       " (344, 615): [436],\n",
       " (339, 603): [438],\n",
       " (341, 595): [439],\n",
       " (333, 591): [440],\n",
       " (333, 585): [441],\n",
       " (335, 580): [442],\n",
       " (329, 579): [443],\n",
       " (314, 584): [444],\n",
       " (315, 589): [445],\n",
       " (315, 599): [447],\n",
       " (313, 604): [448],\n",
       " (320, 605): [449],\n",
       " (322, 606): [450, 474],\n",
       " (324, 604): [451],\n",
       " (322, 604): [452],\n",
       " (327, 604): [453],\n",
       " (327, 605): [454],\n",
       " (331, 609): [456],\n",
       " (333, 610): [457],\n",
       " (330, 614): [458],\n",
       " (333, 617): [459],\n",
       " (337, 620): [460],\n",
       " (336, 625): [461],\n",
       " (339, 628): [462],\n",
       " (340, 634): [463],\n",
       " (341, 637): [464],\n",
       " (341, 634): [465],\n",
       " (344, 630): [466],\n",
       " (350, 623): [467],\n",
       " (352, 616): [468],\n",
       " (350, 608): [469],\n",
       " (344, 596): [471],\n",
       " (327, 598): [472],\n",
       " (325, 601): [473],\n",
       " (321, 609): [475],\n",
       " (317, 614): [476,\n",
       "  504,\n",
       "  532,\n",
       "  560,\n",
       "  588,\n",
       "  616,\n",
       "  644,\n",
       "  672,\n",
       "  700,\n",
       "  728,\n",
       "  756,\n",
       "  784,\n",
       "  812,\n",
       "  840,\n",
       "  868,\n",
       "  896,\n",
       "  924,\n",
       "  952,\n",
       "  980],\n",
       " (321, 616): [477,\n",
       "  505,\n",
       "  533,\n",
       "  561,\n",
       "  589,\n",
       "  617,\n",
       "  645,\n",
       "  673,\n",
       "  701,\n",
       "  729,\n",
       "  757,\n",
       "  785,\n",
       "  813,\n",
       "  841,\n",
       "  869,\n",
       "  897,\n",
       "  925,\n",
       "  953,\n",
       "  981],\n",
       " (322, 618): [478,\n",
       "  506,\n",
       "  534,\n",
       "  562,\n",
       "  590,\n",
       "  618,\n",
       "  646,\n",
       "  674,\n",
       "  702,\n",
       "  730,\n",
       "  758,\n",
       "  786,\n",
       "  814,\n",
       "  842,\n",
       "  870,\n",
       "  898,\n",
       "  926,\n",
       "  954,\n",
       "  982],\n",
       " (324, 617): [479,\n",
       "  507,\n",
       "  535,\n",
       "  563,\n",
       "  591,\n",
       "  619,\n",
       "  647,\n",
       "  675,\n",
       "  703,\n",
       "  731,\n",
       "  759,\n",
       "  787,\n",
       "  815,\n",
       "  843,\n",
       "  871,\n",
       "  899,\n",
       "  927,\n",
       "  955,\n",
       "  983],\n",
       " (326, 617): [480,\n",
       "  508,\n",
       "  536,\n",
       "  564,\n",
       "  592,\n",
       "  620,\n",
       "  648,\n",
       "  676,\n",
       "  704,\n",
       "  732,\n",
       "  760,\n",
       "  788,\n",
       "  816,\n",
       "  844,\n",
       "  872,\n",
       "  900,\n",
       "  928,\n",
       "  956,\n",
       "  984],\n",
       " (331, 617): [481,\n",
       "  509,\n",
       "  537,\n",
       "  565,\n",
       "  593,\n",
       "  621,\n",
       "  649,\n",
       "  677,\n",
       "  705,\n",
       "  733,\n",
       "  761,\n",
       "  789,\n",
       "  817,\n",
       "  845,\n",
       "  873,\n",
       "  901,\n",
       "  929,\n",
       "  957,\n",
       "  985],\n",
       " (331, 618): [482,\n",
       "  510,\n",
       "  538,\n",
       "  566,\n",
       "  594,\n",
       "  622,\n",
       "  650,\n",
       "  678,\n",
       "  706,\n",
       "  734,\n",
       "  762,\n",
       "  790,\n",
       "  818,\n",
       "  846,\n",
       "  874,\n",
       "  902,\n",
       "  930,\n",
       "  958,\n",
       "  986],\n",
       " (334, 620): [483,\n",
       "  511,\n",
       "  539,\n",
       "  567,\n",
       "  595,\n",
       "  623,\n",
       "  651,\n",
       "  679,\n",
       "  707,\n",
       "  735,\n",
       "  763,\n",
       "  791,\n",
       "  819,\n",
       "  847,\n",
       "  875,\n",
       "  903,\n",
       "  931,\n",
       "  959,\n",
       "  987],\n",
       " (335, 623): [484,\n",
       "  512,\n",
       "  540,\n",
       "  568,\n",
       "  596,\n",
       "  624,\n",
       "  652,\n",
       "  680,\n",
       "  708,\n",
       "  736,\n",
       "  764,\n",
       "  792,\n",
       "  820,\n",
       "  848,\n",
       "  876,\n",
       "  904,\n",
       "  932,\n",
       "  960,\n",
       "  988],\n",
       " (337, 625): [485,\n",
       "  513,\n",
       "  541,\n",
       "  569,\n",
       "  597,\n",
       "  625,\n",
       "  653,\n",
       "  681,\n",
       "  709,\n",
       "  737,\n",
       "  765,\n",
       "  793,\n",
       "  821,\n",
       "  849,\n",
       "  877,\n",
       "  905,\n",
       "  933,\n",
       "  961,\n",
       "  989],\n",
       " (334, 630): [486,\n",
       "  514,\n",
       "  542,\n",
       "  570,\n",
       "  598,\n",
       "  626,\n",
       "  654,\n",
       "  682,\n",
       "  710,\n",
       "  738,\n",
       "  766,\n",
       "  794,\n",
       "  822,\n",
       "  850,\n",
       "  878,\n",
       "  906,\n",
       "  934,\n",
       "  962,\n",
       "  990],\n",
       " (337, 634): [487,\n",
       "  515,\n",
       "  543,\n",
       "  571,\n",
       "  599,\n",
       "  627,\n",
       "  655,\n",
       "  683,\n",
       "  711,\n",
       "  739,\n",
       "  767,\n",
       "  795,\n",
       "  823,\n",
       "  851,\n",
       "  879,\n",
       "  907,\n",
       "  935,\n",
       "  963,\n",
       "  991],\n",
       " (341, 638): [488,\n",
       "  516,\n",
       "  544,\n",
       "  572,\n",
       "  600,\n",
       "  628,\n",
       "  656,\n",
       "  684,\n",
       "  712,\n",
       "  740,\n",
       "  768,\n",
       "  796,\n",
       "  824,\n",
       "  852,\n",
       "  880,\n",
       "  908,\n",
       "  936,\n",
       "  964,\n",
       "  992],\n",
       " (342, 643): [489,\n",
       "  517,\n",
       "  545,\n",
       "  573,\n",
       "  601,\n",
       "  629,\n",
       "  657,\n",
       "  685,\n",
       "  713,\n",
       "  741,\n",
       "  769,\n",
       "  797,\n",
       "  825,\n",
       "  853,\n",
       "  881,\n",
       "  909,\n",
       "  937,\n",
       "  965,\n",
       "  993],\n",
       " (345, 646): [490,\n",
       "  518,\n",
       "  546,\n",
       "  574,\n",
       "  602,\n",
       "  630,\n",
       "  658,\n",
       "  686,\n",
       "  714,\n",
       "  742,\n",
       "  770,\n",
       "  798,\n",
       "  826,\n",
       "  854,\n",
       "  882,\n",
       "  910,\n",
       "  938,\n",
       "  966,\n",
       "  994],\n",
       " (348, 651): [491,\n",
       "  519,\n",
       "  547,\n",
       "  575,\n",
       "  603,\n",
       "  631,\n",
       "  659,\n",
       "  687,\n",
       "  715,\n",
       "  743,\n",
       "  771,\n",
       "  799,\n",
       "  827,\n",
       "  855,\n",
       "  883,\n",
       "  911,\n",
       "  939,\n",
       "  967,\n",
       "  995],\n",
       " (349, 653): [492,\n",
       "  520,\n",
       "  548,\n",
       "  576,\n",
       "  604,\n",
       "  632,\n",
       "  660,\n",
       "  688,\n",
       "  716,\n",
       "  744,\n",
       "  772,\n",
       "  800,\n",
       "  828,\n",
       "  856,\n",
       "  884,\n",
       "  912,\n",
       "  940,\n",
       "  968,\n",
       "  996],\n",
       " (349, 649): [493,\n",
       "  521,\n",
       "  549,\n",
       "  577,\n",
       "  605,\n",
       "  633,\n",
       "  661,\n",
       "  689,\n",
       "  717,\n",
       "  745,\n",
       "  773,\n",
       "  801,\n",
       "  829,\n",
       "  857,\n",
       "  885,\n",
       "  913,\n",
       "  941,\n",
       "  969,\n",
       "  997],\n",
       " (352, 644): [494,\n",
       "  522,\n",
       "  550,\n",
       "  578,\n",
       "  606,\n",
       "  634,\n",
       "  662,\n",
       "  690,\n",
       "  718,\n",
       "  746,\n",
       "  774,\n",
       "  802,\n",
       "  830,\n",
       "  858,\n",
       "  886,\n",
       "  914,\n",
       "  942,\n",
       "  970,\n",
       "  998],\n",
       " (358, 636): [495,\n",
       "  523,\n",
       "  551,\n",
       "  579,\n",
       "  607,\n",
       "  635,\n",
       "  663,\n",
       "  691,\n",
       "  719,\n",
       "  747,\n",
       "  775,\n",
       "  803,\n",
       "  831,\n",
       "  859,\n",
       "  887,\n",
       "  915,\n",
       "  943,\n",
       "  971,\n",
       "  999],\n",
       " (360, 628): [496,\n",
       "  524,\n",
       "  552,\n",
       "  580,\n",
       "  608,\n",
       "  636,\n",
       "  664,\n",
       "  692,\n",
       "  720,\n",
       "  748,\n",
       "  776,\n",
       "  804,\n",
       "  832,\n",
       "  860,\n",
       "  888,\n",
       "  916,\n",
       "  944,\n",
       "  972],\n",
       " (358, 618): [497,\n",
       "  525,\n",
       "  553,\n",
       "  581,\n",
       "  609,\n",
       "  637,\n",
       "  665,\n",
       "  693,\n",
       "  721,\n",
       "  749,\n",
       "  777,\n",
       "  805,\n",
       "  833,\n",
       "  861,\n",
       "  889,\n",
       "  917,\n",
       "  945,\n",
       "  973],\n",
       " (359, 608): [498,\n",
       "  526,\n",
       "  554,\n",
       "  582,\n",
       "  610,\n",
       "  638,\n",
       "  666,\n",
       "  694,\n",
       "  722,\n",
       "  750,\n",
       "  778,\n",
       "  806,\n",
       "  834,\n",
       "  862,\n",
       "  890,\n",
       "  918,\n",
       "  946,\n",
       "  974],\n",
       " (352, 602): [499,\n",
       "  527,\n",
       "  555,\n",
       "  583,\n",
       "  611,\n",
       "  639,\n",
       "  667,\n",
       "  695,\n",
       "  723,\n",
       "  751,\n",
       "  779,\n",
       "  807,\n",
       "  835,\n",
       "  863,\n",
       "  891,\n",
       "  919,\n",
       "  947,\n",
       "  975],\n",
       " (336, 602): [500,\n",
       "  528,\n",
       "  556,\n",
       "  584,\n",
       "  612,\n",
       "  640,\n",
       "  668,\n",
       "  696,\n",
       "  724,\n",
       "  752,\n",
       "  780,\n",
       "  808,\n",
       "  836,\n",
       "  864,\n",
       "  892,\n",
       "  920,\n",
       "  948,\n",
       "  976],\n",
       " (333, 603): [501,\n",
       "  529,\n",
       "  557,\n",
       "  585,\n",
       "  613,\n",
       "  641,\n",
       "  669,\n",
       "  697,\n",
       "  725,\n",
       "  753,\n",
       "  781,\n",
       "  809,\n",
       "  837,\n",
       "  865,\n",
       "  893,\n",
       "  921,\n",
       "  949,\n",
       "  977],\n",
       " (327, 607): [502,\n",
       "  530,\n",
       "  558,\n",
       "  586,\n",
       "  614,\n",
       "  642,\n",
       "  670,\n",
       "  698,\n",
       "  726,\n",
       "  754,\n",
       "  782,\n",
       "  810,\n",
       "  838,\n",
       "  866,\n",
       "  894,\n",
       "  922,\n",
       "  950,\n",
       "  978],\n",
       " (325, 609): [503,\n",
       "  531,\n",
       "  559,\n",
       "  587,\n",
       "  615,\n",
       "  643,\n",
       "  671,\n",
       "  699,\n",
       "  727,\n",
       "  755,\n",
       "  783,\n",
       "  811,\n",
       "  839,\n",
       "  867,\n",
       "  895,\n",
       "  923,\n",
       "  951,\n",
       "  979]}"
      ]
     },
     "execution_count": 14,
     "metadata": {},
     "output_type": "execute_result"
    }
   ],
   "source": [
    "periods"
   ]
  },
  {
   "cell_type": "code",
   "execution_count": 15,
   "metadata": {},
   "outputs": [],
   "source": [
    "l = [503,\n",
    "  531,\n",
    "  559,\n",
    "  587,\n",
    "  615,\n",
    "  643,\n",
    "  671,\n",
    "  699,\n",
    "  727,\n",
    "  755,\n",
    "  783,\n",
    "  811,\n",
    "  839,\n",
    "  867,\n",
    "  895,\n",
    "  923,\n",
    "  951,\n",
    "  979]"
   ]
  },
  {
   "cell_type": "code",
   "execution_count": 17,
   "metadata": {},
   "outputs": [
    {
     "name": "stdout",
     "output_type": "stream",
     "text": [
      "28\n",
      "28\n",
      "28\n",
      "28\n",
      "28\n",
      "28\n",
      "28\n",
      "28\n",
      "28\n",
      "28\n",
      "28\n",
      "28\n",
      "28\n",
      "28\n",
      "28\n",
      "28\n",
      "28\n"
     ]
    }
   ],
   "source": [
    "for i in range(1, len(l)):\n",
    "    print(l[i] - l[i-1])"
   ]
  },
  {
   "cell_type": "code",
   "execution_count": 72,
   "metadata": {},
   "outputs": [],
   "source": [
    "def read_file(fname):\n",
    "    with open(fname) as fin:\n",
    "        return [x.strip() for x in fin.readlines()]\n",
    "\n",
    "\n",
    "class Elf(object):\n",
    "    def __init__(self, r, c):\n",
    "        self.team = 'elf'\n",
    "        self.hp = 200\n",
    "        self.attack = 3\n",
    "        self.r = r\n",
    "        self.c = c\n",
    "\n",
    "\n",
    "class Goblin(object):\n",
    "    def __init__(self, r, c):\n",
    "        self.team = 'goblin'\n",
    "        self.hp = 200\n",
    "        self.attack = 3\n",
    "        self.r = r\n",
    "        self.c = c\n",
    "\n",
    "\n",
    "def get_adj_squares(board, r, c):\n",
    "    retval = []\n",
    "    for dr, dc in [[0, 1], [0, -1], [-1, 0], [1, 0]]:\n",
    "        nr, nc = r + dr, c + dc\n",
    "        if nr < 0 or c < 0:\n",
    "            continue\n",
    "        if nr > len(board) or nc > len(board[0]):\n",
    "            continue\n",
    "        retval.append((nr, nc))\n",
    "    return retval\n",
    "\n",
    "\n",
    "class Battle(object):\n",
    "    def __init__(self, board):\n",
    "        self.board = board\n",
    "        self.combatants = self._make_combatants()\n",
    "        self.finished = False\n",
    "\n",
    "    def _make_combatants(self):\n",
    "        combatants = []\n",
    "        for r, row in enumerate(self.board):\n",
    "            for c, pixel in enumerate(row):\n",
    "                if pixel == 'G':\n",
    "                    g = Goblin(r, c)\n",
    "                    combatants.append(g)\n",
    "                if pixel == 'E':\n",
    "                    e = Elf(r, c)\n",
    "                    combatants.append(e)\n",
    "        return combatants\n",
    "\n",
    "    def _get_enemies(self, team):\n",
    "        return [x for x in self.combatants if x.team != team]\n",
    "\n",
    "    def _move(self, combatant, enemies):\n",
    "        \"\"\"\n",
    "        mutate self coordinants and board state\n",
    "        \"\"\"\n",
    "        adj_enemies = self._get_adj_enemies(combatant, enemies)\n",
    "        if len(adj_enemies) > 0:\n",
    "            return\n",
    "        target_squares = self._get_target_squares(enemies)\n",
    "        if len(target_squares) == 0:\n",
    "            return\n",
    "\n",
    "    def _attack(self, combatant, enemies):\n",
    "        self.combatants = [x for x in self.combatants if x.hp > 0]\n",
    "        raise ValueError()\n",
    "\n",
    "    def _get_adj_enemies(self, combatant, enemies):\n",
    "        adj_squares = get_adj_squares(self.board, combatant.r, combatant.c)\n",
    "        retval = []\n",
    "        for enemy in enemies:\n",
    "            enemy_loc = (enemy.r, enemy.c)\n",
    "            if enemy_loc in adj_squares:\n",
    "                retval.append(enemy)\n",
    "        return retval\n",
    "\n",
    "    def _act(self, combatant):\n",
    "        self.combatants = sorted(self.combatants, key=lambda x: (x.r, x.c))\n",
    "        enemies = self._get_enemies(combatant.team)\n",
    "        if len(enemies) == 0:\n",
    "            self.finished = True\n",
    "            return\n",
    "        self._move(combatant, enemies)\n",
    "        self._attack(combatant, enemies)\n",
    "\n",
    "    def fight_round(self):\n",
    "        for combatant in self.combatants:\n",
    "            if self.finished:\n",
    "                return\n",
    "            self._act(combatant)\n",
    "\n",
    "    def _get_target_squares(self, enemies):\n",
    "        retval = set()\n",
    "        for enemy in enemies:\n",
    "            enemy_loc = (enemy.r, enemy.c)\n",
    "            adj_squares = get_adj_squares(self.board, enemy.r, enemy.c)\n",
    "            for adj_square in adj_squares:\n",
    "                pixel = self.board[adj_square[0]][adj_square[1]]\n",
    "                if pixel == '.':\n",
    "                    retval.add(adj_square)\n",
    "        return list(retval)\n",
    "\n"
   ]
  },
  {
   "cell_type": "code",
   "execution_count": 73,
   "metadata": {},
   "outputs": [],
   "source": [
    "board = read_file('day15.sample')\n",
    "battle = Battle(board)"
   ]
  },
  {
   "cell_type": "code",
   "execution_count": 74,
   "metadata": {},
   "outputs": [],
   "source": [
    "battle.combatants = sorted(battle.combatants, key=lambda x: (x.r, x.c))"
   ]
  },
  {
   "cell_type": "code",
   "execution_count": 75,
   "metadata": {},
   "outputs": [],
   "source": [
    "combatant = battle.combatants[0]"
   ]
  },
  {
   "cell_type": "code",
   "execution_count": 76,
   "metadata": {},
   "outputs": [],
   "source": [
    "enemies = battle._get_enemies(combatant.team)"
   ]
  },
  {
   "cell_type": "code",
   "execution_count": 124,
   "metadata": {},
   "outputs": [
    {
     "data": {
      "text/plain": [
       "(2, 4)"
      ]
     },
     "execution_count": 124,
     "metadata": {},
     "output_type": "execute_result"
    }
   ],
   "source": [
    "enemies[0].r, enemies[0].c"
   ]
  },
  {
   "cell_type": "code",
   "execution_count": 125,
   "metadata": {},
   "outputs": [
    {
     "data": {
      "text/plain": [
       "(4, 5)"
      ]
     },
     "execution_count": 125,
     "metadata": {},
     "output_type": "execute_result"
    }
   ],
   "source": [
    "enemies[1].r, enemies[1].c"
   ]
  },
  {
   "cell_type": "code",
   "execution_count": 126,
   "metadata": {},
   "outputs": [],
   "source": [
    "adj_enemies = battle._get_adj_enemies(combatant, enemies)"
   ]
  },
  {
   "cell_type": "code",
   "execution_count": 79,
   "metadata": {},
   "outputs": [
    {
     "data": {
      "text/plain": [
       "[]"
      ]
     },
     "execution_count": 79,
     "metadata": {},
     "output_type": "execute_result"
    }
   ],
   "source": [
    "adj_enemies"
   ]
  },
  {
   "cell_type": "code",
   "execution_count": 123,
   "metadata": {},
   "outputs": [
    {
     "data": {
      "text/plain": [
       "2"
      ]
     },
     "execution_count": 123,
     "metadata": {},
     "output_type": "execute_result"
    }
   ],
   "source": [
    "len(enemies)"
   ]
  },
  {
   "cell_type": "code",
   "execution_count": 121,
   "metadata": {},
   "outputs": [],
   "source": [
    "target_squares = battle._get_target_squares(enemies)"
   ]
  },
  {
   "cell_type": "code",
   "execution_count": 122,
   "metadata": {},
   "outputs": [
    {
     "data": {
      "text/plain": [
       "[(2, 3), (5, 5), (1, 4)]"
      ]
     },
     "execution_count": 122,
     "metadata": {},
     "output_type": "execute_result"
    }
   ],
   "source": [
    "target_squares"
   ]
  },
  {
   "cell_type": "code",
   "execution_count": 82,
   "metadata": {},
   "outputs": [],
   "source": [
    "import networkx as nx"
   ]
  },
  {
   "cell_type": "code",
   "execution_count": 103,
   "metadata": {},
   "outputs": [],
   "source": [
    "def make_graph(board, combatant):\n",
    "    g = nx.Graph()\n",
    "    for r, row in enumerate(board):\n",
    "        for c, pixel in enumerate(row):\n",
    "            if pixel != '.':\n",
    "                continue\n",
    "            adj_squares = get_adj_squares(board, r, c)\n",
    "            for r2,c2 in adj_squares:\n",
    "                pixel2 = board[r2][c2]\n",
    "                if pixel2 == '.':\n",
    "                    g.add_edge((r,c), (r2,c2))\n",
    "    adj_squares = get_adj_squares(board, combatant.r, combatant.c)\n",
    "    for r2,c2 in adj_squares:\n",
    "        pixel2 = board[r2][c2]\n",
    "        if pixel2 == '.':\n",
    "            g.add_edge((combatant.r, combatant.c), (r2,c2))\n",
    "    return g"
   ]
  },
  {
   "cell_type": "code",
   "execution_count": 104,
   "metadata": {},
   "outputs": [],
   "source": [
    "def pick_move(combatant, target_squares):\n",
    "    g = make_graph(battle.board, combatant)\n",
    "    my_loc = (combatant.r, combatant.c)\n",
    "    \n",
    "    best_path_length = 100000000000000\n",
    "    move = None\n",
    "    for target_square in target_squares:\n",
    "        shortest_paths = list(all_shortest_paths(g, my_loc, target_square))\n",
    "        shortest_path_length = len(shortest_paths[0])\n",
    "        if shortest_path_length > best_path_length:\n",
    "            continue\n",
    "        best_path_length = shortest_path_length\n",
    "        possible_next_steps = [x[1] for x in shortest_paths]\n",
    "        move = sorted(possible_next_steps)[0]\n",
    "    return move"
   ]
  },
  {
   "cell_type": "code",
   "execution_count": 105,
   "metadata": {},
   "outputs": [
    {
     "data": {
      "text/plain": [
       "(1, 3)"
      ]
     },
     "execution_count": 105,
     "metadata": {},
     "output_type": "execute_result"
    }
   ],
   "source": [
    "pick_move(combatant, target_squares)"
   ]
  },
  {
   "cell_type": "code",
   "execution_count": 93,
   "metadata": {},
   "outputs": [],
   "source": [
    "from networkx.algorithms.shortest_paths.generic import shortest_path, all_shortest_paths"
   ]
  },
  {
   "cell_type": "code",
   "execution_count": 119,
   "metadata": {},
   "outputs": [],
   "source": [
    "shortest_paths = all_shortest_paths(g, (combatant.r, combatant.c), target_squares[2])"
   ]
  },
  {
   "cell_type": "code",
   "execution_count": 120,
   "metadata": {},
   "outputs": [
    {
     "data": {
      "text/plain": [
       "[(2, 3), (5, 5), (1, 4)]"
      ]
     },
     "execution_count": 120,
     "metadata": {},
     "output_type": "execute_result"
    }
   ],
   "source": [
    "target_squares"
   ]
  },
  {
   "cell_type": "code",
   "execution_count": 96,
   "metadata": {},
   "outputs": [
    {
     "data": {
      "text/plain": [
       "[[(1, 2), (1, 3), (1, 4)]]"
      ]
     },
     "execution_count": 96,
     "metadata": {},
     "output_type": "execute_result"
    }
   ],
   "source": [
    "list(shortest_paths)"
   ]
  },
  {
   "cell_type": "code",
   "execution_count": 66,
   "metadata": {},
   "outputs": [
    {
     "name": "stdout",
     "output_type": "stream",
     "text": [
      "#######\n",
      "#.G...#\n",
      "#...EG#\n",
      "#.#.#G#\n",
      "#..G#E#\n",
      "#.....#\n",
      "#######\n"
     ]
    }
   ],
   "source": [
    "for row in battle.board:\n",
    "    print(row)"
   ]
  },
  {
   "cell_type": "code",
   "execution_count": 106,
   "metadata": {},
   "outputs": [],
   "source": [
    "s = \"Hello World\""
   ]
  },
  {
   "cell_type": "code",
   "execution_count": 107,
   "metadata": {},
   "outputs": [
    {
     "ename": "TypeError",
     "evalue": "'str' object does not support item assignment",
     "output_type": "error",
     "traceback": [
      "\u001b[0;31m---------------------------------------------------------------------------\u001b[0m",
      "\u001b[0;31mTypeError\u001b[0m                                 Traceback (most recent call last)",
      "\u001b[0;32m<ipython-input-107-0c72b3442d36>\u001b[0m in \u001b[0;36m<module>\u001b[0;34m\u001b[0m\n\u001b[0;32m----> 1\u001b[0;31m \u001b[0ms\u001b[0m\u001b[0;34m[\u001b[0m\u001b[0;36m1\u001b[0m\u001b[0;34m]\u001b[0m \u001b[0;34m=\u001b[0m \u001b[0;34m'c'\u001b[0m\u001b[0;34m\u001b[0m\u001b[0;34m\u001b[0m\u001b[0m\n\u001b[0m",
      "\u001b[0;31mTypeError\u001b[0m: 'str' object does not support item assignment"
     ]
    }
   ],
   "source": [
    "s[1] = 'c'"
   ]
  },
  {
   "cell_type": "code",
   "execution_count": 108,
   "metadata": {},
   "outputs": [
    {
     "data": {
      "text/plain": [
       "['#######', '#.G...#', '#...EG#', '#.#.#G#', '#..G#E#', '#.....#', '#######']"
      ]
     },
     "execution_count": 108,
     "metadata": {},
     "output_type": "execute_result"
    }
   ],
   "source": [
    "board"
   ]
  },
  {
   "cell_type": "code",
   "execution_count": 115,
   "metadata": {},
   "outputs": [],
   "source": [
    "board = [list(x) for x in battle.board]"
   ]
  },
  {
   "cell_type": "code",
   "execution_count": 116,
   "metadata": {},
   "outputs": [
    {
     "data": {
      "text/plain": [
       "[['#', '#', '#', '#', '#', '#', '#'],\n",
       " ['#', '.', 'G', '.', '.', '.', '#'],\n",
       " ['#', '.', '.', '.', 'E', 'G', '#'],\n",
       " ['#', '.', '#', '.', '#', 'G', '#'],\n",
       " ['#', '.', '.', 'G', '#', 'E', '#'],\n",
       " ['#', '.', '.', '.', '.', '.', '#'],\n",
       " ['#', '#', '#', '#', '#', '#', '#']]"
      ]
     },
     "execution_count": 116,
     "metadata": {},
     "output_type": "execute_result"
    }
   ],
   "source": [
    "board"
   ]
  },
  {
   "cell_type": "code",
   "execution_count": 127,
   "metadata": {},
   "outputs": [
    {
     "data": {
      "text/plain": [
       "66.66666666666667"
      ]
     },
     "execution_count": 127,
     "metadata": {},
     "output_type": "execute_result"
    }
   ],
   "source": [
    "200/3"
   ]
  },
  {
   "cell_type": "code",
   "execution_count": 1,
   "metadata": {},
   "outputs": [],
   "source": [
    "l = [3,15,3,16,1002,16,10,16,1,16,15,15,4,15,99,0,0]"
   ]
  },
  {
   "cell_type": "code",
   "execution_count": 2,
   "metadata": {},
   "outputs": [
    {
     "data": {
      "text/plain": [
       "0"
      ]
     },
     "execution_count": 2,
     "metadata": {},
     "output_type": "execute_result"
    }
   ],
   "source": [
    "l[15]"
   ]
  },
  {
   "cell_type": "code",
   "execution_count": 4,
   "metadata": {},
   "outputs": [
    {
     "name": "stdout",
     "output_type": "stream",
     "text": [
      "0:3\n",
      "1:15\n",
      "2:3\n",
      "3:16\n",
      "4:1002\n",
      "5:16\n",
      "6:10\n",
      "7:16\n",
      "8:1\n",
      "9:16\n",
      "10:15\n",
      "11:15\n",
      "12:4\n",
      "13:15\n",
      "14:99\n",
      "15:0\n",
      "16:0\n"
     ]
    }
   ],
   "source": [
    "for i in range(len(l)):\n",
    "    print(\"%s:%s\" % (i, l[i]))"
   ]
  },
  {
   "cell_type": "code",
   "execution_count": null,
   "metadata": {},
   "outputs": [],
   "source": []
  }
 ],
 "metadata": {
  "kernelspec": {
   "display_name": "Python 3",
   "language": "python",
   "name": "python3"
  },
  "language_info": {
   "codemirror_mode": {
    "name": "ipython",
    "version": 3
   },
   "file_extension": ".py",
   "mimetype": "text/x-python",
   "name": "python",
   "nbconvert_exporter": "python",
   "pygments_lexer": "ipython3",
   "version": "3.8.0"
  }
 },
 "nbformat": 4,
 "nbformat_minor": 4
}
