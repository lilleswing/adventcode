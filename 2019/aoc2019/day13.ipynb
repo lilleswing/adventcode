{
 "cells": [
  {
   "cell_type": "code",
   "execution_count": 1,
   "metadata": {},
   "outputs": [],
   "source": [
    "from aoc2019 import Computer"
   ]
  },
  {
   "cell_type": "code",
   "execution_count": 3,
   "metadata": {},
   "outputs": [],
   "source": [
    "from aoc2019 import read_file"
   ]
  },
  {
   "cell_type": "markdown",
   "metadata": {},
   "source": [
    "# Part 1"
   ]
  },
  {
   "cell_type": "code",
   "execution_count": 15,
   "metadata": {},
   "outputs": [],
   "source": [
    "def solve1():\n",
    "    l = read_file('day13.in')[0]\n",
    "    l = [int(x) for x in l.split(',')]\n",
    "    c = Computer(l)\n",
    "    c.run_to_completion()\n",
    "    outputs = c.outputs\n",
    "    \n",
    "    paint = {}\n",
    "    for i in range(0, len(outputs), 3):\n",
    "        loc = outputs[i], outputs[i+1]\n",
    "        paint[loc] = outputs[i+2]\n",
    "    \n",
    "    total = 0\n",
    "    for k, v in paint.items():\n",
    "        if v == 2:\n",
    "            total += 1\n",
    "    return total"
   ]
  },
  {
   "cell_type": "code",
   "execution_count": 16,
   "metadata": {},
   "outputs": [
    {
     "data": {
      "text/plain": [
       "280"
      ]
     },
     "execution_count": 16,
     "metadata": {},
     "output_type": "execute_result"
    }
   ],
   "source": [
    "solve1()"
   ]
  },
  {
   "cell_type": "markdown",
   "metadata": {},
   "source": [
    "# Part 2"
   ]
  },
  {
   "cell_type": "code",
   "execution_count": 62,
   "metadata": {},
   "outputs": [],
   "source": [
    "BALL = 4\n",
    "PADDLE = 3\n",
    "\n",
    "import matplotlib.pyplot as plt\n",
    "%matplotlib inline\n",
    "def display_board(paint, fname=None):\n",
    "    board = []\n",
    "    for y in range(21):\n",
    "        row = []\n",
    "        for x in range(40):\n",
    "            loc = (x, y)\n",
    "            if loc not in paint:\n",
    "                row.append(0)\n",
    "            else:\n",
    "                row.append(paint[loc])\n",
    "        board.append(row)\n",
    "    plt.imshow(board)\n",
    "    if fname is not None:\n",
    "        plt.savefig(fname)\n",
    "    else:\n",
    "        print(paint[(-1,0)])\n"
   ]
  },
  {
   "cell_type": "code",
   "execution_count": 27,
   "metadata": {},
   "outputs": [],
   "source": [
    "def build_paint(outputs):\n",
    "    paint = {}\n",
    "    for i in range(0, len(outputs), 3):\n",
    "        loc = outputs[i], outputs[i+1]\n",
    "        paint[loc] = outputs[i+2]\n",
    "    return paint"
   ]
  },
  {
   "cell_type": "code",
   "execution_count": 42,
   "metadata": {},
   "outputs": [],
   "source": [
    "def get_ball(paint):\n",
    "    for k, v in paint.items():\n",
    "        if v == BALL:\n",
    "            return k\n",
    "    raise ValueError()\n",
    "    \n",
    "def get_paddle(paint):\n",
    "    for k, v in paint.items():\n",
    "        if v == PADDLE:\n",
    "            return k"
   ]
  },
  {
   "cell_type": "code",
   "execution_count": 25,
   "metadata": {},
   "outputs": [],
   "source": [
    "l = read_file('day13.in')[0]\n",
    "l = [int(x) for x in l.split(',')]\n",
    "l[0] = 2"
   ]
  },
  {
   "cell_type": "code",
   "execution_count": 58,
   "metadata": {},
   "outputs": [],
   "source": [
    "import os\n",
    "os.mkdir(\"game_pngs\")"
   ]
  },
  {
   "cell_type": "code",
   "execution_count": null,
   "metadata": {},
   "outputs": [],
   "source": [
    "c = Computer(l, [0,0,0,0])\n",
    "for i in range(10000):\n",
    "    try:\n",
    "        c.run_to_completion()\n",
    "    except:\n",
    "        pass\n",
    "    paint = build_paint(c.outputs)\n",
    "    ball_loc = get_ball(paint)\n",
    "    paddle_loc = get_paddle(paint)\n",
    "    if ball_loc[0] > paddle_loc[0]:\n",
    "        c.input.append(1)\n",
    "    elif ball_loc[0] < paddle_loc[0]:\n",
    "        c.input.append(-1)\n",
    "    else:\n",
    "        c.input.append(0)\n",
    "    display_board(paint, \"game_pngs/%s.png\" % i)"
   ]
  },
  {
   "cell_type": "code",
   "execution_count": 57,
   "metadata": {},
   "outputs": [
    {
     "name": "stdout",
     "output_type": "stream",
     "text": [
      "13298\n"
     ]
    },
    {
     "data": {
      "image/png": "[encoded data removed]",
      "text/plain": [
       "<Figure size 432x288 with 1 Axes>"
      ]
     },
     "metadata": {
      "needs_background": "light"
     },
     "output_type": "display_data"
    }
   ],
   "source": [
    "display_board(paint)"
   ]
  },
  {
   "cell_type": "code",
   "execution_count": 49,
   "metadata": {},
   "outputs": [
    {
     "data": {
      "text/plain": [
       "(21, 15)"
      ]
     },
     "execution_count": 49,
     "metadata": {},
     "output_type": "execute_result"
    }
   ],
   "source": [
    "ball_loc"
   ]
  },
  {
   "cell_type": "code",
   "execution_count": 50,
   "metadata": {},
   "outputs": [
    {
     "data": {
      "text/plain": [
       "(19, 18)"
      ]
     },
     "execution_count": 50,
     "metadata": {},
     "output_type": "execute_result"
    }
   ],
   "source": [
    "paddle_loc"
   ]
  },
  {
   "cell_type": "code",
   "execution_count": 43,
   "metadata": {},
   "outputs": [
    {
     "data": {
      "text/plain": [
       "(21, 15)"
      ]
     },
     "execution_count": 43,
     "metadata": {},
     "output_type": "execute_result"
    }
   ],
   "source": []
  },
  {
   "cell_type": "code",
   "execution_count": 44,
   "metadata": {},
   "outputs": [
    {
     "data": {
      "text/plain": [
       "(19, 18)"
      ]
     },
     "execution_count": 44,
     "metadata": {},
     "output_type": "execute_result"
    }
   ],
   "source": [
    "get_paddle(paint)"
   ]
  },
  {
   "cell_type": "code",
   "execution_count": null,
   "metadata": {},
   "outputs": [],
   "source": []
  }
 ],
 "metadata": {
  "kernelspec": {
   "display_name": "Python 3",
   "language": "python",
   "name": "python3"
  },
  "language_info": {
   "codemirror_mode": {
    "name": "ipython",
    "version": 3
   },
   "file_extension": ".py",
   "mimetype": "text/x-python",
   "name": "python",
   "nbconvert_exporter": "python",
   "pygments_lexer": "ipython3",
   "version": "3.6.7"
  }
 },
 "nbformat": 4,
 "nbformat_minor": 4
}
