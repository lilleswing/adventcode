{
 "cells": [
  {
   "cell_type": "code",
   "execution_count": 1,
   "metadata": {},
   "outputs": [],
   "source": [
    "import numpy as np"
   ]
  },
  {
   "cell_type": "code",
   "execution_count": 4,
   "metadata": {},
   "outputs": [],
   "source": [
    "import re"
   ]
  },
  {
   "cell_type": "code",
   "execution_count": 48,
   "metadata": {},
   "outputs": [],
   "source": [
    "def to_vector(s):\n",
    "    print(s)\n",
    "    return re.match(r\".*=(.+),.*=(.+),.*=(.?\\d+).*\", s).groups()"
   ]
  },
  {
   "cell_type": "code",
   "execution_count": 181,
   "metadata": {},
   "outputs": [],
   "source": [
    "def read_locations():\n",
    "    s = \"\"\"<x=8, y=0, z=8>\n",
    "<x=0, y=-5, z=-10>\n",
    "<x=16, y=10, z=-5>\n",
    "<x=19, y=-10, z=-7>\"\"\"\n",
    "#     s = \"\"\"<x=-1, y=0, z=2>\n",
    "# <x=2, y=-10, z=-7>\n",
    "# <x=4, y=-8, z=8>\n",
    "# <x=3, y=5, z=-1>\"\"\"\n",
    "    s = s.split(\"\\n\")\n",
    "    retval = []\n",
    "    l = [to_vector(x) for x in s]\n",
    "    for row in l:\n",
    "        retval.append([int(x) for x in row])\n",
    "    return retval"
   ]
  },
  {
   "cell_type": "code",
   "execution_count": 182,
   "metadata": {},
   "outputs": [],
   "source": [
    "def apply_gravity(i,j, locations, velocities):\n",
    "    moon_a = locations[i]\n",
    "    moon_b = locations[j]\n",
    "    for direction in range(3):\n",
    "        ax = moon_a[direction]\n",
    "        bx = moon_b[direction]\n",
    "        if ax == bx:\n",
    "            continue\n",
    "        if ax > bx:\n",
    "            velocities[i][direction] -= 1\n",
    "            velocities[j][direction] += 1\n",
    "            continue\n",
    "        if ax < bx:\n",
    "            velocities[i][direction] += 1\n",
    "            velocities[j][direction] -= 1\n",
    "            continue"
   ]
  },
  {
   "cell_type": "code",
   "execution_count": 183,
   "metadata": {},
   "outputs": [],
   "source": [
    "def update_coords(i, locations, velocities):\n",
    "    moon = locations[i]\n",
    "    for direction in range(3):\n",
    "        moon[direction] += velocities[i][direction]\n",
    "        \n",
    "    locations[i] = moon"
   ]
  },
  {
   "cell_type": "code",
   "execution_count": 184,
   "metadata": {},
   "outputs": [],
   "source": [
    "def run_step(locations, velocities):\n",
    "    for i, moon in enumerate(locations):\n",
    "        for j, moon in enumerate(locations):\n",
    "            if i >= j:\n",
    "                continue\n",
    "            apply_gravity(i,j,locations, velocities)\n",
    "\n",
    "    for i, moon in enumerate(locations):\n",
    "        update_coords(i,locations, velocities)"
   ]
  },
  {
   "cell_type": "code",
   "execution_count": 185,
   "metadata": {},
   "outputs": [],
   "source": [
    "def solve1():\n",
    "    locations = read_locations()\n",
    "    velocities = np.zeros(shape=(len(locations),3))\n",
    "    for i in range(1000):\n",
    "        run_step(locations, velocities)\n",
    "    locations = np.array(locations)\n",
    "    return locations, velocities\n",
    "        "
   ]
  },
  {
   "cell_type": "code",
   "execution_count": 199,
   "metadata": {},
   "outputs": [],
   "source": []
  },
  {
   "cell_type": "code",
   "execution_count": 200,
   "metadata": {},
   "outputs": [],
   "source": [
    "def to_key(locations, velocities, axis):\n",
    "    return str(locations[:,axis]) + str(velocities[:,axis])\n",
    "\n",
    "def period_time(axis=0):\n",
    "    locations = np.array(read_locations())\n",
    "    velocities = np.zeros(shape=(len(locations),3))\n",
    "    \n",
    "    seen = set()\n",
    "    num_steps = 0\n",
    "    seen.add(to_key(locations, velocities, axis))\n",
    "    while True:\n",
    "        run_step(locations, velocities)\n",
    "        num_steps += 1\n",
    "        key = to_key(locations, velocities, axis)\n",
    "        if key in seen:\n",
    "            break\n",
    "    return num_steps\n",
    "            "
   ]
  },
  {
   "cell_type": "code",
   "execution_count": null,
   "metadata": {},
   "outputs": [],
   "source": [
    "def compute_gcd(x, y):\n",
    "   while(y):\n",
    "       x, y = y, x % y\n",
    "   return x\n",
    "# This function computes LCM\n",
    "def compute_lcm(x, y):\n",
    "   lcm = (x*y)//compute_gcd(x,y)\n",
    "   return lcm"
   ]
  },
  {
   "cell_type": "code",
   "execution_count": 212,
   "metadata": {},
   "outputs": [],
   "source": [
    "def solve2(n_steps):\n",
    "    a1 = period_time()\n",
    "    a2 = period_time(1)\n",
    "    a3 = period_time(2)\n",
    "    z = compute_lcm(a1,a2)\n",
    "    z = compute_lcm(z, a3)\n",
    "    return z"
   ]
  },
  {
   "cell_type": "code",
   "execution_count": null,
   "metadata": {},
   "outputs": [],
   "source": []
  }
 ],
 "metadata": {
  "kernelspec": {
   "display_name": "Python 3",
   "language": "python",
   "name": "python3"
  },
  "language_info": {
   "codemirror_mode": {
    "name": "ipython",
    "version": 3
   },
   "file_extension": ".py",
   "mimetype": "text/x-python",
   "name": "python",
   "nbconvert_exporter": "python",
   "pygments_lexer": "ipython3",
   "version": "3.8.0"
  }
 },
 "nbformat": 4,
 "nbformat_minor": 4
}
