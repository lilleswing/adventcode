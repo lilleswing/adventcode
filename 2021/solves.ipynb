{
 "cells": [
  {
   "cell_type": "code",
   "execution_count": 2,
   "id": "guided-library",
   "metadata": {},
   "outputs": [],
   "source": [
    "lines = open('day01.txt').readlines()\n",
    "datum = [int(x) for x in lines]"
   ]
  },
  {
   "cell_type": "code",
   "execution_count": 4,
   "id": "norwegian-mexican",
   "metadata": {},
   "outputs": [
    {
     "data": {
      "text/plain": [
       "1226"
      ]
     },
     "execution_count": 4,
     "metadata": {},
     "output_type": "execute_result"
    }
   ],
   "source": [
    "count = 0\n",
    "for i in range(1, len(datum)):\n",
    "    if datum[i] > datum[i-1]:\n",
    "        count += 1\n",
    "count"
   ]
  },
  {
   "cell_type": "code",
   "execution_count": 6,
   "id": "arranged-adobe",
   "metadata": {},
   "outputs": [],
   "source": [
    "sum_3 = []\n",
    "for i in range(2, len(datum)):\n",
    "    total = datum[i-2] + datum[i-1] + datum[i]\n",
    "    sum_3.append(total)"
   ]
  },
  {
   "cell_type": "code",
   "execution_count": 7,
   "id": "greater-observer",
   "metadata": {},
   "outputs": [
    {
     "data": {
      "text/plain": [
       "1252"
      ]
     },
     "execution_count": 7,
     "metadata": {},
     "output_type": "execute_result"
    }
   ],
   "source": [
    "count = 0\n",
    "for i in range(1, len(sum_3)):\n",
    "    if sum_3[i] > sum_3[i-1]:\n",
    "        count += 1\n",
    "count"
   ]
  },
  {
   "cell_type": "code",
   "execution_count": 8,
   "id": "ordinary-birthday",
   "metadata": {},
   "outputs": [],
   "source": [
    "#day 2"
   ]
  },
  {
   "cell_type": "code",
   "execution_count": 33,
   "id": "dramatic-carroll",
   "metadata": {},
   "outputs": [],
   "source": [
    "dir_map = {\n",
    "    \"forward\": (0, 1),\n",
    "    \"down\": (-1, 0),\n",
    "    \"up\": (1,0)\n",
    "}\n",
    "lines = [x.strip() for x in open('day02.txt').readlines()]\n"
   ]
  },
  {
   "cell_type": "code",
   "execution_count": 34,
   "id": "miniature-thriller",
   "metadata": {},
   "outputs": [
    {
     "data": {
      "text/plain": [
       "(-777, 1878)"
      ]
     },
     "execution_count": 34,
     "metadata": {},
     "output_type": "execute_result"
    }
   ],
   "source": [
    "cur_loc = (0,0)\n",
    "for elem in lines:\n",
    "    elem = elem.split()\n",
    "    my_dir = dir_map[elem[0]]\n",
    "    my_num = int(elem[1])\n",
    "    \n",
    "    cur_loc = cur_loc[0] + my_dir[0]*my_num, cur_loc[1] + my_dir[1]*my_num\n",
    "cur_loc"
   ]
  },
  {
   "cell_type": "code",
   "execution_count": 35,
   "id": "turkish-ebony",
   "metadata": {},
   "outputs": [
    {
     "data": {
      "text/plain": [
       "1459206"
      ]
     },
     "execution_count": 35,
     "metadata": {},
     "output_type": "execute_result"
    }
   ],
   "source": [
    "abs(cur_loc[0]) * abs(cur_loc[1])"
   ]
  },
  {
   "cell_type": "code",
   "execution_count": 36,
   "id": "beneficial-ceiling",
   "metadata": {},
   "outputs": [
    {
     "data": {
      "text/plain": [
       "(-703160, 1878, 777)"
      ]
     },
     "execution_count": 36,
     "metadata": {},
     "output_type": "execute_result"
    }
   ],
   "source": [
    "# depth, horizontal, aim\n",
    "dir_map = {\n",
    "    \"forward\": (0, 1, 0),\n",
    "    \"down\": (0, 0, 1),\n",
    "    \"up\": (0,0, -1)\n",
    "}\n",
    "cur_loc = (0,0,0)\n",
    "for elem in lines:\n",
    "    elem = elem.split()\n",
    "    my_dir = dir_map[elem[0]]\n",
    "    my_num = int(elem[1])\n",
    "    \n",
    "    cur_loc = cur_loc[0] + my_dir[0]*my_num, cur_loc[1] + my_dir[1]*my_num, cur_loc[2] + my_dir[2]*my_num\n",
    "    if elem[0] == 'forward':\n",
    "        v = cur_loc[0] - cur_loc[2] * my_num\n",
    "        cur_loc = (v, cur_loc[1], cur_loc[2])\n",
    "cur_loc"
   ]
  },
  {
   "cell_type": "code",
   "execution_count": 37,
   "id": "champion-championship",
   "metadata": {},
   "outputs": [
    {
     "data": {
      "text/plain": [
       "1320534480"
      ]
     },
     "execution_count": 37,
     "metadata": {},
     "output_type": "execute_result"
    }
   ],
   "source": [
    "abs(cur_loc[1]) * abs(cur_loc[0])"
   ]
  },
  {
   "cell_type": "code",
   "execution_count": 38,
   "id": "moving-liver",
   "metadata": {},
   "outputs": [],
   "source": [
    "# day 3"
   ]
  },
  {
   "cell_type": "code",
   "execution_count": 39,
   "id": "monthly-framework",
   "metadata": {},
   "outputs": [],
   "source": [
    "lines = [x.strip() for x in open('day03.txt').readlines()]"
   ]
  },
  {
   "cell_type": "code",
   "execution_count": 40,
   "id": "electronic-gamma",
   "metadata": {},
   "outputs": [],
   "source": [
    "def binaryToDecimal(binary):\n",
    "     \n",
    "    binary1 = binary\n",
    "    decimal, i, n = 0, 0, 0\n",
    "    while(binary != 0):\n",
    "        dec = binary % 10\n",
    "        decimal = decimal + dec * pow(2, i)\n",
    "        binary = binary//10\n",
    "        i += 1\n",
    "    print(decimal)   "
   ]
  },
  {
   "cell_type": "code",
   "execution_count": 41,
   "id": "premier-warehouse",
   "metadata": {},
   "outputs": [],
   "source": [
    "is_1_at_index = []\n",
    "for index in range(len(lines[0])):\n",
    "    count1 = 0\n",
    "    for elem in lines:\n",
    "        if elem[index] == '1':\n",
    "            count1 += 1\n",
    "    if count1 > len(lines)/2:\n",
    "        is_1_at_index.append(True)\n",
    "    else:\n",
    "        is_1_at_index.append(False)"
   ]
  },
  {
   "cell_type": "code",
   "execution_count": 43,
   "id": "nuclear-pierre",
   "metadata": {},
   "outputs": [
    {
     "data": {
      "text/plain": [
       "[True, False, False, True, True, False, True, True, False, True, False, False]"
      ]
     },
     "execution_count": 43,
     "metadata": {},
     "output_type": "execute_result"
    }
   ],
   "source": [
    "is_1_at_index"
   ]
  },
  {
   "cell_type": "code",
   "execution_count": 49,
   "id": "possible-acceptance",
   "metadata": {},
   "outputs": [],
   "source": [
    "gamma = [int(x) for x in is_1_at_index]\n",
    "gamma = \"\".join([str(x) for x in gamma])\n",
    "gamma = int(gamma, base=2)"
   ]
  },
  {
   "cell_type": "code",
   "execution_count": 50,
   "id": "expected-recording",
   "metadata": {},
   "outputs": [
    {
     "data": {
      "text/plain": [
       "2484"
      ]
     },
     "execution_count": 50,
     "metadata": {},
     "output_type": "execute_result"
    }
   ],
   "source": [
    "gamma"
   ]
  },
  {
   "cell_type": "code",
   "execution_count": 54,
   "id": "martial-glory",
   "metadata": {},
   "outputs": [],
   "source": [
    "epsilon = [int(not x) for x in is_1_at_index]\n",
    "epsilon = \"\".join([str(x) for x in epsilon])\n",
    "epsilon = int(epsilon, base=2)"
   ]
  },
  {
   "cell_type": "code",
   "execution_count": 55,
   "id": "naked-exhaust",
   "metadata": {},
   "outputs": [
    {
     "data": {
      "text/plain": [
       "1611"
      ]
     },
     "execution_count": 55,
     "metadata": {},
     "output_type": "execute_result"
    }
   ],
   "source": [
    "epsilon"
   ]
  },
  {
   "cell_type": "code",
   "execution_count": 56,
   "id": "periodic-production",
   "metadata": {},
   "outputs": [
    {
     "data": {
      "text/plain": [
       "4001724"
      ]
     },
     "execution_count": 56,
     "metadata": {},
     "output_type": "execute_result"
    }
   ],
   "source": [
    "epsilon * gamma"
   ]
  },
  {
   "cell_type": "code",
   "execution_count": 69,
   "id": "persistent-plasma",
   "metadata": {},
   "outputs": [],
   "source": [
    "def count_1s(l, index):\n",
    "    count = 0\n",
    "    for elem in l:\n",
    "        if elem[index] == '1':\n",
    "            count += 1\n",
    "    return count\n",
    "\n",
    "def filter_lines(l, index, v):\n",
    "    retval = []\n",
    "    for elem in l:\n",
    "        if elem[index] == v:\n",
    "            retval.append(elem)\n",
    "    return retval\n",
    "\n",
    "def find_oxygen_rating():\n",
    "    my_lines = list(lines)\n",
    "    index = 0\n",
    "    while len(my_lines) > 1:\n",
    "        print(len(my_lines))\n",
    "        num_1s = count_1s(my_lines, index)\n",
    "        if num_1s >= len(my_lines) / 2:\n",
    "            my_lines = filter_lines(my_lines, index, '1')\n",
    "        else:\n",
    "            my_lines = filter_lines(my_lines, index, '0')\n",
    "        index += 1\n",
    "    return my_lines[0]\n",
    "\n",
    "def find_co2_rating():\n",
    "    my_lines = list(lines)\n",
    "    index = 0\n",
    "    while len(my_lines) > 1:\n",
    "        num_1s = count_1s(my_lines, index)\n",
    "        num_0s = len(my_lines) - num_1s\n",
    "        if num_0s <= num_1s:\n",
    "            my_lines = filter_lines(my_lines, index, '0')\n",
    "        else:\n",
    "            my_lines = filter_lines(my_lines, index, '1')\n",
    "        index += 1\n",
    "    return my_lines[0]"
   ]
  },
  {
   "cell_type": "code",
   "execution_count": 70,
   "id": "surgical-message",
   "metadata": {},
   "outputs": [
    {
     "name": "stdout",
     "output_type": "stream",
     "text": [
      "1000\n",
      "528\n",
      "281\n",
      "143\n",
      "74\n",
      "38\n",
      "20\n",
      "10\n",
      "5\n",
      "4\n",
      "3\n",
      "2\n"
     ]
    },
    {
     "data": {
      "text/plain": [
       "587895"
      ]
     },
     "execution_count": 70,
     "metadata": {},
     "output_type": "execute_result"
    }
   ],
   "source": [
    "int(find_oxygen_rating(), base=2) * int(find_co2_rating(), base=2)"
   ]
  },
  {
   "cell_type": "code",
   "execution_count": 15,
   "id": "inner-pittsburgh",
   "metadata": {},
   "outputs": [],
   "source": [
    "# Day 4"
   ]
  },
  {
   "cell_type": "code",
   "execution_count": 16,
   "id": "disciplinary-reconstruction",
   "metadata": {},
   "outputs": [],
   "source": [
    "lines = open(\"day04.txt\").readlines()"
   ]
  },
  {
   "cell_type": "code",
   "execution_count": 17,
   "id": "supreme-march",
   "metadata": {},
   "outputs": [],
   "source": [
    "order = [int(x) for x in lines[0].split(',')]"
   ]
  },
  {
   "cell_type": "code",
   "execution_count": 18,
   "id": "annual-joshua",
   "metadata": {},
   "outputs": [],
   "source": [
    "lines = lines[2:]"
   ]
  },
  {
   "cell_type": "code",
   "execution_count": 19,
   "id": "finnish-orange",
   "metadata": {},
   "outputs": [],
   "source": [
    "lines = [x.strip() for x in lines]"
   ]
  },
  {
   "cell_type": "code",
   "execution_count": 24,
   "id": "dominican-nelson",
   "metadata": {},
   "outputs": [],
   "source": [
    "boards = []\n",
    "index = 0\n",
    "while index < len(lines):\n",
    "    board = []\n",
    "    for i in range(5):\n",
    "        row = [int(x) for x in lines[i+index].split()]\n",
    "        board.append(row)\n",
    "    index += 6\n",
    "    boards.append(board)"
   ]
  },
  {
   "cell_type": "code",
   "execution_count": 26,
   "id": "straight-vegetation",
   "metadata": {},
   "outputs": [],
   "source": [
    "def is_winner(used, board):\n",
    "    \n",
    "    for i in range(len(board)):\n",
    "        retval = []\n",
    "        for j in range(len(board)):\n",
    "            retval.append(board[i][j] in used)\n",
    "        if sum(retval) == len(board):\n",
    "            return True\n",
    "    \n",
    "    for i in range(len(board)):\n",
    "        retval = []\n",
    "        for j in range(len(board)):\n",
    "            retval.append(board[j][i] in used)\n",
    "        if sum(retval) == len(board):\n",
    "            return True\n",
    "    return False\n"
   ]
  },
  {
   "cell_type": "code",
   "execution_count": 29,
   "id": "motivated-newark",
   "metadata": {},
   "outputs": [],
   "source": [
    "def score_board(used, board, last):\n",
    "    total = 0\n",
    "    for i in range(len(board)):\n",
    "        for j in range(len(board[0])):\n",
    "            if board[i][j] not in used:\n",
    "                total += board[i][j]\n",
    "    return total * last\n",
    "            "
   ]
  },
  {
   "cell_type": "code",
   "execution_count": 51,
   "id": "sized-tribute",
   "metadata": {},
   "outputs": [
    {
     "name": "stdout",
     "output_type": "stream",
     "text": [
      "[[96, 94, 98, 27, 56], [64, 83, 46, 30, 5], [3, 43, 70, 67, 21], [62, 0, 92, 1, 65], [36, 26, 35, 61, 76]]\n",
      "45031\n"
     ]
    }
   ],
   "source": [
    "is_done = False\n",
    "for size in range(1, len(order)):\n",
    "    used = set(order[:size])\n",
    "    for b in boards:\n",
    "        if is_winner(used, b):\n",
    "            print(board)\n",
    "            print(score_board(used, b, order[size-1]))\n",
    "            is_done = True\n",
    "            break\n",
    "    if is_done:\n",
    "        break"
   ]
  },
  {
   "cell_type": "code",
   "execution_count": 31,
   "id": "future-world",
   "metadata": {},
   "outputs": [],
   "source": [
    "# part 2"
   ]
  },
  {
   "cell_type": "code",
   "execution_count": 56,
   "id": "casual-vehicle",
   "metadata": {},
   "outputs": [
    {
     "name": "stdout",
     "output_type": "stream",
     "text": [
      "2568\n"
     ]
    }
   ],
   "source": [
    "winners = [False] * len(boards)\n",
    "is_done = False\n",
    "last_won = -1\n",
    "for size in range(1, len(order)):\n",
    "    used = set(order[:size])\n",
    "    for i, b in enumerate(boards):\n",
    "        if is_winner(used, b):\n",
    "            winners[i] = True\n",
    "            if sum(winners) == len(winners) and last_won==-1:\n",
    "                last_won = i\n",
    "    if last_won != -1:\n",
    "        #print(last_won)\n",
    "        print(score_board(used, boards[last_won], order[size-1]))\n",
    "        is_done = True\n",
    "    if is_done:\n",
    "        break"
   ]
  },
  {
   "cell_type": "code",
   "execution_count": 38,
   "id": "humanitarian-belly",
   "metadata": {},
   "outputs": [],
   "source": [
    "# Day 5"
   ]
  },
  {
   "cell_type": "code",
   "execution_count": 57,
   "id": "detailed-jones",
   "metadata": {},
   "outputs": [],
   "source": [
    "import re"
   ]
  },
  {
   "cell_type": "code",
   "execution_count": 60,
   "id": "metropolitan-tower",
   "metadata": {},
   "outputs": [],
   "source": [
    "lines = [x.strip() for x in open('day05.txt').readlines()]"
   ]
  },
  {
   "cell_type": "code",
   "execution_count": 101,
   "id": "comparative-adventure",
   "metadata": {},
   "outputs": [],
   "source": [
    "def sign(x):\n",
    "    if x > 0:\n",
    "        return 1\n",
    "    if x < 0:\n",
    "        return -1\n",
    "    raise ValueError()"
   ]
  },
  {
   "cell_type": "code",
   "execution_count": 113,
   "id": "musical-cyprus",
   "metadata": {},
   "outputs": [],
   "source": [
    "class Point(object):\n",
    "    def __init__(self, x1, y1, x2, y2):\n",
    "        self.x1 = int(x1)\n",
    "        self.y1 = int(y1)\n",
    "        self.x2 = int(x2)\n",
    "        self.y2 = int(y2)\n",
    "        \n",
    "    def is_horizontal_or_vertical(self):\n",
    "        return self.x1 == self.x2 or self.y1 == self.y2\n",
    "    \n",
    "    def get_tuples_on_line(self):\n",
    "        x1, x2, y1, y2 = self.x1, self.x2, self.y1, self.y2\n",
    "        retval = []\n",
    "        if x1 == x2:\n",
    "            start, end = min([y1, y2]), max([y1, y2])\n",
    "            for v in range(start, end+1):\n",
    "                retval.append((x1, v))\n",
    "            return retval \n",
    "        if y1 == y2:\n",
    "            start, end = min([x1, x2]), max([x1, x2])\n",
    "            for v in range(start, end+1):\n",
    "                retval.append((v, y1))\n",
    "            return retval \n",
    "        delta1 = abs(x1 - x2)\n",
    "        delta2 = abs(y1 - y2)\n",
    "        if delta1 != delta2:\n",
    "            raise ValueError()\n",
    "        \n",
    "        curx, cury = x1, y1\n",
    "        deltax = sign(x2-x1)\n",
    "        deltay = sign(y2-y1)\n",
    "        retval = []\n",
    "        while curx != x2 and cury != y2:\n",
    "            retval.append((curx, cury))\n",
    "            curx += deltax\n",
    "            cury += deltay\n",
    "        retval.append((curx, cury))\n",
    "        return retval"
   ]
  },
  {
   "cell_type": "code",
   "execution_count": 114,
   "id": "floating-smooth",
   "metadata": {},
   "outputs": [],
   "source": [
    "def parse_points(lines):\n",
    "    retval = []\n",
    "    for l in lines:\n",
    "        m = re.match(r\"(\\d+),(\\d+) -> (\\d+),(\\d+)$\", l)\n",
    "        p = Point(*m.groups())\n",
    "        retval.append(p)\n",
    "    return retval"
   ]
  },
  {
   "cell_type": "code",
   "execution_count": 115,
   "id": "elder-potential",
   "metadata": {},
   "outputs": [],
   "source": [
    "points = parse_points(lines)\n",
    "points = [x for x in points if x.is_horizontal_or_vertical()]"
   ]
  },
  {
   "cell_type": "code",
   "execution_count": 116,
   "id": "capable-quality",
   "metadata": {},
   "outputs": [],
   "source": [
    "grid = {}\n",
    "for p in points:\n",
    "    along_line = p.get_tuples_on_line()\n",
    "    for elem in along_line:\n",
    "        if elem not in grid:\n",
    "            grid[elem] = 0\n",
    "        grid[elem] += 1\n",
    "    "
   ]
  },
  {
   "cell_type": "code",
   "execution_count": 117,
   "id": "mounted-waters",
   "metadata": {},
   "outputs": [
    {
     "data": {
      "text/plain": [
       "6548"
      ]
     },
     "execution_count": 117,
     "metadata": {},
     "output_type": "execute_result"
    }
   ],
   "source": [
    "total = 0\n",
    "for k, v in grid.items():\n",
    "    if v >= 2:\n",
    "        total += 1\n",
    "total"
   ]
  },
  {
   "cell_type": "code",
   "execution_count": 118,
   "id": "understanding-excuse",
   "metadata": {},
   "outputs": [],
   "source": [
    "# Part 2"
   ]
  },
  {
   "cell_type": "code",
   "execution_count": 119,
   "id": "falling-turner",
   "metadata": {},
   "outputs": [
    {
     "data": {
      "text/plain": [
       "19663"
      ]
     },
     "execution_count": 119,
     "metadata": {},
     "output_type": "execute_result"
    }
   ],
   "source": [
    "points = parse_points(lines)\n",
    "grid = {}\n",
    "for p in points:\n",
    "    along_line = p.get_tuples_on_line()\n",
    "    for elem in along_line:\n",
    "        if elem not in grid:\n",
    "            grid[elem] = 0\n",
    "        grid[elem] += 1\n",
    "total = 0\n",
    "for k, v in grid.items():\n",
    "    if v >= 2:\n",
    "        total += 1\n",
    "total"
   ]
  },
  {
   "cell_type": "code",
   "execution_count": 120,
   "id": "cognitive-richardson",
   "metadata": {},
   "outputs": [],
   "source": [
    "# Day 6"
   ]
  },
  {
   "cell_type": "code",
   "execution_count": 149,
   "id": "verified-auckland",
   "metadata": {},
   "outputs": [],
   "source": [
    "fish = [x.strip().split(',') for x in open('day06.txt').readlines()][0]\n",
    "fish = [int(x) for x in fish]"
   ]
  },
  {
   "cell_type": "code",
   "execution_count": 135,
   "id": "plastic-particular",
   "metadata": {},
   "outputs": [],
   "source": [
    "def next_number(n):\n",
    "    if n == 0:\n",
    "        return 6, 8\n",
    "    return n-1, None\n",
    "    "
   ]
  },
  {
   "cell_type": "code",
   "execution_count": 136,
   "id": "known-louisiana",
   "metadata": {},
   "outputs": [],
   "source": [
    "def run_day(fish):\n",
    "    retval = []\n",
    "    for elem in fish:\n",
    "        f1, f2 = next_number(elem)\n",
    "        retval.append(f1)\n",
    "        if f2 is not None:\n",
    "            retval.append(f2)\n",
    "    return retval"
   ]
  },
  {
   "cell_type": "code",
   "execution_count": 137,
   "id": "informational-archives",
   "metadata": {},
   "outputs": [],
   "source": [
    "next_fish = fish\n",
    "for i in range(80):\n",
    "    next_fish = run_day(next_fish)"
   ]
  },
  {
   "cell_type": "code",
   "execution_count": 138,
   "id": "furnished-perry",
   "metadata": {},
   "outputs": [
    {
     "data": {
      "text/plain": [
       "351092"
      ]
     },
     "execution_count": 138,
     "metadata": {},
     "output_type": "execute_result"
    }
   ],
   "source": [
    "len(next_fish)"
   ]
  },
  {
   "cell_type": "code",
   "execution_count": 139,
   "id": "fluid-ambassador",
   "metadata": {},
   "outputs": [],
   "source": [
    "# Part 2"
   ]
  },
  {
   "cell_type": "code",
   "execution_count": 142,
   "id": "technical-schema",
   "metadata": {},
   "outputs": [],
   "source": [
    "# Simulate 1 fish at each index and then just add them up\n",
    "# Probably a smarter way to do this with modulu and DP of something (index, days_left) but this should work"
   ]
  },
  {
   "cell_type": "code",
   "execution_count": 155,
   "id": "collaborative-laptop",
   "metadata": {},
   "outputs": [
    {
     "name": "stdout",
     "output_type": "stream",
     "text": [
      "1\n",
      "2\n",
      "3\n",
      "4\n",
      "5\n"
     ]
    }
   ],
   "source": [
    "def run_day_map(fish):\n",
    "    retval = {}\n",
    "    for i in range(9):\n",
    "        retval[i] = 0\n",
    "    for k, v in fish.items():\n",
    "        if k == 0:\n",
    "            retval[6] += v\n",
    "            retval[8] += v\n",
    "        else:\n",
    "            retval[k-1] += v\n",
    "    return retval \n",
    "\n",
    "\n",
    "fish = [x.strip().split(',') for x in open('day06.txt').readlines()][0]\n",
    "fish = [int(x) for x in fish]\n",
    "memoize = {}\n",
    "for my_index in set(fish):\n",
    "    print(my_index)\n",
    "    my_fish = {\n",
    "        my_index: 1\n",
    "    }\n",
    "    for i in range(256):\n",
    "        my_fish = run_day_map(my_fish)\n",
    "    total_fish = sum([x for x in my_fish.values()])\n",
    "    memoize[my_index] = total_fish"
   ]
  },
  {
   "cell_type": "code",
   "execution_count": 156,
   "id": "overall-convention",
   "metadata": {},
   "outputs": [
    {
     "data": {
      "text/plain": [
       "{1: 6206821033, 2: 5617089148, 3: 5217223242, 4: 4726100874, 5: 4368232009}"
      ]
     },
     "execution_count": 156,
     "metadata": {},
     "output_type": "execute_result"
    }
   ],
   "source": [
    "memoize"
   ]
  },
  {
   "cell_type": "code",
   "execution_count": 157,
   "id": "alpha-theme",
   "metadata": {},
   "outputs": [
    {
     "data": {
      "text/plain": [
       "1595330616005"
      ]
     },
     "execution_count": 157,
     "metadata": {},
     "output_type": "execute_result"
    }
   ],
   "source": [
    "total = 0\n",
    "for elem in fish:\n",
    "    total += memoize[elem]\n",
    "total"
   ]
  },
  {
   "cell_type": "code",
   "execution_count": 158,
   "id": "desirable-safety",
   "metadata": {},
   "outputs": [],
   "source": [
    "# Day 07"
   ]
  },
  {
   "cell_type": "code",
   "execution_count": 159,
   "id": "endless-third",
   "metadata": {},
   "outputs": [],
   "source": [
    "crabs = [int(x) for x in open('day07.txt').read().split(',')]"
   ]
  },
  {
   "cell_type": "code",
   "execution_count": 176,
   "id": "expressed-bishop",
   "metadata": {},
   "outputs": [],
   "source": [
    "# Probably a closed form solution to this but i can do a gradient based minimization"
   ]
  },
  {
   "cell_type": "code",
   "execution_count": 162,
   "id": "premium-being",
   "metadata": {},
   "outputs": [],
   "source": [
    "def get_cost(v):\n",
    "    total = 0\n",
    "    for elem in crabs:\n",
    "        total += abs(elem - v)\n",
    "    return total"
   ]
  },
  {
   "cell_type": "code",
   "execution_count": 164,
   "id": "typical-wayne",
   "metadata": {},
   "outputs": [],
   "source": [
    "low_v, high_v = min(crabs), max(crabs)"
   ]
  },
  {
   "cell_type": "code",
   "execution_count": 177,
   "id": "interested-gardening",
   "metadata": {},
   "outputs": [],
   "source": [
    "# JK it is so small don't even have to do a gradient based minimization"
   ]
  },
  {
   "cell_type": "code",
   "execution_count": 166,
   "id": "limited-monster",
   "metadata": {},
   "outputs": [],
   "source": [
    "costs = [get_cost(x) for x in range(low_v, high_v)]"
   ]
  },
  {
   "cell_type": "code",
   "execution_count": 167,
   "id": "plastic-section",
   "metadata": {},
   "outputs": [
    {
     "data": {
      "text/plain": [
       "331067"
      ]
     },
     "execution_count": 167,
     "metadata": {},
     "output_type": "execute_result"
    }
   ],
   "source": [
    "min(costs)    "
   ]
  },
  {
   "cell_type": "code",
   "execution_count": 168,
   "id": "strategic-hudson",
   "metadata": {},
   "outputs": [],
   "source": [
    "# Day 2"
   ]
  },
  {
   "cell_type": "code",
   "execution_count": 169,
   "id": "twelve-venezuela",
   "metadata": {},
   "outputs": [],
   "source": [
    "cost_lookup = [0, 1]"
   ]
  },
  {
   "cell_type": "code",
   "execution_count": 170,
   "id": "ethical-white",
   "metadata": {},
   "outputs": [],
   "source": [
    "for i in range(high_v+1):\n",
    "    v = len(cost_lookup) + cost_lookup[-1]\n",
    "    cost_lookup.append(v)"
   ]
  },
  {
   "cell_type": "code",
   "execution_count": 172,
   "id": "varied-yacht",
   "metadata": {},
   "outputs": [],
   "source": [
    "def get_cost2(v):\n",
    "    total = 0\n",
    "    for elem in crabs:\n",
    "        distance = abs(elem - v)\n",
    "        total += cost_lookup[distance]\n",
    "    return total"
   ]
  },
  {
   "cell_type": "code",
   "execution_count": 173,
   "id": "unable-filling",
   "metadata": {},
   "outputs": [
    {
     "data": {
      "text/plain": [
       "92881128"
      ]
     },
     "execution_count": 173,
     "metadata": {},
     "output_type": "execute_result"
    }
   ],
   "source": [
    "costs = [get_cost2(x) for x in range(low_v, high_v)]\n",
    "min(costs)"
   ]
  },
  {
   "cell_type": "code",
   "execution_count": 175,
   "id": "neutral-rebel",
   "metadata": {},
   "outputs": [],
   "source": [
    "# giggles see if I can do a gradient based minimization"
   ]
  },
  {
   "cell_type": "code",
   "execution_count": 180,
   "id": "interim-identifier",
   "metadata": {},
   "outputs": [
    {
     "name": "stdout",
     "output_type": "stream",
     "text": [
      "331067\n"
     ]
    }
   ],
   "source": [
    "from scipy.optimize import minimize\n",
    "\n",
    "possible_values = list(range(low_v, high_v+1))\n",
    "guess = (low_v + high_v)/2\n",
    "\n",
    "retval = minimize(get_cost, (guess,))\n",
    "int_min = min([get_cost(int(retval.x)), get_cost(int(retval.x))])\n",
    "print(int_min)"
   ]
  },
  {
   "cell_type": "code",
   "execution_count": 211,
   "id": "impressive-honolulu",
   "metadata": {},
   "outputs": [
    {
     "name": "stdout",
     "output_type": "stream",
     "text": [
      "92881128\n"
     ]
    }
   ],
   "source": [
    "# Need a smooth cost function to minimize\n",
    "def get_cost3(v):\n",
    "    total = 0\n",
    "    for elem in crabs:\n",
    "        distance = abs(elem - v)\n",
    "        c1 = cost_lookup[int(distance)]\n",
    "        c2 = cost_lookup[int(distance)+1]\n",
    "        # scale c1 -> c2 based on how much remainder there is\n",
    "        \n",
    "        diff = c2 - c1\n",
    "        remainder = distance - int(distance)\n",
    "        total += cost_lookup[int(distance)] + remainder*diff\n",
    "    return total\n",
    "\n",
    "retval = minimize(get_cost3, (guess,), bounds=[(low_v, high_v)])\n",
    "int_min = min([get_cost3(int(retval.x)), get_cost3(int(retval.x))])\n",
    "print(int_min)"
   ]
  },
  {
   "cell_type": "code",
   "execution_count": null,
   "id": "convinced-wesley",
   "metadata": {},
   "outputs": [],
   "source": []
  }
 ],
 "metadata": {
  "kernelspec": {
   "display_name": "Python 3",
   "language": "python",
   "name": "python3"
  },
  "language_info": {
   "codemirror_mode": {
    "name": "ipython",
    "version": 3
   },
   "file_extension": ".py",
   "mimetype": "text/x-python",
   "name": "python",
   "nbconvert_exporter": "python",
   "pygments_lexer": "ipython3",
   "version": "3.9.1"
  }
 },
 "nbformat": 4,
 "nbformat_minor": 5
}
