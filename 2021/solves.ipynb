{
 "cells": [
  {
   "cell_type": "code",
   "execution_count": 2,
   "id": "environmental-target",
   "metadata": {},
   "outputs": [],
   "source": [
    "lines = open('day01.txt').readlines()\n",
    "datum = [int(x) for x in lines]"
   ]
  },
  {
   "cell_type": "code",
   "execution_count": 4,
   "id": "pleased-providence",
   "metadata": {},
   "outputs": [
    {
     "data": {
      "text/plain": [
       "1226"
      ]
     },
     "execution_count": 4,
     "metadata": {},
     "output_type": "execute_result"
    }
   ],
   "source": [
    "count = 0\n",
    "for i in range(1, len(datum)):\n",
    "    if datum[i] > datum[i-1]:\n",
    "        count += 1\n",
    "count"
   ]
  },
  {
   "cell_type": "code",
   "execution_count": 6,
   "id": "negative-juvenile",
   "metadata": {},
   "outputs": [],
   "source": [
    "sum_3 = []\n",
    "for i in range(2, len(datum)):\n",
    "    total = datum[i-2] + datum[i-1] + datum[i]\n",
    "    sum_3.append(total)"
   ]
  },
  {
   "cell_type": "code",
   "execution_count": 7,
   "id": "proved-attribute",
   "metadata": {},
   "outputs": [
    {
     "data": {
      "text/plain": [
       "1252"
      ]
     },
     "execution_count": 7,
     "metadata": {},
     "output_type": "execute_result"
    }
   ],
   "source": [
    "count = 0\n",
    "for i in range(1, len(sum_3)):\n",
    "    if sum_3[i] > sum_3[i-1]:\n",
    "        count += 1\n",
    "count"
   ]
  },
  {
   "cell_type": "code",
   "execution_count": null,
   "id": "forty-cabin",
   "metadata": {},
   "outputs": [],
   "source": []
  }
 ],
 "metadata": {
  "kernelspec": {
   "display_name": "Python 3",
   "language": "python",
   "name": "python3"
  },
  "language_info": {
   "codemirror_mode": {
    "name": "ipython",
    "version": 3
   },
   "file_extension": ".py",
   "mimetype": "text/x-python",
   "name": "python",
   "nbconvert_exporter": "python",
   "pygments_lexer": "ipython3",
   "version": "3.9.1"
  }
 },
 "nbformat": 4,
 "nbformat_minor": 5
}
