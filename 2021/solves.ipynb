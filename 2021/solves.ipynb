{
 "cells": [
  {
   "cell_type": "code",
   "execution_count": 2,
   "id": "cooperative-pointer",
   "metadata": {},
   "outputs": [],
   "source": [
    "lines = open('day01.txt').readlines()\n",
    "datum = [int(x) for x in lines]"
   ]
  },
  {
   "cell_type": "code",
   "execution_count": 4,
   "id": "upset-prevention",
   "metadata": {},
   "outputs": [
    {
     "data": {
      "text/plain": [
       "1226"
      ]
     },
     "execution_count": 4,
     "metadata": {},
     "output_type": "execute_result"
    }
   ],
   "source": [
    "count = 0\n",
    "for i in range(1, len(datum)):\n",
    "    if datum[i] > datum[i-1]:\n",
    "        count += 1\n",
    "count"
   ]
  },
  {
   "cell_type": "code",
   "execution_count": 6,
   "id": "pharmaceutical-tanzania",
   "metadata": {},
   "outputs": [],
   "source": [
    "sum_3 = []\n",
    "for i in range(2, len(datum)):\n",
    "    total = datum[i-2] + datum[i-1] + datum[i]\n",
    "    sum_3.append(total)"
   ]
  },
  {
   "cell_type": "code",
   "execution_count": 7,
   "id": "individual-fever",
   "metadata": {},
   "outputs": [
    {
     "data": {
      "text/plain": [
       "1252"
      ]
     },
     "execution_count": 7,
     "metadata": {},
     "output_type": "execute_result"
    }
   ],
   "source": [
    "count = 0\n",
    "for i in range(1, len(sum_3)):\n",
    "    if sum_3[i] > sum_3[i-1]:\n",
    "        count += 1\n",
    "count"
   ]
  },
  {
   "cell_type": "code",
   "execution_count": 8,
   "id": "unavailable-traffic",
   "metadata": {},
   "outputs": [],
   "source": [
    "#day 2"
   ]
  },
  {
   "cell_type": "code",
   "execution_count": 33,
   "id": "prerequisite-australia",
   "metadata": {},
   "outputs": [],
   "source": [
    "dir_map = {\n",
    "    \"forward\": (0, 1),\n",
    "    \"down\": (-1, 0),\n",
    "    \"up\": (1,0)\n",
    "}\n",
    "lines = [x.strip() for x in open('day02.txt').readlines()]\n"
   ]
  },
  {
   "cell_type": "code",
   "execution_count": 34,
   "id": "magnetic-fever",
   "metadata": {},
   "outputs": [
    {
     "data": {
      "text/plain": [
       "(-777, 1878)"
      ]
     },
     "execution_count": 34,
     "metadata": {},
     "output_type": "execute_result"
    }
   ],
   "source": [
    "cur_loc = (0,0)\n",
    "for elem in lines:\n",
    "    elem = elem.split()\n",
    "    my_dir = dir_map[elem[0]]\n",
    "    my_num = int(elem[1])\n",
    "    \n",
    "    cur_loc = cur_loc[0] + my_dir[0]*my_num, cur_loc[1] + my_dir[1]*my_num\n",
    "cur_loc"
   ]
  },
  {
   "cell_type": "code",
   "execution_count": 35,
   "id": "irish-guyana",
   "metadata": {},
   "outputs": [
    {
     "data": {
      "text/plain": [
       "1459206"
      ]
     },
     "execution_count": 35,
     "metadata": {},
     "output_type": "execute_result"
    }
   ],
   "source": [
    "abs(cur_loc[0]) * abs(cur_loc[1])"
   ]
  },
  {
   "cell_type": "code",
   "execution_count": 36,
   "id": "indie-child",
   "metadata": {},
   "outputs": [
    {
     "data": {
      "text/plain": [
       "(-703160, 1878, 777)"
      ]
     },
     "execution_count": 36,
     "metadata": {},
     "output_type": "execute_result"
    }
   ],
   "source": [
    "# depth, horizontal, aim\n",
    "dir_map = {\n",
    "    \"forward\": (0, 1, 0),\n",
    "    \"down\": (0, 0, 1),\n",
    "    \"up\": (0,0, -1)\n",
    "}\n",
    "cur_loc = (0,0,0)\n",
    "for elem in lines:\n",
    "    elem = elem.split()\n",
    "    my_dir = dir_map[elem[0]]\n",
    "    my_num = int(elem[1])\n",
    "    \n",
    "    cur_loc = cur_loc[0] + my_dir[0]*my_num, cur_loc[1] + my_dir[1]*my_num, cur_loc[2] + my_dir[2]*my_num\n",
    "    if elem[0] == 'forward':\n",
    "        v = cur_loc[0] - cur_loc[2] * my_num\n",
    "        cur_loc = (v, cur_loc[1], cur_loc[2])\n",
    "cur_loc"
   ]
  },
  {
   "cell_type": "code",
   "execution_count": 37,
   "id": "competent-cable",
   "metadata": {},
   "outputs": [
    {
     "data": {
      "text/plain": [
       "1320534480"
      ]
     },
     "execution_count": 37,
     "metadata": {},
     "output_type": "execute_result"
    }
   ],
   "source": [
    "abs(cur_loc[1]) * abs(cur_loc[0])"
   ]
  },
  {
   "cell_type": "code",
   "execution_count": 38,
   "id": "norman-persian",
   "metadata": {},
   "outputs": [],
   "source": [
    "# day 3"
   ]
  },
  {
   "cell_type": "code",
   "execution_count": 39,
   "id": "collected-diagnosis",
   "metadata": {},
   "outputs": [],
   "source": [
    "lines = [x.strip() for x in open('day03.txt').readlines()]"
   ]
  },
  {
   "cell_type": "code",
   "execution_count": 40,
   "id": "ethical-maintenance",
   "metadata": {},
   "outputs": [],
   "source": [
    "def binaryToDecimal(binary):\n",
    "     \n",
    "    binary1 = binary\n",
    "    decimal, i, n = 0, 0, 0\n",
    "    while(binary != 0):\n",
    "        dec = binary % 10\n",
    "        decimal = decimal + dec * pow(2, i)\n",
    "        binary = binary//10\n",
    "        i += 1\n",
    "    print(decimal)   "
   ]
  },
  {
   "cell_type": "code",
   "execution_count": 41,
   "id": "uniform-fusion",
   "metadata": {},
   "outputs": [],
   "source": [
    "is_1_at_index = []\n",
    "for index in range(len(lines[0])):\n",
    "    count1 = 0\n",
    "    for elem in lines:\n",
    "        if elem[index] == '1':\n",
    "            count1 += 1\n",
    "    if count1 > len(lines)/2:\n",
    "        is_1_at_index.append(True)\n",
    "    else:\n",
    "        is_1_at_index.append(False)"
   ]
  },
  {
   "cell_type": "code",
   "execution_count": 43,
   "id": "tribal-latino",
   "metadata": {},
   "outputs": [
    {
     "data": {
      "text/plain": [
       "[True, False, False, True, True, False, True, True, False, True, False, False]"
      ]
     },
     "execution_count": 43,
     "metadata": {},
     "output_type": "execute_result"
    }
   ],
   "source": [
    "is_1_at_index"
   ]
  },
  {
   "cell_type": "code",
   "execution_count": 49,
   "id": "wireless-guess",
   "metadata": {},
   "outputs": [],
   "source": [
    "gamma = [int(x) for x in is_1_at_index]\n",
    "gamma = \"\".join([str(x) for x in gamma])\n",
    "gamma = int(gamma, base=2)"
   ]
  },
  {
   "cell_type": "code",
   "execution_count": 50,
   "id": "portable-digit",
   "metadata": {},
   "outputs": [
    {
     "data": {
      "text/plain": [
       "2484"
      ]
     },
     "execution_count": 50,
     "metadata": {},
     "output_type": "execute_result"
    }
   ],
   "source": [
    "gamma"
   ]
  },
  {
   "cell_type": "code",
   "execution_count": 54,
   "id": "casual-contractor",
   "metadata": {},
   "outputs": [],
   "source": [
    "epsilon = [int(not x) for x in is_1_at_index]\n",
    "epsilon = \"\".join([str(x) for x in epsilon])\n",
    "epsilon = int(epsilon, base=2)"
   ]
  },
  {
   "cell_type": "code",
   "execution_count": 55,
   "id": "greek-nursing",
   "metadata": {},
   "outputs": [
    {
     "data": {
      "text/plain": [
       "1611"
      ]
     },
     "execution_count": 55,
     "metadata": {},
     "output_type": "execute_result"
    }
   ],
   "source": [
    "epsilon"
   ]
  },
  {
   "cell_type": "code",
   "execution_count": 56,
   "id": "aerial-container",
   "metadata": {},
   "outputs": [
    {
     "data": {
      "text/plain": [
       "4001724"
      ]
     },
     "execution_count": 56,
     "metadata": {},
     "output_type": "execute_result"
    }
   ],
   "source": [
    "epsilon * gamma"
   ]
  },
  {
   "cell_type": "code",
   "execution_count": 69,
   "id": "lucky-discount",
   "metadata": {},
   "outputs": [],
   "source": [
    "def count_1s(l, index):\n",
    "    count = 0\n",
    "    for elem in l:\n",
    "        if elem[index] == '1':\n",
    "            count += 1\n",
    "    return count\n",
    "\n",
    "def filter_lines(l, index, v):\n",
    "    retval = []\n",
    "    for elem in l:\n",
    "        if elem[index] == v:\n",
    "            retval.append(elem)\n",
    "    return retval\n",
    "\n",
    "def find_oxygen_rating():\n",
    "    my_lines = list(lines)\n",
    "    index = 0\n",
    "    while len(my_lines) > 1:\n",
    "        print(len(my_lines))\n",
    "        num_1s = count_1s(my_lines, index)\n",
    "        if num_1s >= len(my_lines) / 2:\n",
    "            my_lines = filter_lines(my_lines, index, '1')\n",
    "        else:\n",
    "            my_lines = filter_lines(my_lines, index, '0')\n",
    "        index += 1\n",
    "    return my_lines[0]\n",
    "\n",
    "def find_co2_rating():\n",
    "    my_lines = list(lines)\n",
    "    index = 0\n",
    "    while len(my_lines) > 1:\n",
    "        num_1s = count_1s(my_lines, index)\n",
    "        num_0s = len(my_lines) - num_1s\n",
    "        if num_0s <= num_1s:\n",
    "            my_lines = filter_lines(my_lines, index, '0')\n",
    "        else:\n",
    "            my_lines = filter_lines(my_lines, index, '1')\n",
    "        index += 1\n",
    "    return my_lines[0]"
   ]
  },
  {
   "cell_type": "code",
   "execution_count": 70,
   "id": "worthy-hughes",
   "metadata": {},
   "outputs": [
    {
     "name": "stdout",
     "output_type": "stream",
     "text": [
      "1000\n",
      "528\n",
      "281\n",
      "143\n",
      "74\n",
      "38\n",
      "20\n",
      "10\n",
      "5\n",
      "4\n",
      "3\n",
      "2\n"
     ]
    },
    {
     "data": {
      "text/plain": [
       "587895"
      ]
     },
     "execution_count": 70,
     "metadata": {},
     "output_type": "execute_result"
    }
   ],
   "source": [
    "int(find_oxygen_rating(), base=2) * int(find_co2_rating(), base=2)"
   ]
  },
  {
   "cell_type": "code",
   "execution_count": 15,
   "id": "under-slave",
   "metadata": {},
   "outputs": [],
   "source": [
    "# Day 4"
   ]
  },
  {
   "cell_type": "code",
   "execution_count": 16,
   "id": "dramatic-second",
   "metadata": {},
   "outputs": [],
   "source": [
    "lines = open(\"day04.txt\").readlines()"
   ]
  },
  {
   "cell_type": "code",
   "execution_count": 17,
   "id": "simple-cisco",
   "metadata": {},
   "outputs": [],
   "source": [
    "order = [int(x) for x in lines[0].split(',')]"
   ]
  },
  {
   "cell_type": "code",
   "execution_count": 18,
   "id": "monetary-submission",
   "metadata": {},
   "outputs": [],
   "source": [
    "lines = lines[2:]"
   ]
  },
  {
   "cell_type": "code",
   "execution_count": 19,
   "id": "respiratory-verse",
   "metadata": {},
   "outputs": [],
   "source": [
    "lines = [x.strip() for x in lines]"
   ]
  },
  {
   "cell_type": "code",
   "execution_count": 24,
   "id": "yellow-thomas",
   "metadata": {},
   "outputs": [],
   "source": [
    "boards = []\n",
    "index = 0\n",
    "while index < len(lines):\n",
    "    board = []\n",
    "    for i in range(5):\n",
    "        row = [int(x) for x in lines[i+index].split()]\n",
    "        board.append(row)\n",
    "    index += 6\n",
    "    boards.append(board)"
   ]
  },
  {
   "cell_type": "code",
   "execution_count": 26,
   "id": "representative-convergence",
   "metadata": {},
   "outputs": [],
   "source": [
    "def is_winner(used, board):\n",
    "    \n",
    "    for i in range(len(board)):\n",
    "        retval = []\n",
    "        for j in range(len(board)):\n",
    "            retval.append(board[i][j] in used)\n",
    "        if sum(retval) == len(board):\n",
    "            return True\n",
    "    \n",
    "    for i in range(len(board)):\n",
    "        retval = []\n",
    "        for j in range(len(board)):\n",
    "            retval.append(board[j][i] in used)\n",
    "        if sum(retval) == len(board):\n",
    "            return True\n",
    "    return False\n"
   ]
  },
  {
   "cell_type": "code",
   "execution_count": 29,
   "id": "liable-repair",
   "metadata": {},
   "outputs": [],
   "source": [
    "def score_board(used, board, last):\n",
    "    total = 0\n",
    "    for i in range(len(board)):\n",
    "        for j in range(len(board[0])):\n",
    "            if board[i][j] not in used:\n",
    "                total += board[i][j]\n",
    "    return total * last\n",
    "            "
   ]
  },
  {
   "cell_type": "code",
   "execution_count": 51,
   "id": "young-consultation",
   "metadata": {},
   "outputs": [
    {
     "name": "stdout",
     "output_type": "stream",
     "text": [
      "[[96, 94, 98, 27, 56], [64, 83, 46, 30, 5], [3, 43, 70, 67, 21], [62, 0, 92, 1, 65], [36, 26, 35, 61, 76]]\n",
      "45031\n"
     ]
    }
   ],
   "source": [
    "is_done = False\n",
    "for size in range(1, len(order)):\n",
    "    used = set(order[:size])\n",
    "    for b in boards:\n",
    "        if is_winner(used, b):\n",
    "            print(board)\n",
    "            print(score_board(used, b, order[size-1]))\n",
    "            is_done = True\n",
    "            break\n",
    "    if is_done:\n",
    "        break"
   ]
  },
  {
   "cell_type": "code",
   "execution_count": 31,
   "id": "civil-adapter",
   "metadata": {},
   "outputs": [],
   "source": [
    "# part 2"
   ]
  },
  {
   "cell_type": "code",
   "execution_count": 56,
   "id": "tamil-behavior",
   "metadata": {},
   "outputs": [
    {
     "name": "stdout",
     "output_type": "stream",
     "text": [
      "2568\n"
     ]
    }
   ],
   "source": [
    "winners = [False] * len(boards)\n",
    "is_done = False\n",
    "last_won = -1\n",
    "for size in range(1, len(order)):\n",
    "    used = set(order[:size])\n",
    "    for i, b in enumerate(boards):\n",
    "        if is_winner(used, b):\n",
    "            winners[i] = True\n",
    "            if sum(winners) == len(winners) and last_won==-1:\n",
    "                last_won = i\n",
    "    if last_won != -1:\n",
    "        #print(last_won)\n",
    "        print(score_board(used, boards[last_won], order[size-1]))\n",
    "        is_done = True\n",
    "    if is_done:\n",
    "        break"
   ]
  },
  {
   "cell_type": "code",
   "execution_count": 38,
   "id": "connected-warning",
   "metadata": {},
   "outputs": [],
   "source": [
    "# Day 5"
   ]
  },
  {
   "cell_type": "code",
   "execution_count": 57,
   "id": "exposed-spanish",
   "metadata": {},
   "outputs": [],
   "source": [
    "import re"
   ]
  },
  {
   "cell_type": "code",
   "execution_count": 60,
   "id": "behind-barbados",
   "metadata": {},
   "outputs": [],
   "source": [
    "lines = [x.strip() for x in open('day05.txt').readlines()]"
   ]
  },
  {
   "cell_type": "code",
   "execution_count": 101,
   "id": "arctic-cooperation",
   "metadata": {},
   "outputs": [],
   "source": [
    "def sign(x):\n",
    "    if x > 0:\n",
    "        return 1\n",
    "    if x < 0:\n",
    "        return -1\n",
    "    raise ValueError()"
   ]
  },
  {
   "cell_type": "code",
   "execution_count": 113,
   "id": "indirect-timber",
   "metadata": {},
   "outputs": [],
   "source": [
    "class Point(object):\n",
    "    def __init__(self, x1, y1, x2, y2):\n",
    "        self.x1 = int(x1)\n",
    "        self.y1 = int(y1)\n",
    "        self.x2 = int(x2)\n",
    "        self.y2 = int(y2)\n",
    "        \n",
    "    def is_horizontal_or_vertical(self):\n",
    "        return self.x1 == self.x2 or self.y1 == self.y2\n",
    "    \n",
    "    def get_tuples_on_line(self):\n",
    "        x1, x2, y1, y2 = self.x1, self.x2, self.y1, self.y2\n",
    "        retval = []\n",
    "        if x1 == x2:\n",
    "            start, end = min([y1, y2]), max([y1, y2])\n",
    "            for v in range(start, end+1):\n",
    "                retval.append((x1, v))\n",
    "            return retval \n",
    "        if y1 == y2:\n",
    "            start, end = min([x1, x2]), max([x1, x2])\n",
    "            for v in range(start, end+1):\n",
    "                retval.append((v, y1))\n",
    "            return retval \n",
    "        delta1 = abs(x1 - x2)\n",
    "        delta2 = abs(y1 - y2)\n",
    "        if delta1 != delta2:\n",
    "            raise ValueError()\n",
    "        \n",
    "        curx, cury = x1, y1\n",
    "        deltax = sign(x2-x1)\n",
    "        deltay = sign(y2-y1)\n",
    "        retval = []\n",
    "        while curx != x2 and cury != y2:\n",
    "            retval.append((curx, cury))\n",
    "            curx += deltax\n",
    "            cury += deltay\n",
    "        retval.append((curx, cury))\n",
    "        return retval"
   ]
  },
  {
   "cell_type": "code",
   "execution_count": 114,
   "id": "excessive-hungary",
   "metadata": {},
   "outputs": [],
   "source": [
    "def parse_points(lines):\n",
    "    retval = []\n",
    "    for l in lines:\n",
    "        m = re.match(r\"(\\d+),(\\d+) -> (\\d+),(\\d+)$\", l)\n",
    "        p = Point(*m.groups())\n",
    "        retval.append(p)\n",
    "    return retval"
   ]
  },
  {
   "cell_type": "code",
   "execution_count": 115,
   "id": "younger-joseph",
   "metadata": {},
   "outputs": [],
   "source": [
    "points = parse_points(lines)\n",
    "points = [x for x in points if x.is_horizontal_or_vertical()]"
   ]
  },
  {
   "cell_type": "code",
   "execution_count": 116,
   "id": "functional-cisco",
   "metadata": {},
   "outputs": [],
   "source": [
    "grid = {}\n",
    "for p in points:\n",
    "    along_line = p.get_tuples_on_line()\n",
    "    for elem in along_line:\n",
    "        if elem not in grid:\n",
    "            grid[elem] = 0\n",
    "        grid[elem] += 1\n",
    "    "
   ]
  },
  {
   "cell_type": "code",
   "execution_count": 117,
   "id": "selected-instruction",
   "metadata": {},
   "outputs": [
    {
     "data": {
      "text/plain": [
       "6548"
      ]
     },
     "execution_count": 117,
     "metadata": {},
     "output_type": "execute_result"
    }
   ],
   "source": [
    "total = 0\n",
    "for k, v in grid.items():\n",
    "    if v >= 2:\n",
    "        total += 1\n",
    "total"
   ]
  },
  {
   "cell_type": "code",
   "execution_count": 118,
   "id": "textile-bread",
   "metadata": {},
   "outputs": [],
   "source": [
    "# Part 2"
   ]
  },
  {
   "cell_type": "code",
   "execution_count": 119,
   "id": "working-graduation",
   "metadata": {},
   "outputs": [
    {
     "data": {
      "text/plain": [
       "19663"
      ]
     },
     "execution_count": 119,
     "metadata": {},
     "output_type": "execute_result"
    }
   ],
   "source": [
    "points = parse_points(lines)\n",
    "grid = {}\n",
    "for p in points:\n",
    "    along_line = p.get_tuples_on_line()\n",
    "    for elem in along_line:\n",
    "        if elem not in grid:\n",
    "            grid[elem] = 0\n",
    "        grid[elem] += 1\n",
    "total = 0\n",
    "for k, v in grid.items():\n",
    "    if v >= 2:\n",
    "        total += 1\n",
    "total"
   ]
  },
  {
   "cell_type": "code",
   "execution_count": 120,
   "id": "integral-entity",
   "metadata": {},
   "outputs": [],
   "source": [
    "# Day 6"
   ]
  },
  {
   "cell_type": "code",
   "execution_count": 149,
   "id": "confused-recruitment",
   "metadata": {},
   "outputs": [],
   "source": [
    "fish = [x.strip().split(',') for x in open('day06.txt').readlines()][0]\n",
    "fish = [int(x) for x in fish]"
   ]
  },
  {
   "cell_type": "code",
   "execution_count": 135,
   "id": "removable-temperature",
   "metadata": {},
   "outputs": [],
   "source": [
    "def next_number(n):\n",
    "    if n == 0:\n",
    "        return 6, 8\n",
    "    return n-1, None\n",
    "    "
   ]
  },
  {
   "cell_type": "code",
   "execution_count": 136,
   "id": "accurate-planning",
   "metadata": {},
   "outputs": [],
   "source": [
    "def run_day(fish):\n",
    "    retval = []\n",
    "    for elem in fish:\n",
    "        f1, f2 = next_number(elem)\n",
    "        retval.append(f1)\n",
    "        if f2 is not None:\n",
    "            retval.append(f2)\n",
    "    return retval"
   ]
  },
  {
   "cell_type": "code",
   "execution_count": 137,
   "id": "provincial-bernard",
   "metadata": {},
   "outputs": [],
   "source": [
    "next_fish = fish\n",
    "for i in range(80):\n",
    "    next_fish = run_day(next_fish)"
   ]
  },
  {
   "cell_type": "code",
   "execution_count": 138,
   "id": "settled-queensland",
   "metadata": {},
   "outputs": [
    {
     "data": {
      "text/plain": [
       "351092"
      ]
     },
     "execution_count": 138,
     "metadata": {},
     "output_type": "execute_result"
    }
   ],
   "source": [
    "len(next_fish)"
   ]
  },
  {
   "cell_type": "code",
   "execution_count": 139,
   "id": "confident-energy",
   "metadata": {},
   "outputs": [],
   "source": [
    "# Part 2"
   ]
  },
  {
   "cell_type": "code",
   "execution_count": 142,
   "id": "institutional-medicaid",
   "metadata": {},
   "outputs": [],
   "source": [
    "# Simulate 1 fish at each index and then just add them up\n",
    "# Probably a smarter way to do this with modulu and DP of something (index, days_left) but this should work"
   ]
  },
  {
   "cell_type": "code",
   "execution_count": 155,
   "id": "blocked-green",
   "metadata": {},
   "outputs": [
    {
     "name": "stdout",
     "output_type": "stream",
     "text": [
      "1\n",
      "2\n",
      "3\n",
      "4\n",
      "5\n"
     ]
    }
   ],
   "source": [
    "def run_day_map(fish):\n",
    "    retval = {}\n",
    "    for i in range(9):\n",
    "        retval[i] = 0\n",
    "    for k, v in fish.items():\n",
    "        if k == 0:\n",
    "            retval[6] += v\n",
    "            retval[8] += v\n",
    "        else:\n",
    "            retval[k-1] += v\n",
    "    return retval \n",
    "\n",
    "\n",
    "fish = [x.strip().split(',') for x in open('day06.txt').readlines()][0]\n",
    "fish = [int(x) for x in fish]\n",
    "memoize = {}\n",
    "for my_index in set(fish):\n",
    "    print(my_index)\n",
    "    my_fish = {\n",
    "        my_index: 1\n",
    "    }\n",
    "    for i in range(256):\n",
    "        my_fish = run_day_map(my_fish)\n",
    "    total_fish = sum([x for x in my_fish.values()])\n",
    "    memoize[my_index] = total_fish"
   ]
  },
  {
   "cell_type": "code",
   "execution_count": 156,
   "id": "respective-anxiety",
   "metadata": {},
   "outputs": [
    {
     "data": {
      "text/plain": [
       "{1: 6206821033, 2: 5617089148, 3: 5217223242, 4: 4726100874, 5: 4368232009}"
      ]
     },
     "execution_count": 156,
     "metadata": {},
     "output_type": "execute_result"
    }
   ],
   "source": [
    "memoize"
   ]
  },
  {
   "cell_type": "code",
   "execution_count": 157,
   "id": "familiar-azerbaijan",
   "metadata": {},
   "outputs": [
    {
     "data": {
      "text/plain": [
       "1595330616005"
      ]
     },
     "execution_count": 157,
     "metadata": {},
     "output_type": "execute_result"
    }
   ],
   "source": [
    "total = 0\n",
    "for elem in fish:\n",
    "    total += memoize[elem]\n",
    "total"
   ]
  },
  {
   "cell_type": "code",
   "execution_count": 158,
   "id": "affiliated-florida",
   "metadata": {},
   "outputs": [],
   "source": [
    "# Day 07"
   ]
  },
  {
   "cell_type": "code",
   "execution_count": 159,
   "id": "described-aberdeen",
   "metadata": {},
   "outputs": [],
   "source": [
    "crabs = [int(x) for x in open('day07.txt').read().split(',')]"
   ]
  },
  {
   "cell_type": "code",
   "execution_count": 176,
   "id": "parliamentary-classification",
   "metadata": {},
   "outputs": [],
   "source": [
    "# Probably a closed form solution to this but i can do a gradient based minimization"
   ]
  },
  {
   "cell_type": "code",
   "execution_count": 162,
   "id": "sunrise-avenue",
   "metadata": {},
   "outputs": [],
   "source": [
    "def get_cost(v):\n",
    "    total = 0\n",
    "    for elem in crabs:\n",
    "        total += abs(elem - v)\n",
    "    return total"
   ]
  },
  {
   "cell_type": "code",
   "execution_count": 164,
   "id": "burning-child",
   "metadata": {},
   "outputs": [],
   "source": [
    "low_v, high_v = min(crabs), max(crabs)"
   ]
  },
  {
   "cell_type": "code",
   "execution_count": 177,
   "id": "athletic-underwear",
   "metadata": {},
   "outputs": [],
   "source": [
    "# JK it is so small don't even have to do a gradient based minimization"
   ]
  },
  {
   "cell_type": "code",
   "execution_count": 166,
   "id": "christian-dairy",
   "metadata": {},
   "outputs": [],
   "source": [
    "costs = [get_cost(x) for x in range(low_v, high_v)]"
   ]
  },
  {
   "cell_type": "code",
   "execution_count": 167,
   "id": "widespread-dependence",
   "metadata": {},
   "outputs": [
    {
     "data": {
      "text/plain": [
       "331067"
      ]
     },
     "execution_count": 167,
     "metadata": {},
     "output_type": "execute_result"
    }
   ],
   "source": [
    "min(costs)    "
   ]
  },
  {
   "cell_type": "code",
   "execution_count": 168,
   "id": "innocent-operator",
   "metadata": {},
   "outputs": [],
   "source": [
    "# Day 2"
   ]
  },
  {
   "cell_type": "code",
   "execution_count": 169,
   "id": "rubber-partition",
   "metadata": {},
   "outputs": [],
   "source": [
    "cost_lookup = [0, 1]"
   ]
  },
  {
   "cell_type": "code",
   "execution_count": 170,
   "id": "tracked-credit",
   "metadata": {},
   "outputs": [],
   "source": [
    "for i in range(high_v+1):\n",
    "    v = len(cost_lookup) + cost_lookup[-1]\n",
    "    cost_lookup.append(v)"
   ]
  },
  {
   "cell_type": "code",
   "execution_count": 172,
   "id": "interracial-sister",
   "metadata": {},
   "outputs": [],
   "source": [
    "def get_cost2(v):\n",
    "    total = 0\n",
    "    for elem in crabs:\n",
    "        distance = abs(elem - v)\n",
    "        total += cost_lookup[distance]\n",
    "    return total"
   ]
  },
  {
   "cell_type": "code",
   "execution_count": 173,
   "id": "remarkable-warner",
   "metadata": {},
   "outputs": [
    {
     "data": {
      "text/plain": [
       "92881128"
      ]
     },
     "execution_count": 173,
     "metadata": {},
     "output_type": "execute_result"
    }
   ],
   "source": [
    "costs = [get_cost2(x) for x in range(low_v, high_v)]\n",
    "min(costs)"
   ]
  },
  {
   "cell_type": "code",
   "execution_count": 175,
   "id": "gentle-feelings",
   "metadata": {},
   "outputs": [],
   "source": [
    "# giggles see if I can do a gradient based minimization"
   ]
  },
  {
   "cell_type": "code",
   "execution_count": 180,
   "id": "still-spectrum",
   "metadata": {},
   "outputs": [
    {
     "name": "stdout",
     "output_type": "stream",
     "text": [
      "331067\n"
     ]
    }
   ],
   "source": [
    "from scipy.optimize import minimize\n",
    "\n",
    "possible_values = list(range(low_v, high_v+1))\n",
    "guess = (low_v + high_v)/2\n",
    "\n",
    "retval = minimize(get_cost, (guess,))\n",
    "int_min = min([get_cost(int(retval.x)), get_cost(int(retval.x))])\n",
    "print(int_min)"
   ]
  },
  {
   "cell_type": "code",
   "execution_count": 214,
   "id": "lasting-bermuda",
   "metadata": {},
   "outputs": [
    {
     "name": "stdout",
     "output_type": "stream",
     "text": [
      "92881128\n"
     ]
    }
   ],
   "source": [
    "# Need a smooth cost function to minimize\n",
    "def get_cost3(v):\n",
    "    total = 0\n",
    "    for elem in crabs:\n",
    "        distance = abs(elem - v)\n",
    "        c1 = cost_lookup[int(distance)]\n",
    "        c2 = cost_lookup[int(distance)+1]\n",
    "        # scale c1 -> c2 based on how much remainder there is\n",
    "        \n",
    "        diff = c2 - c1\n",
    "        remainder = distance - int(distance)\n",
    "        total += cost_lookup[int(distance)] + remainder*diff\n",
    "    return total\n",
    "\n",
    "retval = minimize(get_cost3, (guess,), bounds=[(low_v, high_v)])\n",
    "int_min = min([get_cost3(int(retval.x)), get_cost3(int(retval.x))])\n",
    "print(int_min)"
   ]
  },
  {
   "cell_type": "code",
   "execution_count": 215,
   "id": "satisfactory-speed",
   "metadata": {},
   "outputs": [],
   "source": [
    "# Day 8\n",
    "# I don't really understand what is happening but maybe I will while working"
   ]
  },
  {
   "cell_type": "code",
   "execution_count": 334,
   "id": "attempted-genre",
   "metadata": {},
   "outputs": [],
   "source": [
    "lines = open('day08.txt').readlines()\n",
    "lines = [x.strip() for x in lines]\n",
    "lines = [x.split('|') for x in lines]"
   ]
  },
  {
   "cell_type": "code",
   "execution_count": 335,
   "id": "varied-tactics",
   "metadata": {},
   "outputs": [],
   "source": [
    "for i in range(len(lines)):\n",
    "    lines[i][1] = lines[i][1].strip().split()\n",
    "for i in range(len(lines)):\n",
    "    lines[i][0] = lines[i][0].strip().split()\n",
    "    "
   ]
  },
  {
   "cell_type": "code",
   "execution_count": 336,
   "id": "convertible-philadelphia",
   "metadata": {},
   "outputs": [],
   "source": [
    "# 1, 4, 7, and 8 \n",
    "# 2, 4, 3, and 7 # The number of letters in each"
   ]
  },
  {
   "cell_type": "code",
   "execution_count": 337,
   "id": "human-framework",
   "metadata": {},
   "outputs": [
    {
     "data": {
      "text/plain": [
       "514"
      ]
     },
     "execution_count": 337,
     "metadata": {},
     "output_type": "execute_result"
    }
   ],
   "source": [
    "count = 0\n",
    "good_lenths = set([2,4,3,7])\n",
    "for p1, p2 in lines:\n",
    "    for elem in p2:\n",
    "        if len(elem) in good_lenths:\n",
    "            count += 1\n",
    "count"
   ]
  },
  {
   "cell_type": "code",
   "execution_count": 338,
   "id": "living-newton",
   "metadata": {},
   "outputs": [],
   "source": [
    "# part 2 actually finding the mapping\n",
    "# 7! number of options I think I can just try them all and see which are valid?\n",
    "size_map = {\n",
    "    2: set(['c', 'f']),\n",
    "    4: set(['b', 'c', 'd', 'f']),\n",
    "    3: set(['a', 'c', 'f'])\n",
    "}\n",
    "\n",
    "number_lookup = {\n",
    "    \"abcefg\": 0,\n",
    "    \"cf\": 1,\n",
    "    \"acdeg\": 2,\n",
    "    \"acdfg\": 3,\n",
    "    \"bcdf\": 4,\n",
    "    \"abdfg\": 5,\n",
    "    \"abdefg\": 6,\n",
    "    \"acf\": 7,\n",
    "    \"abcdefg\": 8,\n",
    "    \"abcdfg\": 9\n",
    "}\n",
    "\n",
    "import numpy as np\n",
    "\n",
    "def check_mapping(lookup, numbers):\n",
    "    sizes_to_check = set(size_map.keys())\n",
    "    for elem in numbers:\n",
    "        new_letters = [lookup[x] for x in elem]\n",
    "        check_key = \"\".join(sorted(new_letters))\n",
    "        if check_key not in number_lookup.keys():\n",
    "            #print(check_key, elem)\n",
    "            return False\n",
    "        if len(elem) not in sizes_to_check:\n",
    "            continue\n",
    "        all_match = [x in size_map[len(elem)] for x in new_letters]\n",
    "        if not np.all(all_match):\n",
    "            #print('here2')\n",
    "            return False\n",
    "    return True"
   ]
  },
  {
   "cell_type": "code",
   "execution_count": 339,
   "id": "alpine-evening",
   "metadata": {},
   "outputs": [],
   "source": [
    "from itertools import permutations\n",
    "possible_mappings = list(permutations(list('abcdefg')))\n"
   ]
  },
  {
   "cell_type": "code",
   "execution_count": 340,
   "id": "shaped-toronto",
   "metadata": {},
   "outputs": [],
   "source": [
    "def get_number(original, lookup):\n",
    "    new_letters = [lookup[x] for x in original]\n",
    "    new_letters = \"\".join(sorted(new_letters))\n",
    "    return number_lookup[new_letters]"
   ]
  },
  {
   "cell_type": "code",
   "execution_count": 348,
   "id": "legitimate-functionality",
   "metadata": {},
   "outputs": [],
   "source": [
    "count = 0\n",
    "for line in lines:\n",
    "    is_solved = False\n",
    "    for my_map in possible_mappings:\n",
    "        lookup = {x:y for x, y in zip(\"abcdefg\", my_map)}\n",
    "        full_line = line[0] + line[1]\n",
    "        retval = check_mapping(lookup, full_line)\n",
    "        if retval:\n",
    "            #print(lookup)\n",
    "            total = 0\n",
    "            for elem in line[1]:\n",
    "                total = total * 10\n",
    "                total += int(get_number(elem, lookup))\n",
    "            count += total\n",
    "            is_solved = True\n",
    "            break\n",
    "    if not is_solved:\n",
    "        print(line)"
   ]
  },
  {
   "cell_type": "code",
   "execution_count": 349,
   "id": "experienced-homeless",
   "metadata": {},
   "outputs": [
    {
     "data": {
      "text/plain": [
       "1012272"
      ]
     },
     "execution_count": 349,
     "metadata": {},
     "output_type": "execute_result"
    }
   ],
   "source": [
    "count"
   ]
  },
  {
   "cell_type": "code",
   "execution_count": 350,
   "id": "greenhouse-chancellor",
   "metadata": {},
   "outputs": [],
   "source": [
    "# Day 09"
   ]
  },
  {
   "cell_type": "code",
   "execution_count": 351,
   "id": "severe-birthday",
   "metadata": {},
   "outputs": [],
   "source": [
    "lines = [x.strip() for x in open('day09.txt').readlines()]"
   ]
  },
  {
   "cell_type": "code",
   "execution_count": 354,
   "id": "assigned-distinction",
   "metadata": {},
   "outputs": [],
   "source": [
    "grid = [list(x) for x in lines]\n",
    "g2 = []\n",
    "for row in grid:\n",
    "    row = [int(x) for x in row]\n",
    "    g2.append(row)\n",
    "grid = g2"
   ]
  },
  {
   "cell_type": "code",
   "execution_count": 358,
   "id": "structured-instrumentation",
   "metadata": {},
   "outputs": [],
   "source": [
    "def get_neighbors(r, c, grid):\n",
    "    retval = []\n",
    "    for dr in [-1, 1]:\n",
    "        if 0 <= r + dr < len(grid):\n",
    "            retval.append((r+dr, c))\n",
    "    for dc in [-1, 1]:\n",
    "        if 0 <= c + dc < len(grid[0]):\n",
    "            retval.append((r, c+dc))\n",
    "    return retval\n",
    "\n",
    "risk_level = 0\n",
    "for r in range(len(grid)):\n",
    "    for c in range(len(grid)):\n",
    "        neighbors = get_neighbors(r, c, grid)\n",
    "        my_val = grid[r][c]\n",
    "        all_comps = [grid[i][j] > my_val for i,j in neighbors]\n",
    "        if np.all(all_comps):\n",
    "            risk_level += my_val + 1"
   ]
  },
  {
   "cell_type": "code",
   "execution_count": 359,
   "id": "numeric-camera",
   "metadata": {},
   "outputs": [
    {
     "data": {
      "text/plain": [
       "550"
      ]
     },
     "execution_count": 359,
     "metadata": {},
     "output_type": "execute_result"
    }
   ],
   "source": [
    "risk_level"
   ]
  },
  {
   "cell_type": "code",
   "execution_count": 360,
   "id": "solved-ratio",
   "metadata": {},
   "outputs": [],
   "source": [
    "# Part 2 Simple Flood Fill"
   ]
  },
  {
   "cell_type": "code",
   "execution_count": 362,
   "id": "unknown-producer",
   "metadata": {},
   "outputs": [],
   "source": [
    "basins = []\n",
    "for r in range(len(grid)):\n",
    "    for c in range(len(grid)):\n",
    "        neighbors = get_neighbors(r, c, grid)\n",
    "        my_val = grid[r][c]\n",
    "        all_comps = [grid[i][j] > my_val for i,j in neighbors]\n",
    "        if np.all(all_comps):\n",
    "            basins.append((r,c))"
   ]
  },
  {
   "cell_type": "code",
   "execution_count": 368,
   "id": "collected-baltimore",
   "metadata": {},
   "outputs": [],
   "source": [
    "# We can do a bfs to expand out a basin\n",
    "from collections import deque\n",
    "def bfs(start_point):\n",
    "    used = set()\n",
    "    q = deque([start_point])\n",
    "    while len(q) > 0:\n",
    "        p = q.popleft()\n",
    "        used.add(p)\n",
    "        neighbors = get_neighbors(p[0], p[1], grid)\n",
    "        for new_p in neighbors:\n",
    "            if grid[new_p[0]][new_p[1]] == 9:\n",
    "                continue\n",
    "            if new_p in used:\n",
    "                continue\n",
    "            q.append(new_p)\n",
    "    return len(used)\n",
    "        \n",
    "    "
   ]
  },
  {
   "cell_type": "code",
   "execution_count": 370,
   "id": "invalid-rough",
   "metadata": {},
   "outputs": [],
   "source": [
    "basin_sizes = [bfs(x) for x in basins]"
   ]
  },
  {
   "cell_type": "code",
   "execution_count": 371,
   "id": "settled-return",
   "metadata": {},
   "outputs": [],
   "source": [
    "import pandas as pd"
   ]
  },
  {
   "cell_type": "code",
   "execution_count": 374,
   "id": "comfortable-moderator",
   "metadata": {},
   "outputs": [],
   "source": [
    "df = pd.DataFrame(list(zip(basins, basin_sizes)), columns=['point', 'size'])"
   ]
  },
  {
   "cell_type": "code",
   "execution_count": 378,
   "id": "literary-yeast",
   "metadata": {},
   "outputs": [
    {
     "data": {
      "text/plain": [
       "1100682"
      ]
     },
     "execution_count": 378,
     "metadata": {},
     "output_type": "execute_result"
    }
   ],
   "source": [
    "df = df.sort_values('size', ascending=False)\n",
    "sizes = df['size'].values.tolist()\n",
    "sizes[0] * sizes[1] * sizes[2]"
   ]
  },
  {
   "cell_type": "code",
   "execution_count": 379,
   "id": "incredible-designer",
   "metadata": {},
   "outputs": [],
   "source": [
    "# day 10"
   ]
  },
  {
   "cell_type": "code",
   "execution_count": 381,
   "id": "theoretical-album",
   "metadata": {},
   "outputs": [],
   "source": [
    "from collections import deque\n",
    "lines = [x.strip() for x in open('day10.txt').readlines()]\n"
   ]
  },
  {
   "cell_type": "code",
   "execution_count": 383,
   "id": "contained-arcade",
   "metadata": {},
   "outputs": [
    {
     "data": {
      "text/plain": [
       "\u001b[0;31mDocstring:\u001b[0m Remove and return the rightmost element.\n",
       "\u001b[0;31mType:\u001b[0m      builtin_function_or_method\n"
      ]
     },
     "metadata": {},
     "output_type": "display_data"
    }
   ],
   "source": [
    "c = deque()\n",
    "c.pop?"
   ]
  },
  {
   "cell_type": "code",
   "execution_count": 386,
   "id": "crude-essex",
   "metadata": {},
   "outputs": [],
   "source": [
    "matches = {\n",
    "    \"(\": \")\",\n",
    "    \"<\": \">\",\n",
    "    \"{\": \"}\",\n",
    "    \"[\": \"]\"\n",
    "}\n",
    "score_map = {\n",
    "    \")\": 3,\n",
    "    \"]\": 57,\n",
    "    \"}\": 1197,\n",
    "    \">\": 25137\n",
    "}\n",
    "opens = set(matches.keys())\n",
    "closes = set(matches.values())\n",
    "\n",
    "\n",
    "def score_line(s):\n",
    "    q = deque()\n",
    "    for c in s:\n",
    "        if c in opens:\n",
    "            q.append(c)\n",
    "            continue\n",
    "        if len(q) == 0:\n",
    "            raise ValueError(\"Empty Q for closing\")\n",
    "        last_c = q.pop()\n",
    "        if matches[last_c] != c:\n",
    "            return score_map[c]\n",
    "    return 0\n",
    "            \n",
    "        \n",
    "    "
   ]
  },
  {
   "cell_type": "code",
   "execution_count": 391,
   "id": "provincial-keyboard",
   "metadata": {},
   "outputs": [
    {
     "data": {
      "text/plain": [
       "266301"
      ]
     },
     "execution_count": 391,
     "metadata": {},
     "output_type": "execute_result"
    }
   ],
   "source": [
    "total = 0\n",
    "for l in lines:\n",
    "    total += score_line(l)\n",
    "total"
   ]
  },
  {
   "cell_type": "code",
   "execution_count": 392,
   "id": "spiritual-accommodation",
   "metadata": {},
   "outputs": [],
   "source": [
    "valid_lines = [x for x in lines if score_line(x) == 0]"
   ]
  },
  {
   "cell_type": "code",
   "execution_count": 393,
   "id": "smoking-crash",
   "metadata": {},
   "outputs": [],
   "source": [
    "finish_score_map = {\n",
    "    \"(\": 1,\n",
    "    \"[\": 2,\n",
    "    \"{\": 3,\n",
    "    \"<\": 4\n",
    "}\n",
    "\n",
    "def finish_line(s):\n",
    "    q = deque()\n",
    "    for c in s:\n",
    "        if c in opens:\n",
    "            q.append(c)\n",
    "            continue\n",
    "        if len(q) == 0:\n",
    "            raise ValueError(\"Empty Q for closing\")\n",
    "        last_c = q.pop()\n",
    "        if matches[last_c] != c:\n",
    "            raise ValueError()\n",
    "    # pop them off one at a tie\n",
    "    total = 0\n",
    "    while len(q) > 0:\n",
    "        total *= 5\n",
    "        c = q.pop()\n",
    "        total += finish_score_map[c]\n",
    "    return total\n",
    "            \n",
    "finish_scores = [finish_line(x) for x in valid_lines]"
   ]
  },
  {
   "cell_type": "code",
   "execution_count": 395,
   "id": "cathedral-enclosure",
   "metadata": {},
   "outputs": [
    {
     "data": {
      "text/plain": [
       "3404870164.0"
      ]
     },
     "execution_count": 395,
     "metadata": {},
     "output_type": "execute_result"
    }
   ],
   "source": [
    "import numpy as np\n",
    "finish_scores = sorted(finish_scores)\n",
    "np.median(finish_scores)"
   ]
  },
  {
   "cell_type": "code",
   "execution_count": 396,
   "id": "numerous-founder",
   "metadata": {},
   "outputs": [],
   "source": [
    "# day 11"
   ]
  },
  {
   "cell_type": "code",
   "execution_count": 401,
   "id": "outdoor-count",
   "metadata": {},
   "outputs": [],
   "source": [
    "lines = open('day11.txt').readlines()\n",
    "grid = []\n",
    "for row in lines:\n",
    "    row = [int(x) for x in row.strip()]\n",
    "    grid.append(row)\n",
    "grid = np.array(grid)"
   ]
  },
  {
   "cell_type": "code",
   "execution_count": 429,
   "id": "banned-lesbian",
   "metadata": {},
   "outputs": [],
   "source": [
    "def get_flashing_idx(g):\n",
    "    retval = np.where(g > 9)\n",
    "    return set(zip(retval[0], retval[1]))\n",
    "\n",
    "\n",
    "def flash(p, g):\n",
    "    for dx in [-1, 0, 1]:\n",
    "        for dy in [-1, 0, 1]:\n",
    "            x = p[0] + dx\n",
    "            y = p[1] + dy\n",
    "            if 0 <= x < len(g) and 0 <= y < len(g):\n",
    "                g[x][y] += 1\n",
    "                \n",
    "\n",
    "def run_day(g):\n",
    "    g2 = np.array(g)\n",
    "    g2 += 1\n",
    "    has_flashed = set()\n",
    "    needs_flash = get_flashing_idx(g2)\n",
    "    while has_flashed != needs_flash:\n",
    "        should_flash = needs_flash - has_flashed\n",
    "        for elem in should_flash:\n",
    "            flash(elem, g2)\n",
    "        has_flashed = needs_flash\n",
    "        needs_flash = get_flashing_idx(g2)\n",
    "    for x, y in has_flashed:\n",
    "        g2[x][y] = 0\n",
    "    return g2, len(has_flashed)"
   ]
  },
  {
   "cell_type": "code",
   "execution_count": 430,
   "id": "interim-glory",
   "metadata": {},
   "outputs": [
    {
     "data": {
      "text/plain": [
       "1681"
      ]
     },
     "execution_count": 430,
     "metadata": {},
     "output_type": "execute_result"
    }
   ],
   "source": [
    "n_flashes = 0\n",
    "my_grid = np.array(grid)\n",
    "for day in range(100):\n",
    "    my_grid, new_flashes = run_day(my_grid)\n",
    "    n_flashes += new_flashes\n",
    "n_flashes"
   ]
  },
  {
   "cell_type": "code",
   "execution_count": 433,
   "id": "extra-clark",
   "metadata": {},
   "outputs": [
    {
     "data": {
      "text/plain": [
       "276"
      ]
     },
     "execution_count": 433,
     "metadata": {},
     "output_type": "execute_result"
    }
   ],
   "source": [
    "# day 2\n",
    "n_flashes = 0\n",
    "my_grid = np.array(grid)\n",
    "days = 0\n",
    "while True:\n",
    "    my_grid, new_flashes = run_day(my_grid)\n",
    "    days += 1\n",
    "    if new_flashes == 100:\n",
    "        break\n",
    "days"
   ]
  },
  {
   "cell_type": "code",
   "execution_count": 441,
   "id": "regulated-litigation",
   "metadata": {},
   "outputs": [],
   "source": [
    "mkdir img"
   ]
  },
  {
   "cell_type": "code",
   "execution_count": 449,
   "id": "refined-demographic",
   "metadata": {},
   "outputs": [
    {
     "data": {
      "text/plain": [
       "276"
      ]
     },
     "execution_count": 449,
     "metadata": {},
     "output_type": "execute_result"
    },
    {
     "data": {
      "text/plain": [
       "<Figure size 432x288 with 0 Axes>"
      ]
     },
     "metadata": {},
     "output_type": "display_data"
    }
   ],
   "source": [
    "# Make an aminated gif\n",
    "my_grid = np.array(grid)\n",
    "days = 0\n",
    "while True:\n",
    "    my_grid, new_flashes = run_day(my_grid)\n",
    "    plt.imshow(my_grid, vmin=0, vmax=10)\n",
    "    plt.colorbar()\n",
    "    fname = \"img/day_%03d.png\" % days\n",
    "    plt.title(f\"Day {days}\")\n",
    "    plt.savefig(fname)\n",
    "    plt.cla()\n",
    "    plt.clf()\n",
    "    days += 1\n",
    "    if new_flashes == 100:\n",
    "        break\n",
    "days"
   ]
  },
  {
   "cell_type": "code",
   "execution_count": 444,
   "id": "instrumental-korea",
   "metadata": {},
   "outputs": [
    {
     "data": {
      "text/plain": [
       "'10'"
      ]
     },
     "execution_count": 444,
     "metadata": {},
     "output_type": "execute_result"
    }
   ],
   "source": [
    "\"%02d\" % 10"
   ]
  },
  {
   "cell_type": "code",
   "execution_count": 450,
   "id": "generous-syria",
   "metadata": {},
   "outputs": [],
   "source": [
    "import imageio"
   ]
  },
  {
   "cell_type": "code",
   "execution_count": 451,
   "id": "vocal-barrier",
   "metadata": {},
   "outputs": [],
   "source": [
    "import imageio\n",
    "images = []\n",
    "for day in range(days):\n",
    "    fname = \"img/day_%03d.png\" % day\n",
    "    images.append(imageio.imread(fname))\n",
    "imageio.mimsave('squids.gif', images)"
   ]
  },
  {
   "cell_type": "code",
   "execution_count": 452,
   "id": "offshore-respect",
   "metadata": {},
   "outputs": [],
   "source": [
    "# day 12"
   ]
  },
  {
   "cell_type": "code",
   "execution_count": 453,
   "id": "ideal-addition",
   "metadata": {},
   "outputs": [],
   "source": [
    "lines = open(\"day12.txt\").readlines()\n",
    "lines = [x.strip() for x in lines]"
   ]
  },
  {
   "cell_type": "code",
   "execution_count": 459,
   "id": "communist-basic",
   "metadata": {},
   "outputs": [],
   "source": [
    "graph = {}\n",
    "for line in lines:\n",
    "    p1, p2 = line.split('-')\n",
    "    if p1 not in graph:\n",
    "        graph[p1] = []\n",
    "    if p2 not in graph:\n",
    "        graph[p2] = []\n",
    "    graph[p1].append(p2)\n",
    "    graph[p2].append(p1)"
   ]
  },
  {
   "cell_type": "code",
   "execution_count": 473,
   "id": "conservative-raise",
   "metadata": {},
   "outputs": [],
   "source": [
    "counter = [0]\n",
    "\n",
    "def dfs(path, illegal_moves):\n",
    "    if path[-1] == 'end':\n",
    "        counter[0] += 1\n",
    "        return\n",
    "    if len(path) > 30:\n",
    "        print(path)\n",
    "        raise ValueError()\n",
    "    moves = graph[path[-1]]\n",
    "    for move in moves:\n",
    "        if move in illegal_moves:\n",
    "            continue\n",
    "        path.append(move)\n",
    "        if move.lower() == move:\n",
    "            illegal_moves.add(move)\n",
    "        dfs(path, illegal_moves)\n",
    "        if move in illegal_moves:\n",
    "            illegal_moves.remove(move)\n",
    "        path.pop()\n",
    "\n",
    "from collections import deque\n",
    "illegal_moves = set(['start'])\n",
    "dfs(deque(['start']), illegal_moves)"
   ]
  },
  {
   "cell_type": "code",
   "execution_count": 474,
   "id": "direct-quantum",
   "metadata": {},
   "outputs": [
    {
     "data": {
      "text/plain": [
       "3292"
      ]
     },
     "execution_count": 474,
     "metadata": {},
     "output_type": "execute_result"
    }
   ],
   "source": [
    "counter[0]"
   ]
  },
  {
   "cell_type": "code",
   "execution_count": 475,
   "id": "nominated-industry",
   "metadata": {},
   "outputs": [],
   "source": [
    "# part 2"
   ]
  },
  {
   "cell_type": "code",
   "execution_count": 492,
   "id": "frank-captain",
   "metadata": {},
   "outputs": [],
   "source": [
    "counter = [0]\n",
    "\n",
    "def dfs(path, illegal_moves, double_small):\n",
    "    if path[-1] == 'end':\n",
    "        counter[0] += 1\n",
    "        return\n",
    "    if len(path) > 20:\n",
    "        print(path)\n",
    "        raise ValueError()\n",
    "    moves = graph[path[-1]]\n",
    "    for move in moves:\n",
    "        if move == 'start':\n",
    "            continue\n",
    "        if move in illegal_moves and double_small:\n",
    "            continue\n",
    "            \n",
    "        next_double_small = double_small\n",
    "        next_illegal_moves = set(illegal_moves)\n",
    "        \n",
    "        if move.lower() == move:\n",
    "            if move in illegal_moves:\n",
    "                next_double_small = True\n",
    "            next_illegal_moves.add(move)\n",
    "\n",
    "        path.append(move)\n",
    "        dfs(path, next_illegal_moves, next_double_small)\n",
    "        \n",
    "        path.pop()\n",
    "\n",
    "\n",
    "from collections import deque\n",
    "illegal_moves = set(['start'])\n",
    "dfs(deque(['start']), illegal_moves, False)"
   ]
  },
  {
   "cell_type": "code",
   "execution_count": 493,
   "id": "comprehensive-pipeline",
   "metadata": {},
   "outputs": [
    {
     "data": {
      "text/plain": [
       "[89592]"
      ]
     },
     "execution_count": 493,
     "metadata": {},
     "output_type": "execute_result"
    }
   ],
   "source": [
    "counter"
   ]
  },
  {
   "cell_type": "code",
   "execution_count": 494,
   "id": "satellite-investor",
   "metadata": {},
   "outputs": [],
   "source": [
    "# day 13"
   ]
  },
  {
   "cell_type": "code",
   "execution_count": 547,
   "id": "thick-heavy",
   "metadata": {},
   "outputs": [],
   "source": [
    "lines = [x.strip() for x in open('day13.txt').readlines()]\n",
    "#lines = [x.strip() for x in open('day13.sample.txt').readlines()]"
   ]
  },
  {
   "cell_type": "code",
   "execution_count": 548,
   "id": "loaded-association",
   "metadata": {},
   "outputs": [],
   "source": [
    "point = []\n",
    "idx = 0\n",
    "for row in lines:\n",
    "    if row == \"\":\n",
    "        break\n",
    "    idx += 1\n",
    "point_lines = lines[:idx]\n",
    "fold_lines = lines[idx+1:]"
   ]
  },
  {
   "cell_type": "code",
   "execution_count": 549,
   "id": "threaded-cannon",
   "metadata": {},
   "outputs": [],
   "source": [
    "points = set()\n",
    "for row in point_lines:\n",
    "    row = row.split(',')\n",
    "    points.add((int(row[0]), int(row[1])))"
   ]
  },
  {
   "cell_type": "code",
   "execution_count": 550,
   "id": "billion-martin",
   "metadata": {},
   "outputs": [],
   "source": [
    "fold_instrs = []\n",
    "for row in fold_lines:\n",
    "    m = re.match(\"fold along (.)=(\\d+)$\", row)\n",
    "    fold_instrs.append(list(m.groups()))\n",
    "for i in range(len(fold_instrs)):\n",
    "    fold_instrs[i][1] = int(fold_instrs[i][1])"
   ]
  },
  {
   "cell_type": "code",
   "execution_count": 551,
   "id": "medical-memorabilia",
   "metadata": {},
   "outputs": [],
   "source": [
    "# just do first fold\n",
    "def run_fold(points, fold_instr):\n",
    "    retval = set()\n",
    "    fold_line = fold_instr[1]\n",
    "    fold_dir = fold_instr[0]\n",
    "    for p in points:\n",
    "        if fold_dir == 'x':\n",
    "            if p[0] < fold_line:\n",
    "                retval.add(p)\n",
    "                continue\n",
    "            if p[0] > fold_line:\n",
    "                delta = p[0] - fold_line\n",
    "                new_x = fold_line - delta\n",
    "                retval.add((new_x, p[1]))\n",
    "                continue\n",
    "            if p[0] == fold_line:\n",
    "                print(\"Point on FOld Line Clue Is A Lie\")\n",
    "            raise ValueError()\n",
    "        if fold_dir == 'y':\n",
    "            if p[1] < fold_line:\n",
    "                retval.add(p)\n",
    "                continue\n",
    "            if p[1] > fold_line:\n",
    "                delta = p[1] - fold_line\n",
    "                new_y = fold_line - delta\n",
    "                retval.add((p[0], new_y))\n",
    "                continue\n",
    "            raise ValueError()\n",
    "    return retval\n",
    "        "
   ]
  },
  {
   "cell_type": "code",
   "execution_count": 552,
   "id": "distinguished-indication",
   "metadata": {},
   "outputs": [],
   "source": [
    "f1_points = run_fold(points, fold_instrs[0])"
   ]
  },
  {
   "cell_type": "code",
   "execution_count": 553,
   "id": "sexual-crime",
   "metadata": {},
   "outputs": [
    {
     "data": {
      "text/plain": [
       "(750, 610)"
      ]
     },
     "execution_count": 553,
     "metadata": {},
     "output_type": "execute_result"
    }
   ],
   "source": [
    "len(points), len(f1_points)"
   ]
  },
  {
   "cell_type": "code",
   "execution_count": 554,
   "id": "rolled-punishment",
   "metadata": {},
   "outputs": [],
   "source": [
    "my_points = points\n",
    "for fold_instr in fold_instrs:\n",
    "    my_points = run_fold(my_points, fold_instr)"
   ]
  },
  {
   "cell_type": "code",
   "execution_count": 557,
   "id": "circular-pitch",
   "metadata": {},
   "outputs": [
    {
     "name": "stdout",
     "output_type": "stream",
     "text": [
      "###  #### ####   ## #  # ###  #### ####\n",
      "#  #    # #       # #  # #  # #       #\n",
      "#  #   #  ###     # #### #  # ###    # \n",
      "###   #   #       # #  # ###  #     #  \n",
      "#    #    #    #  # #  # # #  #    #   \n",
      "#    #### #     ##  #  # #  # #    ####\n"
     ]
    }
   ],
   "source": [
    "x_vals = [x[0] for x in my_points]\n",
    "y_vals = [x[1] for x in my_points]\n",
    "min_x, max_x = min(x_vals), max(x_vals)\n",
    "min_y, max_y = min(y_vals), max(y_vals)\n",
    "\n",
    "\n",
    "for r in range(min_y, max_y+1):\n",
    "    row = \"\"\n",
    "    for c in range(min_x, max_x+1):\n",
    "        if (c,r) not in my_points:\n",
    "            row += \" \"\n",
    "        else:\n",
    "            row += \"#\"\n",
    "    print(row)"
   ]
  },
  {
   "cell_type": "code",
   "execution_count": null,
   "id": "damaged-outdoors",
   "metadata": {},
   "outputs": [],
   "source": [
    "#PZFJHRFZ"
   ]
  }
 ],
 "metadata": {
  "kernelspec": {
   "display_name": "Python 3",
   "language": "python",
   "name": "python3"
  },
  "language_info": {
   "codemirror_mode": {
    "name": "ipython",
    "version": 3
   },
   "file_extension": ".py",
   "mimetype": "text/x-python",
   "name": "python",
   "nbconvert_exporter": "python",
   "pygments_lexer": "ipython3",
   "version": "3.9.1"
  }
 },
 "nbformat": 4,
 "nbformat_minor": 5
}
