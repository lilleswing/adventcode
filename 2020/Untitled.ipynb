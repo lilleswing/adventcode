{
 "cells": [
  {
   "cell_type": "markdown",
   "metadata": {},
   "source": [
    "# Day 01"
   ]
  },
  {
   "cell_type": "code",
   "execution_count": 2,
   "metadata": {},
   "outputs": [],
   "source": [
    "import pandas as pd\n",
    "df = pd.read_csv(\"day01.in\", header=None)"
   ]
  },
  {
   "cell_type": "code",
   "execution_count": 4,
   "metadata": {},
   "outputs": [
    {
     "name": "stdout",
     "output_type": "stream",
     "text": [
      "215 1805 388075\n",
      "1805 215 388075\n"
     ]
    }
   ],
   "source": [
    "data = df[0].values.tolist()\n",
    "for e1 in data:\n",
    "    for e2 in data:\n",
    "        if e1 + e2 == 2020:\n",
    "            print(e1, e2, e1*e2)"
   ]
  },
  {
   "cell_type": "markdown",
   "metadata": {},
   "source": [
    "### Day 01 Part 2"
   ]
  },
  {
   "cell_type": "code",
   "execution_count": 5,
   "metadata": {},
   "outputs": [
    {
     "name": "stdout",
     "output_type": "stream",
     "text": [
      "558 823 639 293450526\n",
      "558 639 823 293450526\n",
      "823 558 639 293450526\n",
      "823 639 558 293450526\n",
      "639 558 823 293450526\n",
      "639 823 558 293450526\n"
     ]
    }
   ],
   "source": [
    "for e1 in data:\n",
    "    for e2 in data:\n",
    "        for e3 in data:\n",
    "            if e1 + e2 + e3 == 2020:\n",
    "                print(e1, e2, e3, e1*e2*e3)"
   ]
  },
  {
   "cell_type": "markdown",
   "metadata": {},
   "source": [
    "# Day 02"
   ]
  },
  {
   "cell_type": "code",
   "execution_count": 8,
   "metadata": {},
   "outputs": [],
   "source": [
    "df = pd.read_csv(\"day02.in\", header=None)\n",
    "data = df[0].values.tolist()"
   ]
  },
  {
   "cell_type": "code",
   "execution_count": 10,
   "metadata": {},
   "outputs": [
    {
     "data": {
      "text/plain": [
       "['1-4', 'j:', 'jjjqzmgbjwpj']"
      ]
     },
     "execution_count": 10,
     "metadata": {},
     "output_type": "execute_result"
    }
   ],
   "source": [
    "data[0].split()"
   ]
  },
  {
   "cell_type": "code",
   "execution_count": 16,
   "metadata": {},
   "outputs": [
    {
     "data": {
      "text/plain": [
       "418"
      ]
     },
     "execution_count": 16,
     "metadata": {},
     "output_type": "execute_result"
    }
   ],
   "source": [
    "valids = 0\n",
    "for elem in data:\n",
    "    elem = elem.split()\n",
    "    low, high = elem[0].split('-')\n",
    "    low, high = int(low), int(high)\n",
    "    letter = elem[1][:-1]\n",
    "    occurrences = re.findall(letter, elem[2])\n",
    "    if low <= len(occurrences) <= high:\n",
    "        valids += 1\n",
    "valids"
   ]
  },
  {
   "cell_type": "code",
   "execution_count": 24,
   "metadata": {},
   "outputs": [],
   "source": [
    "## Day 02 Part 2"
   ]
  },
  {
   "cell_type": "code",
   "execution_count": 25,
   "metadata": {},
   "outputs": [
    {
     "data": {
      "text/plain": [
       "616"
      ]
     },
     "execution_count": 25,
     "metadata": {},
     "output_type": "execute_result"
    }
   ],
   "source": [
    "valids = 0\n",
    "for elem in data:\n",
    "    elem = elem.split()\n",
    "    low, high = elem[0].split('-')\n",
    "    low, high = int(low)-1, int(high)-1\n",
    "    letter = elem[1][:-1]\n",
    "    \n",
    "    l1 = elem[2][low] == letter\n",
    "    l2 = elem[2][high] == letter\n",
    "    if l1 + l2 == 1:\n",
    "        valids += 1\n",
    "valids"
   ]
  },
  {
   "cell_type": "markdown",
   "metadata": {},
   "source": [
    "# Day 03"
   ]
  },
  {
   "cell_type": "code",
   "execution_count": 32,
   "metadata": {},
   "outputs": [],
   "source": [
    "lines = [x.strip() for x in open(\"day03.in\").readlines()]"
   ]
  },
  {
   "cell_type": "code",
   "execution_count": 36,
   "metadata": {},
   "outputs": [
    {
     "data": {
      "text/plain": [
       "299"
      ]
     },
     "execution_count": 36,
     "metadata": {},
     "output_type": "execute_result"
    }
   ],
   "source": [
    "x, y  = 0, 0\n",
    "dx, dy = 3, 1\n",
    "total = 0\n",
    "while True:\n",
    "    x += dx\n",
    "    x = x % len(lines[0])\n",
    "    y += dy\n",
    "    if y >= len(lines):\n",
    "        break\n",
    "    if lines[y][x] == '#':\n",
    "        total += 1\n",
    "total"
   ]
  },
  {
   "cell_type": "code",
   "execution_count": 38,
   "metadata": {},
   "outputs": [
    {
     "name": "stdout",
     "output_type": "stream",
     "text": [
      "[67, 299, 67, 71, 38]\n",
      "3621285278\n"
     ]
    }
   ],
   "source": [
    "def solve_it(dx, dy):\n",
    "    x, y  = 0, 0\n",
    "    total = 0\n",
    "    while True:\n",
    "        x += dx\n",
    "        x = x % len(lines[0])\n",
    "        y += dy\n",
    "        if y >= len(lines):\n",
    "            break\n",
    "        if lines[y][x] == '#':\n",
    "            total += 1\n",
    "    return total\n",
    "\n",
    "slopes = [\n",
    "    (1, 1),\n",
    "    (3, 1),\n",
    "    (5, 1),\n",
    "    (7, 1),\n",
    "    (1, 2),\n",
    "]\n",
    "trees_hit = []\n",
    "for dx, dy in slopes:\n",
    "    hits = solve_it(dx, dy)\n",
    "    trees_hit.append(hits)\n",
    "print(trees_hit)\n",
    "accum = 1\n",
    "for elem in trees_hit:\n",
    "    accum *= elem\n",
    "print(accum)"
   ]
  },
  {
   "cell_type": "markdown",
   "metadata": {},
   "source": [
    "# Day 04"
   ]
  },
  {
   "cell_type": "code",
   "execution_count": 62,
   "metadata": {},
   "outputs": [],
   "source": [
    "data = open('day04.in').read()\n",
    "data = data.split('\\n\\n')\n",
    "data = [x.split() for x in data]\n",
    "l = []\n",
    "for elem in data:\n",
    "    d = {}\n",
    "    for e2 in elem:\n",
    "        e2 = e2.split(':')\n",
    "        d[e2[0]] = e2[1]\n",
    "    l.append(d)"
   ]
  },
  {
   "cell_type": "code",
   "execution_count": 63,
   "metadata": {},
   "outputs": [],
   "source": [
    "required_keys = set([\n",
    "    \"byr\",\n",
    "\"iyr\",\n",
    "\"eyr\",\n",
    "\"hgt\",\n",
    "\"hcl\",\n",
    "\"ecl\",\n",
    "\"pid\",\n",
    "#\"cid\"\n",
    "])"
   ]
  },
  {
   "cell_type": "code",
   "execution_count": 64,
   "metadata": {},
   "outputs": [
    {
     "data": {
      "text/plain": [
       "233"
      ]
     },
     "execution_count": 64,
     "metadata": {},
     "output_type": "execute_result"
    }
   ],
   "source": [
    "total = 0\n",
    "for elem in l:\n",
    "    if all([x in elem for x in required_keys]):\n",
    "        total += 1\n",
    "total"
   ]
  },
  {
   "cell_type": "code",
   "execution_count": 65,
   "metadata": {},
   "outputs": [],
   "source": [
    "import re"
   ]
  },
  {
   "cell_type": "code",
   "execution_count": 78,
   "metadata": {},
   "outputs": [],
   "source": [
    "def validate_byr(x):\n",
    "    try:\n",
    "        x = int(x)\n",
    "        if 1920 <= x <= 2002:\n",
    "            return True\n",
    "    except:\n",
    "        pass\n",
    "    return False\n",
    "\n",
    "def validate_iyr(x):\n",
    "    try:\n",
    "        x = int(x)\n",
    "        if 2010 <= x <= 2020:\n",
    "            return True\n",
    "    except:\n",
    "        pass\n",
    "    return False\n",
    "\n",
    "def validate_eyr(x):\n",
    "    try:\n",
    "        x = int(x)\n",
    "        if 2020 <= x <= 2030:\n",
    "            return True\n",
    "    except:\n",
    "        pass\n",
    "    return False\n",
    "\n",
    "def validate_hgt(x):\n",
    "    try:\n",
    "        g =re.match(r\"(\\d+)cm\", x).group(1)\n",
    "        h = int(g)\n",
    "        if 150 <= h <= 193:\n",
    "            return True\n",
    "        else:\n",
    "            return False\n",
    "    except:\n",
    "        pass\n",
    "    \n",
    "    try:\n",
    "        g =re.match(r\"(\\d+)in\", x).group(1)\n",
    "        h = int(g)\n",
    "        if 59 <= h <= 76:\n",
    "            return True\n",
    "        else:\n",
    "            return False\n",
    "    except:\n",
    "        pass\n",
    "    return False\n",
    "\n",
    "def validate_hcl(x):\n",
    "    try:\n",
    "        g = re.match(r\"#[0123456789abcdef]{6}\", x).groups()\n",
    "        if g is not None:\n",
    "            return True\n",
    "    except:\n",
    "        pass\n",
    "    return False\n",
    "\n",
    "def validate_ecl(x):\n",
    "    if x in ['amb', 'blu', 'brn', 'gry', 'grn', 'hzl', 'oth']:\n",
    "        return True\n",
    "    return False\n",
    "\n",
    "def validate_pid(x):\n",
    "    try:\n",
    "        g = re.match(r\"[0123456789]\\d{8}\", x)\n",
    "        if g is not None:\n",
    "            return True\n",
    "    except:\n",
    "        pass\n",
    "    return False\n",
    "\n",
    "\n",
    "required_keys = {\n",
    "    \"byr\":validate_byr,\n",
    "\"iyr\":validate_iyr,\n",
    "\"eyr\":validate_eyr,\n",
    "\"hgt\": validate_hgt,\n",
    "\"hcl\": validate_hcl,\n",
    "\"ecl\": validate_ecl,\n",
    "\"pid\": validate_pid,\n",
    "#\"cid\"\n",
    "}"
   ]
  },
  {
   "cell_type": "code",
   "execution_count": 86,
   "metadata": {},
   "outputs": [
    {
     "name": "stdout",
     "output_type": "stream",
     "text": [
      "pid #63f479\n",
      "pid #c68245\n",
      "pid 52551410\n",
      "pid 177cm\n",
      "pid 6245137\n",
      "pid 170cm\n",
      "pid #d08e64\n",
      "pid #68d3ab\n",
      "pid 169cm\n",
      "pid 177cm\n",
      "pid #967cbc\n",
      "pid 39349843\n",
      "pid 157cm\n",
      "pid 39436322\n",
      "pid #7515a7\n"
     ]
    },
    {
     "data": {
      "text/plain": [
       "112"
      ]
     },
     "execution_count": 86,
     "metadata": {},
     "output_type": "execute_result"
    }
   ],
   "source": [
    "total = 0\n",
    "for elem in l:\n",
    "    is_valid = True\n",
    "    if not all([x in elem for x in required_keys]):\n",
    "        is_valid = False\n",
    "    for k, v in elem.items():\n",
    "        if k == 'cid':\n",
    "            continue\n",
    "        if not required_keys[k](v):\n",
    "            if k == 'pid':\n",
    "                print(k, v)\n",
    "            is_valid = False\n",
    "            break\n",
    "    if is_valid:\n",
    "        total += 1\n",
    "total"
   ]
  },
  {
   "cell_type": "markdown",
   "metadata": {},
   "source": [
    "# Day 05"
   ]
  },
  {
   "cell_type": "code",
   "execution_count": 88,
   "metadata": {},
   "outputs": [],
   "source": [
    "lines = open('day05.in').readlines()\n",
    "lines = [x.strip() for x in lines]"
   ]
  },
  {
   "cell_type": "code",
   "execution_count": 127,
   "metadata": {},
   "outputs": [],
   "source": [
    "import math\n",
    "def get_row(s):\n",
    "    l, h = 0, 127\n",
    "    for c in s:\n",
    "        new_range = math.floor((h-l)/2)\n",
    "        if c == 'B':\n",
    "            l = h - new_range\n",
    "        if c == 'F':\n",
    "            h = l + new_range\n",
    "    if l != h:\n",
    "        raise Exception()\n",
    "    return l\n",
    "\n",
    "def get_col(s):\n",
    "    l, h = 0, 7\n",
    "    for c in s:\n",
    "        new_range = math.floor((h-l)/2)\n",
    "        if c == 'R':\n",
    "            l = h - new_range\n",
    "        if c == 'L':\n",
    "            h = l + new_range\n",
    "    if l != h:\n",
    "        raise Exception()\n",
    "    return l"
   ]
  },
  {
   "cell_type": "code",
   "execution_count": 128,
   "metadata": {},
   "outputs": [],
   "source": [
    "def get_seat_id(s):\n",
    "    row = get_row(s)\n",
    "    col = get_col(s)\n",
    "    return row * 8 + col"
   ]
  },
  {
   "cell_type": "code",
   "execution_count": 129,
   "metadata": {},
   "outputs": [
    {
     "data": {
      "text/plain": [
       "871"
      ]
     },
     "execution_count": 129,
     "metadata": {},
     "output_type": "execute_result"
    }
   ],
   "source": [
    "max([get_seat_id(x) for x in lines])"
   ]
  },
  {
   "cell_type": "code",
   "execution_count": 140,
   "metadata": {},
   "outputs": [],
   "source": [
    "board = []\n",
    "for r in range(110):\n",
    "    board.append(['_'] * 8)\n",
    "    "
   ]
  },
  {
   "cell_type": "code",
   "execution_count": 141,
   "metadata": {},
   "outputs": [
    {
     "name": "stdout",
     "output_type": "stream",
     "text": [
      "0 0\n",
      "0 1\n",
      "0 2\n",
      "0 3\n",
      "0 4\n",
      "0 5\n",
      "0 6\n",
      "0 7\n",
      "1 0\n",
      "1 1\n",
      "1 2\n",
      "1 3\n",
      "80 0\n",
      "109 0\n",
      "109 1\n",
      "109 2\n",
      "109 3\n",
      "109 4\n",
      "109 5\n",
      "109 6\n",
      "109 7\n"
     ]
    }
   ],
   "source": [
    "for s in lines:\n",
    "    row = get_row(s)\n",
    "    col = get_col(s)\n",
    "    board[row][col] = 'x'\n",
    "for r in range(len(board)):\n",
    "    for c in range(len(board[0])):\n",
    "        if board[r][c] == '_':\n",
    "            print(r,c)"
   ]
  },
  {
   "cell_type": "code",
   "execution_count": 142,
   "metadata": {},
   "outputs": [
    {
     "data": {
      "text/plain": [
       "640"
      ]
     },
     "execution_count": 142,
     "metadata": {},
     "output_type": "execute_result"
    }
   ],
   "source": [
    "80*8"
   ]
  },
  {
   "cell_type": "markdown",
   "metadata": {},
   "source": [
    "# Day 06"
   ]
  },
  {
   "cell_type": "code",
   "execution_count": 143,
   "metadata": {},
   "outputs": [],
   "source": [
    "data = open('day06.in').read()\n",
    "data = data.split('\\n\\n')\n",
    "data = [x.split() for x in data]"
   ]
  },
  {
   "cell_type": "code",
   "execution_count": 147,
   "metadata": {},
   "outputs": [
    {
     "data": {
      "text/plain": [
       "6504"
      ]
     },
     "execution_count": 147,
     "metadata": {},
     "output_type": "execute_result"
    }
   ],
   "source": [
    "total = 0\n",
    "for elem in data:\n",
    "    answers = set()\n",
    "    for person in elem:\n",
    "        answers.update(list(person))\n",
    "    total += len(answers)\n",
    "total"
   ]
  },
  {
   "cell_type": "code",
   "execution_count": 149,
   "metadata": {},
   "outputs": [],
   "source": [
    "from collections import Counter"
   ]
  },
  {
   "cell_type": "code",
   "execution_count": 150,
   "metadata": {},
   "outputs": [
    {
     "data": {
      "text/plain": [
       "Counter({'a': 1, 'b': 1, 'c': 1})"
      ]
     },
     "execution_count": 150,
     "metadata": {},
     "output_type": "execute_result"
    }
   ],
   "source": [
    "c = Counter()\n",
    "c.update(list(\"abc\"))\n",
    "c"
   ]
  },
  {
   "cell_type": "code",
   "execution_count": 151,
   "metadata": {},
   "outputs": [
    {
     "data": {
      "text/plain": [
       "dict_items([('a', 1), ('b', 1), ('c', 1)])"
      ]
     },
     "execution_count": 151,
     "metadata": {},
     "output_type": "execute_result"
    }
   ],
   "source": [
    "c.items()"
   ]
  },
  {
   "cell_type": "code",
   "execution_count": 154,
   "metadata": {},
   "outputs": [
    {
     "data": {
      "text/plain": [
       "3351"
      ]
     },
     "execution_count": 154,
     "metadata": {},
     "output_type": "execute_result"
    }
   ],
   "source": [
    "total = 0\n",
    "for elem in data:\n",
    "    answers = Counter()\n",
    "    for person in elem:\n",
    "        answers.update(list(person))\n",
    "    alls = len([x for x in answers.values() if x==len(elem)])\n",
    "    total += alls\n",
    "total"
   ]
  },
  {
   "cell_type": "markdown",
   "metadata": {},
   "source": [
    "# Day 07"
   ]
  },
  {
   "cell_type": "code",
   "execution_count": 274,
   "metadata": {},
   "outputs": [],
   "source": [
    "data = open('day07.in').readlines()\n",
    "data = [x.strip() for x in data]"
   ]
  },
  {
   "cell_type": "code",
   "execution_count": 275,
   "metadata": {},
   "outputs": [],
   "source": [
    "import networkx as nx\n",
    "import re\n",
    "g = nx.DiGraph()\n",
    "def parse_row(s):\n",
    "    s = s.split(' bags contain ')\n",
    "    root_node = s[0]\n",
    "    if s[1] == 'no other bags.':\n",
    "        return\n",
    "    else:\n",
    "        for e in s[1].split(','):\n",
    "            e = e.split()\n",
    "            w = int(e[0])\n",
    "            n = e[1] + ' ' + e[2]\n",
    "            g.add_edge(root_node, n, weight=w)\n",
    "for row in data:\n",
    "    parse_row(row)"
   ]
  },
  {
   "cell_type": "code",
   "execution_count": 276,
   "metadata": {},
   "outputs": [],
   "source": [
    "revg = g.reverse()"
   ]
  },
  {
   "cell_type": "code",
   "execution_count": 277,
   "metadata": {},
   "outputs": [
    {
     "data": {
      "text/plain": [
       "222"
      ]
     },
     "execution_count": 277,
     "metadata": {},
     "output_type": "execute_result"
    }
   ],
   "source": [
    "len(nx.descendants(revg, 'shiny gold'))"
   ]
  },
  {
   "cell_type": "code",
   "execution_count": 278,
   "metadata": {},
   "outputs": [
    {
     "data": {
      "text/plain": [
       "13264"
      ]
     },
     "execution_count": 278,
     "metadata": {},
     "output_type": "execute_result"
    }
   ],
   "source": [
    "memoize = {}\n",
    "\n",
    "def get_weight(key):\n",
    "    if key in memoize:\n",
    "        return memoize[key]\n",
    "    total_sub_bags = 1\n",
    "    for node in list(g[key]):\n",
    "        sub_bags = get_weight(node)\n",
    "        sub_bags *= g[key][node]['weight']\n",
    "        total_sub_bags += sub_bags\n",
    "    memoize[key] = total_sub_bags\n",
    "    return total_sub_bags\n",
    "get_weight('shiny gold') - 1 # remove the gold bag itself\n",
    "        "
   ]
  },
  {
   "cell_type": "markdown",
   "metadata": {},
   "source": [
    "# Day08"
   ]
  },
  {
   "cell_type": "code",
   "execution_count": 41,
   "metadata": {},
   "outputs": [],
   "source": [
    "class Gameboy(object):\n",
    "    def __init__(self, program):\n",
    "        self.program = program\n",
    "        self.index = 0\n",
    "        self.acc = 0\n",
    "        self.used_idx = set()\n",
    "        self.last_idx = None\n",
    "        \n",
    "    def step(self):\n",
    "        line = self.program[self.index]\n",
    "        instr, num = line.split()\n",
    "        self.used_idx.add(self.index)\n",
    "        self.last_idx = self.index\n",
    "        if instr == 'jmp':\n",
    "            self.index += int(num)\n",
    "            return\n",
    "        if instr == 'nop':\n",
    "            self.index += 1\n",
    "            return\n",
    "        if instr == 'acc':\n",
    "            self.acc += int(num)\n",
    "            self.index += 1\n",
    "            return \n",
    "    \n",
    "    def is_done(self):\n",
    "        if self.index in self.used_idx:\n",
    "            return True\n",
    "        if self.index >= len(self.program):\n",
    "            return True\n",
    "        return False\n",
    "    \n",
    "    def run_to_completion(self):\n",
    "        while not self.is_done():\n",
    "            self.step()\n",
    "        return self.acc\n",
    "    \n",
    "    def is_correct_completion(self):\n",
    "        return self.last_idx == len(self.program) - 1"
   ]
  },
  {
   "cell_type": "code",
   "execution_count": 49,
   "metadata": {},
   "outputs": [],
   "source": [
    "data = [x.strip() for x in open('day08.in').readlines()]\n",
    "gb = Gameboy(data)"
   ]
  },
  {
   "cell_type": "code",
   "execution_count": 50,
   "metadata": {},
   "outputs": [
    {
     "data": {
      "text/plain": [
       "1217"
      ]
     },
     "execution_count": 50,
     "metadata": {},
     "output_type": "execute_result"
    }
   ],
   "source": [
    "gb.run_to_completion()"
   ]
  },
  {
   "cell_type": "code",
   "execution_count": 51,
   "metadata": {},
   "outputs": [
    {
     "name": "stdout",
     "output_type": "stream",
     "text": [
      "501\n"
     ]
    }
   ],
   "source": [
    "import copy\n",
    "for i in range(len(data)):\n",
    "    my_line = data[i]\n",
    "    if 'acc' in my_line:\n",
    "        continue\n",
    "    my_data = copy.deepcopy(data)\n",
    "    if 'nop' in my_line:\n",
    "        my_line = my_line.replace('nop', 'jmp')\n",
    "    elif 'jmp' in my_line:\n",
    "        my_line = my_line.replace('jmp', 'nop')\n",
    "    my_data[i] = my_line\n",
    "    gb = Gameboy(my_data)\n",
    "    gb.run_to_completion()\n",
    "    if gb.is_correct_completion():\n",
    "        print(gb.acc)\n",
    "        \n",
    "        "
   ]
  },
  {
   "cell_type": "code",
   "execution_count": 52,
   "metadata": {},
   "outputs": [
    {
     "data": {
      "text/plain": [
       "1217"
      ]
     },
     "execution_count": 52,
     "metadata": {},
     "output_type": "execute_result"
    }
   ],
   "source": [
    "gb = Gameboy(data)\n",
    "gb.run_to_completion()"
   ]
  },
  {
   "cell_type": "code",
   "execution_count": 40,
   "metadata": {},
   "outputs": [
    {
     "data": {
      "text/plain": [
       "['nop +0',\n",
       " 'acc +1',\n",
       " 'jmp +4',\n",
       " 'acc +3',\n",
       " 'jmp -3',\n",
       " 'acc -99',\n",
       " 'acc +1',\n",
       " 'nop -4',\n",
       " 'acc +6']"
      ]
     },
     "execution_count": 40,
     "metadata": {},
     "output_type": "execute_result"
    }
   ],
   "source": [
    "data"
   ]
  },
  {
   "cell_type": "code",
   "execution_count": 53,
   "metadata": {},
   "outputs": [],
   "source": [
    "# Day 09"
   ]
  },
  {
   "cell_type": "code",
   "execution_count": 54,
   "metadata": {},
   "outputs": [],
   "source": [
    "data = [int(x) for x in open('day09.in').readlines()]"
   ]
  },
  {
   "cell_type": "code",
   "execution_count": 56,
   "metadata": {},
   "outputs": [
    {
     "name": "stdout",
     "output_type": "stream",
     "text": [
      "26134589\n"
     ]
    }
   ],
   "source": [
    "def is_subset_sum(l, n):\n",
    "    for i in range(len(l)):\n",
    "        for j in range(i+1, len(l)):\n",
    "            if l[i] + l[j] == n:\n",
    "                return True\n",
    "    return False\n",
    "\n",
    "\n",
    "for i in range(25, len(data)):\n",
    "    before = data[i-25:i]\n",
    "    if not is_subset_sum(before, data[i]):\n",
    "        print(data[i])"
   ]
  },
  {
   "cell_type": "code",
   "execution_count": 58,
   "metadata": {},
   "outputs": [
    {
     "name": "stdout",
     "output_type": "stream",
     "text": [
      "1000\n"
     ]
    }
   ],
   "source": [
    "print(len(data)) # n^2 alg is fine"
   ]
  },
  {
   "cell_type": "code",
   "execution_count": 61,
   "metadata": {},
   "outputs": [
    {
     "name": "stdout",
     "output_type": "stream",
     "text": [
      "3535124\n"
     ]
    }
   ],
   "source": [
    "def has_match(data, i, target):\n",
    "    total = 0\n",
    "    init_i = i\n",
    "    while total < target:\n",
    "        total += data[i]\n",
    "        i += 1\n",
    "    if total == target:\n",
    "        my_range = data[init_i: i]\n",
    "        return True, max(my_range) + min(my_range)\n",
    "    return False, None\n",
    "    \n",
    "\n",
    "for i in range(len(data)):\n",
    "    is_match, answer = has_match(data, i, 26134589)\n",
    "    if is_match:\n",
    "        print(answer)\n",
    "        break\n",
    "        "
   ]
  },
  {
   "cell_type": "code",
   "execution_count": null,
   "metadata": {},
   "outputs": [],
   "source": []
  }
 ],
 "metadata": {
  "kernelspec": {
   "display_name": "Python 3",
   "language": "python",
   "name": "python3"
  },
  "language_info": {
   "codemirror_mode": {
    "name": "ipython",
    "version": 3
   },
   "file_extension": ".py",
   "mimetype": "text/x-python",
   "name": "python",
   "nbconvert_exporter": "python",
   "pygments_lexer": "ipython3",
   "version": "3.6.10"
  }
 },
 "nbformat": 4,
 "nbformat_minor": 4
}
