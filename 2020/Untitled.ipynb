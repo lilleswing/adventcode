{
 "cells": [
  {
   "cell_type": "markdown",
   "metadata": {},
   "source": [
    "# Day 01"
   ]
  },
  {
   "cell_type": "code",
   "execution_count": 2,
   "metadata": {},
   "outputs": [],
   "source": [
    "import pandas as pd\n",
    "df = pd.read_csv(\"day01.in\", header=None)"
   ]
  },
  {
   "cell_type": "code",
   "execution_count": 4,
   "metadata": {},
   "outputs": [
    {
     "name": "stdout",
     "output_type": "stream",
     "text": [
      "215 1805 388075\n",
      "1805 215 388075\n"
     ]
    }
   ],
   "source": [
    "data = df[0].values.tolist()\n",
    "for e1 in data:\n",
    "    for e2 in data:\n",
    "        if e1 + e2 == 2020:\n",
    "            print(e1, e2, e1*e2)"
   ]
  },
  {
   "cell_type": "markdown",
   "metadata": {},
   "source": [
    "### Day 01 Part 2"
   ]
  },
  {
   "cell_type": "code",
   "execution_count": 5,
   "metadata": {},
   "outputs": [
    {
     "name": "stdout",
     "output_type": "stream",
     "text": [
      "558 823 639 293450526\n",
      "558 639 823 293450526\n",
      "823 558 639 293450526\n",
      "823 639 558 293450526\n",
      "639 558 823 293450526\n",
      "639 823 558 293450526\n"
     ]
    }
   ],
   "source": [
    "for e1 in data:\n",
    "    for e2 in data:\n",
    "        for e3 in data:\n",
    "            if e1 + e2 + e3 == 2020:\n",
    "                print(e1, e2, e3, e1*e2*e3)"
   ]
  },
  {
   "cell_type": "markdown",
   "metadata": {},
   "source": [
    "# Day 02"
   ]
  },
  {
   "cell_type": "code",
   "execution_count": 8,
   "metadata": {},
   "outputs": [],
   "source": [
    "df = pd.read_csv(\"day02.in\", header=None)\n",
    "data = df[0].values.tolist()"
   ]
  },
  {
   "cell_type": "code",
   "execution_count": 10,
   "metadata": {},
   "outputs": [
    {
     "data": {
      "text/plain": [
       "['1-4', 'j:', 'jjjqzmgbjwpj']"
      ]
     },
     "execution_count": 10,
     "metadata": {},
     "output_type": "execute_result"
    }
   ],
   "source": [
    "data[0].split()"
   ]
  },
  {
   "cell_type": "code",
   "execution_count": 16,
   "metadata": {},
   "outputs": [
    {
     "data": {
      "text/plain": [
       "418"
      ]
     },
     "execution_count": 16,
     "metadata": {},
     "output_type": "execute_result"
    }
   ],
   "source": [
    "valids = 0\n",
    "for elem in data:\n",
    "    elem = elem.split()\n",
    "    low, high = elem[0].split('-')\n",
    "    low, high = int(low), int(high)\n",
    "    letter = elem[1][:-1]\n",
    "    occurrences = re.findall(letter, elem[2])\n",
    "    if low <= len(occurrences) <= high:\n",
    "        valids += 1\n",
    "valids"
   ]
  },
  {
   "cell_type": "code",
   "execution_count": 24,
   "metadata": {},
   "outputs": [],
   "source": [
    "## Day 02 Part 2"
   ]
  },
  {
   "cell_type": "code",
   "execution_count": 25,
   "metadata": {},
   "outputs": [
    {
     "data": {
      "text/plain": [
       "616"
      ]
     },
     "execution_count": 25,
     "metadata": {},
     "output_type": "execute_result"
    }
   ],
   "source": [
    "valids = 0\n",
    "for elem in data:\n",
    "    elem = elem.split()\n",
    "    low, high = elem[0].split('-')\n",
    "    low, high = int(low)-1, int(high)-1\n",
    "    letter = elem[1][:-1]\n",
    "    \n",
    "    l1 = elem[2][low] == letter\n",
    "    l2 = elem[2][high] == letter\n",
    "    if l1 + l2 == 1:\n",
    "        valids += 1\n",
    "valids"
   ]
  },
  {
   "cell_type": "markdown",
   "metadata": {},
   "source": [
    "# Day 03"
   ]
  },
  {
   "cell_type": "code",
   "execution_count": 32,
   "metadata": {},
   "outputs": [],
   "source": [
    "lines = [x.strip() for x in open(\"day03.in\").readlines()]"
   ]
  },
  {
   "cell_type": "code",
   "execution_count": 36,
   "metadata": {},
   "outputs": [
    {
     "data": {
      "text/plain": [
       "299"
      ]
     },
     "execution_count": 36,
     "metadata": {},
     "output_type": "execute_result"
    }
   ],
   "source": [
    "x, y  = 0, 0\n",
    "dx, dy = 3, 1\n",
    "total = 0\n",
    "while True:\n",
    "    x += dx\n",
    "    x = x % len(lines[0])\n",
    "    y += dy\n",
    "    if y >= len(lines):\n",
    "        break\n",
    "    if lines[y][x] == '#':\n",
    "        total += 1\n",
    "total"
   ]
  },
  {
   "cell_type": "code",
   "execution_count": 38,
   "metadata": {},
   "outputs": [
    {
     "name": "stdout",
     "output_type": "stream",
     "text": [
      "[67, 299, 67, 71, 38]\n",
      "3621285278\n"
     ]
    }
   ],
   "source": [
    "def solve_it(dx, dy):\n",
    "    x, y  = 0, 0\n",
    "    total = 0\n",
    "    while True:\n",
    "        x += dx\n",
    "        x = x % len(lines[0])\n",
    "        y += dy\n",
    "        if y >= len(lines):\n",
    "            break\n",
    "        if lines[y][x] == '#':\n",
    "            total += 1\n",
    "    return total\n",
    "\n",
    "slopes = [\n",
    "    (1, 1),\n",
    "    (3, 1),\n",
    "    (5, 1),\n",
    "    (7, 1),\n",
    "    (1, 2),\n",
    "]\n",
    "trees_hit = []\n",
    "for dx, dy in slopes:\n",
    "    hits = solve_it(dx, dy)\n",
    "    trees_hit.append(hits)\n",
    "print(trees_hit)\n",
    "accum = 1\n",
    "for elem in trees_hit:\n",
    "    accum *= elem\n",
    "print(accum)"
   ]
  },
  {
   "cell_type": "markdown",
   "metadata": {},
   "source": [
    "# Day 04"
   ]
  },
  {
   "cell_type": "code",
   "execution_count": 3,
   "metadata": {},
   "outputs": [],
   "source": [
    "data = open('day04.in').read()"
   ]
  },
  {
   "cell_type": "code",
   "execution_count": 6,
   "metadata": {},
   "outputs": [],
   "source": [
    "data = data.split('\\n\\n')"
   ]
  },
  {
   "cell_type": "code",
   "execution_count": 10,
   "metadata": {},
   "outputs": [],
   "source": [
    "data = [x.split() for x in data]"
   ]
  },
  {
   "cell_type": "code",
   "execution_count": 12,
   "metadata": {},
   "outputs": [],
   "source": [
    "l = []\n",
    "for elem in data:\n",
    "    d = {}\n",
    "    for e2 in elem:\n",
    "        e2 = e2.split(':')\n",
    "        d[e2[0]] = e2[1]\n",
    "    l.append(d)"
   ]
  },
  {
   "cell_type": "code",
   "execution_count": 15,
   "metadata": {},
   "outputs": [],
   "source": [
    "required_keys = set([\n",
    "    \"byr\",\n",
    "\"iyr\",\n",
    "\"eyr\",\n",
    "\"hgt\",\n",
    "\"hcl\",\n",
    "\"ecl\",\n",
    "\"pid\",\n",
    "#\"cid\"\n",
    "])"
   ]
  },
  {
   "cell_type": "code",
   "execution_count": 18,
   "metadata": {},
   "outputs": [
    {
     "data": {
      "text/plain": [
       "233"
      ]
     },
     "execution_count": 18,
     "metadata": {},
     "output_type": "execute_result"
    }
   ],
   "source": [
    "total = 0\n",
    "for elem in l:\n",
    "    if all([x in elem for x in required_keys]):\n",
    "        total += 1\n",
    "total"
   ]
  },
  {
   "cell_type": "code",
   "execution_count": null,
   "metadata": {},
   "outputs": [],
   "source": []
  }
 ],
 "metadata": {
  "kernelspec": {
   "display_name": "Python 3",
   "language": "python",
   "name": "python3"
  },
  "language_info": {
   "codemirror_mode": {
    "name": "ipython",
    "version": 3
   },
   "file_extension": ".py",
   "mimetype": "text/x-python",
   "name": "python",
   "nbconvert_exporter": "python",
   "pygments_lexer": "ipython3",
   "version": "3.6.10"
  }
 },
 "nbformat": 4,
 "nbformat_minor": 4
}
