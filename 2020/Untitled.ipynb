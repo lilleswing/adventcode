{
 "cells": [
  {
   "cell_type": "markdown",
   "metadata": {},
   "source": [
    "# Day 01"
   ]
  },
  {
   "cell_type": "code",
   "execution_count": 2,
   "metadata": {},
   "outputs": [],
   "source": [
    "import pandas as pd\n",
    "df = pd.read_csv(\"day01.in\", header=None)"
   ]
  },
  {
   "cell_type": "code",
   "execution_count": 4,
   "metadata": {},
   "outputs": [
    {
     "name": "stdout",
     "output_type": "stream",
     "text": [
      "215 1805 388075\n",
      "1805 215 388075\n"
     ]
    }
   ],
   "source": [
    "data = df[0].values.tolist()\n",
    "for e1 in data:\n",
    "    for e2 in data:\n",
    "        if e1 + e2 == 2020:\n",
    "            print(e1, e2, e1*e2)"
   ]
  },
  {
   "cell_type": "markdown",
   "metadata": {},
   "source": [
    "### Day 01 Part 2"
   ]
  },
  {
   "cell_type": "code",
   "execution_count": 5,
   "metadata": {},
   "outputs": [
    {
     "name": "stdout",
     "output_type": "stream",
     "text": [
      "558 823 639 293450526\n",
      "558 639 823 293450526\n",
      "823 558 639 293450526\n",
      "823 639 558 293450526\n",
      "639 558 823 293450526\n",
      "639 823 558 293450526\n"
     ]
    }
   ],
   "source": [
    "for e1 in data:\n",
    "    for e2 in data:\n",
    "        for e3 in data:\n",
    "            if e1 + e2 + e3 == 2020:\n",
    "                print(e1, e2, e3, e1*e2*e3)"
   ]
  },
  {
   "cell_type": "markdown",
   "metadata": {},
   "source": [
    "# Day 02"
   ]
  },
  {
   "cell_type": "code",
   "execution_count": 8,
   "metadata": {},
   "outputs": [],
   "source": [
    "df = pd.read_csv(\"day02.in\", header=None)\n",
    "data = df[0].values.tolist()"
   ]
  },
  {
   "cell_type": "code",
   "execution_count": 10,
   "metadata": {},
   "outputs": [
    {
     "data": {
      "text/plain": [
       "['1-4', 'j:', 'jjjqzmgbjwpj']"
      ]
     },
     "execution_count": 10,
     "metadata": {},
     "output_type": "execute_result"
    }
   ],
   "source": [
    "data[0].split()"
   ]
  },
  {
   "cell_type": "code",
   "execution_count": 16,
   "metadata": {},
   "outputs": [
    {
     "data": {
      "text/plain": [
       "418"
      ]
     },
     "execution_count": 16,
     "metadata": {},
     "output_type": "execute_result"
    }
   ],
   "source": [
    "valids = 0\n",
    "for elem in data:\n",
    "    elem = elem.split()\n",
    "    low, high = elem[0].split('-')\n",
    "    low, high = int(low), int(high)\n",
    "    letter = elem[1][:-1]\n",
    "    occurrences = re.findall(letter, elem[2])\n",
    "    if low <= len(occurrences) <= high:\n",
    "        valids += 1\n",
    "valids"
   ]
  },
  {
   "cell_type": "code",
   "execution_count": 24,
   "metadata": {},
   "outputs": [],
   "source": [
    "## Day 02 Part 2"
   ]
  },
  {
   "cell_type": "code",
   "execution_count": 25,
   "metadata": {},
   "outputs": [
    {
     "data": {
      "text/plain": [
       "616"
      ]
     },
     "execution_count": 25,
     "metadata": {},
     "output_type": "execute_result"
    }
   ],
   "source": [
    "valids = 0\n",
    "for elem in data:\n",
    "    elem = elem.split()\n",
    "    low, high = elem[0].split('-')\n",
    "    low, high = int(low)-1, int(high)-1\n",
    "    letter = elem[1][:-1]\n",
    "    \n",
    "    l1 = elem[2][low] == letter\n",
    "    l2 = elem[2][high] == letter\n",
    "    if l1 + l2 == 1:\n",
    "        valids += 1\n",
    "valids"
   ]
  },
  {
   "cell_type": "markdown",
   "metadata": {},
   "source": [
    "# Day 03"
   ]
  },
  {
   "cell_type": "code",
   "execution_count": 32,
   "metadata": {},
   "outputs": [],
   "source": [
    "lines = [x.strip() for x in open(\"day03.in\").readlines()]"
   ]
  },
  {
   "cell_type": "code",
   "execution_count": 36,
   "metadata": {},
   "outputs": [
    {
     "data": {
      "text/plain": [
       "299"
      ]
     },
     "execution_count": 36,
     "metadata": {},
     "output_type": "execute_result"
    }
   ],
   "source": [
    "x, y  = 0, 0\n",
    "dx, dy = 3, 1\n",
    "total = 0\n",
    "while True:\n",
    "    x += dx\n",
    "    x = x % len(lines[0])\n",
    "    y += dy\n",
    "    if y >= len(lines):\n",
    "        break\n",
    "    if lines[y][x] == '#':\n",
    "        total += 1\n",
    "total"
   ]
  },
  {
   "cell_type": "code",
   "execution_count": 38,
   "metadata": {},
   "outputs": [
    {
     "name": "stdout",
     "output_type": "stream",
     "text": [
      "[67, 299, 67, 71, 38]\n",
      "3621285278\n"
     ]
    }
   ],
   "source": [
    "def solve_it(dx, dy):\n",
    "    x, y  = 0, 0\n",
    "    total = 0\n",
    "    while True:\n",
    "        x += dx\n",
    "        x = x % len(lines[0])\n",
    "        y += dy\n",
    "        if y >= len(lines):\n",
    "            break\n",
    "        if lines[y][x] == '#':\n",
    "            total += 1\n",
    "    return total\n",
    "\n",
    "slopes = [\n",
    "    (1, 1),\n",
    "    (3, 1),\n",
    "    (5, 1),\n",
    "    (7, 1),\n",
    "    (1, 2),\n",
    "]\n",
    "trees_hit = []\n",
    "for dx, dy in slopes:\n",
    "    hits = solve_it(dx, dy)\n",
    "    trees_hit.append(hits)\n",
    "print(trees_hit)\n",
    "accum = 1\n",
    "for elem in trees_hit:\n",
    "    accum *= elem\n",
    "print(accum)"
   ]
  },
  {
   "cell_type": "markdown",
   "metadata": {},
   "source": [
    "# Day 04"
   ]
  },
  {
   "cell_type": "code",
   "execution_count": 62,
   "metadata": {},
   "outputs": [],
   "source": [
    "data = open('day04.in').read()\n",
    "data = data.split('\\n\\n')\n",
    "data = [x.split() for x in data]\n",
    "l = []\n",
    "for elem in data:\n",
    "    d = {}\n",
    "    for e2 in elem:\n",
    "        e2 = e2.split(':')\n",
    "        d[e2[0]] = e2[1]\n",
    "    l.append(d)"
   ]
  },
  {
   "cell_type": "code",
   "execution_count": 63,
   "metadata": {},
   "outputs": [],
   "source": [
    "required_keys = set([\n",
    "    \"byr\",\n",
    "\"iyr\",\n",
    "\"eyr\",\n",
    "\"hgt\",\n",
    "\"hcl\",\n",
    "\"ecl\",\n",
    "\"pid\",\n",
    "#\"cid\"\n",
    "])"
   ]
  },
  {
   "cell_type": "code",
   "execution_count": 64,
   "metadata": {},
   "outputs": [
    {
     "data": {
      "text/plain": [
       "233"
      ]
     },
     "execution_count": 64,
     "metadata": {},
     "output_type": "execute_result"
    }
   ],
   "source": [
    "total = 0\n",
    "for elem in l:\n",
    "    if all([x in elem for x in required_keys]):\n",
    "        total += 1\n",
    "total"
   ]
  },
  {
   "cell_type": "code",
   "execution_count": 65,
   "metadata": {},
   "outputs": [],
   "source": [
    "import re"
   ]
  },
  {
   "cell_type": "code",
   "execution_count": 78,
   "metadata": {},
   "outputs": [],
   "source": [
    "def validate_byr(x):\n",
    "    try:\n",
    "        x = int(x)\n",
    "        if 1920 <= x <= 2002:\n",
    "            return True\n",
    "    except:\n",
    "        pass\n",
    "    return False\n",
    "\n",
    "def validate_iyr(x):\n",
    "    try:\n",
    "        x = int(x)\n",
    "        if 2010 <= x <= 2020:\n",
    "            return True\n",
    "    except:\n",
    "        pass\n",
    "    return False\n",
    "\n",
    "def validate_eyr(x):\n",
    "    try:\n",
    "        x = int(x)\n",
    "        if 2020 <= x <= 2030:\n",
    "            return True\n",
    "    except:\n",
    "        pass\n",
    "    return False\n",
    "\n",
    "def validate_hgt(x):\n",
    "    try:\n",
    "        g =re.match(r\"(\\d+)cm\", x).group(1)\n",
    "        h = int(g)\n",
    "        if 150 <= h <= 193:\n",
    "            return True\n",
    "        else:\n",
    "            return False\n",
    "    except:\n",
    "        pass\n",
    "    \n",
    "    try:\n",
    "        g =re.match(r\"(\\d+)in\", x).group(1)\n",
    "        h = int(g)\n",
    "        if 59 <= h <= 76:\n",
    "            return True\n",
    "        else:\n",
    "            return False\n",
    "    except:\n",
    "        pass\n",
    "    return False\n",
    "\n",
    "def validate_hcl(x):\n",
    "    try:\n",
    "        g = re.match(r\"#[0123456789abcdef]{6}\", x).groups()\n",
    "        if g is not None:\n",
    "            return True\n",
    "    except:\n",
    "        pass\n",
    "    return False\n",
    "\n",
    "def validate_ecl(x):\n",
    "    if x in ['amb', 'blu', 'brn', 'gry', 'grn', 'hzl', 'oth']:\n",
    "        return True\n",
    "    return False\n",
    "\n",
    "def validate_pid(x):\n",
    "    try:\n",
    "        g = re.match(r\"[0123456789]\\d{8}\", x)\n",
    "        if g is not None:\n",
    "            return True\n",
    "    except:\n",
    "        pass\n",
    "    return False\n",
    "\n",
    "\n",
    "required_keys = {\n",
    "    \"byr\":validate_byr,\n",
    "\"iyr\":validate_iyr,\n",
    "\"eyr\":validate_eyr,\n",
    "\"hgt\": validate_hgt,\n",
    "\"hcl\": validate_hcl,\n",
    "\"ecl\": validate_ecl,\n",
    "\"pid\": validate_pid,\n",
    "#\"cid\"\n",
    "}"
   ]
  },
  {
   "cell_type": "code",
   "execution_count": 86,
   "metadata": {},
   "outputs": [
    {
     "name": "stdout",
     "output_type": "stream",
     "text": [
      "pid #63f479\n",
      "pid #c68245\n",
      "pid 52551410\n",
      "pid 177cm\n",
      "pid 6245137\n",
      "pid 170cm\n",
      "pid #d08e64\n",
      "pid #68d3ab\n",
      "pid 169cm\n",
      "pid 177cm\n",
      "pid #967cbc\n",
      "pid 39349843\n",
      "pid 157cm\n",
      "pid 39436322\n",
      "pid #7515a7\n"
     ]
    },
    {
     "data": {
      "text/plain": [
       "112"
      ]
     },
     "execution_count": 86,
     "metadata": {},
     "output_type": "execute_result"
    }
   ],
   "source": [
    "total = 0\n",
    "for elem in l:\n",
    "    is_valid = True\n",
    "    if not all([x in elem for x in required_keys]):\n",
    "        is_valid = False\n",
    "    for k, v in elem.items():\n",
    "        if k == 'cid':\n",
    "            continue\n",
    "        if not required_keys[k](v):\n",
    "            if k == 'pid':\n",
    "                print(k, v)\n",
    "            is_valid = False\n",
    "            break\n",
    "    if is_valid:\n",
    "        total += 1\n",
    "total"
   ]
  },
  {
   "cell_type": "markdown",
   "metadata": {},
   "source": [
    "# Day 05"
   ]
  },
  {
   "cell_type": "code",
   "execution_count": 88,
   "metadata": {},
   "outputs": [],
   "source": [
    "lines = open('day05.in').readlines()\n",
    "lines = [x.strip() for x in lines]"
   ]
  },
  {
   "cell_type": "code",
   "execution_count": 127,
   "metadata": {},
   "outputs": [],
   "source": [
    "import math\n",
    "def get_row(s):\n",
    "    l, h = 0, 127\n",
    "    for c in s:\n",
    "        new_range = math.floor((h-l)/2)\n",
    "        if c == 'B':\n",
    "            l = h - new_range\n",
    "        if c == 'F':\n",
    "            h = l + new_range\n",
    "    if l != h:\n",
    "        raise Exception()\n",
    "    return l\n",
    "\n",
    "def get_col(s):\n",
    "    l, h = 0, 7\n",
    "    for c in s:\n",
    "        new_range = math.floor((h-l)/2)\n",
    "        if c == 'R':\n",
    "            l = h - new_range\n",
    "        if c == 'L':\n",
    "            h = l + new_range\n",
    "    if l != h:\n",
    "        raise Exception()\n",
    "    return l"
   ]
  },
  {
   "cell_type": "code",
   "execution_count": 128,
   "metadata": {},
   "outputs": [],
   "source": [
    "def get_seat_id(s):\n",
    "    row = get_row(s)\n",
    "    col = get_col(s)\n",
    "    return row * 8 + col"
   ]
  },
  {
   "cell_type": "code",
   "execution_count": 129,
   "metadata": {},
   "outputs": [
    {
     "data": {
      "text/plain": [
       "871"
      ]
     },
     "execution_count": 129,
     "metadata": {},
     "output_type": "execute_result"
    }
   ],
   "source": [
    "max([get_seat_id(x) for x in lines])"
   ]
  },
  {
   "cell_type": "code",
   "execution_count": 140,
   "metadata": {},
   "outputs": [],
   "source": [
    "board = []\n",
    "for r in range(110):\n",
    "    board.append(['_'] * 8)\n",
    "    "
   ]
  },
  {
   "cell_type": "code",
   "execution_count": 141,
   "metadata": {},
   "outputs": [
    {
     "name": "stdout",
     "output_type": "stream",
     "text": [
      "0 0\n",
      "0 1\n",
      "0 2\n",
      "0 3\n",
      "0 4\n",
      "0 5\n",
      "0 6\n",
      "0 7\n",
      "1 0\n",
      "1 1\n",
      "1 2\n",
      "1 3\n",
      "80 0\n",
      "109 0\n",
      "109 1\n",
      "109 2\n",
      "109 3\n",
      "109 4\n",
      "109 5\n",
      "109 6\n",
      "109 7\n"
     ]
    }
   ],
   "source": [
    "for s in lines:\n",
    "    row = get_row(s)\n",
    "    col = get_col(s)\n",
    "    board[row][col] = 'x'\n",
    "for r in range(len(board)):\n",
    "    for c in range(len(board[0])):\n",
    "        if board[r][c] == '_':\n",
    "            print(r,c)"
   ]
  },
  {
   "cell_type": "code",
   "execution_count": 142,
   "metadata": {},
   "outputs": [
    {
     "data": {
      "text/plain": [
       "640"
      ]
     },
     "execution_count": 142,
     "metadata": {},
     "output_type": "execute_result"
    }
   ],
   "source": [
    "80*8"
   ]
  },
  {
   "cell_type": "markdown",
   "metadata": {},
   "source": [
    "# Day 06"
   ]
  },
  {
   "cell_type": "code",
   "execution_count": 143,
   "metadata": {},
   "outputs": [],
   "source": [
    "data = open('day06.in').read()\n",
    "data = data.split('\\n\\n')\n",
    "data = [x.split() for x in data]"
   ]
  },
  {
   "cell_type": "code",
   "execution_count": 147,
   "metadata": {},
   "outputs": [
    {
     "data": {
      "text/plain": [
       "6504"
      ]
     },
     "execution_count": 147,
     "metadata": {},
     "output_type": "execute_result"
    }
   ],
   "source": [
    "total = 0\n",
    "for elem in data:\n",
    "    answers = set()\n",
    "    for person in elem:\n",
    "        answers.update(list(person))\n",
    "    total += len(answers)\n",
    "total"
   ]
  },
  {
   "cell_type": "code",
   "execution_count": 149,
   "metadata": {},
   "outputs": [],
   "source": [
    "from collections import Counter"
   ]
  },
  {
   "cell_type": "code",
   "execution_count": 150,
   "metadata": {},
   "outputs": [
    {
     "data": {
      "text/plain": [
       "Counter({'a': 1, 'b': 1, 'c': 1})"
      ]
     },
     "execution_count": 150,
     "metadata": {},
     "output_type": "execute_result"
    }
   ],
   "source": [
    "c = Counter()\n",
    "c.update(list(\"abc\"))\n",
    "c"
   ]
  },
  {
   "cell_type": "code",
   "execution_count": 151,
   "metadata": {},
   "outputs": [
    {
     "data": {
      "text/plain": [
       "dict_items([('a', 1), ('b', 1), ('c', 1)])"
      ]
     },
     "execution_count": 151,
     "metadata": {},
     "output_type": "execute_result"
    }
   ],
   "source": [
    "c.items()"
   ]
  },
  {
   "cell_type": "code",
   "execution_count": 154,
   "metadata": {},
   "outputs": [
    {
     "data": {
      "text/plain": [
       "3351"
      ]
     },
     "execution_count": 154,
     "metadata": {},
     "output_type": "execute_result"
    }
   ],
   "source": [
    "total = 0\n",
    "for elem in data:\n",
    "    answers = Counter()\n",
    "    for person in elem:\n",
    "        answers.update(list(person))\n",
    "    alls = len([x for x in answers.values() if x==len(elem)])\n",
    "    total += alls\n",
    "total"
   ]
  },
  {
   "cell_type": "markdown",
   "metadata": {},
   "source": [
    "# Day 07"
   ]
  },
  {
   "cell_type": "code",
   "execution_count": 274,
   "metadata": {},
   "outputs": [],
   "source": [
    "data = open('day07.in').readlines()\n",
    "data = [x.strip() for x in data]"
   ]
  },
  {
   "cell_type": "code",
   "execution_count": 275,
   "metadata": {},
   "outputs": [],
   "source": [
    "import networkx as nx\n",
    "import re\n",
    "g = nx.DiGraph()\n",
    "def parse_row(s):\n",
    "    s = s.split(' bags contain ')\n",
    "    root_node = s[0]\n",
    "    if s[1] == 'no other bags.':\n",
    "        return\n",
    "    else:\n",
    "        for e in s[1].split(','):\n",
    "            e = e.split()\n",
    "            w = int(e[0])\n",
    "            n = e[1] + ' ' + e[2]\n",
    "            g.add_edge(root_node, n, weight=w)\n",
    "for row in data:\n",
    "    parse_row(row)"
   ]
  },
  {
   "cell_type": "code",
   "execution_count": 276,
   "metadata": {},
   "outputs": [],
   "source": [
    "revg = g.reverse()"
   ]
  },
  {
   "cell_type": "code",
   "execution_count": 277,
   "metadata": {},
   "outputs": [
    {
     "data": {
      "text/plain": [
       "222"
      ]
     },
     "execution_count": 277,
     "metadata": {},
     "output_type": "execute_result"
    }
   ],
   "source": [
    "len(nx.descendants(revg, 'shiny gold'))"
   ]
  },
  {
   "cell_type": "code",
   "execution_count": 278,
   "metadata": {},
   "outputs": [
    {
     "data": {
      "text/plain": [
       "13264"
      ]
     },
     "execution_count": 278,
     "metadata": {},
     "output_type": "execute_result"
    }
   ],
   "source": [
    "memoize = {}\n",
    "\n",
    "def get_weight(key):\n",
    "    if key in memoize:\n",
    "        return memoize[key]\n",
    "    total_sub_bags = 1\n",
    "    for node in list(g[key]):\n",
    "        sub_bags = get_weight(node)\n",
    "        sub_bags *= g[key][node]['weight']\n",
    "        total_sub_bags += sub_bags\n",
    "    memoize[key] = total_sub_bags\n",
    "    return total_sub_bags\n",
    "get_weight('shiny gold') - 1 # remove the gold bag itself\n",
    "        "
   ]
  },
  {
   "cell_type": "markdown",
   "metadata": {},
   "source": [
    "# Day08"
   ]
  },
  {
   "cell_type": "code",
   "execution_count": 41,
   "metadata": {},
   "outputs": [],
   "source": [
    "class Gameboy(object):\n",
    "    def __init__(self, program):\n",
    "        self.program = program\n",
    "        self.index = 0\n",
    "        self.acc = 0\n",
    "        self.used_idx = set()\n",
    "        self.last_idx = None\n",
    "        \n",
    "    def step(self):\n",
    "        line = self.program[self.index]\n",
    "        instr, num = line.split()\n",
    "        self.used_idx.add(self.index)\n",
    "        self.last_idx = self.index\n",
    "        if instr == 'jmp':\n",
    "            self.index += int(num)\n",
    "            return\n",
    "        if instr == 'nop':\n",
    "            self.index += 1\n",
    "            return\n",
    "        if instr == 'acc':\n",
    "            self.acc += int(num)\n",
    "            self.index += 1\n",
    "            return \n",
    "    \n",
    "    def is_done(self):\n",
    "        if self.index in self.used_idx:\n",
    "            return True\n",
    "        if self.index >= len(self.program):\n",
    "            return True\n",
    "        return False\n",
    "    \n",
    "    def run_to_completion(self):\n",
    "        while not self.is_done():\n",
    "            self.step()\n",
    "        return self.acc\n",
    "    \n",
    "    def is_correct_completion(self):\n",
    "        return self.last_idx == len(self.program) - 1"
   ]
  },
  {
   "cell_type": "code",
   "execution_count": 49,
   "metadata": {},
   "outputs": [],
   "source": [
    "data = [x.strip() for x in open('day08.in').readlines()]\n",
    "gb = Gameboy(data)"
   ]
  },
  {
   "cell_type": "code",
   "execution_count": 50,
   "metadata": {},
   "outputs": [
    {
     "data": {
      "text/plain": [
       "1217"
      ]
     },
     "execution_count": 50,
     "metadata": {},
     "output_type": "execute_result"
    }
   ],
   "source": [
    "gb.run_to_completion()"
   ]
  },
  {
   "cell_type": "code",
   "execution_count": 51,
   "metadata": {},
   "outputs": [
    {
     "name": "stdout",
     "output_type": "stream",
     "text": [
      "501\n"
     ]
    }
   ],
   "source": [
    "import copy\n",
    "for i in range(len(data)):\n",
    "    my_line = data[i]\n",
    "    if 'acc' in my_line:\n",
    "        continue\n",
    "    my_data = copy.deepcopy(data)\n",
    "    if 'nop' in my_line:\n",
    "        my_line = my_line.replace('nop', 'jmp')\n",
    "    elif 'jmp' in my_line:\n",
    "        my_line = my_line.replace('jmp', 'nop')\n",
    "    my_data[i] = my_line\n",
    "    gb = Gameboy(my_data)\n",
    "    gb.run_to_completion()\n",
    "    if gb.is_correct_completion():\n",
    "        print(gb.acc)\n",
    "        \n",
    "        "
   ]
  },
  {
   "cell_type": "code",
   "execution_count": 52,
   "metadata": {},
   "outputs": [
    {
     "data": {
      "text/plain": [
       "1217"
      ]
     },
     "execution_count": 52,
     "metadata": {},
     "output_type": "execute_result"
    }
   ],
   "source": [
    "gb = Gameboy(data)\n",
    "gb.run_to_completion()"
   ]
  },
  {
   "cell_type": "code",
   "execution_count": 40,
   "metadata": {},
   "outputs": [
    {
     "data": {
      "text/plain": [
       "['nop +0',\n",
       " 'acc +1',\n",
       " 'jmp +4',\n",
       " 'acc +3',\n",
       " 'jmp -3',\n",
       " 'acc -99',\n",
       " 'acc +1',\n",
       " 'nop -4',\n",
       " 'acc +6']"
      ]
     },
     "execution_count": 40,
     "metadata": {},
     "output_type": "execute_result"
    }
   ],
   "source": [
    "data"
   ]
  },
  {
   "cell_type": "code",
   "execution_count": 53,
   "metadata": {},
   "outputs": [],
   "source": [
    "# Day 09"
   ]
  },
  {
   "cell_type": "code",
   "execution_count": 54,
   "metadata": {},
   "outputs": [],
   "source": [
    "data = [int(x) for x in open('day09.in').readlines()]"
   ]
  },
  {
   "cell_type": "code",
   "execution_count": 56,
   "metadata": {},
   "outputs": [
    {
     "name": "stdout",
     "output_type": "stream",
     "text": [
      "26134589\n"
     ]
    }
   ],
   "source": [
    "def is_subset_sum(l, n):\n",
    "    for i in range(len(l)):\n",
    "        for j in range(i+1, len(l)):\n",
    "            if l[i] + l[j] == n:\n",
    "                return True\n",
    "    return False\n",
    "\n",
    "\n",
    "for i in range(25, len(data)):\n",
    "    before = data[i-25:i]\n",
    "    if not is_subset_sum(before, data[i]):\n",
    "        print(data[i])"
   ]
  },
  {
   "cell_type": "code",
   "execution_count": 58,
   "metadata": {},
   "outputs": [
    {
     "name": "stdout",
     "output_type": "stream",
     "text": [
      "1000\n"
     ]
    }
   ],
   "source": [
    "print(len(data)) # n^2 alg is fine"
   ]
  },
  {
   "cell_type": "code",
   "execution_count": 61,
   "metadata": {},
   "outputs": [
    {
     "name": "stdout",
     "output_type": "stream",
     "text": [
      "3535124\n"
     ]
    }
   ],
   "source": [
    "def has_match(data, i, target):\n",
    "    total = 0\n",
    "    init_i = i\n",
    "    while total < target:\n",
    "        total += data[i]\n",
    "        i += 1\n",
    "    if total == target:\n",
    "        my_range = data[init_i: i]\n",
    "        return True, max(my_range) + min(my_range)\n",
    "    return False, None\n",
    "    \n",
    "\n",
    "for i in range(len(data)):\n",
    "    is_match, answer = has_match(data, i, 26134589)\n",
    "    if is_match:\n",
    "        print(answer)\n",
    "        break\n",
    "        "
   ]
  },
  {
   "cell_type": "markdown",
   "metadata": {},
   "source": [
    "# Day 10"
   ]
  },
  {
   "cell_type": "code",
   "execution_count": 63,
   "metadata": {},
   "outputs": [],
   "source": [
    "data = [int(x) for x in open('day10.in').readlines()]"
   ]
  },
  {
   "cell_type": "code",
   "execution_count": 67,
   "metadata": {},
   "outputs": [],
   "source": [
    "data =  sorted(data)"
   ]
  },
  {
   "cell_type": "code",
   "execution_count": 68,
   "metadata": {},
   "outputs": [],
   "source": [
    "data = [0] + data + [data[-1] + 3]"
   ]
  },
  {
   "cell_type": "code",
   "execution_count": 69,
   "metadata": {},
   "outputs": [],
   "source": [
    "deltas = [0] * 4\n",
    "for i in range(1, len(data)):\n",
    "    delta = data[i] - data[i-1]\n",
    "    deltas[delta] += 1\n",
    "    "
   ]
  },
  {
   "cell_type": "code",
   "execution_count": 70,
   "metadata": {},
   "outputs": [
    {
     "data": {
      "text/plain": [
       "[0, 64, 0, 29]"
      ]
     },
     "execution_count": 70,
     "metadata": {},
     "output_type": "execute_result"
    }
   ],
   "source": [
    "deltas"
   ]
  },
  {
   "cell_type": "code",
   "execution_count": 71,
   "metadata": {},
   "outputs": [
    {
     "data": {
      "text/plain": [
       "1856"
      ]
     },
     "execution_count": 71,
     "metadata": {},
     "output_type": "execute_result"
    }
   ],
   "source": [
    "deltas[1] * deltas[3]"
   ]
  },
  {
   "cell_type": "code",
   "execution_count": 83,
   "metadata": {},
   "outputs": [],
   "source": [
    "adapters = set(data)\n",
    "dp = [0] * (max(adapters)+1)\n",
    "dp[0] = 1\n",
    "for i in range(1, len(data)):\n",
    "    new_val = 0\n",
    "    for j in range(1, 4):\n",
    "        check_idx = data[i] - j\n",
    "        if check_idx < 0:\n",
    "            continue\n",
    "        new_val += dp[check_idx]\n",
    "    dp[data[i]] = new_val"
   ]
  },
  {
   "cell_type": "code",
   "execution_count": 85,
   "metadata": {},
   "outputs": [
    {
     "data": {
      "text/plain": [
       "2314037239808"
      ]
     },
     "execution_count": 85,
     "metadata": {},
     "output_type": "execute_result"
    }
   ],
   "source": [
    "dp[max(adapters)]"
   ]
  },
  {
   "cell_type": "code",
   "execution_count": 86,
   "metadata": {},
   "outputs": [
    {
     "data": {
      "text/plain": [
       "2314037239808"
      ]
     },
     "execution_count": 86,
     "metadata": {},
     "output_type": "execute_result"
    }
   ],
   "source": [
    "memoize = {0:1}\n",
    "def dfs(val):\n",
    "    if val not in adapters:\n",
    "        return 0\n",
    "    if val in memoize:\n",
    "        return memoize[val]\n",
    "    total = 0\n",
    "    for j in range(1, 4):\n",
    "        new_val = dfs(val - j)\n",
    "        total += new_val\n",
    "    memoize[val] = total\n",
    "    return total\n",
    "dfs(max(adapters))"
   ]
  },
  {
   "cell_type": "markdown",
   "metadata": {},
   "source": [
    "# Day 11"
   ]
  },
  {
   "cell_type": "code",
   "execution_count": 104,
   "metadata": {},
   "outputs": [],
   "source": [
    "import copy\n",
    "def to_string(data):\n",
    "    l = \"\"\n",
    "    for row in data:\n",
    "        l += \"\".join(row)\n",
    "        l += \"\\n\"\n",
    "    return l"
   ]
  },
  {
   "cell_type": "code",
   "execution_count": 131,
   "metadata": {},
   "outputs": [],
   "source": [
    "def empty_around(data, r, c):\n",
    "    cells = []\n",
    "    for dr in range(-1, 2):\n",
    "        for dc in range(-1, 2):\n",
    "            nr, nc = r + dr, c + dc\n",
    "            if (nr, nc) == (r, c):\n",
    "                continue\n",
    "            if nr < 0 or nr >= len(data):\n",
    "                continue\n",
    "            if nc < 0 or nc >= len(data[0]):\n",
    "                continue\n",
    "            cells.append(data[nr][nc])\n",
    "    if all([x in ('L', '.') for x in cells]):\n",
    "        return True\n",
    "    return False\n",
    "\n",
    "def full_around(data, r, c):\n",
    "    cells = []\n",
    "    for dr in range(-1, 2):\n",
    "        for dc in range(-1, 2):\n",
    "            nr, nc = r + dr, c + dc\n",
    "            if (nr, nc) == (r, c):\n",
    "                continue\n",
    "            if nr < 0 or nr >= len(data):\n",
    "                continue\n",
    "            if nc < 0 or nc >= len(data[0]):\n",
    "                continue\n",
    "            cells.append(data[nr][nc])\n",
    "    #print(cells)\n",
    "    cells = [x for x in cells if x=='#']\n",
    "    #print(cells)\n",
    "    if len(cells) >= 4:\n",
    "        return True\n",
    "    return False"
   ]
  },
  {
   "cell_type": "code",
   "execution_count": 133,
   "metadata": {
    "collapsed": true,
    "jupyter": {
     "outputs_hidden": true
    }
   },
   "outputs": [
    {
     "name": "stdout",
     "output_type": "stream",
     "text": [
      "0\n",
      "1\n",
      "2\n",
      "3\n",
      "4\n",
      "5\n",
      "6\n",
      "7\n",
      "8\n",
      "9\n",
      "10\n",
      "11\n",
      "12\n",
      "13\n",
      "14\n",
      "15\n",
      "16\n",
      "17\n",
      "18\n",
      "19\n",
      "20\n",
      "21\n",
      "22\n",
      "23\n",
      "24\n",
      "25\n",
      "26\n",
      "27\n",
      "28\n",
      "29\n",
      "30\n",
      "31\n",
      "32\n",
      "33\n",
      "34\n",
      "35\n",
      "36\n",
      "37\n",
      "38\n",
      "39\n",
      "40\n",
      "41\n",
      "42\n",
      "43\n",
      "44\n",
      "45\n",
      "46\n",
      "47\n",
      "48\n",
      "49\n",
      "50\n",
      "51\n",
      "52\n",
      "53\n",
      "54\n",
      "55\n",
      "56\n",
      "57\n",
      "58\n",
      "59\n",
      "60\n",
      "61\n",
      "62\n",
      "63\n",
      "64\n",
      "65\n",
      "66\n",
      "67\n",
      "68\n",
      "69\n",
      "70\n",
      "71\n",
      "72\n",
      "73\n",
      "74\n",
      "75\n",
      "76\n",
      "77\n",
      "78\n",
      "79\n",
      "80\n",
      "81\n",
      "82\n",
      "83\n",
      "84\n",
      "85\n"
     ]
    }
   ],
   "source": [
    "used = set()\n",
    "data = [list(x.strip()) for x in open('day11.in').readlines()]\n",
    "my_round = 0\n",
    "while to_string(data) not in used:\n",
    "    print(my_round)\n",
    "    #print(to_string(data))\n",
    "    my_round += 1\n",
    "    used.add(to_string(data))\n",
    "    new_board = copy.deepcopy(data)\n",
    "    for r in range(len(data)):\n",
    "        for c in range(len(data[0])):\n",
    "            if data[r][c] == '.':\n",
    "                new_board[r][c] = '.'\n",
    "            elif data[r][c] == 'L' and empty_around(data, r, c):\n",
    "                new_board[r][c] = '#'\n",
    "            elif data[r][c] == '#' and full_around(data, r, c):\n",
    "                new_board[r][c] = 'L'\n",
    "            else:\n",
    "                new_board[r][c] = data[r][c]\n",
    "    data = new_board"
   ]
  },
  {
   "cell_type": "code",
   "execution_count": 119,
   "metadata": {},
   "outputs": [
    {
     "name": "stdout",
     "output_type": "stream",
     "text": [
      "#.##.##.##\n",
      "#######.##\n",
      "#.#.#..#..\n",
      "####.##.##\n",
      "#.##.##.##\n",
      "#.#####.##\n",
      "..#.#.....\n",
      "##########\n",
      "#.######.#\n",
      "#.#####.##\n",
      "\n"
     ]
    }
   ],
   "source": [
    "print(to_string(data))"
   ]
  },
  {
   "cell_type": "code",
   "execution_count": 134,
   "metadata": {},
   "outputs": [
    {
     "data": {
      "text/plain": [
       "2183"
      ]
     },
     "execution_count": 134,
     "metadata": {},
     "output_type": "execute_result"
    }
   ],
   "source": [
    "total = 0\n",
    "for row in data:\n",
    "    total += sum([1 for x in row if x=='#'])\n",
    "total"
   ]
  },
  {
   "cell_type": "code",
   "execution_count": 141,
   "metadata": {},
   "outputs": [],
   "source": [
    "def next_seat_in_dir(data, r, c, dr, dc):\n",
    "    nr, nc = r, c\n",
    "    while True:\n",
    "        nr, nc = nr + dr, nc + dc\n",
    "        if nr < 0 or nr >= len(data):\n",
    "            return '.'\n",
    "        if nc < 0 or nc >= len(data[0]):\n",
    "            return '.'\n",
    "        if data[nr][nc] in ('L', '#'):\n",
    "            return data[nr][nc]\n",
    "\n",
    "def empty_around(data, r, c):\n",
    "    cells = []\n",
    "    for dr in range(-1, 2):\n",
    "        for dc in range(-1, 2):\n",
    "            nr, nc = r + dr, c + dc\n",
    "            if (nr, nc) == (r, c):\n",
    "                continue\n",
    "            if nr < 0 or nr >= len(data):\n",
    "                continue\n",
    "            if nc < 0 or nc >= len(data[0]):\n",
    "                continue\n",
    "            cells.append(next_seat_in_dir(data, r, c, dr, dc))\n",
    "    if all([x in ('L', '.') for x in cells]):\n",
    "        return True\n",
    "    return False\n",
    "\n",
    "def full_around(data, r, c):\n",
    "    cells = []\n",
    "    for dr in range(-1, 2):\n",
    "        for dc in range(-1, 2):\n",
    "            nr, nc = r + dr, c + dc\n",
    "            if (nr, nc) == (r, c):\n",
    "                continue\n",
    "            if nr < 0 or nr >= len(data):\n",
    "                continue\n",
    "            if nc < 0 or nc >= len(data[0]):\n",
    "                continue\n",
    "            cells.append(next_seat_in_dir(data, r, c, dr, dc))\n",
    "    #print(cells)\n",
    "    cells = [x for x in cells if x=='#']\n",
    "    #print(cells)\n",
    "    if len(cells) >= 5:\n",
    "        return True\n",
    "    return False"
   ]
  },
  {
   "cell_type": "code",
   "execution_count": 142,
   "metadata": {
    "collapsed": true,
    "jupyter": {
     "outputs_hidden": true
    }
   },
   "outputs": [
    {
     "name": "stdout",
     "output_type": "stream",
     "text": [
      "0\n",
      "1\n",
      "2\n",
      "3\n",
      "4\n",
      "5\n",
      "6\n",
      "7\n",
      "8\n",
      "9\n",
      "10\n",
      "11\n",
      "12\n",
      "13\n",
      "14\n",
      "15\n",
      "16\n",
      "17\n",
      "18\n",
      "19\n",
      "20\n",
      "21\n",
      "22\n",
      "23\n",
      "24\n",
      "25\n",
      "26\n",
      "27\n",
      "28\n",
      "29\n",
      "30\n",
      "31\n",
      "32\n",
      "33\n",
      "34\n",
      "35\n",
      "36\n",
      "37\n",
      "38\n",
      "39\n",
      "40\n",
      "41\n",
      "42\n",
      "43\n",
      "44\n",
      "45\n",
      "46\n",
      "47\n",
      "48\n",
      "49\n",
      "50\n",
      "51\n",
      "52\n",
      "53\n",
      "54\n",
      "55\n",
      "56\n",
      "57\n",
      "58\n",
      "59\n",
      "60\n",
      "61\n",
      "62\n",
      "63\n",
      "64\n",
      "65\n",
      "66\n",
      "67\n",
      "68\n",
      "69\n",
      "70\n",
      "71\n",
      "72\n",
      "73\n",
      "74\n",
      "75\n",
      "76\n",
      "77\n",
      "78\n",
      "79\n",
      "80\n",
      "81\n",
      "82\n",
      "83\n",
      "84\n",
      "85\n"
     ]
    }
   ],
   "source": [
    "used = set()\n",
    "data = [list(x.strip()) for x in open('day11.in').readlines()]\n",
    "my_round = 0\n",
    "while to_string(data) not in used:\n",
    "    print(my_round)\n",
    "    #print(to_string(data))\n",
    "    my_round += 1\n",
    "    used.add(to_string(data))\n",
    "    new_board = copy.deepcopy(data)\n",
    "    for r in range(len(data)):\n",
    "        for c in range(len(data[0])):\n",
    "            if data[r][c] == '.':\n",
    "                new_board[r][c] = '.'\n",
    "            elif data[r][c] == 'L' and empty_around(data, r, c):\n",
    "                new_board[r][c] = '#'\n",
    "            elif data[r][c] == '#' and full_around(data, r, c):\n",
    "                new_board[r][c] = 'L'\n",
    "            else:\n",
    "                new_board[r][c] = data[r][c]\n",
    "    data = new_board"
   ]
  },
  {
   "cell_type": "code",
   "execution_count": 143,
   "metadata": {},
   "outputs": [
    {
     "data": {
      "text/plain": [
       "1990"
      ]
     },
     "execution_count": 143,
     "metadata": {},
     "output_type": "execute_result"
    }
   ],
   "source": [
    "total = 0\n",
    "for row in data:\n",
    "    total += sum([1 for x in row if x=='#'])\n",
    "total"
   ]
  },
  {
   "cell_type": "markdown",
   "metadata": {},
   "source": [
    "# Day 13"
   ]
  },
  {
   "cell_type": "code",
   "execution_count": 146,
   "metadata": {},
   "outputs": [],
   "source": [
    "data = open('day13.in').readlines()\n",
    "starting_time = int(data[0])\n",
    "busses = data[1].strip().split(',')"
   ]
  },
  {
   "cell_type": "code",
   "execution_count": 150,
   "metadata": {},
   "outputs": [],
   "source": [
    "def is_int(x):\n",
    "    try:\n",
    "        return int(x)\n",
    "    except:\n",
    "        return None\n",
    "busses = [is_int(x) for x in busses if is_int(x) is not None]"
   ]
  },
  {
   "cell_type": "code",
   "execution_count": 151,
   "metadata": {},
   "outputs": [
    {
     "data": {
      "text/plain": [
       "[19, 41, 523, 17, 13, 29, 853, 37, 23]"
      ]
     },
     "execution_count": 151,
     "metadata": {},
     "output_type": "execute_result"
    }
   ],
   "source": [
    "busses"
   ]
  },
  {
   "cell_type": "code",
   "execution_count": 152,
   "metadata": {},
   "outputs": [
    {
     "data": {
      "text/plain": [
       "1000510"
      ]
     },
     "execution_count": 152,
     "metadata": {},
     "output_type": "execute_result"
    }
   ],
   "source": [
    "starting_time"
   ]
  },
  {
   "cell_type": "code",
   "execution_count": 154,
   "metadata": {},
   "outputs": [
    {
     "name": "stdout",
     "output_type": "stream",
     "text": [
      "1000517 37 259\n"
     ]
    }
   ],
   "source": [
    "wait_time = 1\n",
    "solved = False\n",
    "while not solved:\n",
    "    now_time = starting_time + wait_time\n",
    "    for bus in busses:\n",
    "        if now_time % bus == 0:\n",
    "            print(now_time, bus, wait_time * bus)\n",
    "            solved = True\n",
    "    wait_time += 1\n",
    "        "
   ]
  },
  {
   "cell_type": "code",
   "execution_count": 155,
   "metadata": {},
   "outputs": [],
   "source": [
    "data = open('day13.in').readlines()\n",
    "starting_time = int(data[0])\n",
    "busses = data[1].strip().split(',')"
   ]
  },
  {
   "cell_type": "code",
   "execution_count": 158,
   "metadata": {},
   "outputs": [],
   "source": [
    "class Bus(object):\n",
    "    def __init__(self, cadence, offset):\n",
    "        self.cadence = cadence\n",
    "        self.offset = offset\n",
    "bus_objects = []\n",
    "for i in range(len(busses)):\n",
    "    bus = busses[i]\n",
    "    try:\n",
    "        cadence = int(bus)\n",
    "        bus_objects.append(Bus(cadence, i))\n",
    "    except:\n",
    "        pass"
   ]
  },
  {
   "cell_type": "code",
   "execution_count": 226,
   "metadata": {},
   "outputs": [],
   "source": [
    "from functools import reduce\n",
    "def chinese_remainder(n, a):\n",
    "    total=0\n",
    "    prod=reduce(lambda a, b: a*b, n)\n",
    "    for n_i, a_i in zip(n,a):\n",
    "        p=prod//n_i\n",
    "        total += a_i* mul_inv(p, n_i)*p\n",
    "    return total % prod\n",
    "\n",
    "def mul_inv(a, b):\n",
    "    b0= b\n",
    "    x0, x1= 0,1\n",
    "    if b== 1: return 1\n",
    "    while a>1 :\n",
    "        q=a// b\n",
    "        a, b= b, a%b\n",
    "        x0, x1=x1 -q *x0, x0\n",
    "    if x1<0 : x1+= b0\n",
    "    return x1\n"
   ]
  },
  {
   "cell_type": "code",
   "execution_count": 206,
   "metadata": {},
   "outputs": [],
   "source": [
    "def parse_busses(s):\n",
    "    s = s.split(',')\n",
    "    bus_objects = []\n",
    "    for i in range(len(s)):\n",
    "        bus = s[i]\n",
    "        try:\n",
    "            cadence = int(bus)\n",
    "            bus_objects.append(Bus(cadence, i))\n",
    "        except:\n",
    "            pass\n",
    "    return bus_objects"
   ]
  },
  {
   "cell_type": "code",
   "execution_count": 217,
   "metadata": {},
   "outputs": [],
   "source": [
    "bus_objects = parse_busses(\"1789,37,47,1889\")"
   ]
  },
  {
   "cell_type": "code",
   "execution_count": 218,
   "metadata": {},
   "outputs": [
    {
     "name": "stdout",
     "output_type": "stream",
     "text": [
      "1202161486\n"
     ]
    }
   ],
   "source": [
    "n = [x.cadence for x in bus_objects]\n",
    "a = [(2 * x.cadence - x.offset) % x.cadence for x in bus_objects]\n",
    "print(int(chinese_remainder(n, a)))"
   ]
  },
  {
   "cell_type": "code",
   "execution_count": 227,
   "metadata": {},
   "outputs": [
    {
     "name": "stdout",
     "output_type": "stream",
     "text": [
      "210612924879242\n"
     ]
    }
   ],
   "source": [
    "data = open('day13.in').readlines()\n",
    "starting_time = int(data[0])\n",
    "bus_objects = parse_busses(data[1].strip())\n",
    "n = [x.cadence for x in bus_objects]\n",
    "a = [(2 * x.cadence - x.offset) % x.cadence for x in bus_objects]\n",
    "print(int(chinese_remainder(n, a)))"
   ]
  },
  {
   "cell_type": "markdown",
   "metadata": {},
   "source": [
    "# Day 14"
   ]
  },
  {
   "cell_type": "code",
   "execution_count": 244,
   "metadata": {},
   "outputs": [],
   "source": [
    "import re\n",
    "data = [x.strip() for x in open('day14.in').readlines()]"
   ]
  },
  {
   "cell_type": "code",
   "execution_count": 235,
   "metadata": {},
   "outputs": [],
   "source": [
    "def left_pad(s):\n",
    "    while len(s) < 36:\n",
    "        s = \"0\" + s\n",
    "    return s"
   ]
  },
  {
   "cell_type": "code",
   "execution_count": 256,
   "metadata": {},
   "outputs": [],
   "source": [
    "def apply_mask(mask, v):\n",
    "    v = left_pad(bin(v).lstrip('0b'))\n",
    "    assert len(mask) == len(v)\n",
    "    retval = []\n",
    "    for m, b in zip(mask, v):\n",
    "        if m == 'X':\n",
    "            retval.append(b)\n",
    "        if m == '0':\n",
    "            retval.append(0)\n",
    "        if m == '1':\n",
    "            retval.append(1)\n",
    "    retval = [str(x) for x in retval]\n",
    "    s = \"\".join(retval)\n",
    "    return int(s, 2)"
   ]
  },
  {
   "cell_type": "code",
   "execution_count": 257,
   "metadata": {},
   "outputs": [],
   "source": [
    "mem = {}\n",
    "mask = None\n",
    "for line in data:\n",
    "    line = line.split(' = ')\n",
    "    if line[0] == 'mask':\n",
    "        mask = line[1]\n",
    "        continue\n",
    "    index = re.match(r'mem\\[(\\d+)\\]', line[0]).group(1)\n",
    "    mem[int(index)] = apply_mask(mask, int(line[1]))"
   ]
  },
  {
   "cell_type": "code",
   "execution_count": 260,
   "metadata": {},
   "outputs": [
    {
     "data": {
      "text/plain": [
       "9615006043476"
      ]
     },
     "execution_count": 260,
     "metadata": {},
     "output_type": "execute_result"
    }
   ],
   "source": [
    "sum(mem.values())"
   ]
  },
  {
   "cell_type": "code",
   "execution_count": 305,
   "metadata": {},
   "outputs": [],
   "source": [
    "from itertools import product\n",
    "\n",
    "def get_mem_locations(mask):\n",
    "    #print('getting mem locations')\n",
    "    floating_idx = []\n",
    "    for i, elem in enumerate(mask):\n",
    "        if elem == 'X':\n",
    "            floating_idx.append(i)\n",
    "    retval = []\n",
    "    for l in product(range(2), repeat=len(floating_idx)):\n",
    "        my_val = list(mask)\n",
    "        #print(floating_idx, l)\n",
    "        for idx, v in zip(floating_idx, l):\n",
    "            #print(idx, v)\n",
    "            my_val[idx] = v\n",
    "        my_val = [str(x) for x in my_val]\n",
    "        my_val = \"\".join(my_val)\n",
    "        #print(my_val)\n",
    "        retval.append(int(my_val, 2))\n",
    "    return retval\n",
    "    \n",
    "\n",
    "def apply_mask_to_mem(mask, v):\n",
    "    v = left_pad(bin(v).lstrip('0b'))\n",
    "    assert len(mask) == len(v)\n",
    "    retval = []\n",
    "    for m, b in zip(mask, v):\n",
    "        if m == 'X':\n",
    "            retval.append('X')\n",
    "        if m == '0':\n",
    "            retval.append(b)\n",
    "        if m == '1':\n",
    "            retval.append(1)\n",
    "    #print(\"\".join([str(x) for x in retval]))\n",
    "    return get_mem_locations(retval)\n",
    "    \n",
    "def apply_mask(mask, v, mem, mem_index):\n",
    "    # Apply to all possible mem locations\n",
    "    new_mem_locations = apply_mask_to_mem(mask, mem_index)\n",
    "    for new_mem_location in new_mem_locations:\n",
    "        mem[new_mem_location] = v\n",
    "    "
   ]
  },
  {
   "cell_type": "code",
   "execution_count": 307,
   "metadata": {},
   "outputs": [],
   "source": [
    "import re\n",
    "data = [x.strip() for x in open('day14.in').readlines()]\n",
    "\n",
    "mem = {}\n",
    "mask = None\n",
    "for line in data:\n",
    "    line = line.split(' = ')\n",
    "    if line[0] == 'mask':\n",
    "        mask = line[1]\n",
    "        continue\n",
    "    index = re.match(r'mem\\[(\\d+)\\]', line[0]).group(1)\n",
    "    apply_mask(mask, int(line[1]), mem, int(index))"
   ]
  },
  {
   "cell_type": "code",
   "execution_count": 308,
   "metadata": {},
   "outputs": [
    {
     "data": {
      "text/plain": [
       "4275496544925"
      ]
     },
     "execution_count": 308,
     "metadata": {},
     "output_type": "execute_result"
    }
   ],
   "source": [
    "sum(mem.values())"
   ]
  },
  {
   "cell_type": "markdown",
   "metadata": {},
   "source": [
    "# Day 15"
   ]
  },
  {
   "cell_type": "code",
   "execution_count": 329,
   "metadata": {},
   "outputs": [
    {
     "name": "stdout",
     "output_type": "stream",
     "text": [
      "694\n",
      "21768614\n"
     ]
    }
   ],
   "source": [
    "from collections import defaultdict\n",
    "\n",
    "seq = [17,1,3,16,19,0]\n",
    "mem = defaultdict(list)\n",
    "last_n = None\n",
    "for i in range(30_000_000):\n",
    "    if i == 2020:\n",
    "        print(last_n)\n",
    "    if i < len(seq):\n",
    "        mem[seq[i]].append(i)\n",
    "        last_n = seq[i]\n",
    "    else:\n",
    "        last_seq = mem[last_n]\n",
    "        if len(last_seq) ==  1:\n",
    "            last_n = 0\n",
    "            mem[last_n].append(i)\n",
    "        else:\n",
    "            last_n = last_seq[-1] - last_seq[-2]\n",
    "            mem[last_n].append(i)\n",
    "    #print(last_n)\n",
    "        \n",
    "print(last_n)"
   ]
  },
  {
   "cell_type": "code",
   "execution_count": 315,
   "metadata": {},
   "outputs": [
    {
     "data": {
      "text/plain": [
       "-222"
      ]
     },
     "execution_count": 315,
     "metadata": {},
     "output_type": "execute_result"
    }
   ],
   "source": [
    "last_n"
   ]
  },
  {
   "cell_type": "markdown",
   "metadata": {},
   "source": [
    "# Day 16"
   ]
  },
  {
   "cell_type": "code",
   "execution_count": 3,
   "metadata": {},
   "outputs": [],
   "source": [
    "data = [x.strip() for x in open('day16.in').readlines()]"
   ]
  },
  {
   "cell_type": "code",
   "execution_count": 4,
   "metadata": {},
   "outputs": [
    {
     "data": {
      "text/plain": [
       "'departure location: 49-258 or 268-960'"
      ]
     },
     "execution_count": 4,
     "metadata": {},
     "output_type": "execute_result"
    }
   ],
   "source": [
    "data[0]"
   ]
  },
  {
   "cell_type": "code",
   "execution_count": 5,
   "metadata": {},
   "outputs": [],
   "source": [
    "import re"
   ]
  },
  {
   "cell_type": "code",
   "execution_count": 11,
   "metadata": {},
   "outputs": [],
   "source": [
    "rules = []\n",
    "for i in range(20):\n",
    "    groups = re.match(r\"(.+): (\\d+)-(\\d+) or (\\d+)-(\\d+)\", data[i]).groups()\n",
    "    my_rule = groups[0], int(groups[1]), int(groups[2]), int(groups[3]), int(groups[4])\n",
    "    rules.append(my_rule)\n",
    "    "
   ]
  },
  {
   "cell_type": "code",
   "execution_count": 35,
   "metadata": {},
   "outputs": [],
   "source": [
    "def is_valid(field, rules):\n",
    "    for rule in rules:\n",
    "        c1 = rule[1] <= field <= rule[2]\n",
    "        c2 = rule[3] <= field <= rule[4]\n",
    "        if c1 or c2:\n",
    "            return True\n",
    "    return False\n"
   ]
  },
  {
   "cell_type": "code",
   "execution_count": 38,
   "metadata": {},
   "outputs": [
    {
     "data": {
      "text/plain": [
       "28884"
      ]
     },
     "execution_count": 38,
     "metadata": {},
     "output_type": "execute_result"
    }
   ],
   "source": [
    "total = 0\n",
    "for i in range(25, len(data)):\n",
    "    fields = [int(x) for x in data[i].split(',')]\n",
    "    for field in fields:\n",
    "        if not is_valid(field, rules):\n",
    "            total += field\n",
    "total"
   ]
  },
  {
   "cell_type": "markdown",
   "metadata": {},
   "source": [
    "## Part 2"
   ]
  },
  {
   "cell_type": "code",
   "execution_count": 39,
   "metadata": {},
   "outputs": [],
   "source": [
    "total = 0\n",
    "invalids = []\n",
    "for i in range(25, len(data)):\n",
    "    fields = [int(x) for x in data[i].split(',')]\n",
    "    for field in fields:\n",
    "        if not is_valid(field, rules):\n",
    "            total += field\n",
    "            invalids.append(i)"
   ]
  },
  {
   "cell_type": "code",
   "execution_count": 41,
   "metadata": {},
   "outputs": [
    {
     "data": {
      "text/plain": [
       "True"
      ]
     },
     "execution_count": 41,
     "metadata": {},
     "output_type": "execute_result"
    }
   ],
   "source": [
    "len(invalids) == len(set(invalids))"
   ]
  },
  {
   "cell_type": "code",
   "execution_count": 43,
   "metadata": {},
   "outputs": [],
   "source": [
    "new_data = []\n",
    "for i in range(25, len(data)):\n",
    "    if i in invalids:\n",
    "        continue\n",
    "    new_data.append(data[i])"
   ]
  },
  {
   "cell_type": "code",
   "execution_count": 48,
   "metadata": {},
   "outputs": [],
   "source": [
    "# Find possible idx for each rule\n",
    "# remove from the set of idx when you fail a rule at idx\n",
    "\n",
    "def apply_rule(rule, field):\n",
    "    c1 = rule[1] <= field <= rule[2]\n",
    "    c2 = rule[3] <= field <= rule[4]\n",
    "    if c1 or c2:\n",
    "        return True\n",
    "    return False\n",
    "\n",
    "poss_idx = []\n",
    "for i, rule in enumerate(rules):\n",
    "    my_poss_idx = set(range(len(rules)))\n",
    "    for datum in new_data:\n",
    "        locations = [int(x) for x in datum.split(',')]\n",
    "        for idx, val in enumerate(locations):\n",
    "            if not apply_rule(rule, val):\n",
    "                my_poss_idx.remove(idx)\n",
    "    poss_idx.append(my_poss_idx)\n",
    "            \n",
    "        "
   ]
  },
  {
   "cell_type": "code",
   "execution_count": 52,
   "metadata": {},
   "outputs": [
    {
     "data": {
      "text/plain": [
       "[1, 2, 3, 4, 5, 6, 7, 8, 9, 10, 11, 12, 13, 14, 15, 16, 17, 18, 19, 20]"
      ]
     },
     "execution_count": 52,
     "metadata": {},
     "output_type": "execute_result"
    }
   ],
   "source": [
    "sorted([len(x) for x in poss_idx])"
   ]
  },
  {
   "cell_type": "code",
   "execution_count": 53,
   "metadata": {},
   "outputs": [],
   "source": [
    "# This means I don't have to search I can just do exclusion in n^2 time"
   ]
  },
  {
   "cell_type": "code",
   "execution_count": 59,
   "metadata": {},
   "outputs": [],
   "source": [
    "import copy\n",
    "exact_idx = [0] * len(poss_idx)\n",
    "my_poss_idx = copy.deepcopy(poss_idx)\n",
    "for i in range(len(poss_idx)):\n",
    "    # Find the element with only one possible index\n",
    "    next_assignment_value = None\n",
    "    next_assignemnt_idx = None\n",
    "    for j in range(len(poss_idx)):\n",
    "        if len(my_poss_idx[j]) == 1:\n",
    "            next_assignment_value = list(my_poss_idx[j])[0]\n",
    "            next_assignemnt_idx = j\n",
    "            break\n",
    "    exact_idx[next_assignemnt_idx] = next_assignment_value\n",
    "    # clear out the rest of them\n",
    "    for j in range(len(poss_idx)):\n",
    "        if next_assignment_value in my_poss_idx[j]:\n",
    "            my_poss_idx[j].remove(next_assignment_value)"
   ]
  },
  {
   "cell_type": "code",
   "execution_count": 67,
   "metadata": {},
   "outputs": [],
   "source": [
    "# exact_idx is a map from rule_idx -> ticket_idx\n",
    "my_ticket = [int(x) for x in data[22].split(',')]"
   ]
  },
  {
   "cell_type": "code",
   "execution_count": 68,
   "metadata": {},
   "outputs": [
    {
     "data": {
      "text/plain": [
       "1001849322119"
      ]
     },
     "execution_count": 68,
     "metadata": {},
     "output_type": "execute_result"
    }
   ],
   "source": [
    "total = 1\n",
    "for i, rule in enumerate(rules):\n",
    "    if not rule[0].startswith('departure'):\n",
    "        continue\n",
    "    my_val = my_ticket[exact_idx[i]]\n",
    "    total *= my_val\n",
    "total"
   ]
  },
  {
   "cell_type": "code",
   "execution_count": 69,
   "metadata": {},
   "outputs": [
    {
     "data": {
      "text/plain": [
       "True"
      ]
     },
     "execution_count": 69,
     "metadata": {},
     "output_type": "execute_result"
    }
   ],
   "source": [
    "\"hello\".startswith('hell')"
   ]
  },
  {
   "cell_type": "code",
   "execution_count": 70,
   "metadata": {},
   "outputs": [],
   "source": [
    "# Can I solve this with a max-flow agorithm?"
   ]
  },
  {
   "cell_type": "code",
   "execution_count": 102,
   "metadata": {},
   "outputs": [],
   "source": [
    "import networkx as nx\n",
    "from networkx.algorithms import bipartite\n",
    "b = nx.Graph()\n",
    "rule_idx = [rules[x][0] for x in range(20)]\n",
    "ticket_idx = list(range(1,20))"
   ]
  },
  {
   "cell_type": "code",
   "execution_count": 103,
   "metadata": {},
   "outputs": [],
   "source": [
    "for i, elem in enumerate(poss_idx):\n",
    "    for t_idx in elem:\n",
    "        from_node = rules[i][0]\n",
    "        to_node = t_idx\n",
    "        b.add_edge(from_node, to_node)"
   ]
  },
  {
   "cell_type": "code",
   "execution_count": 104,
   "metadata": {},
   "outputs": [
    {
     "data": {
      "text/plain": [
       "{'arrival track': 7,\n",
       " 'arrival location': 18,\n",
       " 'route': 16,\n",
       " 'type': 3,\n",
       " 'class': 15,\n",
       " 'departure track': 9,\n",
       " 'departure station': 14,\n",
       " 'departure platform': 13,\n",
       " 'departure time': 1,\n",
       " 'departure location': 2,\n",
       " 'row': 19,\n",
       " 'train': 4,\n",
       " 'arrival platform': 12,\n",
       " 'departure date': 11,\n",
       " 'seat': 17,\n",
       " 'wagon': 6,\n",
       " 'zone': 8,\n",
       " 'duration': 0,\n",
       " 'arrival station': 10,\n",
       " 'price': 5,\n",
       " 0: 'duration',\n",
       " 1: 'departure time',\n",
       " 2: 'departure location',\n",
       " 3: 'type',\n",
       " 4: 'train',\n",
       " 5: 'price',\n",
       " 6: 'wagon',\n",
       " 7: 'arrival track',\n",
       " 8: 'zone',\n",
       " 9: 'departure track',\n",
       " 10: 'arrival station',\n",
       " 11: 'departure date',\n",
       " 12: 'arrival platform',\n",
       " 13: 'departure platform',\n",
       " 14: 'departure station',\n",
       " 15: 'class',\n",
       " 16: 'route',\n",
       " 17: 'seat',\n",
       " 18: 'arrival location',\n",
       " 19: 'row'}"
      ]
     },
     "execution_count": 104,
     "metadata": {},
     "output_type": "execute_result"
    }
   ],
   "source": [
    "#u = [n for n in b.nodes if b.nodes[n]['bipartite'] == 0]\n",
    "nx.bipartite.maximum_matching(b, top_nodes=rule_idx)"
   ]
  },
  {
   "cell_type": "markdown",
   "metadata": {},
   "source": [
    "# Day 17"
   ]
  },
  {
   "cell_type": "code",
   "execution_count": 148,
   "metadata": {},
   "outputs": [],
   "source": [
    "data = [x.strip() for x in open('day17.in').readlines()]"
   ]
  },
  {
   "cell_type": "code",
   "execution_count": 149,
   "metadata": {},
   "outputs": [],
   "source": [
    "from collections import defaultdict"
   ]
  },
  {
   "cell_type": "code",
   "execution_count": 150,
   "metadata": {},
   "outputs": [],
   "source": [
    "space = defaultdict(bool)"
   ]
  },
  {
   "cell_type": "code",
   "execution_count": 151,
   "metadata": {},
   "outputs": [],
   "source": [
    "for r in range(len(data)):\n",
    "    for c in range(len(data[0])):\n",
    "        if data[r][c] == '#':\n",
    "            space[(0, r, c)] = True"
   ]
  },
  {
   "cell_type": "code",
   "execution_count": 152,
   "metadata": {},
   "outputs": [],
   "source": [
    "def color_space(space):\n",
    "    color_map = defaultdict(int)\n",
    "    for k, v in space.items():\n",
    "        if not v:\n",
    "            continue\n",
    "        z,r,c = k\n",
    "        for dz in (-1, 0, 1):\n",
    "            for dr in (-1, 0, 1):\n",
    "                for dc in (-1, 0, 1):\n",
    "                    if dz == 0 and dr == 0 and dc == 0:\n",
    "                        continue\n",
    "                    color_map[(z+dz, r+dr, c+dc)] += 1\n",
    "    return color_map\n",
    "\n",
    "def space_from_color_map(space, color_map):\n",
    "    new_space = defaultdict(int)\n",
    "    for k, v in color_map.items():\n",
    "        z,r,c = k\n",
    "        if space[k]:\n",
    "            if v in (2,3):\n",
    "                new_space[k] = True\n",
    "        else:\n",
    "            if v == 3:\n",
    "                new_space[k] = True\n",
    "    return new_space"
   ]
  },
  {
   "cell_type": "code",
   "execution_count": 153,
   "metadata": {},
   "outputs": [],
   "source": [
    "import copy\n",
    "new_space = copy.deepcopy(space)\n",
    "for i in range(6):\n",
    "    color_map = color_space(new_space)\n",
    "    new_space = space_from_color_map(new_space, color_map)"
   ]
  },
  {
   "cell_type": "code",
   "execution_count": 154,
   "metadata": {},
   "outputs": [
    {
     "data": {
      "text/plain": [
       "280"
      ]
     },
     "execution_count": 154,
     "metadata": {},
     "output_type": "execute_result"
    }
   ],
   "source": [
    "len(new_space)"
   ]
  },
  {
   "cell_type": "markdown",
   "metadata": {},
   "source": [
    "## Part 2"
   ]
  },
  {
   "cell_type": "code",
   "execution_count": 159,
   "metadata": {},
   "outputs": [],
   "source": [
    "data = [x.strip() for x in open('day17.in').readlines()]\n",
    "space = defaultdict(bool)\n",
    "for r in range(len(data)):\n",
    "    for c in range(len(data[0])):\n",
    "        if data[r][c] == '#':\n",
    "            space[(0, 0, r, c)] = True"
   ]
  },
  {
   "cell_type": "code",
   "execution_count": 160,
   "metadata": {},
   "outputs": [],
   "source": [
    "def color_space(space):\n",
    "    color_map = defaultdict(int)\n",
    "    for k, v in space.items():\n",
    "        if not v:\n",
    "            continue\n",
    "        w, z,r,c = k\n",
    "        for dw in (-1, 0, 1):\n",
    "            for dz in (-1, 0, 1):\n",
    "                for dr in (-1, 0, 1):\n",
    "                    for dc in (-1, 0, 1):\n",
    "                        if dw == 0 and dz == 0 and dr == 0 and dc == 0:\n",
    "                            continue\n",
    "                        color_map[(w + dw, z+dz, r+dr, c+dc)] += 1\n",
    "    return color_map\n",
    "\n",
    "def space_from_color_map(space, color_map):\n",
    "    new_space = defaultdict(int)\n",
    "    for k, v in color_map.items():\n",
    "        if space[k]:\n",
    "            if v in (2,3):\n",
    "                new_space[k] = True\n",
    "        else:\n",
    "            if v == 3:\n",
    "                new_space[k] = True\n",
    "    return new_space"
   ]
  },
  {
   "cell_type": "code",
   "execution_count": 164,
   "metadata": {},
   "outputs": [
    {
     "name": "stdout",
     "output_type": "stream",
     "text": [
      "176 ms ± 7.09 ms per loop (mean ± std. dev. of 7 runs, 1 loop each)\n"
     ]
    }
   ],
   "source": [
    "%%timeit\n",
    "new_space = copy.deepcopy(space)\n",
    "for i in range(6):\n",
    "    color_map = color_space(new_space)\n",
    "    new_space = space_from_color_map(new_space, color_map)"
   ]
  },
  {
   "cell_type": "code",
   "execution_count": 162,
   "metadata": {},
   "outputs": [
    {
     "data": {
      "text/plain": [
       "1696"
      ]
     },
     "execution_count": 162,
     "metadata": {},
     "output_type": "execute_result"
    }
   ],
   "source": [
    "len(new_space)"
   ]
  },
  {
   "cell_type": "markdown",
   "metadata": {},
   "source": [
    "# Day 18"
   ]
  },
  {
   "cell_type": "code",
   "execution_count": 49,
   "metadata": {},
   "outputs": [],
   "source": [
    "class Integer(int):\n",
    "    def __sub__(self, val):\n",
    "        return Integer(self.real * val.real)\n",
    "    def __add__(self, val):\n",
    "        return Integer(self.real + val.real)"
   ]
  },
  {
   "cell_type": "code",
   "execution_count": 50,
   "metadata": {},
   "outputs": [],
   "source": [
    "def eval_line(line):\n",
    "    line = line.replace('*', '-')\n",
    "    line = re.sub(r\"(\\d+)\", r\"Integer(\\1)\", line)\n",
    "    return eval(line)"
   ]
  },
  {
   "cell_type": "code",
   "execution_count": 51,
   "metadata": {},
   "outputs": [
    {
     "data": {
      "text/plain": [
       "5374004645253"
      ]
     },
     "execution_count": 51,
     "metadata": {},
     "output_type": "execute_result"
    }
   ],
   "source": [
    "data = [x.strip() for x in open('day18.in').readlines()]\n",
    "total = 0\n",
    "for line in data:\n",
    "    total += eval_line(line)\n",
    "total"
   ]
  },
  {
   "cell_type": "code",
   "execution_count": 52,
   "metadata": {},
   "outputs": [],
   "source": [
    "# Part 2"
   ]
  },
  {
   "cell_type": "code",
   "execution_count": 54,
   "metadata": {},
   "outputs": [],
   "source": [
    "class Integer(int):\n",
    "    def __mul__(self, val):\n",
    "        return Integer(self.real + val.real)\n",
    "    def __add__(self, val):\n",
    "        return Integer(self.real * val.real)"
   ]
  },
  {
   "cell_type": "code",
   "execution_count": 57,
   "metadata": {},
   "outputs": [],
   "source": [
    "def eval_line(line):\n",
    "    line = line.replace('*', 'a')\n",
    "    line = line.replace('+', '*')\n",
    "    line = line.replace('a', '+')\n",
    "    line = re.sub(r\"(\\d+)\", r\"Integer(\\1)\", line)\n",
    "    return eval(line)"
   ]
  },
  {
   "cell_type": "code",
   "execution_count": 58,
   "metadata": {},
   "outputs": [
    {
     "data": {
      "text/plain": [
       "88782789402798"
      ]
     },
     "execution_count": 58,
     "metadata": {},
     "output_type": "execute_result"
    }
   ],
   "source": [
    "data = [x.strip() for x in open('day18.in').readlines()]\n",
    "total = 0\n",
    "for line in data:\n",
    "    total += eval_line(line)\n",
    "total"
   ]
  },
  {
   "cell_type": "code",
   "execution_count": null,
   "metadata": {},
   "outputs": [],
   "source": []
  }
 ],
 "metadata": {
  "kernelspec": {
   "display_name": "Python 3",
   "language": "python",
   "name": "python3"
  },
  "language_info": {
   "codemirror_mode": {
    "name": "ipython",
    "version": 3
   },
   "file_extension": ".py",
   "mimetype": "text/x-python",
   "name": "python",
   "nbconvert_exporter": "python",
   "pygments_lexer": "ipython3",
   "version": "3.6.10"
  }
 },
 "nbformat": 4,
 "nbformat_minor": 4
}
