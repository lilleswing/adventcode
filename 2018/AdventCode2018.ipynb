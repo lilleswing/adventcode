{
 "cells": [
  {
   "cell_type": "markdown",
   "metadata": {},
   "source": [
    "# Day01"
   ]
  },
  {
   "cell_type": "code",
   "execution_count": 12,
   "metadata": {},
   "outputs": [],
   "source": [
    "lines = [x.strip() for x in open('day01.in').readlines()]\n",
    "vals = [int(x) for x in lines]"
   ]
  },
  {
   "cell_type": "code",
   "execution_count": 13,
   "metadata": {},
   "outputs": [
    {
     "data": {
      "text/plain": [
       "477"
      ]
     },
     "execution_count": 13,
     "metadata": {},
     "output_type": "execute_result"
    }
   ],
   "source": [
    "sum(vals)"
   ]
  },
  {
   "cell_type": "code",
   "execution_count": 15,
   "metadata": {},
   "outputs": [
    {
     "name": "stdout",
     "output_type": "stream",
     "text": [
      "390\n"
     ]
    }
   ],
   "source": [
    "#Part 2\n",
    "t = 0\n",
    "used = set([0])\n",
    "done = False\n",
    "while not done:\n",
    "    for v in vals:\n",
    "        t += v\n",
    "        if t in used:\n",
    "            print(t)\n",
    "            done = True\n",
    "            break\n",
    "        used.add(t)\n",
    "    "
   ]
  },
  {
   "cell_type": "markdown",
   "metadata": {},
   "source": [
    "# Day 02"
   ]
  },
  {
   "cell_type": "code",
   "execution_count": 16,
   "metadata": {},
   "outputs": [],
   "source": [
    "lines = [x.strip() for x in open('day02.in').readlines()]"
   ]
  },
  {
   "cell_type": "code",
   "execution_count": 22,
   "metadata": {},
   "outputs": [
    {
     "data": {
      "text/plain": [
       "(250, 20, 5000)"
      ]
     },
     "execution_count": 22,
     "metadata": {},
     "output_type": "execute_result"
    }
   ],
   "source": [
    "import collections\n",
    "def to_bag(s):\n",
    "    d = collections.defaultdict(int)\n",
    "    for i in s:\n",
    "        d[i] += 1\n",
    "    return d\n",
    "\n",
    "def has_count(d, count):\n",
    "    for v in d.values():\n",
    "        if v == count:\n",
    "            return True\n",
    "    return False\n",
    "bags = [to_bag(x) for x in lines]\n",
    "has_two = [has_count(x, 2) for x in bags]\n",
    "has_three = [has_count(x, 3) for x in bags]\n",
    "sum(has_two), sum(has_three), sum(has_two) * sum(has_three)"
   ]
  },
  {
   "cell_type": "code",
   "execution_count": 24,
   "metadata": {},
   "outputs": [
    {
     "name": "stdout",
     "output_type": "stream",
     "text": [
      "ymdrchgpvwfloluktajxijsqb\n",
      "ymdrchgpvwfloluktajxijsqb\n"
     ]
    }
   ],
   "source": [
    "# Part 2\n",
    "def diff_strings(s1, s2):\n",
    "    return sum([x[0] != x[1] for x in zip(s1, s2)])\n",
    "\n",
    "def same_letters(s1, s2):\n",
    "    retval = \"\"\n",
    "    for a, b in zip(s1, s2):\n",
    "        if a == b:\n",
    "            retval += a\n",
    "    return retval\n",
    "\n",
    "for p1 in lines:\n",
    "    for p2 in lines:\n",
    "        if diff_strings(p1, p2) == 1:\n",
    "            print(same_letters(p1, p2))"
   ]
  },
  {
   "cell_type": "markdown",
   "metadata": {},
   "source": [
    "# Day 03"
   ]
  },
  {
   "cell_type": "code",
   "execution_count": 31,
   "metadata": {},
   "outputs": [],
   "source": [
    "lines = [x.strip() for x in open('day03.in').readlines()]"
   ]
  },
  {
   "cell_type": "code",
   "execution_count": 33,
   "metadata": {},
   "outputs": [
    {
     "data": {
      "text/plain": [
       "[265, 241, 16, 26]"
      ]
     },
     "execution_count": 33,
     "metadata": {},
     "output_type": "execute_result"
    }
   ],
   "source": [
    "import re\n",
    "def parse_line(s):\n",
    "    return [int(x) for x in re.findall(\"\\d+\", s)[1:]]\n",
    "parse_line(lines[0])"
   ]
  },
  {
   "cell_type": "code",
   "execution_count": 49,
   "metadata": {},
   "outputs": [
    {
     "data": {
      "text/plain": [
       "101781"
      ]
     },
     "execution_count": 49,
     "metadata": {},
     "output_type": "execute_result"
    }
   ],
   "source": [
    "import numpy as np\n",
    "width, height = 10000, 10000\n",
    "grid = np.zeros((width, height))\n",
    "def mark_grid(grid, tup):\n",
    "    sx, sy = tup[0], tup[1]\n",
    "    dx, dy = tup[2], tup[3]\n",
    "    grid[sx:sx+dx,sy:sy+dy] += 1\n",
    "for l in lines:\n",
    "    t = parse_line(l)\n",
    "    mark_grid(grid, t)\n",
    "np.sum(grid.flatten() > 1)"
   ]
  },
  {
   "cell_type": "code",
   "execution_count": 50,
   "metadata": {},
   "outputs": [],
   "source": [
    "# Part 2"
   ]
  },
  {
   "cell_type": "code",
   "execution_count": 51,
   "metadata": {},
   "outputs": [
    {
     "name": "stdout",
     "output_type": "stream",
     "text": [
      "#909 @ 593,172: 15x25\n"
     ]
    }
   ],
   "source": [
    "def is_unique(grid, tup):\n",
    "    sx, sy = tup[0], tup[1]\n",
    "    dx, dy = tup[2], tup[3]\n",
    "    return np.all(grid[sx:sx+dx,sy:sy+dy] == 1)\n",
    "for l in lines:\n",
    "    t = parse_line(l)\n",
    "    if is_unique(grid, t):\n",
    "        print(l)"
   ]
  },
  {
   "cell_type": "markdown",
   "metadata": {},
   "source": [
    "# Day 04"
   ]
  },
  {
   "cell_type": "code",
   "execution_count": 1,
   "metadata": {},
   "outputs": [],
   "source": [
    "lines = [x.strip() for x in open('day04.in').readlines()]"
   ]
  },
  {
   "cell_type": "code",
   "execution_count": 2,
   "metadata": {},
   "outputs": [],
   "source": [
    "lines = sorted(lines)"
   ]
  },
  {
   "cell_type": "code",
   "execution_count": 3,
   "metadata": {},
   "outputs": [],
   "source": [
    "import datetime"
   ]
  },
  {
   "cell_type": "code",
   "execution_count": 4,
   "metadata": {},
   "outputs": [],
   "source": [
    "datetime_object = datetime.datetime.strptime('1518-02-10 23:47', '%Y-%m-%d %H:%M')"
   ]
  },
  {
   "cell_type": "code",
   "execution_count": 5,
   "metadata": {},
   "outputs": [
    {
     "data": {
      "text/plain": [
       "datetime.timedelta(0, 60)"
      ]
     },
     "execution_count": 5,
     "metadata": {},
     "output_type": "execute_result"
    }
   ],
   "source": [
    "datetime.timedelta(minutes=1)"
   ]
  },
  {
   "cell_type": "code",
   "execution_count": 17,
   "metadata": {},
   "outputs": [
    {
     "data": {
      "text/plain": [
       "[(datetime.datetime(1518, 2, 10, 23, 47), '631'),\n",
       " (datetime.datetime(1518, 2, 11, 0, 3), 'Asleep'),\n",
       " (datetime.datetime(1518, 2, 11, 0, 19), 'Awake'),\n",
       " (datetime.datetime(1518, 2, 12, 0, 3), '983'),\n",
       " (datetime.datetime(1518, 2, 12, 0, 9), 'Asleep'),\n",
       " (datetime.datetime(1518, 2, 12, 0, 48), 'Awake'),\n",
       " (datetime.datetime(1518, 2, 12, 23, 59), '1069'),\n",
       " (datetime.datetime(1518, 2, 13, 0, 43), 'Asleep'),\n",
       " (datetime.datetime(1518, 2, 13, 0, 55), 'Awake'),\n",
       " (datetime.datetime(1518, 2, 13, 23, 57), '587'),\n",
       " (datetime.datetime(1518, 2, 14, 0, 36), 'Asleep'),\n",
       " (datetime.datetime(1518, 2, 14, 0, 54), 'Awake'),\n",
       " (datetime.datetime(1518, 2, 15, 0, 3), '1579'),\n",
       " (datetime.datetime(1518, 2, 15, 0, 37), 'Asleep'),\n",
       " (datetime.datetime(1518, 2, 15, 0, 49), 'Awake'),\n",
       " (datetime.datetime(1518, 2, 16, 0, 3), '2179'),\n",
       " (datetime.datetime(1518, 2, 16, 0, 7), 'Asleep'),\n",
       " (datetime.datetime(1518, 2, 16, 0, 48), 'Awake'),\n",
       " (datetime.datetime(1518, 2, 16, 0, 54), 'Asleep'),\n",
       " (datetime.datetime(1518, 2, 16, 0, 58), 'Awake'),\n",
       " (datetime.datetime(1518, 2, 16, 23, 56), '3331'),\n",
       " (datetime.datetime(1518, 2, 17, 0, 36), 'Asleep'),\n",
       " (datetime.datetime(1518, 2, 17, 0, 47), 'Awake'),\n",
       " (datetime.datetime(1518, 2, 18, 0, 2), '2837'),\n",
       " (datetime.datetime(1518, 2, 18, 0, 12), 'Asleep'),\n",
       " (datetime.datetime(1518, 2, 18, 0, 41), 'Awake'),\n",
       " (datetime.datetime(1518, 2, 18, 0, 47), 'Asleep'),\n",
       " (datetime.datetime(1518, 2, 18, 0, 51), 'Awake'),\n",
       " (datetime.datetime(1518, 2, 19, 0, 1), '983'),\n",
       " (datetime.datetime(1518, 2, 19, 0, 24), 'Asleep'),\n",
       " (datetime.datetime(1518, 2, 19, 0, 55), 'Awake'),\n",
       " (datetime.datetime(1518, 2, 19, 23, 59), '1021'),\n",
       " (datetime.datetime(1518, 2, 20, 0, 17), 'Asleep'),\n",
       " (datetime.datetime(1518, 2, 20, 0, 37), 'Awake'),\n",
       " (datetime.datetime(1518, 2, 20, 0, 44), 'Asleep'),\n",
       " (datetime.datetime(1518, 2, 20, 0, 52), 'Awake'),\n",
       " (datetime.datetime(1518, 2, 20, 23, 53), '1579'),\n",
       " (datetime.datetime(1518, 2, 21, 0, 3), 'Asleep'),\n",
       " (datetime.datetime(1518, 2, 21, 0, 23), 'Awake'),\n",
       " (datetime.datetime(1518, 2, 21, 0, 33), 'Asleep'),\n",
       " (datetime.datetime(1518, 2, 21, 0, 50), 'Awake'),\n",
       " (datetime.datetime(1518, 2, 22, 0, 3), '1021'),\n",
       " (datetime.datetime(1518, 2, 22, 0, 12), 'Asleep'),\n",
       " (datetime.datetime(1518, 2, 22, 0, 33), 'Awake'),\n",
       " (datetime.datetime(1518, 2, 22, 0, 47), 'Asleep'),\n",
       " (datetime.datetime(1518, 2, 22, 0, 57), 'Awake'),\n",
       " (datetime.datetime(1518, 2, 22, 23, 49), '2971'),\n",
       " (datetime.datetime(1518, 2, 23, 0, 2), 'Asleep'),\n",
       " (datetime.datetime(1518, 2, 23, 0, 19), 'Awake'),\n",
       " (datetime.datetime(1518, 2, 23, 0, 25), 'Asleep')]"
      ]
     },
     "execution_count": 17,
     "metadata": {},
     "output_type": "execute_result"
    }
   ],
   "source": [
    "import re\n",
    "def get_state(s):\n",
    "    if s.find('falls') > -1:\n",
    "        return \"Asleep\"\n",
    "    if s.find('wakes') > -1:\n",
    "        return \"Awake\"\n",
    "    return re.findall(\"\\d+\", s)[0]\n",
    "\n",
    "def get_time(s):\n",
    "    return datetime.datetime.strptime(s, '%Y-%m-%d %H:%M')\n",
    "\n",
    "def parse_line(s):\n",
    "    vals = s.split('] ')\n",
    "    my_time = vals[0].strip('[')\n",
    "    my_state = vals[1]\n",
    "    return get_time(my_time), get_state(my_state)\n",
    "table = [parse_line(x) for x in lines]\n",
    "table[:50]"
   ]
  },
  {
   "cell_type": "code",
   "execution_count": 19,
   "metadata": {},
   "outputs": [],
   "source": [
    "def fill_time(d, gaurd, state, last_time, this_time):\n",
    "    if gaurd not in d:\n",
    "        d[gaurd] = {}\n",
    "    if state not in d[gaurd]:\n",
    "        d[gaurd][state] = list()\n",
    "    one_min = datetime.timedelta(minutes=1)\n",
    "    while last_time < this_time:\n",
    "        d[gaurd][state].append(last_time)\n",
    "        last_time = last_time + one_min\n",
    "\n",
    "d = {}\n",
    "gaurd = int(table[0][1])\n",
    "state = 'Awake'\n",
    "last_time = table[0][0]\n",
    "for line in table[1:]:\n",
    "    now_time = line[0]\n",
    "    try:\n",
    "        new_gaurd = int(line[1])\n",
    "        fill_time(d, gaurd, state, last_time, now_time)\n",
    "        gaurd = new_gaurd\n",
    "        state = 'Awake'\n",
    "        last_time = now_time\n",
    "        continue\n",
    "    except:\n",
    "        pass\n",
    "    now_state = line[1]\n",
    "    fill_time(d, gaurd, state, last_time, now_time)\n",
    "    state = now_state\n",
    "    last_time = now_time\n",
    "\n",
    "        \n",
    "        "
   ]
  },
  {
   "cell_type": "code",
   "execution_count": 21,
   "metadata": {},
   "outputs": [
    {
     "data": {
      "text/plain": [
       "dict_keys([631, 983, 1069, 587, 1579, 2179, 3331, 2837, 1021, 2971, 89, 2801, 2879, 311, 3181, 163, 2843, 2671, 3251, 3433, 2063, 3109, 2957])"
      ]
     },
     "execution_count": 21,
     "metadata": {},
     "output_type": "execute_result"
    }
   ],
   "source": [
    "d.keys()"
   ]
  },
  {
   "cell_type": "code",
   "execution_count": 26,
   "metadata": {},
   "outputs": [],
   "source": [
    "for key in d.keys():\n",
    "    if 'Asleep' not in d[key]:\n",
    "        d[key]['Asleep'] = list()"
   ]
  },
  {
   "cell_type": "code",
   "execution_count": 27,
   "metadata": {},
   "outputs": [],
   "source": [
    "most_sleep = max([(k,v) for k,v in d.items()], key=lambda x:len(x[1]['Asleep']))"
   ]
  },
  {
   "cell_type": "code",
   "execution_count": 32,
   "metadata": {},
   "outputs": [
    {
     "data": {
      "text/plain": [
       "1021"
      ]
     },
     "execution_count": 32,
     "metadata": {},
     "output_type": "execute_result"
    }
   ],
   "source": [
    "most_sleep[0]"
   ]
  },
  {
   "cell_type": "code",
   "execution_count": 36,
   "metadata": {},
   "outputs": [],
   "source": [
    "from collections import defaultdict\n",
    "\n",
    "minute_map = defaultdict(int)\n",
    "for x in most_sleep[1]['Asleep']:\n",
    "    minute_map[x.minute] += 1"
   ]
  },
  {
   "cell_type": "code",
   "execution_count": 39,
   "metadata": {},
   "outputs": [
    {
     "data": {
      "text/plain": [
       "(30, 14)"
      ]
     },
     "execution_count": 39,
     "metadata": {},
     "output_type": "execute_result"
    }
   ],
   "source": [
    "max([(k,v) for k,v in minute_map.items()], key=lambda x: x[1])"
   ]
  },
  {
   "cell_type": "code",
   "execution_count": 40,
   "metadata": {},
   "outputs": [
    {
     "data": {
      "text/plain": [
       "30630"
      ]
     },
     "execution_count": 40,
     "metadata": {},
     "output_type": "execute_result"
    }
   ],
   "source": [
    "30*1021"
   ]
  },
  {
   "cell_type": "code",
   "execution_count": 41,
   "metadata": {},
   "outputs": [],
   "source": [
    "# Part 2"
   ]
  },
  {
   "cell_type": "code",
   "execution_count": 44,
   "metadata": {},
   "outputs": [
    {
     "data": {
      "text/plain": [
       "(3331, (41, 17))"
      ]
     },
     "execution_count": 44,
     "metadata": {},
     "output_type": "execute_result"
    }
   ],
   "source": [
    "def get_most_asleep_minute(time_log):\n",
    "    minute_map = defaultdict(int)\n",
    "    for x in time_log['Asleep']:\n",
    "        minute_map[x.minute] += 1\n",
    "    if len(minute_map) == 0:\n",
    "        return (0,0)\n",
    "    return max([(k,v) for k,v in minute_map.items()], key=lambda x: x[1]) \n",
    "\n",
    "most_minute = [(k,v) for k,v in d.items()]\n",
    "most_minute = [(x[0], get_most_asleep_minute(x[1])) for x in most_minute]\n",
    "max(most_minute, key=lambda x: x[1][1])\n",
    "    "
   ]
  },
  {
   "cell_type": "code",
   "execution_count": 45,
   "metadata": {},
   "outputs": [
    {
     "data": {
      "text/plain": [
       "136571"
      ]
     },
     "execution_count": 45,
     "metadata": {},
     "output_type": "execute_result"
    }
   ],
   "source": [
    "3331 * 41"
   ]
  },
  {
   "cell_type": "markdown",
   "metadata": {},
   "source": [
    "# Day 05"
   ]
  },
  {
   "cell_type": "code",
   "execution_count": 46,
   "metadata": {},
   "outputs": [],
   "source": [
    "import string"
   ]
  },
  {
   "cell_type": "code",
   "execution_count": 54,
   "metadata": {},
   "outputs": [],
   "source": [
    "destroy = [\"\".join(x) for x in zip(string.ascii_lowercase, string.ascii_uppercase)]\n",
    "destroy = destroy + [x[::-1] for x in destroy]\n",
    "destroy = set(destroy)"
   ]
  },
  {
   "cell_type": "code",
   "execution_count": 75,
   "metadata": {},
   "outputs": [],
   "source": [
    "def reduce_str(s):\n",
    "    index = 0\n",
    "    new_s = \"\"\n",
    "    while index < len(s):\n",
    "        if index + 2 <= len(s) and s[index:index+2] in destroy:\n",
    "            index += 2\n",
    "            continue\n",
    "        new_s += s[index]\n",
    "        index += 1\n",
    "    return new_s\n",
    "        \n",
    "        \n"
   ]
  },
  {
   "cell_type": "code",
   "execution_count": 76,
   "metadata": {},
   "outputs": [
    {
     "data": {
      "text/plain": [
       "50000"
      ]
     },
     "execution_count": 76,
     "metadata": {},
     "output_type": "execute_result"
    }
   ],
   "source": [
    "s = open('day05.in').read().strip()\n",
    "len(s)"
   ]
  },
  {
   "cell_type": "code",
   "execution_count": 77,
   "metadata": {},
   "outputs": [],
   "source": [
    "new_s = reduce_str(s)\n",
    "while s != new_s:\n",
    "    s = new_s\n",
    "    new_s = reduce_str(s)"
   ]
  },
  {
   "cell_type": "code",
   "execution_count": 78,
   "metadata": {},
   "outputs": [
    {
     "data": {
      "text/plain": [
       "9238"
      ]
     },
     "execution_count": 78,
     "metadata": {},
     "output_type": "execute_result"
    }
   ],
   "source": [
    "len(new_s)"
   ]
  },
  {
   "cell_type": "code",
   "execution_count": 80,
   "metadata": {},
   "outputs": [],
   "source": [
    "# Part 2"
   ]
  },
  {
   "cell_type": "code",
   "execution_count": 109,
   "metadata": {},
   "outputs": [],
   "source": [
    "import re\n",
    "pattern = \"|\".join(destroy)\n",
    "def reduce_str(s):\n",
    "    return re.sub(pattern, \"\", s)"
   ]
  },
  {
   "cell_type": "code",
   "execution_count": 112,
   "metadata": {},
   "outputs": [],
   "source": [
    "def full_reduce(s, replace):\n",
    "    s = s.replace(replace, \"\")\n",
    "    s = s.replace(replace.upper(), \"\")\n",
    "    new_s = reduce_str(s)\n",
    "    while s != new_s:\n",
    "        s = new_s\n",
    "        new_s = reduce_str(s)\n",
    "    return new_s, replace"
   ]
  },
  {
   "cell_type": "code",
   "execution_count": 113,
   "metadata": {},
   "outputs": [
    {
     "name": "stdout",
     "output_type": "stream",
     "text": [
      "('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', 'a')\n"
     ]
    },
    {
     "name": "stdout",
     "output_type": "stream",
     "text": [
      "('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', 'b')\n"
     ]
    },
    {
     "name": "stdout",
     "output_type": "stream",
     "text": [
      "('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', 'c')\n"
     ]
    },
    {
     "name": "stdout",
     "output_type": "stream",
     "text": [
      "('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', 'd')\n"
     ]
    },
    {
     "name": "stdout",
     "output_type": "stream",
     "text": [
      "('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', 'e')\n"
     ]
    },
    {
     "name": "stdout",
     "output_type": "stream",
     "text": [
      "('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', 'f')\n"
     ]
    },
    {
     "name": "stdout",
     "output_type": "stream",
     "text": [
      "('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', 'g')\n"
     ]
    },
    {
     "name": "stdout",
     "output_type": "stream",
     "text": [
      "('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', 'h')\n"
     ]
    },
    {
     "name": "stdout",
     "output_type": "stream",
     "text": [
      "('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', 'i')\n"
     ]
    },
    {
     "name": "stdout",
     "output_type": "stream",
     "text": [
      "('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', 'j')\n"
     ]
    },
    {
     "name": "stdout",
     "output_type": "stream",
     "text": [
      "('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', 'k')\n"
     ]
    },
    {
     "name": "stdout",
     "output_type": "stream",
     "text": [
      "('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', 'l')\n"
     ]
    },
    {
     "name": "stdout",
     "output_type": "stream",
     "text": [
      "('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', 'm')\n"
     ]
    },
    {
     "name": "stdout",
     "output_type": "stream",
     "text": [
      "('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', 'n')\n"
     ]
    },
    {
     "name": "stdout",
     "output_type": "stream",
     "text": [
      "('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', 'o')\n"
     ]
    },
    {
     "name": "stdout",
     "output_type": "stream",
     "text": [
      "('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', 'p')\n"
     ]
    },
    {
     "name": "stdout",
     "output_type": "stream",
     "text": [
      "('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', 'q')\n"
     ]
    },
    {
     "name": "stdout",
     "output_type": "stream",
     "text": [
      "('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', 'r')\n"
     ]
    },
    {
     "name": "stdout",
     "output_type": "stream",
     "text": [
      "('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', 's')\n"
     ]
    },
    {
     "name": "stdout",
     "output_type": "stream",
     "text": [
      "('XuBmLrFCwRmbWxnxHgdqFkePlzyVOJFcPUwcmhoBdcbPIKCPHWAYrUargFrxqvDxNBdxVIvoRWlWUQMNzjnFMWmpHwxoocoGGZxbAFCEAHWeddnKIGKprVrzXnuVbRAUqDYLkUQRCMlZAHClrzuOWMzvAdXcrbWzHMLPeRVkjQyPKHECrIDLWSAJAJzwvryXWQIIrHFNQaBSVjdLHHWEmRgkpUifIBpYRDJqWQvNRloQEcGCCErqqjhVklVMObUdaUxQrdAOiWnWHqWEffuJuKKRobmaWpNsPjYhoCQMHBXgOXgNGoEoFlPAeDfYcPxUacbRxyrbOZyyrMwkWsXEwfIjcnCCpWQYWZwmsCmlKxhsdzVVcirmImEQKnAidboFzFwpeJJamdeAXpMUUBJBXRWKInyOLuleeAQCQJygJFpipbyXqooXHRJgVKrDqSRkQVGXweZrbvghfWquQmGSDFFwjUGjQDSFGDNjNhGllkxCbLHqwynqhCwajziQBnlhWiKziaCbvzPYavgnIBOFCZlmFhaowqkghCzasGLRFrzCgaIKiCyUlvPEIsOlPiWKNQvkQYEJvHxyMAgaQwLvHcWQZbDfqrkuiAvqaUpqiFvMoLCfdpjbmFnIVqvDQHxEMCPfNFZwBPmvvoWjcYWlldLuPjfewxSaXpDOWJWfhWSeZiWNBajaxWYbiJLPnOOAcWrNrHqwXjLKZqEKDHBzaJWXJELvCiUQSnnVcszumoIXFSplRapYfWZCZqWLFxNuCuQUiuLHNULDqdkyBGXVbhsRmKJwrjrmUZZxOxLhZdqbdsBHbpCpjOqrPPPncNGMMohzznBdUcgAHLofnOcOmJmvgoFBgldFdCOMVZONDBqVjSvXODmEHEGhQaJFBhanzBRAhUgYduEdNcwBPUBqahfIfqqArknwmDsAwcBGQnCusBrgjOFZsYpfkfQoLPkJOGXACDrZmpNEEJGYgAmDpkGOkWjoRyArzNYHiZQHOysrpcnPYHCBxCvbwEXeIlFuzQsDYkEVQdJICVKyqMbrVXMwOOyJcSgsuQzLPEXZmpeWaVSkPxJnfPZlQlPhYcHVpCrfelBzmAXnCpacJsDgWUhubXMYdrCGoRSIWeFRGfhGhXnsfZVeKOeNsIpYZWKaqvjuiAZNKaNoEgxLocwAeFCBhAROJQGPfucoNMkpvxigiGWFGiBrwsQyqCugjyLRDfidsDGNvvriJQrHGwwHaXpEXFQWSihWqfPMaxVkNKCpQaKQSyqRFzgQeiGjquwyBunEVmjKlPFEmxfcneQLkLLOrOFCgmVjsvqGmzPVLbKwFNKXgCCszWvXoDNKMKigABdSEnrNVqislwuvcSSzHrgoEMMuKnidpWkxkfkRZpdEEXHscqnUEsHgIkERPwYChcpJYQvMaOPGeuQbDYIEQYhuRiHxIbqVqPqkycJVxnLmcSCRjwqWjwjuvGPXQomzKqDeVEVUOzyVECaXorGJYOYIIKrBhmPVRcIPbDLYLxUqSLrQOOOLxzeuhwIEuLhrjdWorIRPcdHLYQWWdZQreIlWodAyoZLnxChUSqlqXmVxFmffnOnaoSXYXzlrokPCoblCZFPWRlKZyIdXvogzwxEiuzLHkycfgHffLflIPjXVxpOEDybyekLpSVMigyADuaQlvnQuVZOMjUsVZZqGleNSkRGbqoyNShlBSdhsvWYeUOyRsPUhIQNONfGYziVFFcyWhQwRuAirimmVGKJbVCsabvQORnQfYNDerSXWuFNuWWBSOfRDQSHEBPIbwexvyjCbCgqSvaohbxxeLYpUeHQnqJYjnyUhcDioyrlmyMvxplFEByWsdwLSBijOblvYUyWBjZjCRUMisrPzAHgNvUZYEbmqdZgEZcaeGGagzsgymlefpyPDOuuElmnlkqyKpKPdvjKjxQZycNCIULMYacuWeoCajvIKKrzBrhGFjUOcfKiSxqaaMXhOefLiBPaKCMfxEMkngDoGcQvhqJnIIciXddgDhcJzeYDoZmJYnCGIhMrMhICwOlOLknSYEJSCmJnHVAlFIUmIpujklSbuXaJGxJmqgUdJPEMZRHjyGwIBEmPXFrpjCVwdwSUiLDcZQJGKeagzvMXdzGJAQPvBVYNeZBdUvBpWYMDKjErrGMqOgjZABJYvwKpKqPIyvBVFKEZnLppinbyOQwjHDGoIQbDKLHAwGkaBfzmNHZVjBJsyZPXMaxLIxhvKfOZqsZMDXYuQZVuBHciJlklxENiHZkMehmxrNpoByZnDKOChMFvbdGwXBZpXjWKDwijfSvufSPiOFcyzFyzKcpoMYxPNlMnnKHqZLQpePjNMMvdCJHvoYELsdLVCiGDjKjvjDInpYsPRlSxseKDZQPmveSxhghcvpNWQrfbSGfqIoCnxKJkAsAXjydSEwGEHnAOZnRqXkiQINmcMcNvXEPinrHaoKoRQKBsRdCkzsQrAZbPbQJUekNpDkexbcbVIkUzDKIxbWkcEnknrYbMFeFblEMcvyOWHuhvsDIAdwFZWVrkxUFmrxQcRXbiNqHSPZXMadQNrjZvfLNOqEDncqinjAjrrKjawkZEhGQwarLXkagkywvWWZmUBrCddjSogDIrnoVovJKlNRzQJgumKXsNdKryDhYSXQriMphgbqEyfPmDZfWkHAZXpzBUaXohvvKHXWixwzBokdHQiefqpHqNUrAvELNPWFizQCHcALuwxUrrXmJdXJYAywPYsLRzbvwkjwnfXnBRWvABnpjnkFoGmeFDSOdovgFqhUXObplKZPEWbDPvvIMbLhsHsavAvEpGMgUOaBAsURmRSEVbilhdYaDrkakySejXPIrDmqOLjgnikJgXBVUbmurshoGQJdnsgfcUqhNCoGusUGbuVDyKarPzkzAqEmfikasWNmGmusRzvSxcWnsUrazeSclMYnZELpmslIDpxjgpAPYwQQrovOaGjmaousmucxvvukVjjRhqLYCyECBNcygYmEPlWKKwpkqunPAkhpCXqiuEEgZDGSmrkOKAkvYuYuFkqxOkXfxUnkeQULQwEzUYMSUKfurBRhiikbiybnMLCCkCjyPUewdnrakaCUMkVsDxalKhZphomKcKSmvmCQKLRgWQnbfUkaNmWSMXVcEoeKFUVJMuiaECsFlmSNbYmwUbSAEsDYsfUqxBrChGVkhMGErqHLhJlXDkemHkMgYnJIBiPWKQrpAyuQGUsInQWQraKAfiVzdsJQrZARSGiEpkOiQnpQvPlsDWBEpeQvYoVGSbsyFzoeZXeIEPYRmmshcffgiPFobxaJMococGduCBmwVPJoDIGQFbaHAfXpAnknGBNJiPVOMlbVhQWLZFQCGiGPgorowmkNkAzzoQFspxbUxoEhGQMFhVFOsgqXajRPhwkcYiBhJxIcuyGpVcSagxqFoMVevKcPSLLGByBuMDpXWBobVbgXPGDgbCBmvYzgUaFaQvOvlOWsezFjoXCYoRMxAzSEpIzUosPdspVJIdaqWQCeGPfEulwSjLoRDwMOXWXlAyeVFjddPLUBOvmmWPwbEusHUlRRygnoYUEBKPxCqBUCgUAQGbjgFvAJqMMkmrYxgAgjBCKdPSnmDWNbywRRiBURNKzxogvGzKmldHCZDyiPSHGlyxvEZgxwaNYhejSNYLHKXGwVwiymNEPeFiHipvrLJBEYxpvKXvMsWVHPCuLFIqGEhDVqVfYokRfPJojPVKbdRywLRNEHanzygbXjwqHYlfqaQLvZkhbqbKLmqsCvbboVXlUMfruBdcFimYPfngcPkrkzJqCMCgAROBsNkAXqBuekaLFzMOAFRorCjIfiLMiWlrdvjKcjFlllPHsyxgaSqwbRPuolINHDQcdpkyWDVfirNvYAeipVUzIZsVpiHYKiSLQBzWMCKplhDnkPcPVBeCFQMiPVamsgUceREqelkoiYfNgmmauGeAfbcJAJPXBacyjorMQoMuZdSduBhzgRyKrrrFUhegNLhueHcEcbedbdRSaDHzmQwfYDjaxbpgWuseUgvILwMUoqnOVgFUAmsFPDzPVauwoFLzEVGmhJeFjsQIxkOwFhLLqjaXbwYVapJAGIpvwvLsDcvjmLeSyXYdXpscjESKCjsyIZVGUHEvRqhUOchZDzyraOAVcAbRxoQLipcpNvpxLAAWULNcUcQgflKgOVSiMaNjiuWeyEXcKQnKndZrCFoAzGwmzcAFSvJJPORxnJdhGaczQXadCRRPlpIQPjWDFMaxaDZUeqJOkGGYduffGcvvHabkXOXGwfysGvHvYLgUZYMvajYrLVmiSUKcHOQnfdhqUNzRijygPQbRWipIVDpwAYmwhDUbPHjKpDpvwVZUnUpkhBhgAirgpdBhYdYDmslrZXiBdXVeuZgyvucbEoloVAgJfcyyhjMWOVKrPQvjBLVJODpBHZVVuQvuukuhPPXokIOZESebfzGhpoEbRkZKrBeOPHgZFBEsezoiKOxppHUKUUVqUvvzhbPdojvlbJVqpRkvowmJHYYCFjGavOLOeBCUVYGzUEvxDbIxzRLSMdyDyHbDPGRIaGHbHKPuNuzvWVPdPkJhpBudHWMyaWPdviPIwrBqpGYJIrZnuQHDFNqohCkusIMvlRyJAVmyzuGlyVhVgSYFWgxoxKBAhVVCgFFUDyggKojQEuzdAXAmfdwJpqiPLprrcDAxqZCAgHDjNXropjjVsfaCZMWgZaOfcRzDNkNqkCxeYEwUIJnAmIsvoGkLFGqCuCnluwaalXPVnPCPIlqOXrBaCvaoARYZdzHCouHQrVehugvziYSJckseJCSPxDyxYsElMJVCdSlVWVPigajPAvyWBxAJQllHfWoKXiqSJfEjHMgveZlfOWUAvpZdpfSMaufGvoNQOumWliVGuESUwGPBXAJdyFWqMZhdAsrDBDEBCeChEUHlnGEHufRRRkYrGZHbUDsDzUmOqmROJYCAbxpjajCBFaEgUAMMGnFyIOKLEQerECuGSMAvpImqfcEbvpCpKNdHLPkcmwZbqlsIkyhIPvSziZuvPIEayVnRIFvdwYKPDCqdhniLOUprBWQsAGXYShpLLLfJCkJVDRLwImlIFiJcROrfaomZflAKEUbQxaKnSboraGcmcQjZKRKpCGNFpyMIfCDbURFmuLxvOBBVcSQMlkBQBHKzVlqAQFLyhQWJxBGYZNAhenrlWYrDBkvpJOjpFrKOyFvQvdHegQiflUcphvwSmVxkVPXyebjlRVPIhIfEpenMYIWvWgxkhlynsJEHynAWXGzeVXYLghspIYdzchDLMkZgVGOXZknrubIrrWYBnwdMNspDkcbJGaGXyRMKmmQjaVfGJBgqauGcubQcXpkbeuyONGYrrLuhSUeBWpwMMVobulpDDJfvEYaLxwxomWdrOlJsWLUeFpgEcqwQADijvPSDpSOuZiPesZaXmrOycxOJfZESwoLVoVqAfAuGZyVMbcBGdgpxGBvBObwxPdmUbYbgllspCkVEvmOfQXGAsCvPgYUCiXjHbIyCKWHprJAxQGSofvHfmqgHeOXuBXPSfqOZZaKnKMWOROGpgIgcqfzlwqHvBLmovpIjnbgNKNaPxFahABfqgidOjpvWMbcUDgCOCOmjAXBOfpIGFFCHSMMrypeiExzEOZfYSBsgvOyVqEPebwdSLpVqPNqIoKPeIgsrazRqjSDZvIFakARqwqNiSugqUYaPRqkwpIbijNyGmKhMEKdxLjHlhQRegmHKvgHcRbXQuFSydSeasBuWMyBnsMLfSceAIUmjvufkEOeCvxmswMnAKuFBNqwGrlkqcMVMskCkMOHPzHkLAXdSvKmucAKARNDWEupYJcKcclmNBYIBKIIHrbRUFkusmyuZeWqluqEKNuXFxKoXQKfUyUyVKakoKRMsgdzGeeUIQxcPHKapNUQKPWkkwLpeMyGYCnbceYcylQHrJJvKUVVXCUMSUOAMJgAoVORqqWypaPGJXPdiLSMPlezNymLCsEZARuSNwCXsVZrSUMgMnwSAKIFMeQaZKZpRAkYdvUBguSUgOcnHQuCFGSNDjqgOHSRUMBuvbxGjKINGJloQMdRipxJEsYKAKRdAyDHLIBvesrMruSabAouGmgPeVaVAShSHlBmiVVpdBwepzkLPBoxuHQfGVODosdfEMgOfKNJPNbaVwrbNxFNWJKWVBZrlSypWYayjxDjMxRRuXWUlaChcqZIfwpnleVaRunQhPQFEIqhDKObZWXIwxhkVVHOxAubZPxzahKwFzdMpFYeQBGHPmIRqxsyHdYRkDnSxkMUGjqZrnLkjVOvONRidGOsJDDcRbuMzwwVWYKGAKxlRAWqgHezKWAJkRRJaJNIQCNdeQonlFVzJRnqDAmxzpshQnIBxrCqXRMfuXKRvwzfWDaidSVHUhwoYVCmeLBfEfmByRNKNeCKwBXikdZuKivBCBXEKdPnKEujqBpBzaRqSZKcDrSbkqrOkOAhRNIpexVnCmCMniqIKxQrNzoaNhegWesDYJxaSaKjkXNcOiQFgsBFRqwnPVCHGHXsEVMpqzdkESXsLrpSyPNidJVJkJdgIcvlDSleyOVhjcDVmmnJpEPqlzQhkNNmLnpXymOPCkZYfZYCfoIpsFUVsFJIWdkwJxPzbxWgDBVfmHcokdNzYbOPnRXMHEmKzhIneXLKLjIChbUvzqUyxdmzSQzoFkVHXilXAmxpzYSjbJvzhnMZFbAKgWahlkdBqiOgdhJWqoYBNIPPlNzekfvbVYipQkPkWVyjbazJGoQmgRReJkdmywPbVuDbzEnyvbVpqajgZDxmVZGAEkgjqzCdlIusWDWvcJPRfxpMebiWgYJhrzmepjDuGQMjXgjAxUBsLKJUPiMuifLavhNjMcsjeysNKloLoWciHmRmHigcNkyjMzOdyEZjCHdGDDxIKCiiNjQHVqCgOdGNKmeXFmckApbIlFEoHxmAAQXsIkFCouJfgHRbZRkkiVJAcOEwUCAymluicnCYzqXJkJVDpkPkYQKLNMLeUUodpYPFELMYGSZGAggEACzeGzDQMBeyzuVnGhaZpRSImurcJzJbwYuyVLBoJIbslWDSwYbefLPXVmYMLRYOIdCHuYNJyjQNqhEuPylEXXBHOAVsQGcBcJYVXEWBipbehsqdrFosbwwUnfUwxsREdnyFqNroqVBAScvBjkgvMMIRIaUrWqHwYCffvIZygFnonqiHupSrYouEywVSHDsbLHsnYOQBgrKsnELgQzzvSuJmozvUqNVLqAUdaYGImvsPlKEYBYdeoPXvxJpiLFlFFhGFCYKhlUIeXWZGOVxDiYzkLrwpfzcLBOcpKORLZxyxsOANoNFFMfXvMxQLQsuHcXNlzOYaDOwLiERqzDwwqylhDCpriROwDJRHlUeiWHUEZXloooqRlsQuXlyldBpiCrvpMHbRkiiyoyjgROxAcevYZouvevEdQkZMOqxpgVUJWJwQWJrcsCMlNXvjCYKQpQvQBiXhIrUHyqeiydBqUEgpoAmVqyjPCHcyWpreKiGhSeuNQCShxeeDPzrKFKXKwPDINkUmmeOGRhZssCVUWLSIQvnRNesDbaGIkmkndOxVwZSccGxknfWkBlvpZMgQVSJvMGcfoRollKlqENCFXMefpLkJMveNUbYWUQJgIEqGZfrQYsqkAqPcknKvXAmpFQwHIswqfxePxAhWWghRqjIRVVngdSDIFdlYJGUcQYqSWRbIgfwgIGIXVPKmnOCUFpgqjoraHbcfEaWCOlXGeOnAknzaIUJVQAkwzyPiSnEokEvzFSNxHgHFgrfEwisrOgcRDymxBUHuwGdSjCAPcNxaMZbLEFRcPvhCyHpLqLzpFNjXpKsvAwEPMzxeplZqUSGsCjYooWmxvRBmQYkvcijDqveKydSqZUfLiExeWBVcXbchypNCPRSYohqzIhynZRaYrOJwKogKPdMaGygjeenPMzRdcaxgojKplOqFKFPySzfoJGRbSUcNqgbCWaSdMWNKRaQQFiFHAQbupbWCnDeUDyGuHarbZNAHbfjAqHgeheMdoxVsJvQbdnozvmocDfDLGbfOGVMjMoCoNFOlhaGCuDbNZZHOmmgnCNpppRQoJPcPBhbSDBQDzHlXoXzzuMRJRWjkMrSHBvxgbYKDQdlunhlUIuqUcUnXflwQzczwFyPArLPsfxiOMUZSCvNNsquIcVlejxwjAZbhdkeQzklJxWQhRnRwCaooNpljIBywXAJAbnwIzEswHFwjwodPxAsXWEFJpUlDLLwyCJwOVVMpbWzfnFpcmeXhqdVQviNfMBJPDFclOmVfIQPuAQVaIUKRQFdBzqwChVlWqAGamYXhVjeyqKVqnkwIpLoSiepVLuYcIkiAGcZRfrlgSAZcHGKQWOAHfMLzcfobiNGVAypZVBcAIZkIwHLNbqIZJAWcHQNYWQhlBcXKLLgHnJndgfsdqJguJWffdsgMqUQwFHGVBRzEWxgvqKrsQdRkvGjrhxOOQxYBPIPfjGYjqcqaEELUloYNikwrxbjbuumPxaEDMAjjEPWfZfOBDIaNkqeMiMRICvvZDSHXkLMcSMWzwyqwPccNCJiFWexSwKWmRYYzoBRYXrBCAuXpCyFdEapLfOeOgnGxoGxbhmqcOHyJpSnPwAMBOrkkUjUFFewQhwNwIoaDRqXuADuBomvLKvHJQQReccgCeqOLrnVqwQjdryPbiFIuPKGrMewhhlDJvsbAqnfhRiiqwxYRVWZjajaswldiRcehkpYqJKvrEplmhZwBRCxDaVZmwoUZRLchazLmcrquKlydQuarBvUNxZRvRPkgikNDDEwhaecfaBXzggOCOOXWhPMwmfNJZnmquwLwrOVivXDbnXdVQXRfGAuRyawhpckipBCDbOHMCWupCfjovYZLpEKfQDGhXNXwBMrWcfRlMbUx', 't')\n"
     ]
    },
    {
     "name": "stdout",
     "output_type": "stream",
     "text": [
      "('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', 'u')\n"
     ]
    },
    {
     "name": "stdout",
     "output_type": "stream",
     "text": [
      "('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', 'v')\n"
     ]
    },
    {
     "name": "stdout",
     "output_type": "stream",
     "text": [
      "('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', 'w')\n"
     ]
    },
    {
     "name": "stdout",
     "output_type": "stream",
     "text": [
      "('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', 'x')\n"
     ]
    },
    {
     "name": "stdout",
     "output_type": "stream",
     "text": [
      "('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', 'y')\n"
     ]
    },
    {
     "name": "stdout",
     "output_type": "stream",
     "text": [
      "('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', 'z')\n"
     ]
    }
   ],
   "source": [
    "s = open('day05.in').read().strip()\n",
    "all_patterns = []\n",
    "for x in string.ascii_lowercase:\n",
    "    retval = full_reduce(s, x)\n",
    "    all_patterns.append(retval)"
   ]
  },
  {
   "cell_type": "code",
   "execution_count": 116,
   "metadata": {},
   "outputs": [
    {
     "data": {
      "text/plain": [
       "4052"
      ]
     },
     "execution_count": 116,
     "metadata": {},
     "output_type": "execute_result"
    }
   ],
   "source": [
    "len(min(all_patterns, key=lambda x: len(x[0]))[0])"
   ]
  },
  {
   "cell_type": "markdown",
   "metadata": {},
   "source": [
    "# Day 06"
   ]
  },
  {
   "cell_type": "code",
   "execution_count": 119,
   "metadata": {},
   "outputs": [],
   "source": [
    "nodes = [[int(y) for y in x.strip().split(',')] for x in open('day06.in').readlines()]"
   ]
  },
  {
   "cell_type": "code",
   "execution_count": 135,
   "metadata": {},
   "outputs": [],
   "source": [
    "def distance(p1, p2):\n",
    "    return abs(p1[0] - p2[0]) + abs(p1[1] - p2[1])\n",
    "\n",
    "def mark_closest(point, nodes, grid):\n",
    "    for i, node in enumerate(nodes):\n",
    "        dist = distance(point, node)\n",
    "        if dist < grid[point][1]:\n",
    "            grid[point] = (i, dist)\n",
    "\n",
    "grid = {}\n",
    "for x in range(-200, 500):\n",
    "    for y in range(-200, 500):\n",
    "        grid[(x,y)] = (-1, 100000000)\n",
    "        \n",
    "for x in range(-200, 500):\n",
    "    for y in range(-200, 500):\n",
    "        mark_closest((x,y), nodes, grid)\n",
    "         "
   ]
  },
  {
   "cell_type": "code",
   "execution_count": 136,
   "metadata": {},
   "outputs": [],
   "source": [
    "## Anything on the Edge is infinite"
   ]
  },
  {
   "cell_type": "code",
   "execution_count": 137,
   "metadata": {},
   "outputs": [],
   "source": [
    "whitelist = set()\n",
    "for y in range(-200, 500):\n",
    "    closest = grid[(-200, y)]\n",
    "    whitelist.add(closest[0])\n",
    "    closest = grid[(499, y)]\n",
    "    whitelist.add(closest[0])\n",
    "    closest = grid[(y, -200)]\n",
    "    whitelist.add(closest[0])\n",
    "    closest = grid[(y, 499)]\n",
    "    whitelist.add(closest[0])\n",
    "    "
   ]
  },
  {
   "cell_type": "code",
   "execution_count": 140,
   "metadata": {},
   "outputs": [],
   "source": [
    "count_squares = defaultdict(int)\n",
    "for x in range(-200, 500):\n",
    "    for y in range(-200, 500):\n",
    "        p = grid[(x,y)]\n",
    "        if p[0] in whitelist:\n",
    "            continue\n",
    "        count_squares[p[0]] += 1"
   ]
  },
  {
   "cell_type": "code",
   "execution_count": 142,
   "metadata": {},
   "outputs": [
    {
     "data": {
      "text/plain": [
       "(40, 3840)"
      ]
     },
     "execution_count": 142,
     "metadata": {},
     "output_type": "execute_result"
    }
   ],
   "source": [
    "max([(k,v) for k,v in count_squares.items()], key=lambda x: x[1])"
   ]
  },
  {
   "cell_type": "code",
   "execution_count": 143,
   "metadata": {},
   "outputs": [
    {
     "data": {
      "text/plain": [
       "50"
      ]
     },
     "execution_count": 143,
     "metadata": {},
     "output_type": "execute_result"
    }
   ],
   "source": [
    "len(nodes)"
   ]
  },
  {
   "cell_type": "code",
   "execution_count": 144,
   "metadata": {},
   "outputs": [],
   "source": [
    "## Part 2"
   ]
  },
  {
   "cell_type": "code",
   "execution_count": 146,
   "metadata": {},
   "outputs": [],
   "source": [
    "def sum_distances(point, nodes, grid):\n",
    "    for i, node in enumerate(nodes):\n",
    "        dist = distance(point, node)\n",
    "        grid[point] += dist\n",
    "\n",
    "grid = {}\n",
    "for x in range(-500, 500):\n",
    "    for y in range(-500, 500):\n",
    "        grid[(x,y)] = 0\n",
    "        \n",
    "for x in range(-500, 500):\n",
    "    for y in range(-500, 500):\n",
    "        sum_distances((x,y), nodes, grid)"
   ]
  },
  {
   "cell_type": "code",
   "execution_count": 147,
   "metadata": {},
   "outputs": [],
   "source": [
    "## Check if we made our grid large enough\n",
    "for y in range(-500, 500):\n",
    "    closest = grid[(-500, y)]\n",
    "    if closest < 1000:\n",
    "        print(\"Broken\", closest)\n",
    "    closest = grid[(499, y)]\n",
    "    if closest < 1000:\n",
    "        print(\"Broken\", closest)\n",
    "    closest = grid[(y, -500)]\n",
    "    if closest < 1000:\n",
    "        print(\"Broken\", closest)\n",
    "    closest = grid[(y, 499)]\n",
    "    if closest < 1000:\n",
    "        print(\"Broken\", closest)"
   ]
  },
  {
   "cell_type": "code",
   "execution_count": 148,
   "metadata": {},
   "outputs": [
    {
     "data": {
      "text/plain": [
       "46542"
      ]
     },
     "execution_count": 148,
     "metadata": {},
     "output_type": "execute_result"
    }
   ],
   "source": [
    "total_spaces = 0\n",
    "for x in range(-500, 500):\n",
    "    for y in range(-500, 500):\n",
    "        if grid[(x,y)] < 10000:\n",
    "            total_spaces += 1\n",
    "total_spaces"
   ]
  },
  {
   "cell_type": "markdown",
   "metadata": {},
   "source": [
    "# Day 07"
   ]
  },
  {
   "cell_type": "code",
   "execution_count": 179,
   "metadata": {},
   "outputs": [],
   "source": [
    "import networkx as nx"
   ]
  },
  {
   "cell_type": "code",
   "execution_count": 150,
   "metadata": {},
   "outputs": [],
   "source": [
    "import re"
   ]
  },
  {
   "cell_type": "code",
   "execution_count": 186,
   "metadata": {},
   "outputs": [],
   "source": [
    "lines = [x.strip().split() for x in open('day07.in').readlines()]"
   ]
  },
  {
   "cell_type": "code",
   "execution_count": 187,
   "metadata": {},
   "outputs": [],
   "source": [
    "def line_to_instr(l):\n",
    "    return l[1], l[-3]"
   ]
  },
  {
   "cell_type": "code",
   "execution_count": 188,
   "metadata": {},
   "outputs": [],
   "source": [
    "instrs = [line_to_instr(x) for x in lines]"
   ]
  },
  {
   "cell_type": "code",
   "execution_count": 189,
   "metadata": {},
   "outputs": [],
   "source": [
    "g = nx.DiGraph()\n",
    "for my_from, my_to in instrs:\n",
    "    g.add_edge(my_from, my_to)"
   ]
  },
  {
   "cell_type": "code",
   "execution_count": 212,
   "metadata": {},
   "outputs": [
    {
     "data": {
      "text/plain": [
       "('SCLPAMQVUWNHODRTGYKBJEFXZI', 26)"
      ]
     },
     "execution_count": 212,
     "metadata": {},
     "output_type": "execute_result"
    }
   ],
   "source": [
    "\"\".join(list(nx.lexicographical_topological_sort(g))), len(list(nx.lexicographical_topological_sort(g)))"
   ]
  },
  {
   "cell_type": "code",
   "execution_count": 218,
   "metadata": {},
   "outputs": [],
   "source": [
    "## Part 2 Ignore everything and assume we have concurrency we need\n",
    "## Just compute time for longest path through the DAG"
   ]
  },
  {
   "cell_type": "code",
   "execution_count": 193,
   "metadata": {},
   "outputs": [],
   "source": [
    "import string\n",
    "time_lookup = {x[0]: x[1] for x in zip(string.ascii_uppercase, range(1, 100))}"
   ]
  },
  {
   "cell_type": "code",
   "execution_count": 209,
   "metadata": {},
   "outputs": [],
   "source": [
    "g = nx.DiGraph()\n",
    "for my_from, my_to in instrs:\n",
    "    g.add_edge(my_from, my_to, weight=time_lookup[my_from] + 60)"
   ]
  },
  {
   "cell_type": "code",
   "execution_count": 216,
   "metadata": {},
   "outputs": [],
   "source": [
    "path = nx.dag_longest_path(g, weight='weight')"
   ]
  },
  {
   "cell_type": "code",
   "execution_count": 217,
   "metadata": {},
   "outputs": [
    {
     "data": {
      "text/plain": [
       "1234"
      ]
     },
     "execution_count": 217,
     "metadata": {},
     "output_type": "execute_result"
    }
   ],
   "source": [
    "total_time = 0\n",
    "for n in path:\n",
    "    total_time += time_lookup[n] + 60\n",
    "total_time"
   ]
  },
  {
   "cell_type": "markdown",
   "metadata": {},
   "source": [
    "# Day 08"
   ]
  },
  {
   "cell_type": "code",
   "execution_count": 263,
   "metadata": {},
   "outputs": [],
   "source": [
    "\n",
    "\n",
    "class Node(object):\n",
    "    def __init__(self, l, start_index):\n",
    "        self.start_index = start_index\n",
    "        num_children = l[start_index]\n",
    "        num_metadata = l[start_index+1]\n",
    "        \n",
    "        cur_index = start_index+2\n",
    "        self.children = []\n",
    "        for child_num in range(num_children):\n",
    "            child = Node(l, cur_index)\n",
    "            cur_index = child.end_index+1\n",
    "            self.children.append(child)\n",
    "        \n",
    "        self.metadata = []\n",
    "        for metadata in range(num_metadata):\n",
    "            self.metadata.append(l[cur_index])\n",
    "            cur_index += 1\n",
    "        self.end_index = cur_index - 1\n",
    "        \n",
    "    def sum_metadata(self):\n",
    "        my_total = sum(self.metadata)\n",
    "        for child in self.children:\n",
    "            my_total += child.sum_metadata()\n",
    "        return my_total\n",
    "    \n",
    "    \n",
    "    def special_sum(self):\n",
    "        if len(self.children) == 0:\n",
    "            return sum(self.metadata)\n",
    "        total = 0\n",
    "        for index in self.metadata:\n",
    "            index = index - 1\n",
    "            if index < 0:\n",
    "                continue\n",
    "            if index >= len(self.children):\n",
    "                continue\n",
    "            total += self.children[index].special_sum()\n",
    "        return total\n",
    "        "
   ]
  },
  {
   "cell_type": "code",
   "execution_count": 264,
   "metadata": {},
   "outputs": [],
   "source": [
    "l = [x.strip().split() for x in open('day08.in').readlines()]\n",
    "l = [int(x) for x in l[0]]"
   ]
  },
  {
   "cell_type": "code",
   "execution_count": 265,
   "metadata": {},
   "outputs": [],
   "source": [
    "root = Node(l, 0)"
   ]
  },
  {
   "cell_type": "code",
   "execution_count": 266,
   "metadata": {},
   "outputs": [
    {
     "data": {
      "text/plain": [
       "43825"
      ]
     },
     "execution_count": 266,
     "metadata": {},
     "output_type": "execute_result"
    }
   ],
   "source": [
    "root.sum_metadata()"
   ]
  },
  {
   "cell_type": "code",
   "execution_count": 267,
   "metadata": {},
   "outputs": [
    {
     "data": {
      "text/plain": [
       "19276"
      ]
     },
     "execution_count": 267,
     "metadata": {},
     "output_type": "execute_result"
    }
   ],
   "source": [
    "root.special_sum()"
   ]
  },
  {
   "cell_type": "markdown",
   "metadata": {},
   "source": [
    "# Day 09"
   ]
  },
  {
   "cell_type": "code",
   "execution_count": 268,
   "metadata": {},
   "outputs": [],
   "source": [
    "from collections import deque"
   ]
  },
  {
   "cell_type": "code",
   "execution_count": 269,
   "metadata": {},
   "outputs": [],
   "source": [
    "import re\n",
    "inp = \"419 players; last marble is worth 71052 points\""
   ]
  },
  {
   "cell_type": "code",
   "execution_count": 273,
   "metadata": {},
   "outputs": [],
   "source": [
    "n_players, last_marble = [int(x) for x in re.findall(\"\\d+\", inp)]"
   ]
  },
  {
   "cell_type": "code",
   "execution_count": 293,
   "metadata": {},
   "outputs": [],
   "source": [
    "def play_game(n_players, last_marble):\n",
    "    scores = defaultdict(int)\n",
    "    ring = deque()\n",
    "    ring.append(0)\n",
    "    ring.append(2)\n",
    "    ring.append(1)\n",
    "    ring.append(3)\n",
    "\n",
    "    marble_num = 3\n",
    "    player_num = 2\n",
    "    while marble_num <= last_marble:\n",
    "        marble_num += 1\n",
    "        player_num += 1\n",
    "        player_num = player_num % n_players\n",
    "        \n",
    "        if marble_num % 23 == 0:\n",
    "            scores[player_num] += marble_num\n",
    "            ring.rotate(7)\n",
    "            v = ring.pop()\n",
    "            scores[player_num] += v\n",
    "            ring.rotate(-1)\n",
    "            continue\n",
    "        ring.rotate(-1)\n",
    "        ring.append(marble_num)\n",
    "        \n",
    "    return scores"
   ]
  },
  {
   "cell_type": "code",
   "execution_count": 296,
   "metadata": {},
   "outputs": [
    {
     "name": "stdout",
     "output_type": "stream",
     "text": [
      "412117\n"
     ]
    }
   ],
   "source": [
    "print(max([x for x in play_game(n_players, last_marble).values()]))"
   ]
  },
  {
   "cell_type": "code",
   "execution_count": 297,
   "metadata": {},
   "outputs": [
    {
     "name": "stdout",
     "output_type": "stream",
     "text": [
      "3444129546\n"
     ]
    }
   ],
   "source": [
    "## Part 2\n",
    "print(max([x for x in play_game(n_players, last_marble*100).values()]))"
   ]
  },
  {
   "cell_type": "markdown",
   "metadata": {},
   "source": [
    "# Day 10"
   ]
  },
  {
   "cell_type": "code",
   "execution_count": 345,
   "metadata": {},
   "outputs": [],
   "source": [
    "lines = [x.strip() for x in open('day10.in').readlines()]\n",
    "def get_point_from_str(s):\n",
    "    x, y, dx, dy = [int(x) for x in re.findall(r\"[+-]?\\d+\", s)]\n",
    "    return (x,y), (dx, dy)\n",
    "points = [get_point_from_str(x) for x in lines]"
   ]
  },
  {
   "cell_type": "code",
   "execution_count": 346,
   "metadata": {},
   "outputs": [],
   "source": [
    "def bounding_box(points):\n",
    "    min_x = min([x[0][0] for x in points])\n",
    "    max_x = max([x[0][0] for x in points])\n",
    "    min_y = min([x[0][1] for x in points])\n",
    "    max_y = max([x[0][1] for x in points])\n",
    "    area = abs(max_x - min_x) * abs(max_y - min_y)\n",
    "    return area, (min_x, min_y), (max_x, max_y)\n",
    "\n",
    "def step(x):\n",
    "    return (x[0][0] + x[1][0], x[0][1] + x[1][1]), x[1]"
   ]
  },
  {
   "cell_type": "code",
   "execution_count": 347,
   "metadata": {},
   "outputs": [],
   "source": [
    "step_list = []\n",
    "for i in range(15000):\n",
    "    points = [step(x) for x in points]\n",
    "    bbox = bounding_box(points)\n",
    "    step_list.append((bbox, points))"
   ]
  },
  {
   "cell_type": "code",
   "execution_count": 348,
   "metadata": {},
   "outputs": [],
   "source": [
    "import matplotlib.pyplot as plt\n",
    "%matplotlib inline"
   ]
  },
  {
   "cell_type": "code",
   "execution_count": 349,
   "metadata": {},
   "outputs": [],
   "source": [
    "bbox_areas = []\n",
    "for entry in step_list:\n",
    "    bbox_areas.append(entry[0][0])"
   ]
  },
  {
   "cell_type": "code",
   "execution_count": 350,
   "metadata": {},
   "outputs": [
    {
     "data": {
      "text/plain": [
       "[<matplotlib.lines.Line2D at 0x7f4279c2a550>]"
      ]
     },
     "execution_count": 350,
     "metadata": {},
     "output_type": "execute_result"
    },
    {
     "data": {
      "image/png": "[encoded data removed]",
      "text/plain": [
       "<Figure size 432x288 with 1 Axes>"
      ]
     },
     "metadata": {
      "needs_background": "light"
     },
     "output_type": "display_data"
    }
   ],
   "source": [
    "plt.plot(bbox_areas)"
   ]
  },
  {
   "cell_type": "code",
   "execution_count": 351,
   "metadata": {},
   "outputs": [],
   "source": [
    "step_list = sorted(step_list, key=lambda x:x[0][0])"
   ]
  },
  {
   "cell_type": "code",
   "execution_count": 363,
   "metadata": {},
   "outputs": [],
   "source": [
    "def display_points(points):\n",
    "    min_x = min([x[0][0] for x in points])\n",
    "    max_x = max([x[0][0] for x in points])\n",
    "    min_y = min([x[0][1] for x in points])\n",
    "    max_y = max([x[0][1] for x in points])\n",
    "    used = set([x[0] for x in points])\n",
    "    s = \"\"\n",
    "    for r in range(min_y, max_y+1):\n",
    "        for c in range(min_x, max_x+1):\n",
    "            if (c, r) in used:\n",
    "                s += \"#\"\n",
    "            else:\n",
    "                s += \".\"\n",
    "        s += \"\\n\"\n",
    "    print(s)"
   ]
  },
  {
   "cell_type": "code",
   "execution_count": 364,
   "metadata": {},
   "outputs": [
    {
     "name": "stdout",
     "output_type": "stream",
     "text": [
      ".####...######..#....#..#....#...####....####....####...#....#\n",
      "#....#..#.......##...#..#...#...#....#..#....#..#....#..#....#\n",
      "#.......#.......##...#..#..#....#.......#.......#.......#....#\n",
      "#.......#.......#.#..#..#.#.....#.......#.......#.......#....#\n",
      "#.......#####...#.#..#..##......#.......#.......#.......######\n",
      "#..###..#.......#..#.#..##......#.......#..###..#..###..#....#\n",
      "#....#..#.......#..#.#..#.#.....#.......#....#..#....#..#....#\n",
      "#....#..#.......#...##..#..#....#.......#....#..#....#..#....#\n",
      "#...##..#.......#...##..#...#...#....#..#...##..#...##..#....#\n",
      ".###.#..#.......#....#..#....#...####....###.#...###.#..#....#\n",
      "\n"
     ]
    }
   ],
   "source": [
    "display_points(step_list[0][1])"
   ]
  },
  {
   "cell_type": "code",
   "execution_count": 365,
   "metadata": {},
   "outputs": [],
   "source": [
    "# Part 2"
   ]
  },
  {
   "cell_type": "code",
   "execution_count": 368,
   "metadata": {},
   "outputs": [],
   "source": [
    "target_bbox = step_list[0][0][0]"
   ]
  },
  {
   "cell_type": "code",
   "execution_count": 370,
   "metadata": {},
   "outputs": [],
   "source": [
    "lines = [x.strip() for x in open('day10.in').readlines()]\n",
    "def get_point_from_str(s):\n",
    "    x, y, dx, dy = [int(x) for x in re.findall(r\"[+-]?\\d+\", s)]\n",
    "    return (x,y), (dx, dy)\n",
    "points = [get_point_from_str(x) for x in lines]"
   ]
  },
  {
   "cell_type": "code",
   "execution_count": 371,
   "metadata": {},
   "outputs": [
    {
     "name": "stdout",
     "output_type": "stream",
     "text": [
      "10274\n"
     ]
    }
   ],
   "source": [
    "step_list = []\n",
    "for i in range(1, 15000):\n",
    "    points = [step(x) for x in points]\n",
    "    bbox = bounding_box(points)\n",
    "    if bbox[0] == target_bbox:\n",
    "        print(i)\n",
    "        break"
   ]
  },
  {
   "cell_type": "markdown",
   "metadata": {},
   "source": [
    "# Day 11"
   ]
  },
  {
   "cell_type": "code",
   "execution_count": 434,
   "metadata": {},
   "outputs": [],
   "source": [
    "serial = 8868"
   ]
  },
  {
   "cell_type": "code",
   "execution_count": 446,
   "metadata": {},
   "outputs": [],
   "source": [
    "def get_power_raw(x, y, serial):\n",
    "    a = x + 10\n",
    "    rack_power = a\n",
    "    a = a * y\n",
    "    a  = a + serial\n",
    "    a = a * rack_power\n",
    "    a = a // 100 \n",
    "    a = a % 10\n",
    "    a = a - 5\n",
    "    return a"
   ]
  },
  {
   "cell_type": "code",
   "execution_count": 449,
   "metadata": {},
   "outputs": [
    {
     "data": {
      "text/plain": [
       "4"
      ]
     },
     "execution_count": 449,
     "metadata": {},
     "output_type": "execute_result"
    }
   ],
   "source": [
    "get_power_raw(3,5,8)"
   ]
  },
  {
   "cell_type": "code",
   "execution_count": 450,
   "metadata": {},
   "outputs": [
    {
     "data": {
      "text/plain": [
       "-5"
      ]
     },
     "execution_count": 450,
     "metadata": {},
     "output_type": "execute_result"
    }
   ],
   "source": [
    "get_power_raw(122,79,57)"
   ]
  },
  {
   "cell_type": "code",
   "execution_count": 451,
   "metadata": {},
   "outputs": [
    {
     "data": {
      "text/plain": [
       "0"
      ]
     },
     "execution_count": 451,
     "metadata": {},
     "output_type": "execute_result"
    }
   ],
   "source": [
    "get_power_raw(217,196,39)"
   ]
  },
  {
   "cell_type": "code",
   "execution_count": 452,
   "metadata": {},
   "outputs": [
    {
     "data": {
      "text/plain": [
       "4"
      ]
     },
     "execution_count": 452,
     "metadata": {},
     "output_type": "execute_result"
    }
   ],
   "source": [
    "get_power_raw(101,153,71)"
   ]
  },
  {
   "cell_type": "code",
   "execution_count": 453,
   "metadata": {},
   "outputs": [],
   "source": [
    "grid = {}\n",
    "for i in range(1,301):\n",
    "    for j in range(1,301):\n",
    "        grid[(i,j)] = get_power_raw(i,j,serial)"
   ]
  },
  {
   "cell_type": "code",
   "execution_count": 454,
   "metadata": {},
   "outputs": [],
   "source": [
    "def get_power_grid(i,j,grid):\n",
    "    total = 0\n",
    "    for dx in range(0,3):\n",
    "        for dy in range(0,3):\n",
    "            p = (i+dx, j+dy)\n",
    "            if p not in grid:\n",
    "                return -100\n",
    "            total += grid[p]\n",
    "    return total\n",
    "\n",
    "powers = []\n",
    "for i in range(1, 301):\n",
    "    for j in range(1, 301):\n",
    "        powers.append(((i,j), get_power_grid(i,j,grid) ))"
   ]
  },
  {
   "cell_type": "code",
   "execution_count": 455,
   "metadata": {},
   "outputs": [],
   "source": [
    "powers = sorted(powers,key=lambda x: x[1], reverse=True)"
   ]
  },
  {
   "cell_type": "code",
   "execution_count": 456,
   "metadata": {},
   "outputs": [
    {
     "data": {
      "text/plain": [
       "((241, 40), 30)"
      ]
     },
     "execution_count": 456,
     "metadata": {},
     "output_type": "execute_result"
    }
   ],
   "source": [
    "powers[0]"
   ]
  },
  {
   "cell_type": "code",
   "execution_count": 457,
   "metadata": {},
   "outputs": [],
   "source": [
    "# Part 2"
   ]
  },
  {
   "cell_type": "code",
   "execution_count": 464,
   "metadata": {},
   "outputs": [],
   "source": [
    "def get_power_grid(i,j,grid,size):\n",
    "    total = 0\n",
    "    mx = i + size\n",
    "    my = j + size\n",
    "    if mx > 300 or my > 300:\n",
    "        return - 100\n",
    "    return np.sum(grid[i:mx,j:my])"
   ]
  },
  {
   "cell_type": "code",
   "execution_count": 465,
   "metadata": {},
   "outputs": [],
   "source": [
    "import numpy as np\n",
    "np_grid = np.zeros(shape=(301,301))\n",
    "for i in range(1,301):\n",
    "    for j in range(1, 301):\n",
    "        np_grid[i][j] = grid[(i,j)]"
   ]
  },
  {
   "cell_type": "code",
   "execution_count": 467,
   "metadata": {},
   "outputs": [
    {
     "name": "stdout",
     "output_type": "stream",
     "text": [
      "2\n",
      "3\n",
      "4\n",
      "5\n",
      "6\n",
      "7\n",
      "8\n",
      "9\n",
      "10\n",
      "11\n",
      "12\n",
      "13\n",
      "14\n",
      "15\n",
      "16\n",
      "17\n",
      "18\n",
      "19\n",
      "20\n",
      "21\n",
      "22\n",
      "23\n",
      "24\n",
      "25\n",
      "26\n",
      "27\n",
      "28\n",
      "29\n",
      "30\n",
      "31\n",
      "32\n",
      "33\n",
      "34\n",
      "35\n",
      "36\n",
      "37\n",
      "38\n",
      "39\n",
      "40\n",
      "41\n",
      "42\n",
      "43\n",
      "44\n",
      "45\n",
      "46\n",
      "47\n",
      "48\n",
      "49\n",
      "50\n",
      "51\n",
      "52\n",
      "53\n",
      "54\n",
      "55\n",
      "56\n",
      "57\n",
      "58\n",
      "59\n",
      "60\n",
      "61\n",
      "62\n",
      "63\n",
      "64\n",
      "65\n",
      "66\n",
      "67\n",
      "68\n",
      "69\n",
      "70\n",
      "71\n",
      "72\n",
      "73\n",
      "74\n",
      "75\n",
      "76\n",
      "77\n",
      "78\n",
      "79\n",
      "80\n",
      "81\n",
      "82\n",
      "83\n",
      "84\n",
      "85\n",
      "86\n",
      "87\n",
      "88\n",
      "89\n",
      "90\n",
      "91\n",
      "92\n",
      "93\n",
      "94\n",
      "95\n",
      "96\n",
      "97\n",
      "98\n",
      "99\n",
      "100\n",
      "101\n",
      "102\n",
      "103\n",
      "104\n",
      "105\n",
      "106\n",
      "107\n",
      "108\n",
      "109\n",
      "110\n",
      "111\n",
      "112\n",
      "113\n",
      "114\n",
      "115\n",
      "116\n",
      "117\n",
      "118\n",
      "119\n",
      "120\n",
      "121\n",
      "122\n",
      "123\n",
      "124\n",
      "125\n",
      "126\n",
      "127\n",
      "128\n",
      "129\n",
      "130\n",
      "131\n",
      "132\n",
      "133\n",
      "134\n",
      "135\n",
      "136\n",
      "137\n",
      "138\n",
      "139\n",
      "140\n",
      "141\n",
      "142\n",
      "143\n",
      "144\n",
      "145\n",
      "146\n",
      "147\n",
      "148\n",
      "149\n",
      "150\n",
      "151\n",
      "152\n",
      "153\n",
      "154\n",
      "155\n",
      "156\n",
      "157\n",
      "158\n",
      "159\n",
      "160\n",
      "161\n",
      "162\n",
      "163\n",
      "164\n",
      "165\n",
      "166\n",
      "167\n",
      "168\n",
      "169\n",
      "170\n",
      "171\n",
      "172\n",
      "173\n",
      "174\n",
      "175\n",
      "176\n",
      "177\n",
      "178\n",
      "179\n",
      "180\n",
      "181\n",
      "182\n",
      "183\n",
      "184\n",
      "185\n",
      "186\n",
      "187\n",
      "188\n",
      "189\n",
      "190\n",
      "191\n",
      "192\n",
      "193\n",
      "194\n",
      "195\n",
      "196\n",
      "197\n",
      "198\n",
      "199\n",
      "200\n",
      "201\n",
      "202\n",
      "203\n",
      "204\n",
      "205\n",
      "206\n",
      "207\n",
      "208\n",
      "209\n",
      "210\n",
      "211\n",
      "212\n",
      "213\n",
      "214\n",
      "215\n",
      "216\n",
      "217\n",
      "218\n",
      "219\n",
      "220\n",
      "221\n",
      "222\n",
      "223\n",
      "224\n",
      "225\n",
      "226\n",
      "227\n",
      "228\n",
      "229\n",
      "230\n",
      "231\n",
      "232\n",
      "233\n",
      "234\n",
      "235\n",
      "236\n",
      "237\n",
      "238\n",
      "239\n",
      "240\n",
      "241\n",
      "242\n",
      "243\n",
      "244\n",
      "245\n",
      "246\n",
      "247\n",
      "248\n",
      "249\n",
      "250\n",
      "251\n",
      "252\n",
      "253\n",
      "254\n",
      "255\n",
      "256\n",
      "257\n",
      "258\n",
      "259\n",
      "260\n",
      "261\n",
      "262\n",
      "263\n",
      "264\n",
      "265\n",
      "266\n",
      "267\n",
      "268\n",
      "269\n",
      "270\n",
      "271\n",
      "272\n",
      "273\n",
      "274\n",
      "275\n",
      "276\n",
      "277\n",
      "278\n",
      "279\n",
      "280\n",
      "281\n",
      "282\n",
      "283\n",
      "284\n",
      "285\n",
      "286\n",
      "287\n",
      "288\n",
      "289\n",
      "290\n",
      "291\n",
      "292\n",
      "293\n",
      "294\n",
      "295\n",
      "296\n",
      "297\n",
      "298\n",
      "299\n",
      "300\n"
     ]
    }
   ],
   "source": [
    "powers = []\n",
    "for k in range(2,301):\n",
    "    print(k)\n",
    "    for i in range(1, 301):\n",
    "        for j in range(1, 301):        \n",
    "            powers.append(((i,j,k), get_power_grid(i,j,np_grid,k)))"
   ]
  },
  {
   "cell_type": "code",
   "execution_count": 468,
   "metadata": {},
   "outputs": [
    {
     "data": {
      "text/plain": [
       "((166, 75, 12), 71.0)"
      ]
     },
     "execution_count": 468,
     "metadata": {},
     "output_type": "execute_result"
    }
   ],
   "source": [
    "powers = sorted(powers,key=lambda x: x[1], reverse=True)\n",
    "powers[0]"
   ]
  },
  {
   "cell_type": "markdown",
   "metadata": {},
   "source": [
    "# Day 12"
   ]
  },
  {
   "cell_type": "code",
   "execution_count": 533,
   "metadata": {},
   "outputs": [],
   "source": [
    "initial_state = \"###.......##....#.#.#..###.##..##.....#....#.#.....##.###...###.#...###.###.#.###...#.####.##.#....#\"\n",
    "initial_state = \".\"*100 + initial_state + \".\"*100"
   ]
  },
  {
   "cell_type": "code",
   "execution_count": 534,
   "metadata": {},
   "outputs": [
    {
     "data": {
      "text/plain": [
       "'....................................................................................................###.......##....#.#.#..###.##..##.....#....#.#.....##.###...###.#...###.###.#.###...#.####.##.#....#....................................................................................................'"
      ]
     },
     "execution_count": 534,
     "metadata": {},
     "output_type": "execute_result"
    }
   ],
   "source": [
    "initial_state"
   ]
  },
  {
   "cell_type": "code",
   "execution_count": 535,
   "metadata": {},
   "outputs": [],
   "source": [
    "moves = \"\"\"..... => .\n",
    "#..## => .\n",
    "..### => #\n",
    "..#.# => #\n",
    ".#.#. => .\n",
    "####. => .\n",
    "##.## => #\n",
    "#.... => .\n",
    "#...# => .\n",
    "...## => .\n",
    "##..# => .\n",
    ".###. => #\n",
    "##### => #\n",
    "#.#.. => #\n",
    ".##.. => #\n",
    ".#.## => .\n",
    "...#. => #\n",
    "#.##. => #\n",
    "..#.. => #\n",
    "##... => #\n",
    "....# => .\n",
    "###.# => #\n",
    "#..#. => #\n",
    "#.### => #\n",
    "##.#. => .\n",
    "###.. => #\n",
    ".#### => .\n",
    ".#... => #\n",
    "..##. => .\n",
    ".##.# => .\n",
    "#.#.# => #\n",
    ".#..# => .\"\"\""
   ]
  },
  {
   "cell_type": "code",
   "execution_count": 536,
   "metadata": {},
   "outputs": [],
   "source": [
    "moves = [x.strip().split(\" => \") for x in moves.split(\"\\n\")]"
   ]
  },
  {
   "cell_type": "code",
   "execution_count": 537,
   "metadata": {},
   "outputs": [],
   "source": [
    "def generation(state, moves):\n",
    "    move_map = {x[0]:x[1] for x in moves}\n",
    "    new_state = \"..\"\n",
    "    for i in range(2, len(state) - 3):\n",
    "        strip = state[i-2:i+3]\n",
    "        if strip not in move_map:\n",
    "            raise ValueError(strip)\n",
    "        new_state += move_map[strip]\n",
    "    new_state += \"..\"\n",
    "    return new_state"
   ]
  },
  {
   "cell_type": "code",
   "execution_count": 538,
   "metadata": {},
   "outputs": [
    {
     "name": "stdout",
     "output_type": "stream",
     "text": [
      "47\n"
     ]
    }
   ],
   "source": [
    "new_state = initial_state\n",
    "for i in range(20):\n",
    "    new_state = generation(new_state, moves)\n",
    "num_on = [x for x in new_state if x == \"#\"]\n",
    "print(len(num_on))"
   ]
  },
  {
   "cell_type": "code",
   "execution_count": 540,
   "metadata": {},
   "outputs": [],
   "source": [
    "start_value = -100\n",
    "total = 0\n",
    "for i, c in enumerate(new_state):\n",
    "    if c == '#':\n",
    "        total += start_value\n",
    "    start_value += 1"
   ]
  },
  {
   "cell_type": "code",
   "execution_count": 541,
   "metadata": {},
   "outputs": [
    {
     "data": {
      "text/plain": [
       "(3221, 180)"
      ]
     },
     "execution_count": 541,
     "metadata": {},
     "output_type": "execute_result"
    }
   ],
   "source": [
    "total, start_value"
   ]
  },
  {
   "cell_type": "code",
   "execution_count": 544,
   "metadata": {},
   "outputs": [],
   "source": [
    "## Part 2"
   ]
  },
  {
   "cell_type": "code",
   "execution_count": 549,
   "metadata": {},
   "outputs": [],
   "source": [
    "initial_state = \"###.......##....#.#.#..###.##..##.....#....#.#.....##.###...###.#...###.###.#.###...#.####.##.#....#\"\n",
    "initial_state = \".\"*1000 + initial_state + \".\"*1000"
   ]
  },
  {
   "cell_type": "code",
   "execution_count": 554,
   "metadata": {},
   "outputs": [
    {
     "name": "stdout",
     "output_type": "stream",
     "text": [
      "0 3093\n",
      "1 2695\n",
      "2 2922\n",
      "3 2885\n",
      "4 2785\n",
      "5 2752\n",
      "6 2989\n",
      "7 3109\n",
      "8 2894\n",
      "9 2680\n",
      "10 2957\n",
      "11 2988\n",
      "12 2880\n",
      "13 2883\n",
      "14 3011\n",
      "15 3073\n",
      "16 3127\n",
      "17 3164\n",
      "18 3092\n",
      "19 3221\n",
      "20 3411\n",
      "21 3225\n",
      "22 3399\n",
      "23 3400\n",
      "24 3363\n",
      "25 3431\n",
      "26 3454\n",
      "27 3558\n",
      "28 3778\n",
      "29 3528\n",
      "30 3627\n",
      "31 3617\n",
      "32 3920\n",
      "33 3647\n",
      "34 3798\n",
      "35 3653\n",
      "36 3995\n",
      "37 4024\n",
      "38 3953\n",
      "39 3936\n",
      "40 4151\n",
      "41 4044\n",
      "42 4001\n",
      "43 4129\n",
      "44 4374\n",
      "45 4052\n",
      "46 4152\n",
      "47 4175\n",
      "48 4455\n",
      "49 4467\n",
      "50 4445\n",
      "51 4694\n",
      "52 4648\n",
      "53 4590\n",
      "54 4630\n",
      "55 4589\n",
      "56 5027\n",
      "57 4873\n",
      "58 4721\n",
      "59 5160\n",
      "60 5124\n",
      "61 5066\n",
      "62 5301\n",
      "63 5079\n",
      "64 5290\n",
      "65 5351\n",
      "66 5406\n",
      "67 5428\n",
      "68 5388\n",
      "69 5351\n",
      "70 5591\n",
      "71 5361\n",
      "72 5640\n",
      "73 5716\n",
      "74 5595\n",
      "75 5971\n",
      "76 5952\n",
      "77 6105\n",
      "78 6213\n",
      "79 6235\n",
      "80 6408\n",
      "81 6490\n",
      "82 6443\n",
      "83 6461\n",
      "84 6420\n",
      "85 6416\n",
      "86 6545\n",
      "87 6407\n",
      "88 6581\n",
      "89 6503\n",
      "90 6673\n",
      "91 6566\n",
      "92 6781\n",
      "93 6663\n",
      "94 6774\n",
      "95 6834\n",
      "96 6980\n",
      "97 6831\n",
      "98 6873\n",
      "99 6930\n",
      "100 7180\n",
      "101 7027\n",
      "102 6974\n",
      "103 7226\n",
      "104 7279\n",
      "105 7322\n",
      "106 7375\n",
      "107 7622\n",
      "108 7573\n",
      "109 7825\n",
      "110 7865\n",
      "111 7936\n",
      "112 7883\n",
      "113 7929\n",
      "114 7781\n",
      "115 8032\n",
      "116 7992\n",
      "117 8028\n",
      "118 7875\n",
      "119 8131\n",
      "120 8192\n",
      "121 8126\n",
      "122 8077\n",
      "123 8227\n",
      "124 8072\n",
      "125 8328\n",
      "126 8482\n",
      "127 8428\n",
      "128 8580\n",
      "129 8632\n",
      "130 8684\n",
      "131 8736\n",
      "132 8788\n",
      "133 8840\n",
      "134 8892\n",
      "135 8944\n",
      "136 8996\n",
      "137 9048\n",
      "138 9100\n",
      "139 9152\n",
      "140 9204\n",
      "141 9256\n",
      "142 9308\n",
      "143 9360\n",
      "144 9412\n",
      "145 9464\n",
      "146 9516\n",
      "147 9568\n",
      "148 9620\n",
      "149 9672\n",
      "150 9724\n",
      "151 9776\n",
      "152 9828\n",
      "153 9880\n",
      "154 9932\n",
      "155 9984\n",
      "156 10036\n",
      "157 10088\n",
      "158 10140\n",
      "159 10192\n",
      "160 10244\n",
      "161 10296\n",
      "162 10348\n",
      "163 10400\n",
      "164 10452\n",
      "165 10504\n",
      "166 10556\n",
      "167 10608\n",
      "168 10660\n",
      "169 10712\n",
      "170 10764\n",
      "171 10816\n",
      "172 10868\n",
      "173 10920\n",
      "174 10972\n",
      "175 11024\n",
      "176 11076\n",
      "177 11128\n",
      "178 11180\n",
      "179 11232\n",
      "180 11284\n",
      "181 11336\n",
      "182 11388\n",
      "183 11440\n",
      "184 11492\n",
      "185 11544\n",
      "186 11596\n",
      "187 11648\n",
      "188 11700\n",
      "189 11752\n",
      "190 11804\n",
      "191 11856\n",
      "192 11908\n",
      "193 11960\n",
      "194 12012\n",
      "195 12064\n",
      "196 12116\n",
      "197 12168\n",
      "198 12220\n",
      "199 12272\n",
      "200 12324\n",
      "201 12376\n",
      "202 12428\n",
      "203 12480\n",
      "204 12532\n",
      "205 12584\n",
      "206 12636\n",
      "207 12688\n",
      "208 12740\n",
      "209 12792\n",
      "210 12844\n",
      "211 12896\n",
      "212 12948\n",
      "213 13000\n",
      "214 13052\n",
      "215 13104\n",
      "216 13156\n",
      "217 13208\n",
      "218 13260\n",
      "219 13312\n",
      "220 13364\n",
      "221 13416\n",
      "222 13468\n",
      "223 13520\n",
      "224 13572\n",
      "225 13624\n",
      "226 13676\n",
      "227 13728\n",
      "228 13780\n",
      "229 13832\n",
      "230 13884\n",
      "231 13936\n",
      "232 13988\n",
      "233 14040\n",
      "234 14092\n",
      "235 14144\n",
      "236 14196\n",
      "237 14248\n",
      "238 14300\n",
      "239 14352\n",
      "240 14404\n",
      "241 14456\n",
      "242 14508\n",
      "243 14560\n",
      "244 14612\n",
      "245 14664\n",
      "246 14716\n",
      "247 14768\n",
      "248 14820\n",
      "249 14872\n",
      "250 14924\n",
      "251 14976\n",
      "252 15028\n",
      "253 15080\n",
      "254 15132\n",
      "255 15184\n",
      "256 15236\n",
      "257 15288\n",
      "258 15340\n",
      "259 15392\n",
      "260 15444\n",
      "261 15496\n",
      "262 15548\n",
      "263 15600\n",
      "264 15652\n",
      "265 15704\n",
      "266 15756\n",
      "267 15808\n",
      "268 15860\n",
      "269 15912\n",
      "270 15964\n",
      "271 16016\n",
      "272 16068\n",
      "273 16120\n",
      "274 16172\n",
      "275 16224\n",
      "276 16276\n",
      "277 16328\n",
      "278 16380\n",
      "279 16432\n",
      "280 16484\n",
      "281 16536\n",
      "282 16588\n",
      "283 16640\n",
      "284 16692\n",
      "285 16744\n",
      "286 16796\n",
      "287 16848\n",
      "288 16900\n",
      "289 16952\n",
      "290 17004\n",
      "291 17056\n",
      "292 17108\n",
      "293 17160\n",
      "294 17212\n",
      "295 17264\n",
      "296 17316\n",
      "297 17368\n",
      "298 17420\n",
      "299 17472\n",
      "300 17524\n",
      "301 17576\n",
      "302 17628\n",
      "303 17680\n",
      "304 17732\n",
      "305 17784\n",
      "306 17836\n",
      "307 17888\n",
      "308 17940\n",
      "309 17992\n",
      "310 18044\n",
      "311 18096\n",
      "312 18148\n",
      "313 18200\n",
      "314 18252\n",
      "315 18304\n",
      "316 18356\n",
      "317 18408\n",
      "318 18460\n",
      "319 18512\n",
      "320 18564\n",
      "321 18616\n",
      "322 18668\n",
      "323 18720\n",
      "324 18772\n",
      "325 18824\n",
      "326 18876\n",
      "327 18928\n",
      "328 18980\n",
      "329 19032\n",
      "330 19084\n",
      "331 19136\n",
      "332 19188\n",
      "333 19240\n",
      "334 19292\n",
      "335 19344\n",
      "336 19396\n",
      "337 19448\n",
      "338 19500\n",
      "339 19552\n",
      "340 19604\n",
      "341 19656\n",
      "342 19708\n",
      "343 19760\n",
      "344 19812\n",
      "345 19864\n",
      "346 19916\n",
      "347 19968\n",
      "348 20020\n",
      "349 20072\n",
      "350 20124\n",
      "351 20176\n",
      "352 20228\n",
      "353 20280\n",
      "354 20332\n",
      "355 20384\n",
      "356 20436\n",
      "357 20488\n",
      "358 20540\n",
      "359 20592\n",
      "360 20644\n",
      "361 20696\n",
      "362 20748\n",
      "363 20800\n",
      "364 20852\n",
      "365 20904\n",
      "366 20956\n",
      "367 21008\n",
      "368 21060\n",
      "369 21112\n",
      "370 21164\n",
      "371 21216\n",
      "372 21268\n",
      "373 21320\n",
      "374 21372\n",
      "375 21424\n",
      "376 21476\n",
      "377 21528\n",
      "378 21580\n",
      "379 21632\n",
      "380 21684\n",
      "381 21736\n",
      "382 21788\n",
      "383 21840\n",
      "384 21892\n",
      "385 21944\n",
      "386 21996\n",
      "387 22048\n",
      "388 22100\n",
      "389 22152\n",
      "390 22204\n",
      "391 22256\n",
      "392 22308\n",
      "393 22360\n",
      "394 22412\n",
      "395 22464\n",
      "396 22516\n",
      "397 22568\n",
      "398 22620\n",
      "399 22672\n",
      "400 22724\n"
     ]
    }
   ],
   "source": [
    "def calc_total(new_state):\n",
    "    start_value = -1000\n",
    "    total = 0\n",
    "    for i, c in enumerate(new_state):\n",
    "        if c == '#':\n",
    "            total += start_value\n",
    "        start_value += 1\n",
    "    return total\n",
    "        \n",
    "new_state = initial_state\n",
    "for i in range(401):\n",
    "    new_state = generation(new_state, moves)\n",
    "    num_on = [x for x in new_state if x == \"#\"]\n",
    "    print(i, calc_total(new_state))"
   ]
  },
  {
   "cell_type": "code",
   "execution_count": 557,
   "metadata": {},
   "outputs": [
    {
     "data": {
      "text/plain": [
       "2600000001872"
      ]
     },
     "execution_count": 557,
     "metadata": {},
     "output_type": "execute_result"
    }
   ],
   "source": [
    "(50000000000 - 400) * (22724 - 22672) + 22672"
   ]
  },
  {
   "cell_type": "markdown",
   "metadata": {},
   "source": [
    "# Day 13"
   ]
  },
  {
   "cell_type": "code",
   "execution_count": null,
   "metadata": {},
   "outputs": [],
   "source": [
    "dirs = [\n",
    "    ()\n",
    "]\n",
    "class Cart(object):\n",
    "    def __init__(self, x, y, s):\n",
    "        if s "
   ]
  }
 ],
 "metadata": {
  "kernelspec": {
   "display_name": "Python 3",
   "language": "python",
   "name": "python3"
  },
  "language_info": {
   "codemirror_mode": {
    "name": "ipython",
    "version": 3
   },
   "file_extension": ".py",
   "mimetype": "text/x-python",
   "name": "python",
   "nbconvert_exporter": "python",
   "pygments_lexer": "ipython3",
   "version": "3.6.7"
  }
 },
 "nbformat": 4,
 "nbformat_minor": 2
}
