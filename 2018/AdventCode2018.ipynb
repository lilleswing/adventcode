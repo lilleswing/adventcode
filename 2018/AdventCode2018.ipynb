{
 "cells": [
  {
   "cell_type": "markdown",
   "metadata": {},
   "source": [
    "# Day01"
   ]
  },
  {
   "cell_type": "code",
   "execution_count": 1,
   "metadata": {},
   "outputs": [],
   "source": [
    "lines = [x.strip() for x in open('day01.in').readlines()]\n",
    "vals = [int(x) for x in lines]"
   ]
  },
  {
   "cell_type": "code",
   "execution_count": 2,
   "metadata": {},
   "outputs": [
    {
     "data": {
      "text/plain": [
       "477"
      ]
     },
     "execution_count": 2,
     "metadata": {},
     "output_type": "execute_result"
    }
   ],
   "source": [
    "sum(vals)"
   ]
  },
  {
   "cell_type": "code",
   "execution_count": 3,
   "metadata": {},
   "outputs": [
    {
     "name": "stdout",
     "output_type": "stream",
     "text": [
      "390\n"
     ]
    }
   ],
   "source": [
    "#Part 2\n",
    "t = 0\n",
    "used = set([0])\n",
    "done = False\n",
    "while not done:\n",
    "    for v in vals:\n",
    "        t += v\n",
    "        if t in used:\n",
    "            print(t)\n",
    "            done = True\n",
    "            break\n",
    "        used.add(t)\n",
    "    "
   ]
  },
  {
   "cell_type": "markdown",
   "metadata": {},
   "source": [
    "# Day 02"
   ]
  },
  {
   "cell_type": "code",
   "execution_count": 4,
   "metadata": {},
   "outputs": [],
   "source": [
    "lines = [x.strip() for x in open('day02.in').readlines()]"
   ]
  },
  {
   "cell_type": "code",
   "execution_count": 5,
   "metadata": {},
   "outputs": [
    {
     "data": {
      "text/plain": [
       "(250, 20, 5000)"
      ]
     },
     "execution_count": 5,
     "metadata": {},
     "output_type": "execute_result"
    }
   ],
   "source": [
    "import collections\n",
    "def to_bag(s):\n",
    "    d = collections.defaultdict(int)\n",
    "    for i in s:\n",
    "        d[i] += 1\n",
    "    return d\n",
    "\n",
    "def has_count(d, count):\n",
    "    for v in d.values():\n",
    "        if v == count:\n",
    "            return True\n",
    "    return False\n",
    "bags = [to_bag(x) for x in lines]\n",
    "has_two = [has_count(x, 2) for x in bags]\n",
    "has_three = [has_count(x, 3) for x in bags]\n",
    "sum(has_two), sum(has_three), sum(has_two) * sum(has_three)"
   ]
  },
  {
   "cell_type": "code",
   "execution_count": 6,
   "metadata": {},
   "outputs": [
    {
     "name": "stdout",
     "output_type": "stream",
     "text": [
      "ymdrchgpvwfloluktajxijsqb\n",
      "ymdrchgpvwfloluktajxijsqb\n"
     ]
    }
   ],
   "source": [
    "# Part 2\n",
    "def diff_strings(s1, s2):\n",
    "    return sum([x[0] != x[1] for x in zip(s1, s2)])\n",
    "\n",
    "def same_letters(s1, s2):\n",
    "    retval = \"\"\n",
    "    for a, b in zip(s1, s2):\n",
    "        if a == b:\n",
    "            retval += a\n",
    "    return retval\n",
    "\n",
    "for p1 in lines:\n",
    "    for p2 in lines:\n",
    "        if diff_strings(p1, p2) == 1:\n",
    "            print(same_letters(p1, p2))"
   ]
  },
  {
   "cell_type": "markdown",
   "metadata": {},
   "source": [
    "# Day 03"
   ]
  },
  {
   "cell_type": "code",
   "execution_count": 7,
   "metadata": {},
   "outputs": [],
   "source": [
    "lines = [x.strip() for x in open('day03.in').readlines()]"
   ]
  },
  {
   "cell_type": "code",
   "execution_count": 8,
   "metadata": {},
   "outputs": [
    {
     "data": {
      "text/plain": [
       "[265, 241, 16, 26]"
      ]
     },
     "execution_count": 8,
     "metadata": {},
     "output_type": "execute_result"
    }
   ],
   "source": [
    "import re\n",
    "def parse_line(s):\n",
    "    return [int(x) for x in re.findall(\"\\d+\", s)[1:]]\n",
    "parse_line(lines[0])"
   ]
  },
  {
   "cell_type": "code",
   "execution_count": 9,
   "metadata": {},
   "outputs": [
    {
     "data": {
      "text/plain": [
       "101781"
      ]
     },
     "execution_count": 9,
     "metadata": {},
     "output_type": "execute_result"
    }
   ],
   "source": [
    "import numpy as np\n",
    "width, height = 10000, 10000\n",
    "grid = np.zeros((width, height))\n",
    "def mark_grid(grid, tup):\n",
    "    sx, sy = tup[0], tup[1]\n",
    "    dx, dy = tup[2], tup[3]\n",
    "    grid[sx:sx+dx,sy:sy+dy] += 1\n",
    "for l in lines:\n",
    "    t = parse_line(l)\n",
    "    mark_grid(grid, t)\n",
    "np.sum(grid.flatten() > 1)"
   ]
  },
  {
   "cell_type": "code",
   "execution_count": 10,
   "metadata": {},
   "outputs": [],
   "source": [
    "# Part 2"
   ]
  },
  {
   "cell_type": "code",
   "execution_count": 11,
   "metadata": {},
   "outputs": [
    {
     "name": "stdout",
     "output_type": "stream",
     "text": [
      "#909 @ 593,172: 15x25\n"
     ]
    }
   ],
   "source": [
    "def is_unique(grid, tup):\n",
    "    sx, sy = tup[0], tup[1]\n",
    "    dx, dy = tup[2], tup[3]\n",
    "    return np.all(grid[sx:sx+dx,sy:sy+dy] == 1)\n",
    "for l in lines:\n",
    "    t = parse_line(l)\n",
    "    if is_unique(grid, t):\n",
    "        print(l)"
   ]
  },
  {
   "cell_type": "markdown",
   "metadata": {},
   "source": [
    "# Day 04"
   ]
  },
  {
   "cell_type": "code",
   "execution_count": 12,
   "metadata": {},
   "outputs": [],
   "source": [
    "lines = [x.strip() for x in open('day04.in').readlines()]"
   ]
  },
  {
   "cell_type": "code",
   "execution_count": 13,
   "metadata": {},
   "outputs": [],
   "source": [
    "lines = sorted(lines)"
   ]
  },
  {
   "cell_type": "code",
   "execution_count": 14,
   "metadata": {},
   "outputs": [],
   "source": [
    "import datetime"
   ]
  },
  {
   "cell_type": "code",
   "execution_count": 15,
   "metadata": {},
   "outputs": [],
   "source": [
    "datetime_object = datetime.datetime.strptime('1518-02-10 23:47', '%Y-%m-%d %H:%M')"
   ]
  },
  {
   "cell_type": "code",
   "execution_count": 16,
   "metadata": {},
   "outputs": [
    {
     "data": {
      "text/plain": [
       "datetime.timedelta(0, 60)"
      ]
     },
     "execution_count": 16,
     "metadata": {},
     "output_type": "execute_result"
    }
   ],
   "source": [
    "datetime.timedelta(minutes=1)"
   ]
  },
  {
   "cell_type": "code",
   "execution_count": 17,
   "metadata": {},
   "outputs": [
    {
     "data": {
      "text/plain": [
       "[(datetime.datetime(1518, 2, 10, 23, 47), '631'),\n",
       " (datetime.datetime(1518, 2, 11, 0, 3), 'Asleep'),\n",
       " (datetime.datetime(1518, 2, 11, 0, 19), 'Awake'),\n",
       " (datetime.datetime(1518, 2, 12, 0, 3), '983'),\n",
       " (datetime.datetime(1518, 2, 12, 0, 9), 'Asleep'),\n",
       " (datetime.datetime(1518, 2, 12, 0, 48), 'Awake'),\n",
       " (datetime.datetime(1518, 2, 12, 23, 59), '1069'),\n",
       " (datetime.datetime(1518, 2, 13, 0, 43), 'Asleep'),\n",
       " (datetime.datetime(1518, 2, 13, 0, 55), 'Awake'),\n",
       " (datetime.datetime(1518, 2, 13, 23, 57), '587'),\n",
       " (datetime.datetime(1518, 2, 14, 0, 36), 'Asleep'),\n",
       " (datetime.datetime(1518, 2, 14, 0, 54), 'Awake'),\n",
       " (datetime.datetime(1518, 2, 15, 0, 3), '1579'),\n",
       " (datetime.datetime(1518, 2, 15, 0, 37), 'Asleep'),\n",
       " (datetime.datetime(1518, 2, 15, 0, 49), 'Awake'),\n",
       " (datetime.datetime(1518, 2, 16, 0, 3), '2179'),\n",
       " (datetime.datetime(1518, 2, 16, 0, 7), 'Asleep'),\n",
       " (datetime.datetime(1518, 2, 16, 0, 48), 'Awake'),\n",
       " (datetime.datetime(1518, 2, 16, 0, 54), 'Asleep'),\n",
       " (datetime.datetime(1518, 2, 16, 0, 58), 'Awake'),\n",
       " (datetime.datetime(1518, 2, 16, 23, 56), '3331'),\n",
       " (datetime.datetime(1518, 2, 17, 0, 36), 'Asleep'),\n",
       " (datetime.datetime(1518, 2, 17, 0, 47), 'Awake'),\n",
       " (datetime.datetime(1518, 2, 18, 0, 2), '2837'),\n",
       " (datetime.datetime(1518, 2, 18, 0, 12), 'Asleep'),\n",
       " (datetime.datetime(1518, 2, 18, 0, 41), 'Awake'),\n",
       " (datetime.datetime(1518, 2, 18, 0, 47), 'Asleep'),\n",
       " (datetime.datetime(1518, 2, 18, 0, 51), 'Awake'),\n",
       " (datetime.datetime(1518, 2, 19, 0, 1), '983'),\n",
       " (datetime.datetime(1518, 2, 19, 0, 24), 'Asleep'),\n",
       " (datetime.datetime(1518, 2, 19, 0, 55), 'Awake'),\n",
       " (datetime.datetime(1518, 2, 19, 23, 59), '1021'),\n",
       " (datetime.datetime(1518, 2, 20, 0, 17), 'Asleep'),\n",
       " (datetime.datetime(1518, 2, 20, 0, 37), 'Awake'),\n",
       " (datetime.datetime(1518, 2, 20, 0, 44), 'Asleep'),\n",
       " (datetime.datetime(1518, 2, 20, 0, 52), 'Awake'),\n",
       " (datetime.datetime(1518, 2, 20, 23, 53), '1579'),\n",
       " (datetime.datetime(1518, 2, 21, 0, 3), 'Asleep'),\n",
       " (datetime.datetime(1518, 2, 21, 0, 23), 'Awake'),\n",
       " (datetime.datetime(1518, 2, 21, 0, 33), 'Asleep'),\n",
       " (datetime.datetime(1518, 2, 21, 0, 50), 'Awake'),\n",
       " (datetime.datetime(1518, 2, 22, 0, 3), '1021'),\n",
       " (datetime.datetime(1518, 2, 22, 0, 12), 'Asleep'),\n",
       " (datetime.datetime(1518, 2, 22, 0, 33), 'Awake'),\n",
       " (datetime.datetime(1518, 2, 22, 0, 47), 'Asleep'),\n",
       " (datetime.datetime(1518, 2, 22, 0, 57), 'Awake'),\n",
       " (datetime.datetime(1518, 2, 22, 23, 49), '2971'),\n",
       " (datetime.datetime(1518, 2, 23, 0, 2), 'Asleep'),\n",
       " (datetime.datetime(1518, 2, 23, 0, 19), 'Awake'),\n",
       " (datetime.datetime(1518, 2, 23, 0, 25), 'Asleep')]"
      ]
     },
     "execution_count": 17,
     "metadata": {},
     "output_type": "execute_result"
    }
   ],
   "source": [
    "import re\n",
    "def get_state(s):\n",
    "    if s.find('falls') > -1:\n",
    "        return \"Asleep\"\n",
    "    if s.find('wakes') > -1:\n",
    "        return \"Awake\"\n",
    "    return re.findall(\"\\d+\", s)[0]\n",
    "\n",
    "def get_time(s):\n",
    "    return datetime.datetime.strptime(s, '%Y-%m-%d %H:%M')\n",
    "\n",
    "def parse_line(s):\n",
    "    vals = s.split('] ')\n",
    "    my_time = vals[0].strip('[')\n",
    "    my_state = vals[1]\n",
    "    return get_time(my_time), get_state(my_state)\n",
    "table = [parse_line(x) for x in lines]\n",
    "table[:50]"
   ]
  },
  {
   "cell_type": "code",
   "execution_count": 18,
   "metadata": {},
   "outputs": [],
   "source": [
    "def fill_time(d, gaurd, state, last_time, this_time):\n",
    "    if gaurd not in d:\n",
    "        d[gaurd] = {}\n",
    "    if state not in d[gaurd]:\n",
    "        d[gaurd][state] = list()\n",
    "    one_min = datetime.timedelta(minutes=1)\n",
    "    while last_time < this_time:\n",
    "        d[gaurd][state].append(last_time)\n",
    "        last_time = last_time + one_min\n",
    "\n",
    "d = {}\n",
    "gaurd = int(table[0][1])\n",
    "state = 'Awake'\n",
    "last_time = table[0][0]\n",
    "for line in table[1:]:\n",
    "    now_time = line[0]\n",
    "    try:\n",
    "        new_gaurd = int(line[1])\n",
    "        fill_time(d, gaurd, state, last_time, now_time)\n",
    "        gaurd = new_gaurd\n",
    "        state = 'Awake'\n",
    "        last_time = now_time\n",
    "        continue\n",
    "    except:\n",
    "        pass\n",
    "    now_state = line[1]\n",
    "    fill_time(d, gaurd, state, last_time, now_time)\n",
    "    state = now_state\n",
    "    last_time = now_time\n",
    "\n",
    "        \n",
    "        "
   ]
  },
  {
   "cell_type": "code",
   "execution_count": 19,
   "metadata": {},
   "outputs": [
    {
     "data": {
      "text/plain": [
       "dict_keys([631, 983, 1069, 587, 1579, 2179, 3331, 2837, 1021, 2971, 89, 2801, 2879, 311, 3181, 163, 2843, 2671, 3251, 3433, 2063, 3109, 2957])"
      ]
     },
     "execution_count": 19,
     "metadata": {},
     "output_type": "execute_result"
    }
   ],
   "source": [
    "d.keys()"
   ]
  },
  {
   "cell_type": "code",
   "execution_count": 20,
   "metadata": {},
   "outputs": [],
   "source": [
    "for key in d.keys():\n",
    "    if 'Asleep' not in d[key]:\n",
    "        d[key]['Asleep'] = list()"
   ]
  },
  {
   "cell_type": "code",
   "execution_count": 21,
   "metadata": {},
   "outputs": [],
   "source": [
    "most_sleep = max([(k,v) for k,v in d.items()], key=lambda x:len(x[1]['Asleep']))"
   ]
  },
  {
   "cell_type": "code",
   "execution_count": 22,
   "metadata": {},
   "outputs": [
    {
     "data": {
      "text/plain": [
       "1021"
      ]
     },
     "execution_count": 22,
     "metadata": {},
     "output_type": "execute_result"
    }
   ],
   "source": [
    "most_sleep[0]"
   ]
  },
  {
   "cell_type": "code",
   "execution_count": 23,
   "metadata": {},
   "outputs": [],
   "source": [
    "from collections import defaultdict\n",
    "\n",
    "minute_map = defaultdict(int)\n",
    "for x in most_sleep[1]['Asleep']:\n",
    "    minute_map[x.minute] += 1"
   ]
  },
  {
   "cell_type": "code",
   "execution_count": 24,
   "metadata": {},
   "outputs": [
    {
     "data": {
      "text/plain": [
       "(30, 14)"
      ]
     },
     "execution_count": 24,
     "metadata": {},
     "output_type": "execute_result"
    }
   ],
   "source": [
    "max([(k,v) for k,v in minute_map.items()], key=lambda x: x[1])"
   ]
  },
  {
   "cell_type": "code",
   "execution_count": 25,
   "metadata": {},
   "outputs": [
    {
     "data": {
      "text/plain": [
       "30630"
      ]
     },
     "execution_count": 25,
     "metadata": {},
     "output_type": "execute_result"
    }
   ],
   "source": [
    "30*1021"
   ]
  },
  {
   "cell_type": "code",
   "execution_count": 26,
   "metadata": {},
   "outputs": [],
   "source": [
    "# Part 2"
   ]
  },
  {
   "cell_type": "code",
   "execution_count": 27,
   "metadata": {},
   "outputs": [
    {
     "data": {
      "text/plain": [
       "(3331, (41, 17))"
      ]
     },
     "execution_count": 27,
     "metadata": {},
     "output_type": "execute_result"
    }
   ],
   "source": [
    "def get_most_asleep_minute(time_log):\n",
    "    minute_map = defaultdict(int)\n",
    "    for x in time_log['Asleep']:\n",
    "        minute_map[x.minute] += 1\n",
    "    if len(minute_map) == 0:\n",
    "        return (0,0)\n",
    "    return max([(k,v) for k,v in minute_map.items()], key=lambda x: x[1]) \n",
    "\n",
    "most_minute = [(k,v) for k,v in d.items()]\n",
    "most_minute = [(x[0], get_most_asleep_minute(x[1])) for x in most_minute]\n",
    "max(most_minute, key=lambda x: x[1][1])\n",
    "    "
   ]
  },
  {
   "cell_type": "code",
   "execution_count": 28,
   "metadata": {},
   "outputs": [
    {
     "data": {
      "text/plain": [
       "136571"
      ]
     },
     "execution_count": 28,
     "metadata": {},
     "output_type": "execute_result"
    }
   ],
   "source": [
    "3331 * 41"
   ]
  },
  {
   "cell_type": "markdown",
   "metadata": {},
   "source": [
    "# Day 05"
   ]
  },
  {
   "cell_type": "code",
   "execution_count": 29,
   "metadata": {},
   "outputs": [],
   "source": [
    "import string"
   ]
  },
  {
   "cell_type": "code",
   "execution_count": 30,
   "metadata": {},
   "outputs": [],
   "source": [
    "destroy = [\"\".join(x) for x in zip(string.ascii_lowercase, string.ascii_uppercase)]\n",
    "destroy = destroy + [x[::-1] for x in destroy]\n",
    "destroy = set(destroy)"
   ]
  },
  {
   "cell_type": "code",
   "execution_count": 31,
   "metadata": {},
   "outputs": [],
   "source": [
    "def reduce_str(s):\n",
    "    index = 0\n",
    "    new_s = \"\"\n",
    "    while index < len(s):\n",
    "        if index + 2 <= len(s) and s[index:index+2] in destroy:\n",
    "            index += 2\n",
    "            continue\n",
    "        new_s += s[index]\n",
    "        index += 1\n",
    "    return new_s\n",
    "        \n",
    "        \n"
   ]
  },
  {
   "cell_type": "code",
   "execution_count": 32,
   "metadata": {},
   "outputs": [
    {
     "data": {
      "text/plain": [
       "50000"
      ]
     },
     "execution_count": 32,
     "metadata": {},
     "output_type": "execute_result"
    }
   ],
   "source": [
    "s = open('day05.in').read().strip()\n",
    "len(s)"
   ]
  },
  {
   "cell_type": "code",
   "execution_count": 33,
   "metadata": {},
   "outputs": [],
   "source": [
    "new_s = reduce_str(s)\n",
    "while s != new_s:\n",
    "    s = new_s\n",
    "    new_s = reduce_str(s)"
   ]
  },
  {
   "cell_type": "code",
   "execution_count": 34,
   "metadata": {},
   "outputs": [
    {
     "data": {
      "text/plain": [
       "9238"
      ]
     },
     "execution_count": 34,
     "metadata": {},
     "output_type": "execute_result"
    }
   ],
   "source": [
    "len(new_s)"
   ]
  },
  {
   "cell_type": "code",
   "execution_count": 35,
   "metadata": {},
   "outputs": [],
   "source": [
    "# Part 2"
   ]
  },
  {
   "cell_type": "code",
   "execution_count": 36,
   "metadata": {},
   "outputs": [],
   "source": [
    "import re\n",
    "pattern = \"|\".join(destroy)\n",
    "def reduce_str(s):\n",
    "    return re.sub(pattern, \"\", s)"
   ]
  },
  {
   "cell_type": "code",
   "execution_count": 37,
   "metadata": {},
   "outputs": [],
   "source": [
    "def full_reduce(s, replace):\n",
    "    s = s.replace(replace, \"\")\n",
    "    s = s.replace(replace.upper(), \"\")\n",
    "    new_s = reduce_str(s)\n",
    "    while s != new_s:\n",
    "        s = new_s\n",
    "        new_s = reduce_str(s)\n",
    "    return new_s, replace"
   ]
  },
  {
   "cell_type": "code",
   "execution_count": 38,
   "metadata": {},
   "outputs": [],
   "source": [
    "s = open('day05.in').read().strip()\n",
    "all_patterns = []\n",
    "for x in string.ascii_lowercase:\n",
    "    retval = full_reduce(s, x)\n",
    "    all_patterns.append(retval)"
   ]
  },
  {
   "cell_type": "code",
   "execution_count": 39,
   "metadata": {},
   "outputs": [
    {
     "data": {
      "text/plain": [
       "4052"
      ]
     },
     "execution_count": 39,
     "metadata": {},
     "output_type": "execute_result"
    }
   ],
   "source": [
    "len(min(all_patterns, key=lambda x: len(x[0]))[0])"
   ]
  },
  {
   "cell_type": "markdown",
   "metadata": {},
   "source": [
    "# Day 06"
   ]
  },
  {
   "cell_type": "code",
   "execution_count": 40,
   "metadata": {},
   "outputs": [],
   "source": [
    "nodes = [[int(y) for y in x.strip().split(',')] for x in open('day06.in').readlines()]"
   ]
  },
  {
   "cell_type": "code",
   "execution_count": 41,
   "metadata": {},
   "outputs": [],
   "source": [
    "def distance(p1, p2):\n",
    "    return abs(p1[0] - p2[0]) + abs(p1[1] - p2[1])\n",
    "\n",
    "def mark_closest(point, nodes, grid):\n",
    "    for i, node in enumerate(nodes):\n",
    "        dist = distance(point, node)\n",
    "        if dist < grid[point][1]:\n",
    "            grid[point] = (i, dist)\n",
    "\n",
    "grid = {}\n",
    "for x in range(-200, 500):\n",
    "    for y in range(-200, 500):\n",
    "        grid[(x,y)] = (-1, 100000000)\n",
    "        \n",
    "for x in range(-200, 500):\n",
    "    for y in range(-200, 500):\n",
    "        mark_closest((x,y), nodes, grid)\n",
    "         "
   ]
  },
  {
   "cell_type": "code",
   "execution_count": 42,
   "metadata": {},
   "outputs": [],
   "source": [
    "## Anything on the Edge is infinite"
   ]
  },
  {
   "cell_type": "code",
   "execution_count": 43,
   "metadata": {},
   "outputs": [],
   "source": [
    "whitelist = set()\n",
    "for y in range(-200, 500):\n",
    "    closest = grid[(-200, y)]\n",
    "    whitelist.add(closest[0])\n",
    "    closest = grid[(499, y)]\n",
    "    whitelist.add(closest[0])\n",
    "    closest = grid[(y, -200)]\n",
    "    whitelist.add(closest[0])\n",
    "    closest = grid[(y, 499)]\n",
    "    whitelist.add(closest[0])\n",
    "    "
   ]
  },
  {
   "cell_type": "code",
   "execution_count": 44,
   "metadata": {},
   "outputs": [],
   "source": [
    "count_squares = defaultdict(int)\n",
    "for x in range(-200, 500):\n",
    "    for y in range(-200, 500):\n",
    "        p = grid[(x,y)]\n",
    "        if p[0] in whitelist:\n",
    "            continue\n",
    "        count_squares[p[0]] += 1"
   ]
  },
  {
   "cell_type": "code",
   "execution_count": 45,
   "metadata": {},
   "outputs": [
    {
     "data": {
      "text/plain": [
       "(40, 3840)"
      ]
     },
     "execution_count": 45,
     "metadata": {},
     "output_type": "execute_result"
    }
   ],
   "source": [
    "max([(k,v) for k,v in count_squares.items()], key=lambda x: x[1])"
   ]
  },
  {
   "cell_type": "code",
   "execution_count": 46,
   "metadata": {},
   "outputs": [
    {
     "data": {
      "text/plain": [
       "50"
      ]
     },
     "execution_count": 46,
     "metadata": {},
     "output_type": "execute_result"
    }
   ],
   "source": [
    "len(nodes)"
   ]
  },
  {
   "cell_type": "code",
   "execution_count": 47,
   "metadata": {},
   "outputs": [],
   "source": [
    "## Part 2"
   ]
  },
  {
   "cell_type": "code",
   "execution_count": 48,
   "metadata": {},
   "outputs": [],
   "source": [
    "def sum_distances(point, nodes, grid):\n",
    "    for i, node in enumerate(nodes):\n",
    "        dist = distance(point, node)\n",
    "        grid[point] += dist\n",
    "\n",
    "grid = {}\n",
    "for x in range(-500, 500):\n",
    "    for y in range(-500, 500):\n",
    "        grid[(x,y)] = 0\n",
    "        \n",
    "for x in range(-500, 500):\n",
    "    for y in range(-500, 500):\n",
    "        sum_distances((x,y), nodes, grid)"
   ]
  },
  {
   "cell_type": "code",
   "execution_count": 49,
   "metadata": {},
   "outputs": [],
   "source": [
    "## Check if we made our grid large enough\n",
    "for y in range(-500, 500):\n",
    "    closest = grid[(-500, y)]\n",
    "    if closest < 1000:\n",
    "        print(\"Broken\", closest)\n",
    "    closest = grid[(499, y)]\n",
    "    if closest < 1000:\n",
    "        print(\"Broken\", closest)\n",
    "    closest = grid[(y, -500)]\n",
    "    if closest < 1000:\n",
    "        print(\"Broken\", closest)\n",
    "    closest = grid[(y, 499)]\n",
    "    if closest < 1000:\n",
    "        print(\"Broken\", closest)"
   ]
  },
  {
   "cell_type": "code",
   "execution_count": 50,
   "metadata": {},
   "outputs": [
    {
     "data": {
      "text/plain": [
       "46542"
      ]
     },
     "execution_count": 50,
     "metadata": {},
     "output_type": "execute_result"
    }
   ],
   "source": [
    "total_spaces = 0\n",
    "for x in range(-500, 500):\n",
    "    for y in range(-500, 500):\n",
    "        if grid[(x,y)] < 10000:\n",
    "            total_spaces += 1\n",
    "total_spaces"
   ]
  },
  {
   "cell_type": "markdown",
   "metadata": {},
   "source": [
    "# Day 07"
   ]
  },
  {
   "cell_type": "code",
   "execution_count": 58,
   "metadata": {},
   "outputs": [],
   "source": [
    "import re\n",
    "import networkx as nx"
   ]
  },
  {
   "cell_type": "code",
   "execution_count": 59,
   "metadata": {},
   "outputs": [],
   "source": [
    "lines = [x.strip().split() for x in open('day07.in').readlines()]"
   ]
  },
  {
   "cell_type": "code",
   "execution_count": 60,
   "metadata": {},
   "outputs": [],
   "source": [
    "def line_to_instr(l):\n",
    "    return l[1], l[-3]"
   ]
  },
  {
   "cell_type": "code",
   "execution_count": 61,
   "metadata": {},
   "outputs": [],
   "source": [
    "instrs = [line_to_instr(x) for x in lines]"
   ]
  },
  {
   "cell_type": "code",
   "execution_count": 62,
   "metadata": {},
   "outputs": [],
   "source": [
    "g = nx.DiGraph()\n",
    "for my_from, my_to in instrs:\n",
    "    g.add_edge(my_from, my_to)"
   ]
  },
  {
   "cell_type": "code",
   "execution_count": 63,
   "metadata": {},
   "outputs": [
    {
     "data": {
      "text/plain": [
       "('SCLPAMQVUWNHODRTGYKBJEFXZI', 26)"
      ]
     },
     "execution_count": 63,
     "metadata": {},
     "output_type": "execute_result"
    }
   ],
   "source": [
    "\"\".join(list(nx.lexicographical_topological_sort(g))), len(list(nx.lexicographical_topological_sort(g)))"
   ]
  },
  {
   "cell_type": "code",
   "execution_count": 64,
   "metadata": {},
   "outputs": [],
   "source": [
    "## Part 2 Ignore everything and assume we have concurrency we need\n",
    "## Just compute time for longest path through the DAG"
   ]
  },
  {
   "cell_type": "code",
   "execution_count": 65,
   "metadata": {},
   "outputs": [],
   "source": [
    "import string\n",
    "time_lookup = {x[0]: x[1] for x in zip(string.ascii_uppercase, range(1, 100))}"
   ]
  },
  {
   "cell_type": "code",
   "execution_count": 66,
   "metadata": {},
   "outputs": [],
   "source": [
    "g = nx.DiGraph()\n",
    "for my_from, my_to in instrs:\n",
    "    g.add_edge(my_from, my_to, weight=time_lookup[my_from] + 60)"
   ]
  },
  {
   "cell_type": "code",
   "execution_count": 67,
   "metadata": {},
   "outputs": [],
   "source": [
    "path = nx.dag_longest_path(g, weight='weight')"
   ]
  },
  {
   "cell_type": "code",
   "execution_count": 68,
   "metadata": {},
   "outputs": [
    {
     "data": {
      "text/plain": [
       "1234"
      ]
     },
     "execution_count": 68,
     "metadata": {},
     "output_type": "execute_result"
    }
   ],
   "source": [
    "total_time = 0\n",
    "for n in path:\n",
    "    total_time += time_lookup[n] + 60\n",
    "total_time"
   ]
  },
  {
   "cell_type": "markdown",
   "metadata": {},
   "source": [
    "# Day 08"
   ]
  },
  {
   "cell_type": "code",
   "execution_count": 69,
   "metadata": {},
   "outputs": [],
   "source": [
    "\n",
    "\n",
    "class Node(object):\n",
    "    def __init__(self, l, start_index):\n",
    "        self.start_index = start_index\n",
    "        num_children = l[start_index]\n",
    "        num_metadata = l[start_index+1]\n",
    "        \n",
    "        cur_index = start_index+2\n",
    "        self.children = []\n",
    "        for child_num in range(num_children):\n",
    "            child = Node(l, cur_index)\n",
    "            cur_index = child.end_index+1\n",
    "            self.children.append(child)\n",
    "        \n",
    "        self.metadata = []\n",
    "        for metadata in range(num_metadata):\n",
    "            self.metadata.append(l[cur_index])\n",
    "            cur_index += 1\n",
    "        self.end_index = cur_index - 1\n",
    "        \n",
    "    def sum_metadata(self):\n",
    "        my_total = sum(self.metadata)\n",
    "        for child in self.children:\n",
    "            my_total += child.sum_metadata()\n",
    "        return my_total\n",
    "    \n",
    "    \n",
    "    def special_sum(self):\n",
    "        if len(self.children) == 0:\n",
    "            return sum(self.metadata)\n",
    "        total = 0\n",
    "        for index in self.metadata:\n",
    "            index = index - 1\n",
    "            if index < 0:\n",
    "                continue\n",
    "            if index >= len(self.children):\n",
    "                continue\n",
    "            total += self.children[index].special_sum()\n",
    "        return total\n",
    "        "
   ]
  },
  {
   "cell_type": "code",
   "execution_count": 70,
   "metadata": {},
   "outputs": [],
   "source": [
    "l = [x.strip().split() for x in open('day08.in').readlines()]\n",
    "l = [int(x) for x in l[0]]"
   ]
  },
  {
   "cell_type": "code",
   "execution_count": 71,
   "metadata": {},
   "outputs": [],
   "source": [
    "root = Node(l, 0)"
   ]
  },
  {
   "cell_type": "code",
   "execution_count": 72,
   "metadata": {},
   "outputs": [
    {
     "data": {
      "text/plain": [
       "43825"
      ]
     },
     "execution_count": 72,
     "metadata": {},
     "output_type": "execute_result"
    }
   ],
   "source": [
    "root.sum_metadata()"
   ]
  },
  {
   "cell_type": "code",
   "execution_count": 73,
   "metadata": {},
   "outputs": [
    {
     "data": {
      "text/plain": [
       "19276"
      ]
     },
     "execution_count": 73,
     "metadata": {},
     "output_type": "execute_result"
    }
   ],
   "source": [
    "root.special_sum()"
   ]
  },
  {
   "cell_type": "markdown",
   "metadata": {},
   "source": [
    "# Day 09"
   ]
  },
  {
   "cell_type": "code",
   "execution_count": 74,
   "metadata": {},
   "outputs": [],
   "source": [
    "from collections import deque"
   ]
  },
  {
   "cell_type": "code",
   "execution_count": 75,
   "metadata": {},
   "outputs": [],
   "source": [
    "import re\n",
    "inp = \"419 players; last marble is worth 71052 points\""
   ]
  },
  {
   "cell_type": "code",
   "execution_count": 76,
   "metadata": {},
   "outputs": [],
   "source": [
    "n_players, last_marble = [int(x) for x in re.findall(\"\\d+\", inp)]"
   ]
  },
  {
   "cell_type": "code",
   "execution_count": 77,
   "metadata": {},
   "outputs": [],
   "source": [
    "def play_game(n_players, last_marble):\n",
    "    scores = defaultdict(int)\n",
    "    ring = deque()\n",
    "    ring.append(0)\n",
    "    ring.append(2)\n",
    "    ring.append(1)\n",
    "    ring.append(3)\n",
    "\n",
    "    marble_num = 3\n",
    "    player_num = 2\n",
    "    while marble_num <= last_marble:\n",
    "        marble_num += 1\n",
    "        player_num += 1\n",
    "        player_num = player_num % n_players\n",
    "        \n",
    "        if marble_num % 23 == 0:\n",
    "            scores[player_num] += marble_num\n",
    "            ring.rotate(7)\n",
    "            v = ring.pop()\n",
    "            scores[player_num] += v\n",
    "            ring.rotate(-1)\n",
    "            continue\n",
    "        ring.rotate(-1)\n",
    "        ring.append(marble_num)\n",
    "        \n",
    "    return scores"
   ]
  },
  {
   "cell_type": "code",
   "execution_count": 78,
   "metadata": {},
   "outputs": [
    {
     "name": "stdout",
     "output_type": "stream",
     "text": [
      "412117\n"
     ]
    }
   ],
   "source": [
    "print(max([x for x in play_game(n_players, last_marble).values()]))"
   ]
  },
  {
   "cell_type": "code",
   "execution_count": 79,
   "metadata": {},
   "outputs": [
    {
     "name": "stdout",
     "output_type": "stream",
     "text": [
      "3444129546\n"
     ]
    }
   ],
   "source": [
    "## Part 2\n",
    "print(max([x for x in play_game(n_players, last_marble*100).values()]))"
   ]
  },
  {
   "cell_type": "markdown",
   "metadata": {},
   "source": [
    "# Day 10"
   ]
  },
  {
   "cell_type": "code",
   "execution_count": 80,
   "metadata": {},
   "outputs": [],
   "source": [
    "lines = [x.strip() for x in open('day10.in').readlines()]\n",
    "def get_point_from_str(s):\n",
    "    x, y, dx, dy = [int(x) for x in re.findall(r\"[+-]?\\d+\", s)]\n",
    "    return (x,y), (dx, dy)\n",
    "points = [get_point_from_str(x) for x in lines]"
   ]
  },
  {
   "cell_type": "code",
   "execution_count": 81,
   "metadata": {},
   "outputs": [],
   "source": [
    "def bounding_box(points):\n",
    "    min_x = min([x[0][0] for x in points])\n",
    "    max_x = max([x[0][0] for x in points])\n",
    "    min_y = min([x[0][1] for x in points])\n",
    "    max_y = max([x[0][1] for x in points])\n",
    "    area = abs(max_x - min_x) * abs(max_y - min_y)\n",
    "    return area, (min_x, min_y), (max_x, max_y)\n",
    "\n",
    "def step(x):\n",
    "    return (x[0][0] + x[1][0], x[0][1] + x[1][1]), x[1]"
   ]
  },
  {
   "cell_type": "code",
   "execution_count": 82,
   "metadata": {},
   "outputs": [],
   "source": [
    "step_list = []\n",
    "for i in range(15000):\n",
    "    points = [step(x) for x in points]\n",
    "    bbox = bounding_box(points)\n",
    "    step_list.append((bbox, points))"
   ]
  },
  {
   "cell_type": "code",
   "execution_count": 83,
   "metadata": {},
   "outputs": [],
   "source": [
    "import matplotlib.pyplot as plt\n",
    "%matplotlib inline"
   ]
  },
  {
   "cell_type": "code",
   "execution_count": 84,
   "metadata": {},
   "outputs": [],
   "source": [
    "bbox_areas = []\n",
    "for entry in step_list:\n",
    "    bbox_areas.append(entry[0][0])"
   ]
  },
  {
   "cell_type": "code",
   "execution_count": 85,
   "metadata": {},
   "outputs": [
    {
     "data": {
      "text/plain": [
       "[<matplotlib.lines.Line2D at 0x7f0bf3c31d30>]"
      ]
     },
     "execution_count": 85,
     "metadata": {},
     "output_type": "execute_result"
    },
    {
     "data": {
      "image/png": "[encoded data removed]",
      "text/plain": [
       "<Figure size 432x288 with 1 Axes>"
      ]
     },
     "metadata": {
      "needs_background": "light"
     },
     "output_type": "display_data"
    }
   ],
   "source": [
    "plt.plot(bbox_areas)"
   ]
  },
  {
   "cell_type": "code",
   "execution_count": 86,
   "metadata": {},
   "outputs": [],
   "source": [
    "step_list = sorted(step_list, key=lambda x:x[0][0])"
   ]
  },
  {
   "cell_type": "code",
   "execution_count": 87,
   "metadata": {},
   "outputs": [],
   "source": [
    "def display_points(points):\n",
    "    min_x = min([x[0][0] for x in points])\n",
    "    max_x = max([x[0][0] for x in points])\n",
    "    min_y = min([x[0][1] for x in points])\n",
    "    max_y = max([x[0][1] for x in points])\n",
    "    used = set([x[0] for x in points])\n",
    "    s = \"\"\n",
    "    for r in range(min_y, max_y+1):\n",
    "        for c in range(min_x, max_x+1):\n",
    "            if (c, r) in used:\n",
    "                s += \"#\"\n",
    "            else:\n",
    "                s += \".\"\n",
    "        s += \"\\n\"\n",
    "    print(s)"
   ]
  },
  {
   "cell_type": "code",
   "execution_count": 88,
   "metadata": {},
   "outputs": [
    {
     "name": "stdout",
     "output_type": "stream",
     "text": [
      ".####...######..#....#..#....#...####....####....####...#....#\n",
      "#....#..#.......##...#..#...#...#....#..#....#..#....#..#....#\n",
      "#.......#.......##...#..#..#....#.......#.......#.......#....#\n",
      "#.......#.......#.#..#..#.#.....#.......#.......#.......#....#\n",
      "#.......#####...#.#..#..##......#.......#.......#.......######\n",
      "#..###..#.......#..#.#..##......#.......#..###..#..###..#....#\n",
      "#....#..#.......#..#.#..#.#.....#.......#....#..#....#..#....#\n",
      "#....#..#.......#...##..#..#....#.......#....#..#....#..#....#\n",
      "#...##..#.......#...##..#...#...#....#..#...##..#...##..#....#\n",
      ".###.#..#.......#....#..#....#...####....###.#...###.#..#....#\n",
      "\n"
     ]
    }
   ],
   "source": [
    "display_points(step_list[0][1])"
   ]
  },
  {
   "cell_type": "code",
   "execution_count": 89,
   "metadata": {},
   "outputs": [],
   "source": [
    "# Part 2"
   ]
  },
  {
   "cell_type": "code",
   "execution_count": 90,
   "metadata": {},
   "outputs": [],
   "source": [
    "target_bbox = step_list[0][0][0]"
   ]
  },
  {
   "cell_type": "code",
   "execution_count": 91,
   "metadata": {},
   "outputs": [],
   "source": [
    "lines = [x.strip() for x in open('day10.in').readlines()]\n",
    "def get_point_from_str(s):\n",
    "    x, y, dx, dy = [int(x) for x in re.findall(r\"[+-]?\\d+\", s)]\n",
    "    return (x,y), (dx, dy)\n",
    "points = [get_point_from_str(x) for x in lines]"
   ]
  },
  {
   "cell_type": "code",
   "execution_count": 92,
   "metadata": {},
   "outputs": [
    {
     "name": "stdout",
     "output_type": "stream",
     "text": [
      "10274\n"
     ]
    }
   ],
   "source": [
    "step_list = []\n",
    "for i in range(1, 15000):\n",
    "    points = [step(x) for x in points]\n",
    "    bbox = bounding_box(points)\n",
    "    if bbox[0] == target_bbox:\n",
    "        print(i)\n",
    "        break"
   ]
  },
  {
   "cell_type": "markdown",
   "metadata": {},
   "source": [
    "# Day 11"
   ]
  },
  {
   "cell_type": "code",
   "execution_count": 93,
   "metadata": {},
   "outputs": [],
   "source": [
    "serial = 8868"
   ]
  },
  {
   "cell_type": "code",
   "execution_count": 94,
   "metadata": {},
   "outputs": [],
   "source": [
    "def get_power_raw(x, y, serial):\n",
    "    a = x + 10\n",
    "    rack_power = a\n",
    "    a = a * y\n",
    "    a  = a + serial\n",
    "    a = a * rack_power\n",
    "    a = a // 100 \n",
    "    a = a % 10\n",
    "    a = a - 5\n",
    "    return a"
   ]
  },
  {
   "cell_type": "code",
   "execution_count": 95,
   "metadata": {},
   "outputs": [
    {
     "data": {
      "text/plain": [
       "4"
      ]
     },
     "execution_count": 95,
     "metadata": {},
     "output_type": "execute_result"
    }
   ],
   "source": [
    "get_power_raw(3,5,8)"
   ]
  },
  {
   "cell_type": "code",
   "execution_count": 96,
   "metadata": {},
   "outputs": [
    {
     "data": {
      "text/plain": [
       "-5"
      ]
     },
     "execution_count": 96,
     "metadata": {},
     "output_type": "execute_result"
    }
   ],
   "source": [
    "get_power_raw(122,79,57)"
   ]
  },
  {
   "cell_type": "code",
   "execution_count": 97,
   "metadata": {},
   "outputs": [
    {
     "data": {
      "text/plain": [
       "0"
      ]
     },
     "execution_count": 97,
     "metadata": {},
     "output_type": "execute_result"
    }
   ],
   "source": [
    "get_power_raw(217,196,39)"
   ]
  },
  {
   "cell_type": "code",
   "execution_count": 98,
   "metadata": {},
   "outputs": [
    {
     "data": {
      "text/plain": [
       "4"
      ]
     },
     "execution_count": 98,
     "metadata": {},
     "output_type": "execute_result"
    }
   ],
   "source": [
    "get_power_raw(101,153,71)"
   ]
  },
  {
   "cell_type": "code",
   "execution_count": 99,
   "metadata": {},
   "outputs": [],
   "source": [
    "grid = {}\n",
    "for i in range(1,301):\n",
    "    for j in range(1,301):\n",
    "        grid[(i,j)] = get_power_raw(i,j,serial)"
   ]
  },
  {
   "cell_type": "code",
   "execution_count": 100,
   "metadata": {},
   "outputs": [],
   "source": [
    "def get_power_grid(i,j,grid):\n",
    "    total = 0\n",
    "    for dx in range(0,3):\n",
    "        for dy in range(0,3):\n",
    "            p = (i+dx, j+dy)\n",
    "            if p not in grid:\n",
    "                return -100\n",
    "            total += grid[p]\n",
    "    return total\n",
    "\n",
    "powers = []\n",
    "for i in range(1, 301):\n",
    "    for j in range(1, 301):\n",
    "        powers.append(((i,j), get_power_grid(i,j,grid) ))"
   ]
  },
  {
   "cell_type": "code",
   "execution_count": 101,
   "metadata": {},
   "outputs": [],
   "source": [
    "powers = sorted(powers,key=lambda x: x[1], reverse=True)"
   ]
  },
  {
   "cell_type": "code",
   "execution_count": 102,
   "metadata": {},
   "outputs": [
    {
     "data": {
      "text/plain": [
       "((241, 40), 30)"
      ]
     },
     "execution_count": 102,
     "metadata": {},
     "output_type": "execute_result"
    }
   ],
   "source": [
    "powers[0]"
   ]
  },
  {
   "cell_type": "code",
   "execution_count": 103,
   "metadata": {},
   "outputs": [],
   "source": [
    "# Part 2"
   ]
  },
  {
   "cell_type": "code",
   "execution_count": 104,
   "metadata": {},
   "outputs": [],
   "source": [
    "def get_power_grid(i,j,grid,size):\n",
    "    total = 0\n",
    "    mx = i + size\n",
    "    my = j + size\n",
    "    if mx > 300 or my > 300:\n",
    "        return - 100\n",
    "    return np.sum(grid[i:mx,j:my])"
   ]
  },
  {
   "cell_type": "code",
   "execution_count": 105,
   "metadata": {},
   "outputs": [],
   "source": [
    "import numpy as np\n",
    "np_grid = np.zeros(shape=(301,301))\n",
    "for i in range(1,301):\n",
    "    for j in range(1, 301):\n",
    "        np_grid[i][j] = grid[(i,j)]"
   ]
  },
  {
   "cell_type": "code",
   "execution_count": 107,
   "metadata": {},
   "outputs": [
    {
     "name": "stdout",
     "output_type": "stream",
     "text": [
      "50\n",
      "100\n",
      "150\n",
      "200\n",
      "250\n",
      "300\n"
     ]
    }
   ],
   "source": [
    "powers = []\n",
    "for k in range(2,301):\n",
    "    if k % 50 == 0:\n",
    "        print(k)\n",
    "    for i in range(1, 301):\n",
    "        for j in range(1, 301):        \n",
    "            powers.append(((i,j,k), get_power_grid(i,j,np_grid,k)))"
   ]
  },
  {
   "cell_type": "code",
   "execution_count": 108,
   "metadata": {},
   "outputs": [
    {
     "data": {
      "text/plain": [
       "((166, 75, 12), 71.0)"
      ]
     },
     "execution_count": 108,
     "metadata": {},
     "output_type": "execute_result"
    }
   ],
   "source": [
    "powers = sorted(powers,key=lambda x: x[1], reverse=True)\n",
    "powers[0]"
   ]
  },
  {
   "cell_type": "markdown",
   "metadata": {},
   "source": [
    "# Day 12"
   ]
  },
  {
   "cell_type": "code",
   "execution_count": 109,
   "metadata": {},
   "outputs": [],
   "source": [
    "initial_state = \"###.......##....#.#.#..###.##..##.....#....#.#.....##.###...###.#...###.###.#.###...#.####.##.#....#\"\n",
    "initial_state = \".\"*100 + initial_state + \".\"*100"
   ]
  },
  {
   "cell_type": "code",
   "execution_count": 110,
   "metadata": {},
   "outputs": [
    {
     "data": {
      "text/plain": [
       "'....................................................................................................###.......##....#.#.#..###.##..##.....#....#.#.....##.###...###.#...###.###.#.###...#.####.##.#....#....................................................................................................'"
      ]
     },
     "execution_count": 110,
     "metadata": {},
     "output_type": "execute_result"
    }
   ],
   "source": [
    "initial_state"
   ]
  },
  {
   "cell_type": "code",
   "execution_count": 111,
   "metadata": {},
   "outputs": [],
   "source": [
    "moves = \"\"\"..... => .\n",
    "#..## => .\n",
    "..### => #\n",
    "..#.# => #\n",
    ".#.#. => .\n",
    "####. => .\n",
    "##.## => #\n",
    "#.... => .\n",
    "#...# => .\n",
    "...## => .\n",
    "##..# => .\n",
    ".###. => #\n",
    "##### => #\n",
    "#.#.. => #\n",
    ".##.. => #\n",
    ".#.## => .\n",
    "...#. => #\n",
    "#.##. => #\n",
    "..#.. => #\n",
    "##... => #\n",
    "....# => .\n",
    "###.# => #\n",
    "#..#. => #\n",
    "#.### => #\n",
    "##.#. => .\n",
    "###.. => #\n",
    ".#### => .\n",
    ".#... => #\n",
    "..##. => .\n",
    ".##.# => .\n",
    "#.#.# => #\n",
    ".#..# => .\"\"\""
   ]
  },
  {
   "cell_type": "code",
   "execution_count": 112,
   "metadata": {},
   "outputs": [],
   "source": [
    "moves = [x.strip().split(\" => \") for x in moves.split(\"\\n\")]"
   ]
  },
  {
   "cell_type": "code",
   "execution_count": 113,
   "metadata": {},
   "outputs": [],
   "source": [
    "def generation(state, moves):\n",
    "    move_map = {x[0]:x[1] for x in moves}\n",
    "    new_state = \"..\"\n",
    "    for i in range(2, len(state) - 3):\n",
    "        strip = state[i-2:i+3]\n",
    "        if strip not in move_map:\n",
    "            raise ValueError(strip)\n",
    "        new_state += move_map[strip]\n",
    "    new_state += \"..\"\n",
    "    return new_state"
   ]
  },
  {
   "cell_type": "code",
   "execution_count": 114,
   "metadata": {},
   "outputs": [
    {
     "name": "stdout",
     "output_type": "stream",
     "text": [
      "47\n"
     ]
    }
   ],
   "source": [
    "new_state = initial_state\n",
    "for i in range(20):\n",
    "    new_state = generation(new_state, moves)\n",
    "num_on = [x for x in new_state if x == \"#\"]\n",
    "print(len(num_on))"
   ]
  },
  {
   "cell_type": "code",
   "execution_count": 115,
   "metadata": {},
   "outputs": [],
   "source": [
    "start_value = -100\n",
    "total = 0\n",
    "for i, c in enumerate(new_state):\n",
    "    if c == '#':\n",
    "        total += start_value\n",
    "    start_value += 1"
   ]
  },
  {
   "cell_type": "code",
   "execution_count": 116,
   "metadata": {},
   "outputs": [
    {
     "data": {
      "text/plain": [
       "(3221, 180)"
      ]
     },
     "execution_count": 116,
     "metadata": {},
     "output_type": "execute_result"
    }
   ],
   "source": [
    "total, start_value"
   ]
  },
  {
   "cell_type": "code",
   "execution_count": 117,
   "metadata": {},
   "outputs": [],
   "source": [
    "## Part 2"
   ]
  },
  {
   "cell_type": "code",
   "execution_count": 118,
   "metadata": {},
   "outputs": [],
   "source": [
    "initial_state = \"###.......##....#.#.#..###.##..##.....#....#.#.....##.###...###.#...###.###.#.###...#.####.##.#....#\"\n",
    "initial_state = \".\"*1000 + initial_state + \".\"*1000"
   ]
  },
  {
   "cell_type": "code",
   "execution_count": 119,
   "metadata": {},
   "outputs": [
    {
     "name": "stdout",
     "output_type": "stream",
     "text": [
      "391 22256\n",
      "392 22308\n",
      "393 22360\n",
      "394 22412\n",
      "395 22464\n",
      "396 22516\n",
      "397 22568\n",
      "398 22620\n",
      "399 22672\n",
      "400 22724\n"
     ]
    }
   ],
   "source": [
    "def calc_total(new_state):\n",
    "    start_value = -1000\n",
    "    total = 0\n",
    "    for i, c in enumerate(new_state):\n",
    "        if c == '#':\n",
    "            total += start_value\n",
    "        start_value += 1\n",
    "    return total\n",
    "        \n",
    "new_state = initial_state\n",
    "for i in range(401):\n",
    "    new_state = generation(new_state, moves)\n",
    "    num_on = [x for x in new_state if x == \"#\"]\n",
    "    if i > 390:\n",
    "        print(i, calc_total(new_state))"
   ]
  },
  {
   "cell_type": "code",
   "execution_count": 120,
   "metadata": {},
   "outputs": [
    {
     "data": {
      "text/plain": [
       "2600000001872"
      ]
     },
     "execution_count": 120,
     "metadata": {},
     "output_type": "execute_result"
    }
   ],
   "source": [
    "(50000000000 - 400) * (22724 - 22672) + 22672"
   ]
  },
  {
   "cell_type": "markdown",
   "metadata": {},
   "source": [
    "# Day 13"
   ]
  },
  {
   "cell_type": "code",
   "execution_count": 121,
   "metadata": {},
   "outputs": [],
   "source": [
    "dirs = {\n",
    "    \"DOWN\": (1,0),\n",
    "    \"UP\": (-1, 0),\n",
    "    \"RIGHT\": (0, 1),\n",
    "    \"LEFT\": (0, -1)\n",
    "}\n",
    "\n",
    "turn_lookup = {\n",
    "    \"LEFT\": {\n",
    "        \"DOWN\": \"RIGHT\",\n",
    "        \"UP\": \"LEFT\",\n",
    "        \"RIGHT\": \"UP\",\n",
    "        \"LEFT\": \"DOWN\"\n",
    "    },\n",
    "    \"STRAIGHT\": {\n",
    "        \"DOWN\":\"DOWN\",\n",
    "        \"UP\": \"UP\",\n",
    "        \"RIGHT\": \"RIGHT\",\n",
    "        \"LEFT\": \"LEFT\"\n",
    "    },\n",
    "    \"RIGHT\": {\n",
    "        \"DOWN\": \"LEFT\",\n",
    "        \"UP\": \"RIGHT\",\n",
    "        \"RIGHT\": \"DOWN\",\n",
    "        \"LEFT\": \"UP\",\n",
    "    }\n",
    "}\n",
    "\n",
    "curve_changes = {\n",
    "    \"\\\\\": {\n",
    "        \"DOWN\": \"RIGHT\",\n",
    "        \"LEFT\": \"UP\",\n",
    "        \"UP\": \"LEFT\",\n",
    "        \"RIGHT\": \"DOWN\",\n",
    "    },\n",
    "    \"/\": {\n",
    "        \"DOWN\": \"LEFT\",\n",
    "        \"LEFT\": \"DOWN\",\n",
    "        \"UP\": \"RIGHT\",\n",
    "        \"RIGHT\": \"UP\",\n",
    "    }\n",
    "}\n",
    "\n",
    "turn_order = [\n",
    "    \"LEFT\",\n",
    "    \"STRAIGHT\",\n",
    "    \"RIGHT\",\n",
    "]\n",
    "cart_characters = [\">\", \"<\", \"^\", \"v\"]\n",
    "curves = [\"\\\\\", \"/\"]\n",
    "\n",
    "class Cart(object):\n",
    "    def __init__(self, p, s, board):\n",
    "        if s == \">\":\n",
    "            self.direction = \"RIGHT\"\n",
    "        if s == \"<\":\n",
    "            self.direction = \"LEFT\"\n",
    "        if s == \"^\":\n",
    "            self.direction = \"UP\"\n",
    "        if s == \"v\":\n",
    "            self.direction = \"DOWN\"\n",
    "        self.location = p\n",
    "        self.turn = 0\n",
    "        self.board = board\n",
    "        self.dead = False\n",
    "    \n",
    "    def move(self):\n",
    "        dy, dx = dirs[self.direction]\n",
    "        location = self.location[0] + dy, self.location[1] + dx\n",
    "        self._handle_turn(location)\n",
    "        self._handle_intersection(location)\n",
    "        self.location = location\n",
    "    \n",
    "    def _handle_turn(self, location):\n",
    "        tile = self.board[location[0]][location[1]]\n",
    "        if tile not in curves:\n",
    "            return\n",
    "        self.direction = curve_changes[tile][self.direction]\n",
    "        \n",
    "    def _handle_intersection(self, location):\n",
    "        tile = self.board[location[0]][location[1]]\n",
    "        if tile != \"+\":\n",
    "            return\n",
    "        turn_str = turn_order[self.turn]\n",
    "        self.direction = turn_lookup[turn_str][self.direction]\n",
    "        self.turn = self.turn + 1\n",
    "        self.turn = self.turn % len(turn_order)\n",
    "        \n",
    "def sort_carts(carts):\n",
    "    carts = sorted(carts, key=lambda x: (x.location[0], x.location[1]))\n",
    "    return carts\n",
    "\n",
    "def is_collision(carts):\n",
    "    for i in range(len(carts)):\n",
    "        for j in range(i+1, len(carts)):\n",
    "            c1 = carts[i]\n",
    "            c2 = carts[j]\n",
    "            if c1.location == c2.location:\n",
    "                return True, c1.location\n",
    "    return False, None\n",
    "\n",
    "\n",
    "def print_board(board, carts):\n",
    "    cart_locs = set([x.location for x in carts])\n",
    "    s = \"\"\n",
    "    for y in range(len(board)):\n",
    "        for x in range(len(board[0])):\n",
    "            if (y,x) in cart_locs:\n",
    "                s += \"*\"\n",
    "            else:\n",
    "                s += board[y][x]\n",
    "        s += \"\\n\"\n",
    "    print(s)\n"
   ]
  },
  {
   "cell_type": "code",
   "execution_count": 122,
   "metadata": {},
   "outputs": [],
   "source": [
    "def read_carts(fname):\n",
    "    board = [list(x.strip(\"\\n\")) for x in open(fname).readlines()]\n",
    "    carts = []\n",
    "    for y in range(len(board)):\n",
    "        for x in range(len(board[0])):\n",
    "            if board[y][x] in cart_characters:\n",
    "                carts.append(Cart((y,x), board[y][x], board))\n",
    "                if board[y][x] in [\"^\", \"v\"]:\n",
    "                    board[y][x] = \"|\"\n",
    "                else:\n",
    "                    board[y][x] = \"-\"\n",
    "    return carts, board"
   ]
  },
  {
   "cell_type": "code",
   "execution_count": 123,
   "metadata": {},
   "outputs": [
    {
     "name": "stdout",
     "output_type": "stream",
     "text": [
      "Collision\n"
     ]
    },
    {
     "data": {
      "text/plain": [
       "(True, (3, 7))"
      ]
     },
     "execution_count": 123,
     "metadata": {},
     "output_type": "execute_result"
    }
   ],
   "source": [
    "carts, board = read_carts('day13.sample')\n",
    "for i in range(20):\n",
    "    for cart in carts:\n",
    "        cart.move()\n",
    "    if is_collision(carts)[0]:\n",
    "        print(\"Collision\")\n",
    "        break\n",
    "    sort_carts(carts)\n",
    "is_collision(carts)"
   ]
  },
  {
   "cell_type": "code",
   "execution_count": 124,
   "metadata": {},
   "outputs": [
    {
     "data": {
      "text/plain": [
       "(True, (104, 82))"
      ]
     },
     "execution_count": 124,
     "metadata": {},
     "output_type": "execute_result"
    }
   ],
   "source": [
    "import json\n",
    "\n",
    "def solve_day13(carts, board):\n",
    "    while True:\n",
    "        carts = sort_carts(carts)\n",
    "        for cart in carts:\n",
    "            cart.move()\n",
    "            if is_collision(carts)[0]:\n",
    "                return is_collision(carts)\n",
    "carts, board = read_carts('day13.in')\n",
    "solve_day13(carts, board)"
   ]
  },
  {
   "cell_type": "code",
   "execution_count": 125,
   "metadata": {},
   "outputs": [],
   "source": [
    "# Part 2"
   ]
  },
  {
   "cell_type": "code",
   "execution_count": 126,
   "metadata": {},
   "outputs": [],
   "source": [
    "def mark_dead(carts):\n",
    "    for i in range(len(carts)):\n",
    "        for j in range(i+1, len(carts)):\n",
    "            c1 = carts[i]\n",
    "            c2 = carts[j]\n",
    "            if c1.dead or c2.dead:\n",
    "                continue\n",
    "            if c1.location == c2.location:\n",
    "                c1.dead = True\n",
    "                c2.dead = True\n",
    "def one_cart_left(carts):\n",
    "    carts = [x for x in carts if not x.dead]\n",
    "    return len(carts) == 1"
   ]
  },
  {
   "cell_type": "code",
   "execution_count": 128,
   "metadata": {},
   "outputs": [
    {
     "data": {
      "text/plain": [
       "[(4, 6)]"
      ]
     },
     "execution_count": 128,
     "metadata": {},
     "output_type": "execute_result"
    }
   ],
   "source": [
    "def solve_day13_part2(carts, board):\n",
    "    while True:\n",
    "        carts = sort_carts(carts)\n",
    "        for cart in carts:\n",
    "            cart.move()\n",
    "            mark_dead(carts)\n",
    "        if one_cart_left(carts):\n",
    "            return [x.location for x in carts if not x.dead]\n",
    "carts, board = read_carts('day13.sample2')\n",
    "solve_day13_part2(carts, board)"
   ]
  },
  {
   "cell_type": "code",
   "execution_count": 129,
   "metadata": {},
   "outputs": [
    {
     "data": {
      "text/plain": [
       "[(22, 121)]"
      ]
     },
     "execution_count": 129,
     "metadata": {},
     "output_type": "execute_result"
    }
   ],
   "source": [
    "carts, board = read_carts('day13.in')\n",
    "solve_day13_part2(carts, board)"
   ]
  },
  {
   "cell_type": "markdown",
   "metadata": {},
   "source": [
    "# Day 14"
   ]
  },
  {
   "cell_type": "code",
   "execution_count": 130,
   "metadata": {},
   "outputs": [],
   "source": [
    "inp = 824501"
   ]
  },
  {
   "cell_type": "code",
   "execution_count": 131,
   "metadata": {},
   "outputs": [],
   "source": [
    "def make_round(l, i1, i2):\n",
    "    new = l[i1] + l[i2]\n",
    "    if new >= 10:\n",
    "        l.append(new // 10)\n",
    "    l.append(new % 10)\n",
    "    i1 = i1 + 1 + l[i1]\n",
    "    i2 = i2 + 1 + l[i2]\n",
    "    i1 = i1 % len(l)\n",
    "    i2 = i2 % len(l)\n",
    "    return l, i1, i2\n",
    "\n",
    "l = [3, 7]\n",
    "i1 = 0\n",
    "i2 = 1\n",
    "for i in range(inp+ 20):\n",
    "    l, i1, i2 = make_round(l, i1, i2)\n"
   ]
  },
  {
   "cell_type": "code",
   "execution_count": 132,
   "metadata": {},
   "outputs": [
    {
     "data": {
      "text/plain": [
       "[5, 1, 5, 8, 9, 1, 6, 7, 7, 9]"
      ]
     },
     "execution_count": 132,
     "metadata": {},
     "output_type": "execute_result"
    }
   ],
   "source": [
    "l[9:19]"
   ]
  },
  {
   "cell_type": "code",
   "execution_count": 133,
   "metadata": {},
   "outputs": [
    {
     "data": {
      "text/plain": [
       "'1031816654'"
      ]
     },
     "execution_count": 133,
     "metadata": {},
     "output_type": "execute_result"
    }
   ],
   "source": [
    "\"\".join([str(x) for x in l[inp:inp+10]])"
   ]
  },
  {
   "cell_type": "code",
   "execution_count": 134,
   "metadata": {},
   "outputs": [],
   "source": [
    "# part 2"
   ]
  },
  {
   "cell_type": "code",
   "execution_count": 135,
   "metadata": {},
   "outputs": [],
   "source": [
    "s = \"\".join([str(x) for x in l])"
   ]
  },
  {
   "cell_type": "code",
   "execution_count": 136,
   "metadata": {},
   "outputs": [
    {
     "data": {
      "text/plain": [
       "-1"
      ]
     },
     "execution_count": 136,
     "metadata": {},
     "output_type": "execute_result"
    }
   ],
   "source": [
    "s.find(str(inp))"
   ]
  },
  {
   "cell_type": "code",
   "execution_count": 137,
   "metadata": {},
   "outputs": [],
   "source": [
    "for i in range(inp*100):\n",
    "    l, i1, i2 = make_round(l, i1, i2)\n"
   ]
  },
  {
   "cell_type": "code",
   "execution_count": 138,
   "metadata": {},
   "outputs": [
    {
     "data": {
      "text/plain": [
       "20179839"
      ]
     },
     "execution_count": 138,
     "metadata": {},
     "output_type": "execute_result"
    }
   ],
   "source": [
    "def check_l(l, inp):\n",
    "    s = \"\".join([str(x) for x in l])\n",
    "    return s.find(str(inp))\n",
    "check_l(l, inp)"
   ]
  },
  {
   "cell_type": "code",
   "execution_count": 139,
   "metadata": {},
   "outputs": [],
   "source": [
    "del l"
   ]
  },
  {
   "cell_type": "markdown",
   "metadata": {},
   "source": [
    "# Day 16"
   ]
  },
  {
   "cell_type": "code",
   "execution_count": 130,
   "metadata": {},
   "outputs": [],
   "source": [
    "def addr(a, b, c, r):\n",
    "    r[c] = r[a] + r[b]\n",
    "    \n",
    "def addi(a, b, c, r):\n",
    "    r[c] = r[a] + b\n",
    "    \n",
    "def mulr(a, b, c, r):\n",
    "    r[c] = r[a] * r[b]\n",
    "    \n",
    "def muli(a, b, c, r):\n",
    "    r[c] = r[a] * b\n",
    "    \n",
    "def banr(a, b, c, r):\n",
    "    r[c] = r[a] & r[b]\n",
    "    \n",
    "def bani(a, b, c, r):\n",
    "    r[c] = r[a] & b\n",
    "    \n",
    "def borr(a, b, c, r):\n",
    "    r[c] = r[a] | r[b]\n",
    "    \n",
    "def bori(a, b, c, r):\n",
    "    r[c] = r[a] | b\n",
    "    \n",
    "def setr(a, b, c, r):\n",
    "    r[c] = r[a]\n",
    "    \n",
    "def seti(a, b, c, r):\n",
    "    r[c] = a\n",
    "    \n",
    "def gtir(a, b, c, r):\n",
    "    if a > r[b]:\n",
    "        r[c] = 1\n",
    "        return\n",
    "    r[c] = 0\n",
    "    \n",
    "def gtri(a, b, c, r):\n",
    "    if r[a] > b:\n",
    "        r[c] = 1\n",
    "        return\n",
    "    r[c] = 0\n",
    "    \n",
    "def gtrr(a, b, c, r):\n",
    "    if r[a] > r[b]:\n",
    "        r[c] = 1\n",
    "        return\n",
    "    r[c] = 0\n",
    "    \n",
    "def eqir(a, b, c, r):\n",
    "    if a == r[b]:\n",
    "        r[c] = 1\n",
    "        return\n",
    "    r[c] = 0\n",
    "    \n",
    "def eqri(a, b, c, r):\n",
    "    if r[a] == b:\n",
    "        r[c] = 1\n",
    "        return\n",
    "    r[c] = 0\n",
    "\n",
    "def eqrr(a, b, c, r):\n",
    "    if r[a] == r[b]:\n",
    "        r[c] = 1\n",
    "        return\n",
    "    r[c] = 0\n",
    "    \n",
    "fns = [addr, addi, mulr, muli, banr, bani, borr, bori, setr, seti, gtir, gtri, gtrr, eqir, eqri, eqrr]"
   ]
  },
  {
   "cell_type": "code",
   "execution_count": 117,
   "metadata": {},
   "outputs": [],
   "source": [
    "import json\n",
    "cmds = []\n",
    "index = 0\n",
    "lines = open('day16.in').readlines()\n",
    "while index < len(lines):\n",
    "    p1 = json.loads(lines[index].strip().strip(\"Before: \"))\n",
    "    index += 1\n",
    "    ops = [int(x) for x in lines[index].strip().split()]\n",
    "    index += 1\n",
    "    p2 = json.loads(lines[index].strip(\"After: \"))\n",
    "    cmds.append([p1, ops, p2])\n",
    "    index += 2"
   ]
  },
  {
   "cell_type": "code",
   "execution_count": 118,
   "metadata": {},
   "outputs": [],
   "source": [
    "def check_cmd(cmd):\n",
    "    total = 0\n",
    "    before, c, after = cmd\n",
    "    for fn in fns:\n",
    "        try:\n",
    "            test_regs = list(before)\n",
    "            fn(c[1], c[2], c[3], test_regs)\n",
    "            if test_regs == after:\n",
    "                total += 1\n",
    "        except:\n",
    "            pass\n",
    "    return total >= 3\n",
    "        \n"
   ]
  },
  {
   "cell_type": "code",
   "execution_count": 119,
   "metadata": {},
   "outputs": [
    {
     "data": {
      "text/plain": [
       "True"
      ]
     },
     "execution_count": 119,
     "metadata": {},
     "output_type": "execute_result"
    }
   ],
   "source": [
    "check_cmd([[3,2,1,1], [9,2,1,2], [3,2,2,1]])"
   ]
  },
  {
   "cell_type": "code",
   "execution_count": 120,
   "metadata": {},
   "outputs": [
    {
     "data": {
      "text/plain": [
       "642"
      ]
     },
     "execution_count": 120,
     "metadata": {},
     "output_type": "execute_result"
    }
   ],
   "source": [
    "sum([check_cmd(x) for x in cmds])"
   ]
  },
  {
   "cell_type": "code",
   "execution_count": 121,
   "metadata": {},
   "outputs": [],
   "source": [
    "#part 2"
   ]
  },
  {
   "cell_type": "code",
   "execution_count": 122,
   "metadata": {},
   "outputs": [],
   "source": [
    "def poss_cmds(cmd):\n",
    "    total = 0\n",
    "    before, c, after = cmd\n",
    "    poss = []\n",
    "    for fn in fns:\n",
    "        try:\n",
    "            test_regs = list(before)\n",
    "            fn(c[1], c[2], c[3], test_regs)\n",
    "            if test_regs == after:\n",
    "                poss.append(fn.__name__)\n",
    "        except:\n",
    "            pass\n",
    "    return c[0], poss"
   ]
  },
  {
   "cell_type": "code",
   "execution_count": 123,
   "metadata": {},
   "outputs": [
    {
     "name": "stdout",
     "output_type": "stream",
     "text": [
      "790\n"
     ]
    }
   ],
   "source": [
    "all_pos = [poss_cmds(x) for x in cmds]\n",
    "print(len(all_pos))"
   ]
  },
  {
   "cell_type": "code",
   "execution_count": 124,
   "metadata": {},
   "outputs": [],
   "source": [
    "d = {}\n",
    "for num, poss in all_pos:\n",
    "    poss = set(poss)\n",
    "    if num not in d:\n",
    "        d[num] = poss\n",
    "        continue\n",
    "    intersect = d[num].intersection(poss)"
   ]
  },
  {
   "cell_type": "code",
   "execution_count": 166,
   "metadata": {},
   "outputs": [],
   "source": [
    "import networkx as nx\n",
    "g = nx.Graph()\n",
    "for k, v in d.items():\n",
    "    for elem in v:\n",
    "        g.add_edge(k, elem, capacity=1)  "
   ]
  },
  {
   "cell_type": "code",
   "execution_count": 168,
   "metadata": {},
   "outputs": [],
   "source": [
    "matches = nx.algorithms.bipartite.matching.hopcroft_karp_matching(g)"
   ]
  },
  {
   "cell_type": "code",
   "execution_count": 129,
   "metadata": {
    "scrolled": true
   },
   "outputs": [],
   "source": [
    "lines = [x.strip().split() for x in open('day16.in2').readlines()]\n",
    "lines = [[int(y) for y in x] for x in lines]"
   ]
  },
  {
   "cell_type": "code",
   "execution_count": 111,
   "metadata": {},
   "outputs": [],
   "source": [
    "name_to_fn = {x.__name__:x for x in fns}"
   ]
  },
  {
   "cell_type": "code",
   "execution_count": 169,
   "metadata": {},
   "outputs": [],
   "source": [
    "register = [0,0,0,0]\n",
    "for line in lines:\n",
    "    fn_name = matches[line[0]]\n",
    "    fn = name_to_fn[fn_name]\n",
    "    fn(line[1], line[2], line[3], register)"
   ]
  },
  {
   "cell_type": "code",
   "execution_count": 170,
   "metadata": {},
   "outputs": [
    {
     "data": {
      "text/plain": [
       "[481, 481, 3, 0]"
      ]
     },
     "execution_count": 170,
     "metadata": {},
     "output_type": "execute_result"
    }
   ],
   "source": [
    "register"
   ]
  },
  {
   "cell_type": "markdown",
   "metadata": {},
   "source": [
    "# Day 17"
   ]
  },
  {
   "cell_type": "code",
   "execution_count": 20,
   "metadata": {},
   "outputs": [],
   "source": [
    "import re\n",
    "def update_grid(d, s):\n",
    "    i1, i2, i3 = [int(x) for x in re.findall(r\"\\d+\", s)]\n",
    "    if s[0] == 'y':\n",
    "        y = i1\n",
    "        for x in range(i2, i3+1):\n",
    "            d[(y, x)] = \"#\"\n",
    "    if s[0] == 'x':\n",
    "        x = i1\n",
    "        for y in range(i2, i3+1):\n",
    "            d[(y, x)] = \"#\"\n",
    "            \n",
    "def read_grid(fname):\n",
    "    lines = [x.strip() for x in open(fname).readlines()]\n",
    "    d = {}\n",
    "    for line in lines:\n",
    "        update_grid(d, line)\n",
    "    return d\n",
    "\n",
    "def get_max_y(d):\n",
    "    max_y = max([x for x in d.items()], key=lambda x: x[0])[0][0]\n",
    "    return max_y"
   ]
  },
  {
   "cell_type": "code",
   "execution_count": 21,
   "metadata": {},
   "outputs": [
    {
     "data": {
      "text/plain": [
       "(412, 578)"
      ]
     },
     "execution_count": 21,
     "metadata": {},
     "output_type": "execute_result"
    }
   ],
   "source": [
    "def get_min_max_x(d):\n",
    "    all_x = set()\n",
    "    for k in d.keys():\n",
    "        all_x.add(k[1])\n",
    "    start_x = 500\n",
    "    max_x = start_x\n",
    "    min_x = start_x\n",
    "    while max_x in all_x:\n",
    "        max_x += 1\n",
    "    while min_x in all_x:\n",
    "        min_x -= 1\n",
    "    return min_x, max_x\n",
    "min_x, max_x = get_min_max_x(d)\n",
    "min_x, max_x"
   ]
  },
  {
   "cell_type": "code",
   "execution_count": 30,
   "metadata": {},
   "outputs": [],
   "source": [
    "def get_moves(d, p, bbox):\n",
    "    max_y, min_x, max_x = bbox\n",
    "    y,x = p\n",
    "    down = (y+1, x)\n",
    "    left = (y, x-1)\n",
    "    right = (y, x+1)\n",
    "    poss = []\n",
    "    for m in [down, left, right]:\n",
    "        if m[0] > max_y:\n",
    "            continue\n",
    "        if m[1] > max_x or m[1] < min_x:\n",
    "            continue\n",
    "        if m in d and d[p] in [\"#\", \"|\"]:\n",
    "            continue\n",
    "        if m not in d:\n",
    "            poss.append(m)\n",
    "    return poss\n",
    "\n",
    "def dfs(d, p, bbox):\n",
    "    d[p] = \"|\"\n",
    "    moves = get_moves(d, p, bbox)\n",
    "    for move in moves:\n",
    "        dfs(d, move, bbox)\n",
    "\n",
    "def solve(fname):\n",
    "    d = read_grid(fname)\n",
    "    max_y = get_max_y(d)\n",
    "    min_x, max_x = get_min_max_x(d)\n",
    "    dfs(d, (1, 500), (max_y, min_x, max_x))\n",
    "    return len([x for x in d.values() if x == '|'])\n",
    "    \n",
    "        \n"
   ]
  },
  {
   "cell_type": "code",
   "execution_count": 31,
   "metadata": {},
   "outputs": [
    {
     "data": {
      "text/plain": [
       "124"
      ]
     },
     "execution_count": 31,
     "metadata": {},
     "output_type": "execute_result"
    }
   ],
   "source": [
    "solve('day17.sample')"
   ]
  },
  {
   "cell_type": "code",
   "execution_count": null,
   "metadata": {},
   "outputs": [],
   "source": []
  }
 ],
 "metadata": {
  "kernelspec": {
   "display_name": "Python 3",
   "language": "python",
   "name": "python3"
  },
  "language_info": {
   "codemirror_mode": {
    "name": "ipython",
    "version": 3
   },
   "file_extension": ".py",
   "mimetype": "text/x-python",
   "name": "python",
   "nbconvert_exporter": "python",
   "pygments_lexer": "ipython3",
   "version": "3.6.6"
  }
 },
 "nbformat": 4,
 "nbformat_minor": 2
}
