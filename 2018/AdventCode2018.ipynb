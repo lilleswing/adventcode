{
 "cells": [
  {
   "cell_type": "markdown",
   "metadata": {},
   "source": [
    "# Day01"
   ]
  },
  {
   "cell_type": "code",
   "execution_count": 12,
   "metadata": {},
   "outputs": [],
   "source": [
    "lines = [x.strip() for x in open('day01.in').readlines()]\n",
    "vals = [int(x) for x in lines]"
   ]
  },
  {
   "cell_type": "code",
   "execution_count": 13,
   "metadata": {},
   "outputs": [
    {
     "data": {
      "text/plain": [
       "477"
      ]
     },
     "execution_count": 13,
     "metadata": {},
     "output_type": "execute_result"
    }
   ],
   "source": [
    "sum(vals)"
   ]
  },
  {
   "cell_type": "code",
   "execution_count": 15,
   "metadata": {},
   "outputs": [
    {
     "name": "stdout",
     "output_type": "stream",
     "text": [
      "390\n"
     ]
    }
   ],
   "source": [
    "#Part 2\n",
    "t = 0\n",
    "used = set([0])\n",
    "done = False\n",
    "while not done:\n",
    "    for v in vals:\n",
    "        t += v\n",
    "        if t in used:\n",
    "            print(t)\n",
    "            done = True\n",
    "            break\n",
    "        used.add(t)\n",
    "    "
   ]
  },
  {
   "cell_type": "markdown",
   "metadata": {},
   "source": [
    "# Day 02"
   ]
  },
  {
   "cell_type": "code",
   "execution_count": 16,
   "metadata": {},
   "outputs": [],
   "source": [
    "lines = [x.strip() for x in open('day02.in').readlines()]"
   ]
  },
  {
   "cell_type": "code",
   "execution_count": 22,
   "metadata": {},
   "outputs": [
    {
     "data": {
      "text/plain": [
       "(250, 20, 5000)"
      ]
     },
     "execution_count": 22,
     "metadata": {},
     "output_type": "execute_result"
    }
   ],
   "source": [
    "import collections\n",
    "def to_bag(s):\n",
    "    d = collections.defaultdict(int)\n",
    "    for i in s:\n",
    "        d[i] += 1\n",
    "    return d\n",
    "\n",
    "def has_count(d, count):\n",
    "    for v in d.values():\n",
    "        if v == count:\n",
    "            return True\n",
    "    return False\n",
    "bags = [to_bag(x) for x in lines]\n",
    "has_two = [has_count(x, 2) for x in bags]\n",
    "has_three = [has_count(x, 3) for x in bags]\n",
    "sum(has_two), sum(has_three), sum(has_two) * sum(has_three)"
   ]
  },
  {
   "cell_type": "code",
   "execution_count": 24,
   "metadata": {},
   "outputs": [
    {
     "name": "stdout",
     "output_type": "stream",
     "text": [
      "ymdrchgpvwfloluktajxijsqb\n",
      "ymdrchgpvwfloluktajxijsqb\n"
     ]
    }
   ],
   "source": [
    "# Part 2\n",
    "def diff_strings(s1, s2):\n",
    "    return sum([x[0] != x[1] for x in zip(s1, s2)])\n",
    "\n",
    "def same_letters(s1, s2):\n",
    "    retval = \"\"\n",
    "    for a, b in zip(s1, s2):\n",
    "        if a == b:\n",
    "            retval += a\n",
    "    return retval\n",
    "\n",
    "for p1 in lines:\n",
    "    for p2 in lines:\n",
    "        if diff_strings(p1, p2) == 1:\n",
    "            print(same_letters(p1, p2))"
   ]
  },
  {
   "cell_type": "markdown",
   "metadata": {},
   "source": [
    "# Day 03"
   ]
  },
  {
   "cell_type": "code",
   "execution_count": 31,
   "metadata": {},
   "outputs": [],
   "source": [
    "lines = [x.strip() for x in open('day03.in').readlines()]"
   ]
  },
  {
   "cell_type": "code",
   "execution_count": 33,
   "metadata": {},
   "outputs": [
    {
     "data": {
      "text/plain": [
       "[265, 241, 16, 26]"
      ]
     },
     "execution_count": 33,
     "metadata": {},
     "output_type": "execute_result"
    }
   ],
   "source": [
    "import re\n",
    "def parse_line(s):\n",
    "    return [int(x) for x in re.findall(\"\\d+\", s)[1:]]\n",
    "parse_line(lines[0])"
   ]
  },
  {
   "cell_type": "code",
   "execution_count": 49,
   "metadata": {},
   "outputs": [
    {
     "data": {
      "text/plain": [
       "101781"
      ]
     },
     "execution_count": 49,
     "metadata": {},
     "output_type": "execute_result"
    }
   ],
   "source": [
    "import numpy as np\n",
    "width, height = 10000, 10000\n",
    "grid = np.zeros((width, height))\n",
    "def mark_grid(grid, tup):\n",
    "    sx, sy = tup[0], tup[1]\n",
    "    dx, dy = tup[2], tup[3]\n",
    "    grid[sx:sx+dx,sy:sy+dy] += 1\n",
    "for l in lines:\n",
    "    t = parse_line(l)\n",
    "    mark_grid(grid, t)\n",
    "np.sum(grid.flatten() > 1)"
   ]
  },
  {
   "cell_type": "code",
   "execution_count": 50,
   "metadata": {},
   "outputs": [],
   "source": [
    "# Part 2"
   ]
  },
  {
   "cell_type": "code",
   "execution_count": 51,
   "metadata": {},
   "outputs": [
    {
     "name": "stdout",
     "output_type": "stream",
     "text": [
      "#909 @ 593,172: 15x25\n"
     ]
    }
   ],
   "source": [
    "def is_unique(grid, tup):\n",
    "    sx, sy = tup[0], tup[1]\n",
    "    dx, dy = tup[2], tup[3]\n",
    "    return np.all(grid[sx:sx+dx,sy:sy+dy] == 1)\n",
    "for l in lines:\n",
    "    t = parse_line(l)\n",
    "    if is_unique(grid, t):\n",
    "        print(l)"
   ]
  },
  {
   "cell_type": "code",
   "execution_count": null,
   "metadata": {},
   "outputs": [],
   "source": []
  }
 ],
 "metadata": {
  "kernelspec": {
   "display_name": "Python 3",
   "language": "python",
   "name": "python3"
  },
  "language_info": {
   "codemirror_mode": {
    "name": "ipython",
    "version": 3
   },
   "file_extension": ".py",
   "mimetype": "text/x-python",
   "name": "python",
   "nbconvert_exporter": "python",
   "pygments_lexer": "ipython3",
   "version": "3.6.5"
  }
 },
 "nbformat": 4,
 "nbformat_minor": 2
}
