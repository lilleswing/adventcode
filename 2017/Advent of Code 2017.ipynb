{
 "cells": [
  {
   "cell_type": "markdown",
   "metadata": {},
   "source": [
    "# Day01 Circular List\n",
    "The captcha requires you to review a sequence of digits (your puzzle input) and find the sum of all digits that match the next digit in the list. The list is circular, so the digit after the last digit is the first digit in the list.\n",
    "\n",
    "For example:\n",
    "\n",
    "* 1122 produces a sum of 3 (1 + 2) because the first digit (1) matches the second digit and the third digit (2) matches the fourth digit.\n",
    "* 1111 produces 4 because each digit (all 1) matches the next.\n",
    "* 1234 produces 0 because no digit matches the next.\n",
    "* 91212129 produces 9 because the only digit that matches the next one is the last digit, 9."
   ]
  },
  {
   "cell_type": "code",
   "execution_count": 1,
   "metadata": {
    "collapsed": true
   },
   "outputs": [],
   "source": [
    "captcha = [int(x) for x in open('day01.in').read().strip()]"
   ]
  },
  {
   "cell_type": "markdown",
   "metadata": {},
   "source": [
    "## Part 1"
   ]
  },
  {
   "cell_type": "code",
   "execution_count": 2,
   "metadata": {},
   "outputs": [
    {
     "data": {
      "text/plain": [
       "1158"
      ]
     },
     "execution_count": 2,
     "metadata": {},
     "output_type": "execute_result"
    }
   ],
   "source": [
    "total = 0\n",
    "for i in range(len(captcha)):\n",
    "    if captcha[i] == captcha[i-1]:\n",
    "        total += captcha[i]\n",
    "total"
   ]
  },
  {
   "cell_type": "markdown",
   "metadata": {},
   "source": [
    "## Part 2\n",
    "Now instead of the previous element we have to check half way around the list"
   ]
  },
  {
   "cell_type": "code",
   "execution_count": 3,
   "metadata": {},
   "outputs": [
    {
     "data": {
      "text/plain": [
       "1132"
      ]
     },
     "execution_count": 3,
     "metadata": {},
     "output_type": "execute_result"
    }
   ],
   "source": [
    "offset = len(captcha) // 2\n",
    "total = 0\n",
    "for i in range(len(captcha)):\n",
    "    other_index = (i + offset) % len(captcha)\n",
    "    if captcha[i] == captcha[other_index]:\n",
    "        total += captcha[i]\n",
    "total"
   ]
  },
  {
   "cell_type": "markdown",
   "metadata": {
    "collapsed": true
   },
   "source": [
    "# Day02 Spreadsheet Checksum\n",
    "The spreadsheet consists of rows of apparently-random numbers. To make sure the recovery process is on the right track, they need you to calculate the spreadsheet's checksum. For each row, determine the difference between the largest value and the smallest value; the checksum is the sum of all of these differences.\n",
    "\n",
    "For example, given the following spreadsheet:\n",
    "\n",
    "5 1 9 5\n",
    "\n",
    "7 5 3\n",
    "\n",
    "2 4 6 8\n",
    "\n",
    "* The first row's largest and smallest values are 9 and 1, and their difference is 8.\n",
    "* The second row's largest and smallest values are 7 and 3, and their difference is 4.\n",
    "* The third row's difference is 6.\n",
    "* In this example, the spreadsheet's checksum would be 8 + 4 + 6 = 18."
   ]
  },
  {
   "cell_type": "code",
   "execution_count": 4,
   "metadata": {
    "collapsed": true
   },
   "outputs": [],
   "source": [
    "import numpy as np\n",
    "spreadsheet = [x for x in open('day02.in').readlines()]\n",
    "spreadsheet = [[int(y) for y in x.split()] for x in spreadsheet]"
   ]
  },
  {
   "cell_type": "markdown",
   "metadata": {},
   "source": [
    "# Part 1"
   ]
  },
  {
   "cell_type": "code",
   "execution_count": 5,
   "metadata": {},
   "outputs": [
    {
     "data": {
      "text/plain": [
       "30994"
      ]
     },
     "execution_count": 5,
     "metadata": {},
     "output_type": "execute_result"
    }
   ],
   "source": [
    "checksum = 0\n",
    "def checksum_row(row): return max(row) - min(row)\n",
    "sum([checksum_row(row) for row in spreadsheet])"
   ]
  },
  {
   "cell_type": "markdown",
   "metadata": {},
   "source": [
    "# Part 2\n",
    "It sounds like the goal is to find the only two numbers in each row where one evenly divides the other - that is, where the result of the division operation is a whole number. They would like you to find those numbers on each line, divide them, and add up each line's result.\n",
    "\n",
    "For example, given the following spreadsheet:\n",
    "\n",
    "5 9 2 8\n",
    "\n",
    "9 4 7 3\n",
    "\n",
    "3 8 6 5\n",
    "\n",
    "* In the first row, the only two numbers that evenly divide are 8 and 2; the result of this division is 4.\n",
    "* In the second row, the two numbers are 9 and 3; the result is 3.\n",
    "* In the third row, the result is 2.\n",
    "* In this example, the sum of the results would be 4 + 3 + 2 = 9."
   ]
  },
  {
   "cell_type": "code",
   "execution_count": 6,
   "metadata": {},
   "outputs": [
    {
     "data": {
      "text/plain": [
       "233"
      ]
     },
     "execution_count": 6,
     "metadata": {},
     "output_type": "execute_result"
    }
   ],
   "source": [
    "from itertools import product\n",
    "def checksum_row(row):\n",
    "    for top,bottom in product(row, repeat=2):\n",
    "        if top == bottom:\n",
    "            continue\n",
    "        if top % bottom == 0:\n",
    "            return top // bottom\n",
    "    raise ValueError(\"No Checksum for row %s\" % row)\n",
    "sum([checksum_row(row) for row in spreadsheet])"
   ]
  },
  {
   "cell_type": "markdown",
   "metadata": {},
   "source": [
    "# Day 03 Spiral Memory"
   ]
  },
  {
   "cell_type": "code",
   "execution_count": 7,
   "metadata": {
    "collapsed": true
   },
   "outputs": [],
   "source": [
    "class Point(object):\n",
    "    def __init__(self, x, y):\n",
    "        self.x = x\n",
    "        self.y = y\n",
    "    def __add__(self, other):\n",
    "        return Point(self.x+other.x, self.y+other.y)\n",
    "    def __repr__(self):\n",
    "        return str((self.x, self.y))\n",
    "    def __str__(self):\n",
    "        return str((self.x, self.y))\n",
    "    def scale(self, r):\n",
    "        return Point(self.x * r, self.y * r)\n",
    "    def tup(self):\n",
    "        return (self.x, self.y)\n"
   ]
  },
  {
   "cell_type": "code",
   "execution_count": 8,
   "metadata": {},
   "outputs": [
    {
     "name": "stdout",
     "output_type": "stream",
     "text": [
      "(279, -151) 430\n"
     ]
    }
   ],
   "source": [
    "def fill_ring(r, d):\n",
    "    v = ((r * 2) + 1) ** 2\n",
    "    corners = [Point(1,1), Point(1,-1), Point(-1,-1), Point(-1,1)]\n",
    "    dirs = [Point(0,-1), Point(-1,0), Point(0,1), Point(1,0)]\n",
    "    for c, di in zip(corners, dirs):\n",
    "        cur_loc = c.scale(r)\n",
    "        for _ in range(2 * r):\n",
    "            d[v] = cur_loc\n",
    "            v -= 1\n",
    "            cur_loc = cur_loc + di\n",
    "d = {}\n",
    "r = 1\n",
    "while 312051 not in d:\n",
    "    fill_ring(r, d)\n",
    "    r += 1\n",
    "assert d[9].tup() == (1,1)\n",
    "assert d[7].tup() == (1,-1)\n",
    "assert d[6].tup() == (0,-1)\n",
    "print(d[312051], sum([abs(x) for x in d[312051].tup()]))"
   ]
  },
  {
   "cell_type": "markdown",
   "metadata": {},
   "source": [
    "### Part 2"
   ]
  },
  {
   "cell_type": "code",
   "execution_count": 9,
   "metadata": {},
   "outputs": [
    {
     "data": {
      "text/plain": [
       "312453"
      ]
     },
     "execution_count": 9,
     "metadata": {},
     "output_type": "execute_result"
    }
   ],
   "source": [
    "step = 2\n",
    "last_val = 1\n",
    "d2 = {(0,0): 1}\n",
    "while last_val < 312051:\n",
    "    cur_loc = d[step].tup()\n",
    "    last_val = 0\n",
    "    for dy,dx in product([-1,0,1], repeat=2):\n",
    "        new_loc = cur_loc[0] + dy, cur_loc[1] + dx\n",
    "        if new_loc in d2:\n",
    "            last_val += d2[new_loc]\n",
    "    d2[cur_loc] = last_val\n",
    "    step += 1\n",
    "last_val  "
   ]
  },
  {
   "cell_type": "markdown",
   "metadata": {},
   "source": [
    "# Day 04 password lists"
   ]
  },
  {
   "cell_type": "code",
   "execution_count": 10,
   "metadata": {
    "collapsed": true
   },
   "outputs": [],
   "source": [
    "passcodes = [x.strip().split() for x in open('day04.in').readlines()]"
   ]
  },
  {
   "cell_type": "code",
   "execution_count": 11,
   "metadata": {},
   "outputs": [
    {
     "data": {
      "text/plain": [
       "451"
      ]
     },
     "execution_count": 11,
     "metadata": {},
     "output_type": "execute_result"
    }
   ],
   "source": [
    "sum([len(x) == len(set(x)) for x in passcodes])"
   ]
  },
  {
   "cell_type": "markdown",
   "metadata": {},
   "source": [
    "## Part 2"
   ]
  },
  {
   "cell_type": "markdown",
   "metadata": {},
   "source": [
    "We just need to create a canonical ordering to see if two strings are anagrams.\n",
    "\n",
    "To do this we sort each of the strings and then throw them in a set"
   ]
  },
  {
   "cell_type": "code",
   "execution_count": 12,
   "metadata": {},
   "outputs": [
    {
     "data": {
      "text/plain": [
       "223"
      ]
     },
     "execution_count": 12,
     "metadata": {},
     "output_type": "execute_result"
    }
   ],
   "source": [
    "def canonicalize(w): return \"\".join(sorted(w))\n",
    "def anagram_len(r): return len(set([canonicalize(x) for x in r]))\n",
    "sum([len(x) == anagram_len(x) for x in passcodes])"
   ]
  },
  {
   "cell_type": "markdown",
   "metadata": {},
   "source": [
    "# Day 05 A Maze of Twisty Trampolines, All Alike"
   ]
  },
  {
   "cell_type": "code",
   "execution_count": 13,
   "metadata": {},
   "outputs": [
    {
     "data": {
      "text/plain": [
       "356945"
      ]
     },
     "execution_count": 13,
     "metadata": {},
     "output_type": "execute_result"
    }
   ],
   "source": [
    "instructions = [int(x) for x in open('day05.in').readlines()]\n",
    "index = 0\n",
    "steps = 0\n",
    "while 0 <= index < len(instructions):\n",
    "    jump = instructions[index]\n",
    "    instructions[index] += 1\n",
    "    index += jump\n",
    "    steps += 1\n",
    "steps"
   ]
  },
  {
   "cell_type": "markdown",
   "metadata": {},
   "source": [
    "### Part 2"
   ]
  },
  {
   "cell_type": "code",
   "execution_count": 14,
   "metadata": {},
   "outputs": [
    {
     "data": {
      "text/plain": [
       "28372145"
      ]
     },
     "execution_count": 14,
     "metadata": {},
     "output_type": "execute_result"
    }
   ],
   "source": [
    "instructions = [int(x) for x in open('day05.in').readlines()]\n",
    "index = 0\n",
    "steps = 0\n",
    "while 0 <= index < len(instructions):\n",
    "    jump = instructions[index]\n",
    "    if instructions[index] >=3:\n",
    "        instructions[index] -= 1\n",
    "    else:\n",
    "        instructions[index] += 1\n",
    "    index += jump\n",
    "    steps += 1\n",
    "steps"
   ]
  },
  {
   "cell_type": "markdown",
   "metadata": {
    "collapsed": true
   },
   "source": [
    "# Day 06 Memory Reallocation"
   ]
  },
  {
   "cell_type": "code",
   "execution_count": 15,
   "metadata": {},
   "outputs": [
    {
     "data": {
      "text/plain": [
       "5042"
      ]
     },
     "execution_count": 15,
     "metadata": {},
     "output_type": "execute_result"
    }
   ],
   "source": [
    "banks = [int(x) for x in open('day06.in').read().split()]\n",
    "def redistribute(banks):\n",
    "    d, i = max(banks), banks.index(max(banks))\n",
    "    b2 = list(banks)\n",
    "    b2[i] = 0\n",
    "    while d > 0:\n",
    "        i = (i + 1) % len(banks)\n",
    "        b2[i] += 1\n",
    "        d -= 1\n",
    "    return b2\n",
    "\n",
    "steps, s = 0, set()\n",
    "while tuple(banks) not in s:\n",
    "    s.add(tuple(banks))\n",
    "    banks = redistribute(banks)\n",
    "    steps += 1\n",
    "steps"
   ]
  },
  {
   "cell_type": "markdown",
   "metadata": {},
   "source": [
    "### Part 2"
   ]
  },
  {
   "cell_type": "code",
   "execution_count": 16,
   "metadata": {},
   "outputs": [
    {
     "data": {
      "text/plain": [
       "1086"
      ]
     },
     "execution_count": 16,
     "metadata": {},
     "output_type": "execute_result"
    }
   ],
   "source": [
    "goal, banks, steps = tuple(banks), redistribute(banks), 1\n",
    "while tuple(banks) != goal:\n",
    "    banks = redistribute(banks)\n",
    "    steps +=1\n",
    "steps"
   ]
  },
  {
   "cell_type": "markdown",
   "metadata": {
    "collapsed": true
   },
   "source": [
    "# Day 07 Recursive Circus "
   ]
  },
  {
   "cell_type": "code",
   "execution_count": 17,
   "metadata": {
    "collapsed": true
   },
   "outputs": [],
   "source": [
    "import networkx as nx\n",
    "import re"
   ]
  },
  {
   "cell_type": "code",
   "execution_count": 18,
   "metadata": {},
   "outputs": [
    {
     "data": {
      "text/plain": [
       "'airlri'"
      ]
     },
     "execution_count": 18,
     "metadata": {},
     "output_type": "execute_result"
    }
   ],
   "source": [
    "lines = [x.strip() for x in open('day07.in').readlines()]\n",
    "weights = {}\n",
    "g = nx.DiGraph()\n",
    "for line in lines:\n",
    "    if line.find('->') >= 0:\n",
    "        source, sink = line.split('->')\n",
    "        sinks = sink.strip().split(', ')\n",
    "    else:\n",
    "        source, sinks = line, []\n",
    "    source_name = source.split(' ')[0]\n",
    "    source_weight = re.findall(r'\\d+', source)\n",
    "    weights[source_name] = int(source_weight[0])\n",
    "    for sink in sinks:\n",
    "        g.add_edge(source_name, sink)\n",
    "list(nx.topological_sort(g))[0]\n"
   ]
  },
  {
   "cell_type": "markdown",
   "metadata": {},
   "source": [
    "### Part 2"
   ]
  },
  {
   "cell_type": "code",
   "execution_count": 19,
   "metadata": {},
   "outputs": [
    {
     "name": "stdout",
     "output_type": "stream",
     "text": [
      "['drfzng', 'yhonqw', 'wsyiyen', 'dqwocyn', 'qqnroz'] [1614, 1614, 1614, 1623, 1614]\n",
      "['ehlwoxs', 'hbldvzk', 'ezwzp', 'tylelk', 'jkxutle', 'kkflx', 'oucqw'] [8094, 8094, 8094, 8103, 8094, 8094, 8094]\n",
      "['pidgnp', 'lljifba', 'gmewl', 'tbedct', 'ryvidhy', 'rdytzgp'] [152523, 152514, 152514, 152514, 152514, 152514]\n"
     ]
    },
    {
     "data": {
      "text/plain": [
       "915190"
      ]
     },
     "execution_count": 19,
     "metadata": {},
     "output_type": "execute_result"
    }
   ],
   "source": [
    "down_weights = {}\n",
    "def calc_down_weight(n):\n",
    "    if n in down_weights:\n",
    "        return down_weights[n]\n",
    "    neighbors = list(g.neighbors(n))\n",
    "    child_weights = [calc_down_weight(x) for x in neighbors]\n",
    "    if len(set(child_weights)) > 1:\n",
    "        print(neighbors, child_weights)\n",
    "    my_weight = weights[n] + sum(child_weights)\n",
    "    down_weights[n] = my_weight\n",
    "    return my_weight\n",
    "calc_down_weight(list(nx.topological_sort(g))[0])"
   ]
  },
  {
   "cell_type": "code",
   "execution_count": 20,
   "metadata": {},
   "outputs": [
    {
     "data": {
      "text/plain": [
       "1206"
      ]
     },
     "execution_count": 20,
     "metadata": {},
     "output_type": "execute_result"
    }
   ],
   "source": [
    "weights['dqwocyn'] - (1623 - 1614)"
   ]
  },
  {
   "cell_type": "markdown",
   "metadata": {
    "collapsed": true
   },
   "source": [
    "# Day 08 I Heard You Like Registers"
   ]
  },
  {
   "cell_type": "code",
   "execution_count": 21,
   "metadata": {
    "collapsed": true
   },
   "outputs": [],
   "source": [
    "import collections\n",
    "instr = [x.strip().split() for x in open('day08.in').readlines()]"
   ]
  },
  {
   "cell_type": "code",
   "execution_count": 22,
   "metadata": {
    "collapsed": true
   },
   "outputs": [],
   "source": [
    "conds = {\n",
    "    '>': lambda x, y: x > y,\n",
    "    '>=': lambda x, y: x >= y,\n",
    "    '<': lambda x, y: x < y,\n",
    "    '<=': lambda x, y: x <= y,\n",
    "    '==': lambda x, y: x == y,\n",
    "    '!=': lambda x, y: x != y\n",
    "}\n",
    "muts = {\n",
    "    'inc': lambda x, y: x + y,\n",
    "    'dec': lambda x, y: x - y\n",
    "}"
   ]
  },
  {
   "cell_type": "code",
   "execution_count": 23,
   "metadata": {},
   "outputs": [
    {
     "data": {
      "text/plain": [
       "('m', 4163)"
      ]
     },
     "execution_count": 23,
     "metadata": {},
     "output_type": "execute_result"
    }
   ],
   "source": [
    "regs = collections.defaultdict(int)\n",
    "for r1, mut, v1, _, r2, cond, v2 in instr:\n",
    "    v1, v2 = int(v1), int(v2)\n",
    "    if conds[cond](regs[r2], v2):\n",
    "        regs[r1] = muts[mut](regs[r1], v1)\n",
    "max(regs.items(), key=lambda x: x[1])"
   ]
  },
  {
   "cell_type": "markdown",
   "metadata": {},
   "source": [
    "### Part 2"
   ]
  },
  {
   "cell_type": "code",
   "execution_count": 24,
   "metadata": {},
   "outputs": [
    {
     "data": {
      "text/plain": [
       "5347"
      ]
     },
     "execution_count": 24,
     "metadata": {},
     "output_type": "execute_result"
    }
   ],
   "source": [
    "regs = collections.defaultdict(int)\n",
    "biggest = 0\n",
    "for r1, mut, v1, _, r2, cond, v2 in instr:\n",
    "    v1, v2 = int(v1), int(v2)\n",
    "    if conds[cond](regs[r2], v2):\n",
    "        regs[r1] = muts[mut](regs[r1], v1)\n",
    "        if regs[r1] > biggest:\n",
    "            biggest = regs[r1]\n",
    "biggest"
   ]
  },
  {
   "cell_type": "markdown",
   "metadata": {},
   "source": [
    "# Day 09 Stream Processing"
   ]
  },
  {
   "cell_type": "code",
   "execution_count": 25,
   "metadata": {},
   "outputs": [
    {
     "data": {
      "text/plain": [
       "(16021, 7685)"
      ]
     },
     "execution_count": 25,
     "metadata": {},
     "output_type": "execute_result"
    }
   ],
   "source": [
    "def score_stream(inp):\n",
    "    score, g_count, gar_count = 0, 0, 0\n",
    "    is_garbage, is_cancelled = False, False\n",
    "    for i, c in enumerate(inp):\n",
    "        #print(c, i, is_garbage, is_cancelled)\n",
    "        if is_cancelled:\n",
    "            is_cancelled = False\n",
    "            continue\n",
    "        if c == \"!\":\n",
    "            is_cancelled = True\n",
    "            continue\n",
    "        if is_garbage and c == \">\":\n",
    "            is_garbage = False\n",
    "            continue\n",
    "        if is_garbage:\n",
    "            gar_count += 1\n",
    "            continue\n",
    "        if c == \"<\":\n",
    "            is_garbage = True\n",
    "            continue\n",
    "        if c == '{':\n",
    "            g_count += 1\n",
    "            continue\n",
    "        if c == '}':\n",
    "            score += g_count\n",
    "            g_count -= 1\n",
    "            continue\n",
    "    return score, gar_count\n",
    "assert score_stream(\"{{<a!>},{<a!>},{<a!>},{<ab>}}\")[0] == 3\n",
    "assert score_stream(\"{{<!!>},{<!!>},{<!!>},{<!!>}}\")[0] == 9\n",
    "inp = open('day09.in').read().strip()\n",
    "score_stream(inp)"
   ]
  },
  {
   "cell_type": "markdown",
   "metadata": {},
   "source": [
    "# Day 10 Knot Hash"
   ]
  },
  {
   "cell_type": "code",
   "execution_count": 26,
   "metadata": {},
   "outputs": [
    {
     "data": {
      "text/plain": [
       "13760"
      ]
     },
     "execution_count": 26,
     "metadata": {},
     "output_type": "execute_result"
    }
   ],
   "source": [
    "def crypt(b, lengths):\n",
    "    skip_size = 0\n",
    "    total_shifts = 0\n",
    "    for length in lengths:\n",
    "        b0, b1 = b[:length], b[length:]\n",
    "        b0 = b0[::-1]\n",
    "        b = b0 + b1\n",
    "        n_index = (skip_size + length) % len(b)\n",
    "        total_shifts += n_index\n",
    "        b0, b1 = b[:n_index], b[n_index:]\n",
    "        b = b1 + b0\n",
    "        skip_size += 1\n",
    "    last_shift = len(b) - (total_shifts % len(b))\n",
    "    b0, b1 = b[:last_shift], b[last_shift:]\n",
    "    return b1 + b0\n",
    "\n",
    "def khash(b, lengths):\n",
    "    l = crypt(b, lengths)\n",
    "    return l[0] * l[1]\n",
    "\n",
    "assert khash([0,1,2,3,4], [3,4,1,5]) == 12\n",
    "lengths = [int(x) for x in \"227,169,3,166,246,201,0,47,1,255,2,254,96,3,97,144\".split(',')]\n",
    "b = [x for x in range(256)]\n",
    "khash(b, lengths)"
   ]
  },
  {
   "cell_type": "code",
   "execution_count": 27,
   "metadata": {},
   "outputs": [
    {
     "data": {
      "text/plain": [
       "'2da93395f1a6bb3472203252e3b17fe5'"
      ]
     },
     "execution_count": 27,
     "metadata": {},
     "output_type": "execute_result"
    }
   ],
   "source": [
    "from functools import reduce\n",
    "\n",
    "def crypt(b, lengths, rounds=1):\n",
    "    skip_size = 0\n",
    "    total_shifts = 0\n",
    "    for r in range(rounds):\n",
    "        for length in lengths:\n",
    "            b0, b1 = b[:length], b[length:]\n",
    "            b0 = b0[::-1]\n",
    "            b = b0 + b1\n",
    "            n_index = (skip_size + length) % len(b)\n",
    "            total_shifts += n_index\n",
    "            b0, b1 = b[:n_index], b[n_index:]\n",
    "            b = b1 + b0\n",
    "            skip_size += 1\n",
    "    last_shift = len(b) - (total_shifts % len(b))\n",
    "    b0, b1 = b[:last_shift], b[last_shift:]\n",
    "    return b1 + b0\n",
    "\n",
    "def full_khash(b, lengths):\n",
    "    lengths += [17, 31, 73, 47, 23]\n",
    "    l = crypt(b, lengths, 64)\n",
    "    codes = []\n",
    "    for i in range(16):\n",
    "        section = l[i*16:(i+1)*16]\n",
    "        code = hex(reduce(lambda x, y: x ^ y, section))[2:]\n",
    "        codes.append(code)\n",
    "    return \"\".join(codes)\n",
    "lengths = [ord(x) for x in \"227,169,3,166,246,201,0,47,1,255,2,254,96,3,97,144\"]\n",
    "b = [x for x in range(256)]\n",
    "full_khash(b, lengths)"
   ]
  },
  {
   "cell_type": "markdown",
   "metadata": {
    "collapsed": true
   },
   "source": [
    "# Day 11 Hex Ed"
   ]
  },
  {
   "cell_type": "code",
   "execution_count": 28,
   "metadata": {
    "collapsed": true
   },
   "outputs": [],
   "source": [
    "import networkx as nx"
   ]
  },
  {
   "cell_type": "code",
   "execution_count": 29,
   "metadata": {
    "collapsed": true
   },
   "outputs": [],
   "source": [
    "path = open('day11.in').read().strip().split(\",\")"
   ]
  },
  {
   "cell_type": "code",
   "execution_count": 30,
   "metadata": {},
   "outputs": [
    {
     "data": {
      "text/plain": [
       "array([ 329. ,  712.5])"
      ]
     },
     "execution_count": 30,
     "metadata": {},
     "output_type": "execute_result"
    }
   ],
   "source": [
    "d = {\n",
    "    \"n\": (0, -1),\n",
    "    \"ne\": (1, -0.5),\n",
    "    \"se\": (1, 0.5),\n",
    "    \"s\": (0, 1),\n",
    "    \"sw\": (-1, 0.5),\n",
    "    \"nw\": (-1, -0.5)\n",
    "}\n",
    "d = {k: np.array(v) for k, v in d.items()}\n",
    "my_l = (0,0)\n",
    "for elem in path:\n",
    "    my_l += d[elem]\n",
    "my_l"
   ]
  },
  {
   "cell_type": "code",
   "execution_count": 31,
   "metadata": {},
   "outputs": [
    {
     "data": {
      "text/plain": [
       "877"
      ]
     },
     "execution_count": 31,
     "metadata": {},
     "output_type": "execute_result"
    }
   ],
   "source": [
    "import numpy as np\n",
    "## Lets take the greedy path\n",
    "def dist(a, b):\n",
    "    return np.linalg.norm(a-b)\n",
    "\n",
    "def hex_distance(p1, cache):\n",
    "    key = tuple(p1.tolist())\n",
    "    if key in cache:\n",
    "        return cache[key]\n",
    "    if np.all(p1 == [0,0]):\n",
    "        return 0\n",
    "    best_dist, best_loc = float('inf'), None\n",
    "    for k, v in d.items():\n",
    "        new_l = p1 + v\n",
    "        if dist(new_l, [0,0]) < best_dist:\n",
    "            best_dist = dist(new_l, [0,0])\n",
    "            best_loc = new_l\n",
    "    retval = 1 + hex_distance(best_loc, cache)\n",
    "    cache[key] = retval\n",
    "    return retval\n",
    "\n",
    "loc_cache = {}\n",
    "hex_distance(my_l, loc_cache)"
   ]
  },
  {
   "cell_type": "markdown",
   "metadata": {},
   "source": [
    "### Part 2"
   ]
  },
  {
   "cell_type": "code",
   "execution_count": 32,
   "metadata": {},
   "outputs": [
    {
     "data": {
      "text/plain": [
       "1622"
      ]
     },
     "execution_count": 32,
     "metadata": {},
     "output_type": "execute_result"
    }
   ],
   "source": [
    "longest_dist = 0\n",
    "my_l = np.array([0.,0.])\n",
    "for elem in path:\n",
    "    my_l += d[elem]\n",
    "    cur_dist = hex_distance(my_l, loc_cache)\n",
    "    if cur_dist > longest_dist:\n",
    "        longest_dist = cur_dist\n",
    "longest_dist\n",
    "    "
   ]
  },
  {
   "cell_type": "markdown",
   "metadata": {},
   "source": [
    "# Day 12 "
   ]
  },
  {
   "cell_type": "code",
   "execution_count": 4,
   "metadata": {
    "collapsed": true
   },
   "outputs": [],
   "source": [
    "import networkx as nx\n",
    "import re\n",
    "lines = [x.strip() for x in open('day12.in').readlines()]\n",
    "e_list = [re.findall(r\"\\d+\", x) for x in lines]"
   ]
  },
  {
   "cell_type": "code",
   "execution_count": 16,
   "metadata": {},
   "outputs": [
    {
     "name": "stdout",
     "output_type": "stream",
     "text": [
      "378\n"
     ]
    }
   ],
   "source": [
    "g = nx.Graph()\n",
    "for e in e_list:\n",
    "    for n in e[1:]:\n",
    "        g.add_edge(e[0], n)\n",
    "subgraphs = list(nx.connected_component_subgraphs(g))\n",
    "for sg in subgraphs:\n",
    "    if '0' in sg.nodes:\n",
    "        print(len(sg))"
   ]
  },
  {
   "cell_type": "code",
   "execution_count": 14,
   "metadata": {},
   "outputs": [
    {
     "data": {
      "text/plain": [
       "204"
      ]
     },
     "execution_count": 14,
     "metadata": {},
     "output_type": "execute_result"
    }
   ],
   "source": [
    "len(subgraphs)"
   ]
  },
  {
   "cell_type": "markdown",
   "metadata": {
    "collapsed": true
   },
   "source": [
    "# Day 13"
   ]
  },
  {
   "cell_type": "code",
   "execution_count": 72,
   "metadata": {
    "collapsed": true
   },
   "outputs": [],
   "source": [
    "import re\n",
    "world = [[int(y) for y in re.findall(r\"\\d+\", x)] for x in open('day13.in').readlines()]\n",
    "world = [(x[0],x[1]) for x in world]"
   ]
  },
  {
   "cell_type": "code",
   "execution_count": 73,
   "metadata": {},
   "outputs": [
    {
     "data": {
      "text/plain": [
       "(1528, False)"
      ]
     },
     "execution_count": 73,
     "metadata": {},
     "output_type": "execute_result"
    }
   ],
   "source": [
    "from functools import lru_cache\n",
    "\n",
    "@lru_cache(maxsize=100000)\n",
    "def scan_loc(t, depth):\n",
    "    return t % ((depth * 2) - 2)\n",
    "        \n",
    "\n",
    "def get_score(offset, world, early_exit=False):\n",
    "    score = 0\n",
    "    for my_l, depth in world:\n",
    "        my_l += offset\n",
    "        sc_loc = scan_loc(my_l, depth)\n",
    "        if scan_loc(my_l, depth) == 0:\n",
    "            score += my_l * depth\n",
    "            if early_exit:\n",
    "                return -1, True\n",
    "    return score, False\n",
    "\n",
    "get_score(0, world)"
   ]
  },
  {
   "cell_type": "markdown",
   "metadata": {},
   "source": [
    "### Part 2"
   ]
  },
  {
   "cell_type": "code",
   "execution_count": 76,
   "metadata": {},
   "outputs": [
    {
     "data": {
      "text/plain": [
       "3896406"
      ]
     },
     "execution_count": 76,
     "metadata": {},
     "output_type": "execute_result"
    }
   ],
   "source": [
    "def is_caught(offset, world):\n",
    "    for my_l, depth in world:\n",
    "        my_l += offset\n",
    "        sc_loc = scan_loc(my_l, depth)\n",
    "        if scan_loc(my_l, depth) == 0:\n",
    "            return True\n",
    "    return False\n",
    "\n",
    "wait_time = 10\n",
    "while is_caught(wait_time, world):\n",
    "    wait_time += 1\n",
    "wait_time"
   ]
  },
  {
   "cell_type": "markdown",
   "metadata": {
    "collapsed": true
   },
   "source": [
    "# Day 14"
   ]
  },
  {
   "cell_type": "code",
   "execution_count": 55,
   "metadata": {
    "collapsed": true
   },
   "outputs": [],
   "source": [
    "from functools import reduce\n",
    "\n",
    "def crypt(b, lengths, rounds=1):\n",
    "    skip_size = 0\n",
    "    total_shifts = 0\n",
    "    for r in range(rounds):\n",
    "        for length in lengths:\n",
    "            b0, b1 = b[:length], b[length:]\n",
    "            b0 = b0[::-1]\n",
    "            b = b0 + b1\n",
    "            n_index = (skip_size + length) % len(b)\n",
    "            total_shifts += n_index\n",
    "            b0, b1 = b[:n_index], b[n_index:]\n",
    "            b = b1 + b0\n",
    "            skip_size += 1\n",
    "    last_shift = len(b) - (total_shifts % len(b))\n",
    "    b0, b1 = b[:last_shift], b[last_shift:]\n",
    "    return b1 + b0\n",
    "\n",
    "def full_khash(b, lengths):\n",
    "    lengths += [17, 31, 73, 47, 23]\n",
    "    l = crypt(b, lengths, 64)\n",
    "    codes = []\n",
    "    for i in range(16):\n",
    "        section = l[i*16:(i+1)*16]\n",
    "        code = bin(reduce(lambda x, y: x ^ y, section))[2:].zfill(8)\n",
    "        codes.append(code)\n",
    "    return \"\".join(codes)\n"
   ]
  },
  {
   "cell_type": "code",
   "execution_count": 56,
   "metadata": {},
   "outputs": [
    {
     "data": {
      "text/plain": [
       "8194"
      ]
     },
     "execution_count": 56,
     "metadata": {},
     "output_type": "execute_result"
    }
   ],
   "source": [
    "used = 0\n",
    "for i in range(128):\n",
    "    lengths = [ord(x) for x in (\"uugsqrei-%s\" % i)]\n",
    "    b = [x for x in range(256)]\n",
    "    h = full_khash(b, lengths)\n",
    "    used += h.count('1')\n",
    "used"
   ]
  },
  {
   "cell_type": "code",
   "execution_count": 61,
   "metadata": {
    "collapsed": true
   },
   "outputs": [],
   "source": [
    "import networkx as nx\n",
    "m = []\n",
    "for i in range(128):\n",
    "    lengths = [ord(x) for x in (\"uugsqrei-%s\" % i)]\n",
    "    b = [x for x in range(256)]\n",
    "    h = full_khash(b, lengths)\n",
    "    m.append(h)\n"
   ]
  },
  {
   "cell_type": "code",
   "execution_count": 65,
   "metadata": {
    "collapsed": true
   },
   "outputs": [],
   "source": [
    "g = nx.Graph()\n",
    "\n",
    "def bounds_check(p):\n",
    "    for i in range(2):\n",
    "        if p[i] < 0 or p[i] >=128:\n",
    "            return False\n",
    "    return True\n",
    "dummy = (-1, -1)\n",
    "for i in range(0, 128):\n",
    "    for j in range(0, 128):\n",
    "        for dx, dy in [(0,1), (0,-1), (1,0), (-1,0)]:\n",
    "            p1 = (i,j)\n",
    "            p2 = (i+dx, j+dy)\n",
    "            if not bounds_check(p1):\n",
    "                continue\n",
    "            if not bounds_check(p2):\n",
    "                continue\n",
    "            if m[p1[0]][p1[1]] == '1':\n",
    "                g.add_edge(p1, \"%s,%s\" % (p1[0], p1[1]))\n",
    "            if m[p2[0]][p2[1]] == '1':\n",
    "                g.add_edge(p2, \"%s,%s\" % (p2[0], p2[1]))\n",
    "            if m[p1[0]][p1[1]] == '1' and m[p2[0]][p2[1]] == '1':\n",
    "                g.add_edge(p1, p2)\n",
    "subgraphs = list(nx.connected_component_subgraphs(g))\n",
    "len(subgraphs)"
   ]
  },
  {
   "cell_type": "markdown",
   "metadata": {},
   "source": [
    "# Day 15"
   ]
  },
  {
   "cell_type": "code",
   "execution_count": 70,
   "metadata": {},
   "outputs": [
    {
     "data": {
      "text/plain": [
       "577"
      ]
     },
     "execution_count": 70,
     "metadata": {},
     "output_type": "execute_result"
    }
   ],
   "source": [
    "def next_a(a):\n",
    "    return (a * 16807) % 2147483647\n",
    "\n",
    "def next_b(b):\n",
    "    return (b * 48271) % 2147483647\n",
    "\n",
    "def check(a, b):\n",
    "    a1 = \"{0:b}\".format(a)\n",
    "    a2 = \"{0:b}\".format(b)\n",
    "    return a1[-16:] == a2[-16:]\n",
    "\n",
    "seed_a = 618\n",
    "seed_b = 814\n",
    "total = 0\n",
    "#seed_a = 65\n",
    "#seed_b = 8921\n",
    "for i in range(40000000):\n",
    "    seed_a = next_a(seed_a)\n",
    "    seed_b = next_b(seed_b)\n",
    "    if check(seed_a, seed_b):\n",
    "        total += 1\n",
    "total"
   ]
  },
  {
   "cell_type": "code",
   "execution_count": 71,
   "metadata": {},
   "outputs": [
    {
     "data": {
      "text/plain": [
       "316"
      ]
     },
     "execution_count": 71,
     "metadata": {},
     "output_type": "execute_result"
    }
   ],
   "source": [
    "def next_a(a):\n",
    "    while True:\n",
    "        a = (a * 16807) % 2147483647\n",
    "        if a % 4 == 0:\n",
    "            return a\n",
    "\n",
    "def next_b(b):\n",
    "    while True:\n",
    "        b = (b * 48271) % 2147483647\n",
    "        if b % 8 == 0:\n",
    "            return b\n",
    "\n",
    "def check(a, b):\n",
    "    a1 = \"{0:b}\".format(a)\n",
    "    a2 = \"{0:b}\".format(b)\n",
    "    return a1[-16:] == a2[-16:]\n",
    "\n",
    "seed_a = 618\n",
    "seed_b = 814\n",
    "total = 0\n",
    "#seed_a = 65\n",
    "#seed_b = 8921\n",
    "for i in range(5000000):\n",
    "    seed_a = next_a(seed_a)\n",
    "    seed_b = next_b(seed_b)\n",
    "    if check(seed_a, seed_b):\n",
    "        total += 1\n",
    "total"
   ]
  },
  {
   "cell_type": "markdown",
   "metadata": {
    "collapsed": true
   },
   "source": [
    "# Day 16"
   ]
  },
  {
   "cell_type": "code",
   "execution_count": 2,
   "metadata": {
    "collapsed": true
   },
   "outputs": [],
   "source": [
    "moves = open('day16.in').read().split(',')"
   ]
  },
  {
   "cell_type": "code",
   "execution_count": 75,
   "metadata": {},
   "outputs": [
    {
     "data": {
      "text/plain": [
       "'namdgkbhifpceloj'"
      ]
     },
     "execution_count": 75,
     "metadata": {},
     "output_type": "execute_result"
    }
   ],
   "source": [
    "import string\n",
    "import re\n",
    "def spin(d, n):\n",
    "    return d[-n:] + d[:-n]\n",
    "def exchange(d, a, b):\n",
    "    a1, b1 = d[a], d[b]\n",
    "    d[a], d[b] = b1, a1\n",
    "    return d\n",
    "def partner(d, a, b):\n",
    "    i1, i2 = d.index(a), d.index(b)\n",
    "    return exchange(d, i1, i2)\n",
    "\n",
    "def solve(dancers, moves):\n",
    "    dancers = list(dancers)\n",
    "    for move in moves:\n",
    "        args = [int(x) for x in re.findall(r'\\d+', move)]\n",
    "        if move.startswith('s'):\n",
    "            dancers = spin(dancers, args[0])\n",
    "        elif move.startswith('x'):\n",
    "            dancers = exchange(dancers, args[0], args[1])\n",
    "        elif move.startswith('p'):\n",
    "            dancers = partner(dancers, move[-3], move[-1])\n",
    "        else:\n",
    "            raise ValueError(\"lol\")\n",
    "    return \"\".join(dancers)\n",
    "\n",
    "dancers = string.ascii_lowercase[:16]\n",
    "solve(dancers, moves)"
   ]
  },
  {
   "cell_type": "code",
   "execution_count": 74,
   "metadata": {},
   "outputs": [
    {
     "name": "stdout",
     "output_type": "stream",
     "text": [
      "ibmchklnofjpdeag\n"
     ]
    }
   ],
   "source": [
    "dancers = string.ascii_lowercase[:16]\n",
    "pos_map = {}\n",
    "runs = 0\n",
    "while dancers not in pos_map:\n",
    "    pos_map[dancers] = runs\n",
    "    dancers = solve(dancers, moves)\n",
    "    runs += 1\n",
    "for k, v in pos_map.items():\n",
    "    if v == 1000000000 % runs:\n",
    "        print(k)\n",
    "        break  "
   ]
  },
  {
   "cell_type": "markdown",
   "metadata": {},
   "source": [
    "# Day 17 Spinlock"
   ]
  },
  {
   "cell_type": "code",
   "execution_count": 80,
   "metadata": {
    "collapsed": true
   },
   "outputs": [],
   "source": [
    "inp = 371\n",
    "l = [0]\n",
    "cur_index = 0\n",
    "for i in range(1, 2018):\n",
    "    if l.index(0) != 0:\n",
    "        print(l)\n",
    "        break\n",
    "    cur_index = (cur_index + inp) % len(l) + 1\n",
    "    l.insert(cur_index, i)"
   ]
  },
  {
   "cell_type": "code",
   "execution_count": 81,
   "metadata": {},
   "outputs": [
    {
     "data": {
      "text/plain": [
       "1311"
      ]
     },
     "execution_count": 81,
     "metadata": {},
     "output_type": "execute_result"
    }
   ],
   "source": [
    "l[l.index(2017)+1]"
   ]
  },
  {
   "cell_type": "code",
   "execution_count": 82,
   "metadata": {
    "collapsed": true
   },
   "outputs": [],
   "source": [
    "inp = 371\n",
    "l = [0]\n",
    "length = 1\n",
    "cur_index = 0\n",
    "answer = None\n",
    "for i in range(1, 50000000):\n",
    "    cur_index = (cur_index + inp) % length + 1\n",
    "    if cur_index == 1:\n",
    "        answer = i\n",
    "    length += 1"
   ]
  },
  {
   "cell_type": "code",
   "execution_count": 83,
   "metadata": {},
   "outputs": [
    {
     "data": {
      "text/plain": [
       "39170601"
      ]
     },
     "execution_count": 83,
     "metadata": {},
     "output_type": "execute_result"
    }
   ],
   "source": [
    "answer"
   ]
  },
  {
   "cell_type": "markdown",
   "metadata": {},
   "source": [
    "# Day 18 Duet"
   ]
  },
  {
   "cell_type": "code",
   "execution_count": 26,
   "metadata": {},
   "outputs": [
    {
     "name": "stdout",
     "output_type": "stream",
     "text": [
      "[8039, 9873, 349, 3308, 9310, 1623, 2271, 1737, 9947, 6644, 1577, 8357, 4977, 3881, 35, 140, 7135, 485, 6272, 7153, 1602, 9276, 162, 1115, 5945, 4239, 6155, 8635, 7415, 1261, 6485, 5024, 1700, 2744, 3183, 5752, 4012, 1119, 5649, 6167, 9444, 9716, 6475, 4162, 6562, 9041, 7020, 9210, 4940, 7905, 3317, 2471, 6687, 8729, 631, 4761, 3927, 6569, 4060, 3721, 3045, 6313, 7569, 4995, 9047, 1258, 1546, 5040, 1553, 4803, 1301, 1793, 5980, 4264, 2174, 7811, 7556, 111, 5196, 7887, 9126, 6373, 8674, 963, 4141, 8359, 7446, 255, 9460, 323, 8251, 3189, 6268, 9908, 6418, 9193, 1574, 400, 4699, 6031, 5020, 6810, 6211, 5649, 6224, 2766, 8518, 5745, 4689, 5422, 2900, 534, 3827, 7492, 4207, 5812, 5419, 6539, 6216, 2503, 353, 2743, 5632, 1875, 5467, 1219, 1187]\n"
     ]
    }
   ],
   "source": [
    "from collections import defaultdict\n",
    "inst = [x.strip().split(' ') for x in \"\"\"set a 1\n",
    "add a 2\n",
    "mul a a\n",
    "mod a 5\n",
    "snd a\n",
    "set a 0\n",
    "rcv a\n",
    "jgz a -1\n",
    "set a 1\n",
    "jgz a -2\"\"\".split('\\n')]\n",
    "inst = [x.strip().split(' ') for x in open('day18.in').readlines()]\n",
    "\n",
    "def solve(inst):\n",
    "    def to_value(regs, y):\n",
    "        try:\n",
    "            return int(y)\n",
    "        except Exception as e:\n",
    "            return regs[y]\n",
    "    def snd(regs, x):\n",
    "        if 'snd' not in regs:\n",
    "            regs['snd'] = list()\n",
    "        regs['snd'].append(regs[x])\n",
    "    def rcv(regs, x):\n",
    "        if regs[x] != 0:\n",
    "            print(regs['snd'])\n",
    "            return True\n",
    "        return False\n",
    "    def st(regs, x, y):\n",
    "        regs[x] = y\n",
    "    def add(regs, x, y):\n",
    "        regs[x] += y\n",
    "    def mul(regs, x, y):\n",
    "        regs[x] *= y\n",
    "    def mod(regs, x, y):\n",
    "        regs[x] %= y\n",
    "    def jgz(regs, x, y):\n",
    "        if regs[x] > 0:\n",
    "            regs['index'] += (y-1)\n",
    "    regs = defaultdict(int)\n",
    "    cmds = {\n",
    "        'snd': snd,\n",
    "        'set': st,\n",
    "        'rcv': rcv,\n",
    "        'add': add,\n",
    "        'mul': mul,\n",
    "        'mod': mod,\n",
    "        'jgz': jgz,\n",
    "    }\n",
    "    while True:\n",
    "        cmd = list(inst[regs['index']])\n",
    "        if len(cmd) == 3:\n",
    "            cmd[-1] = to_value(regs, cmd[-1])\n",
    "        my_cmd = cmds[cmd[0]]\n",
    "        retval = my_cmd(regs, *cmd[1:])\n",
    "        if retval:\n",
    "            break\n",
    "        regs['index'] += 1\n",
    "    \n",
    "solve(inst)"
   ]
  },
  {
   "cell_type": "markdown",
   "metadata": {},
   "source": [
    "## Part 2"
   ]
  },
  {
   "cell_type": "code",
   "execution_count": 85,
   "metadata": {},
   "outputs": [
    {
     "data": {
      "text/plain": [
       "(6096, 5969)"
      ]
     },
     "execution_count": 85,
     "metadata": {},
     "output_type": "execute_result"
    }
   ],
   "source": [
    "def to_value(regs, y):\n",
    "    try:\n",
    "        return int(y)\n",
    "    except Exception as e:\n",
    "        return regs[y]\n",
    "def snd(regs, x):\n",
    "    regs['snd'].append(regs[x])\n",
    "    regs['mes'] += 1\n",
    "def rcv(regs, x):\n",
    "    if len(regs['rcv']) == 0:\n",
    "        return True\n",
    "    regs[x] = regs['rcv'].popleft()\n",
    "def st(regs, x, y):\n",
    "    regs[x] = y\n",
    "def add(regs, x, y):\n",
    "    regs[x] += y\n",
    "def mul(regs, x, y):\n",
    "    regs[x] *= y\n",
    "def mod(regs, x, y):\n",
    "    regs[x] %= y\n",
    "def jgz(regs, x, y):\n",
    "    if to_value(regs, x) > 0:\n",
    "        regs['index'] += (y-1)\n",
    "\n",
    "\n",
    "class Solve(object):\n",
    "    def __init__(self, instr):\n",
    "        self.regs = defaultdict(int)\n",
    "        self.regs['q'] = 1\n",
    "        self.instr = instr\n",
    "    def solve(self):\n",
    "        regs = self.regs\n",
    "        cmds = {\n",
    "            'snd': snd,\n",
    "            'set': st,\n",
    "            'rcv': rcv,\n",
    "            'add': add,\n",
    "            'mul': mul,\n",
    "            'mod': mod,\n",
    "            'jgz': jgz,\n",
    "        }\n",
    "        steps = 0\n",
    "        while True:\n",
    "            cmd = list(self.instr[regs['index']])\n",
    "            if len(cmd) == 3:\n",
    "                cmd[-1] = to_value(regs, cmd[-1])\n",
    "            my_cmd = cmds[cmd[0]]\n",
    "            retval = my_cmd(regs, *cmd[1:])\n",
    "            if retval:\n",
    "                break\n",
    "            regs['index'] += 1\n",
    "            steps += 1\n",
    "        return steps\n",
    "\n",
    "class Manager(object):\n",
    "    def __init__(self, instr):\n",
    "        s0 = Solve(instr)\n",
    "        s1 = Solve(instr)\n",
    "        s0.regs['p'] = 0\n",
    "        s1.regs['p'] = 1\n",
    "        \n",
    "        q0 = deque()\n",
    "        s0.regs['snd'] = q0\n",
    "        s1.regs['rcv'] = q0\n",
    "        \n",
    "        q1 = deque()\n",
    "        s0.regs['rcv'] = q1\n",
    "        s1.regs['snd'] = q1\n",
    "        self.s0 = s0\n",
    "        self.s1 = s1\n",
    "    \n",
    "    def solve(self):\n",
    "        rounds = 0\n",
    "        while True:\n",
    "            rounds += 1\n",
    "            st0 = self.s0.solve()\n",
    "            st1 = self.s1.solve()\n",
    "            if st0 == 0 and st1 == 0:\n",
    "                return self.s0.regs['mes'], self.s1.regs['mes']\n",
    "            \n",
    "inst = [x.strip().split(' ') for x in \"\"\"snd 1\n",
    "snd 2\n",
    "snd p\n",
    "rcv a\n",
    "rcv b\n",
    "rcv c\n",
    "rcv d\"\"\".split('\\n')] \n",
    "inst = [x.strip().split(' ') for x in open('day18.in').readlines()]\n",
    "m = Manager(inst)\n",
    "m.solve()"
   ]
  },
  {
   "cell_type": "code",
   "execution_count": 61,
   "metadata": {},
   "outputs": [
    {
     "name": "stdout",
     "output_type": "stream",
     "text": [
      "5969\n"
     ]
    }
   ],
   "source": [
    "regs0 = defaultdict(lambda: 0)\n",
    "regs0[\"p\"] = 0\n",
    "regs1 = defaultdict(lambda: 0)\n",
    "regs1[\"p\"] = 1\n",
    "def get(a, rs):\n",
    "    try:\n",
    "        return int(a)\n",
    "    except:\n",
    "        return rs[a]\n",
    "\n",
    "inst = [x.strip().split() for x in open('day18.in').readlines()]\n",
    "\n",
    "buf0 = []\n",
    "buf1 = []\n",
    "lock = [False,False]\n",
    "score = 0\n",
    "def ex(p, i):\n",
    "    global score\n",
    "    regs = regs0 if p == 0 else regs1\n",
    "    rbr = buf0 if p == 0 else buf1\n",
    "    if i < 0 or i >= len(inst):\n",
    "        lock[p] = True\n",
    "        return\n",
    "\n",
    "    line = inst[i]\n",
    "    if line[0] == \"snd\":\n",
    "        if p == 0:\n",
    "            buf1.insert(0,get(line[1],regs))\n",
    "        else:\n",
    "            buf0.insert(0,get(line[1],regs))\n",
    "            score += 1\n",
    "    elif line[0] == \"set\":\n",
    "        regs[line[1]] = get(line[2],regs)\n",
    "    elif line[0] == \"add\":\n",
    "        regs[line[1]] += get(line[2],regs)\n",
    "    elif line[0] == \"mul\":\n",
    "        regs[line[1]] *= get(line[2],regs)\n",
    "    elif line[0] == \"mod\":\n",
    "        regs[line[1]] %= get(line[2],regs)\n",
    "    elif line[0] == \"rcv\":\n",
    "       if len(rbr) == 0:\n",
    "           lock[p] = True\n",
    "           return i\n",
    "       else:\n",
    "           lock[p] = False\n",
    "           regs[line[1]] = rbr.pop()\n",
    "    elif line[0] == \"jgz\":\n",
    "        if get(line[1],regs) > 0:\n",
    "            return i + get(line[2],regs)\n",
    "\n",
    "p0 = 0\n",
    "p1 = 0\n",
    "while not (lock[0] and lock[1]):\n",
    "    r = ex(0,p0)\n",
    "    if r is not None:\n",
    "        p0 = r\n",
    "    else:\n",
    "        p0 += 1\n",
    "    r = ex(1,p1)\n",
    "    if r is not None:\n",
    "        p1 = r\n",
    "    else:\n",
    "        p1 += 1\n",
    "\n",
    "print(score)"
   ]
  },
  {
   "cell_type": "code",
   "execution_count": 40,
   "metadata": {
    "collapsed": true
   },
   "outputs": [],
   "source": [
    "l.pop?"
   ]
  },
  {
   "cell_type": "code",
   "execution_count": 43,
   "metadata": {
    "collapsed": true
   },
   "outputs": [],
   "source": [
    "from collections import deque"
   ]
  },
  {
   "cell_type": "code",
   "execution_count": 45,
   "metadata": {
    "collapsed": true
   },
   "outputs": [],
   "source": [
    "d = deque()"
   ]
  },
  {
   "cell_type": "code",
   "execution_count": 65,
   "metadata": {},
   "outputs": [],
   "source": [
    "d.append(1)\n",
    "d.append(2)"
   ]
  },
  {
   "cell_type": "code",
   "execution_count": 67,
   "metadata": {},
   "outputs": [
    {
     "data": {
      "text/plain": [
       "1"
      ]
     },
     "execution_count": 67,
     "metadata": {},
     "output_type": "execute_result"
    }
   ],
   "source": [
    "d.popleft()"
   ]
  },
  {
   "cell_type": "code",
   "execution_count": 69,
   "metadata": {},
   "outputs": [
    {
     "data": {
      "text/plain": [
       "1"
      ]
     },
     "execution_count": 69,
     "metadata": {},
     "output_type": "execute_result"
    }
   ],
   "source": [
    "len(d)"
   ]
  },
  {
   "cell_type": "code",
   "execution_count": null,
   "metadata": {
    "collapsed": true
   },
   "outputs": [],
   "source": []
  }
 ],
 "metadata": {
  "anaconda-cloud": {},
  "kernelspec": {
   "display_name": "Python 3",
   "language": "python",
   "name": "python3"
  },
  "language_info": {
   "codemirror_mode": {
    "name": "ipython",
    "version": 3
   },
   "file_extension": ".py",
   "mimetype": "text/x-python",
   "name": "python",
   "nbconvert_exporter": "python",
   "pygments_lexer": "ipython3",
   "version": "3.6.3"
  }
 },
 "nbformat": 4,
 "nbformat_minor": 1
}
