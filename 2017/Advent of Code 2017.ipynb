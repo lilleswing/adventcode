{
 "cells": [
  {
   "cell_type": "markdown",
   "metadata": {},
   "source": [
    "# Day01 Circular List\n",
    "The captcha requires you to review a sequence of digits (your puzzle input) and find the sum of all digits that match the next digit in the list. The list is circular, so the digit after the last digit is the first digit in the list.\n",
    "\n",
    "For example:\n",
    "\n",
    "* 1122 produces a sum of 3 (1 + 2) because the first digit (1) matches the second digit and the third digit (2) matches the fourth digit.\n",
    "* 1111 produces 4 because each digit (all 1) matches the next.\n",
    "* 1234 produces 0 because no digit matches the next.\n",
    "* 91212129 produces 9 because the only digit that matches the next one is the last digit, 9."
   ]
  },
  {
   "cell_type": "code",
   "execution_count": 1,
   "metadata": {
    "collapsed": true
   },
   "outputs": [],
   "source": [
    "captcha = [int(x) for x in open('day01.in').read().strip()]"
   ]
  },
  {
   "cell_type": "markdown",
   "metadata": {},
   "source": [
    "## Part 1"
   ]
  },
  {
   "cell_type": "code",
   "execution_count": 2,
   "metadata": {},
   "outputs": [
    {
     "data": {
      "text/plain": [
       "1158"
      ]
     },
     "execution_count": 2,
     "metadata": {},
     "output_type": "execute_result"
    }
   ],
   "source": [
    "total = 0\n",
    "for i in range(len(captcha)):\n",
    "    if captcha[i] == captcha[i-1]:\n",
    "        total += captcha[i]\n",
    "total"
   ]
  },
  {
   "cell_type": "markdown",
   "metadata": {},
   "source": [
    "## Part 2\n",
    "Now instead of the previous element we have to check half way around the list"
   ]
  },
  {
   "cell_type": "code",
   "execution_count": 3,
   "metadata": {},
   "outputs": [
    {
     "data": {
      "text/plain": [
       "1132"
      ]
     },
     "execution_count": 3,
     "metadata": {},
     "output_type": "execute_result"
    }
   ],
   "source": [
    "offset = len(captcha) // 2\n",
    "total = 0\n",
    "for i in range(len(captcha)):\n",
    "    other_index = (i + offset) % len(captcha)\n",
    "    if captcha[i] == captcha[other_index]:\n",
    "        total += captcha[i]\n",
    "total"
   ]
  },
  {
   "cell_type": "markdown",
   "metadata": {
    "collapsed": true
   },
   "source": [
    "# Day02 Spreadsheet Checksum\n",
    "The spreadsheet consists of rows of apparently-random numbers. To make sure the recovery process is on the right track, they need you to calculate the spreadsheet's checksum. For each row, determine the difference between the largest value and the smallest value; the checksum is the sum of all of these differences.\n",
    "\n",
    "For example, given the following spreadsheet:\n",
    "\n",
    "5 1 9 5\n",
    "\n",
    "7 5 3\n",
    "\n",
    "2 4 6 8\n",
    "\n",
    "* The first row's largest and smallest values are 9 and 1, and their difference is 8.\n",
    "* The second row's largest and smallest values are 7 and 3, and their difference is 4.\n",
    "* The third row's difference is 6.\n",
    "* In this example, the spreadsheet's checksum would be 8 + 4 + 6 = 18."
   ]
  },
  {
   "cell_type": "code",
   "execution_count": 4,
   "metadata": {
    "collapsed": true
   },
   "outputs": [],
   "source": [
    "import numpy as np\n",
    "spreadsheet = [x for x in open('day02.in').readlines()]\n",
    "spreadsheet = [[int(y) for y in x.split()] for x in spreadsheet]"
   ]
  },
  {
   "cell_type": "markdown",
   "metadata": {},
   "source": [
    "# Part 1"
   ]
  },
  {
   "cell_type": "code",
   "execution_count": 5,
   "metadata": {},
   "outputs": [
    {
     "data": {
      "text/plain": [
       "30994"
      ]
     },
     "execution_count": 5,
     "metadata": {},
     "output_type": "execute_result"
    }
   ],
   "source": [
    "checksum = 0\n",
    "def checksum_row(row): return max(row) - min(row)\n",
    "sum([checksum_row(row) for row in spreadsheet])"
   ]
  },
  {
   "cell_type": "markdown",
   "metadata": {},
   "source": [
    "# Part 2\n",
    "It sounds like the goal is to find the only two numbers in each row where one evenly divides the other - that is, where the result of the division operation is a whole number. They would like you to find those numbers on each line, divide them, and add up each line's result.\n",
    "\n",
    "For example, given the following spreadsheet:\n",
    "\n",
    "5 9 2 8\n",
    "\n",
    "9 4 7 3\n",
    "\n",
    "3 8 6 5\n",
    "\n",
    "* In the first row, the only two numbers that evenly divide are 8 and 2; the result of this division is 4.\n",
    "* In the second row, the two numbers are 9 and 3; the result is 3.\n",
    "* In the third row, the result is 2.\n",
    "* In this example, the sum of the results would be 4 + 3 + 2 = 9."
   ]
  },
  {
   "cell_type": "code",
   "execution_count": 14,
   "metadata": {},
   "outputs": [
    {
     "data": {
      "text/plain": [
       "233"
      ]
     },
     "execution_count": 14,
     "metadata": {},
     "output_type": "execute_result"
    }
   ],
   "source": [
    "from itertools import product\n",
    "def checksum_row(row):\n",
    "    for top,bottom in product(row, repeat=2):\n",
    "        if top == bottom:\n",
    "            continue\n",
    "        if top % bottom == 0:\n",
    "            return top // bottom\n",
    "    raise ValueError(\"No Checksum for row %s\" % row)\n",
    "sum([checksum_row(row) for row in spreadsheet])"
   ]
  },
  {
   "cell_type": "markdown",
   "metadata": {},
   "source": [
    "# Day 03 Spiral Memory"
   ]
  },
  {
   "cell_type": "code",
   "execution_count": 7,
   "metadata": {
    "collapsed": true
   },
   "outputs": [],
   "source": [
    "class Point(object):\n",
    "    def __init__(self, x, y):\n",
    "        self.x = x\n",
    "        self.y = y\n",
    "    def __add__(self, other):\n",
    "        return Point(self.x+other.x, self.y+other.y)\n",
    "    def __repr__(self):\n",
    "        return str((self.x, self.y))\n",
    "    def __str__(self):\n",
    "        return str((self.x, self.y))\n",
    "    def scale(self, r):\n",
    "        return Point(self.x * r, self.y * r)\n",
    "    def tup(self):\n",
    "        return (self.x, self.y)\n"
   ]
  },
  {
   "cell_type": "code",
   "execution_count": 12,
   "metadata": {},
   "outputs": [
    {
     "name": "stdout",
     "output_type": "stream",
     "text": [
      "(279, -151) 430\n"
     ]
    }
   ],
   "source": [
    "def fill_ring(r, d):\n",
    "    v = ((r * 2) + 1) ** 2\n",
    "    corners = [Point(1,1), Point(1,-1), Point(-1,-1), Point(-1,1)]\n",
    "    dirs = [Point(0,-1), Point(-1,0), Point(0,1), Point(1,0)]\n",
    "    for c, di in zip(corners, dirs):\n",
    "        cur_loc = c.scale(r)\n",
    "        for _ in range(2 * r):\n",
    "            d[v] = cur_loc\n",
    "            v -= 1\n",
    "            cur_loc = cur_loc + di\n",
    "d = {}\n",
    "r = 1\n",
    "while 312051 not in d:\n",
    "    fill_ring(r, d)\n",
    "    r += 1\n",
    "assert d[9].tup() == (1,1)\n",
    "assert d[7].tup() == (1,-1)\n",
    "assert d[6].tup() == (0,-1)\n",
    "print(d[312051], sum([abs(x) for x in d[312051].tup()]))"
   ]
  },
  {
   "cell_type": "markdown",
   "metadata": {},
   "source": [
    "### Part 2"
   ]
  },
  {
   "cell_type": "code",
   "execution_count": 31,
   "metadata": {},
   "outputs": [
    {
     "data": {
      "text/plain": [
       "312453"
      ]
     },
     "execution_count": 31,
     "metadata": {},
     "output_type": "execute_result"
    }
   ],
   "source": [
    "step = 2\n",
    "last_val = 1\n",
    "d2 = {(0,0): 1}\n",
    "while last_val < 312051:\n",
    "    cur_loc = d[step].tup()\n",
    "    last_val = 0\n",
    "    for dy,dx in product([-1,0,1], repeat=2):\n",
    "        new_loc = cur_loc[0] + dy, cur_loc[1] + dx\n",
    "        if new_loc in d2:\n",
    "            last_val += d2[new_loc]\n",
    "    d2[cur_loc] = last_val\n",
    "    step += 1\n",
    "last_val  "
   ]
  },
  {
   "cell_type": "markdown",
   "metadata": {},
   "source": [
    "# Day 04 password lists"
   ]
  },
  {
   "cell_type": "code",
   "execution_count": 9,
   "metadata": {
    "collapsed": true
   },
   "outputs": [],
   "source": [
    "passcodes = [x.strip().split() for x in open('day04.in').readlines()]"
   ]
  },
  {
   "cell_type": "code",
   "execution_count": 10,
   "metadata": {},
   "outputs": [
    {
     "data": {
      "text/plain": [
       "451"
      ]
     },
     "execution_count": 10,
     "metadata": {},
     "output_type": "execute_result"
    }
   ],
   "source": [
    "sum([len(x) == len(set(x)) for x in passcodes])"
   ]
  },
  {
   "cell_type": "markdown",
   "metadata": {},
   "source": [
    "## Part 2"
   ]
  },
  {
   "cell_type": "markdown",
   "metadata": {},
   "source": [
    "We just need to create a canonical ordering to see if two strings are anagrams.\n",
    "\n",
    "To do this we sort each of the strings and then throw them in a set"
   ]
  },
  {
   "cell_type": "code",
   "execution_count": 13,
   "metadata": {},
   "outputs": [
    {
     "data": {
      "text/plain": [
       "223"
      ]
     },
     "execution_count": 13,
     "metadata": {},
     "output_type": "execute_result"
    }
   ],
   "source": [
    "def canonicalize(w): return \"\".join(sorted(w))\n",
    "def anagram_len(r): return len(set([canonicalize(x) for x in r]))\n",
    "sum([len(x) == anagram_len(x) for x in passcodes])"
   ]
  },
  {
   "cell_type": "markdown",
   "metadata": {},
   "source": [
    "# Day 05 A Maze of Twisty Trampolines, All Alike"
   ]
  },
  {
   "cell_type": "code",
   "execution_count": 21,
   "metadata": {},
   "outputs": [
    {
     "data": {
      "text/plain": [
       "356945"
      ]
     },
     "execution_count": 21,
     "metadata": {},
     "output_type": "execute_result"
    }
   ],
   "source": [
    "instructions = [int(x) for x in open('day05.in').readlines()]\n",
    "index = 0\n",
    "steps = 0\n",
    "while 0 <= index < len(instructions):\n",
    "    jump = instructions[index]\n",
    "    instructions[index] += 1\n",
    "    index += jump\n",
    "    steps += 1\n",
    "steps"
   ]
  },
  {
   "cell_type": "markdown",
   "metadata": {},
   "source": [
    "### Part 2"
   ]
  },
  {
   "cell_type": "code",
   "execution_count": 23,
   "metadata": {},
   "outputs": [
    {
     "data": {
      "text/plain": [
       "28372145"
      ]
     },
     "execution_count": 23,
     "metadata": {},
     "output_type": "execute_result"
    }
   ],
   "source": [
    "instructions = [int(x) for x in open('day05.in').readlines()]\n",
    "index = 0\n",
    "steps = 0\n",
    "while 0 <= index < len(instructions):\n",
    "    jump = instructions[index]\n",
    "    if instructions[index] >=3:\n",
    "        instructions[index] -= 1\n",
    "    else:\n",
    "        instructions[index] += 1\n",
    "    index += jump\n",
    "    steps += 1\n",
    "steps"
   ]
  },
  {
   "cell_type": "markdown",
   "metadata": {
    "collapsed": true
   },
   "source": [
    "# Day 06 Memory Reallocation"
   ]
  },
  {
   "cell_type": "code",
   "execution_count": 23,
   "metadata": {},
   "outputs": [
    {
     "data": {
      "text/plain": [
       "5042"
      ]
     },
     "execution_count": 23,
     "metadata": {},
     "output_type": "execute_result"
    }
   ],
   "source": [
    "banks = [int(x) for x in open('day06.in').read().split()]\n",
    "def redistribute(banks):\n",
    "    d, i = max(banks), banks.index(max(banks))\n",
    "    b2 = list(banks)\n",
    "    b2[i] = 0\n",
    "    while d > 0:\n",
    "        i = (i + 1) % len(banks)\n",
    "        b2[i] += 1\n",
    "        d -= 1\n",
    "    return b2\n",
    "\n",
    "steps, s = 0, set()\n",
    "while tuple(banks) not in s:\n",
    "    s.add(tuple(banks))\n",
    "    banks = redistribute(banks)\n",
    "    steps += 1\n",
    "steps"
   ]
  },
  {
   "cell_type": "markdown",
   "metadata": {},
   "source": [
    "### Part 2"
   ]
  },
  {
   "cell_type": "code",
   "execution_count": 24,
   "metadata": {},
   "outputs": [
    {
     "data": {
      "text/plain": [
       "1086"
      ]
     },
     "execution_count": 24,
     "metadata": {},
     "output_type": "execute_result"
    }
   ],
   "source": [
    "goal, banks, steps = tuple(banks), redistribute(banks), 1\n",
    "while tuple(banks) != goal:\n",
    "    banks = redistribute(banks)\n",
    "    steps +=1\n",
    "steps"
   ]
  },
  {
   "cell_type": "markdown",
   "metadata": {
    "collapsed": true
   },
   "source": [
    "# Day 07 Recursive Circus "
   ]
  },
  {
   "cell_type": "code",
   "execution_count": 42,
   "metadata": {
    "collapsed": true
   },
   "outputs": [],
   "source": [
    "import networkx as nx\n",
    "import re"
   ]
  },
  {
   "cell_type": "code",
   "execution_count": 43,
   "metadata": {},
   "outputs": [
    {
     "data": {
      "text/plain": [
       "'airlri'"
      ]
     },
     "execution_count": 43,
     "metadata": {},
     "output_type": "execute_result"
    }
   ],
   "source": [
    "lines = [x.strip() for x in open('day07.in').readlines()]\n",
    "weights = {}\n",
    "g = nx.DiGraph()\n",
    "for line in lines:\n",
    "    if line.find('->') >= 0:\n",
    "        source, sink = line.split('->')\n",
    "        sinks = sink.strip().split(', ')\n",
    "    else:\n",
    "        source, sinks = line, []\n",
    "    source_name = source.split(' ')[0]\n",
    "    source_weight = re.findall(r'\\d+', source)\n",
    "    weights[source_name] = int(source_weight[0])\n",
    "    for sink in sinks:\n",
    "        g.add_edge(source_name, sink)\n",
    "nx.topological_sort(g)[0]\n"
   ]
  },
  {
   "cell_type": "markdown",
   "metadata": {},
   "source": [
    "### Part 2"
   ]
  },
  {
   "cell_type": "code",
   "execution_count": 44,
   "metadata": {},
   "outputs": [
    {
     "name": "stdout",
     "output_type": "stream",
     "text": [
      "['dqwocyn', 'wsyiyen', 'qqnroz', 'yhonqw', 'drfzng'] [1623, 1614, 1614, 1614, 1614]\n",
      "['tylelk', 'oucqw', 'kkflx', 'ehlwoxs', 'jkxutle', 'hbldvzk', 'ezwzp'] [8103, 8094, 8094, 8094, 8094, 8094, 8094]\n",
      "['pidgnp', 'tbedct', 'gmewl', 'ryvidhy', 'lljifba', 'rdytzgp'] [152523, 152514, 152514, 152514, 152514, 152514]\n"
     ]
    },
    {
     "data": {
      "text/plain": [
       "915190"
      ]
     },
     "execution_count": 44,
     "metadata": {},
     "output_type": "execute_result"
    }
   ],
   "source": [
    "down_weights = {}\n",
    "def calc_down_weight(n):\n",
    "    if n in down_weights:\n",
    "        return down_weights[n]\n",
    "    neighbors = g.neighbors(n)\n",
    "    child_weights = [calc_down_weight(x) for x in neighbors]\n",
    "    if len(set(child_weights)) > 1:\n",
    "        print(neighbors, child_weights)\n",
    "    my_weight = weights[n] + sum(child_weights)\n",
    "    down_weights[n] = my_weight\n",
    "    return my_weight\n",
    "calc_down_weight(nx.topological_sort(g)[0])"
   ]
  },
  {
   "cell_type": "code",
   "execution_count": 41,
   "metadata": {},
   "outputs": [
    {
     "data": {
      "text/plain": [
       "1206"
      ]
     },
     "execution_count": 41,
     "metadata": {},
     "output_type": "execute_result"
    }
   ],
   "source": [
    "weights['dqwocyn'] - (1623 - 1614)"
   ]
  },
  {
   "cell_type": "markdown",
   "metadata": {
    "collapsed": true
   },
   "source": [
    "# Day 08 I Heard You Like Registers"
   ]
  },
  {
   "cell_type": "code",
   "execution_count": 18,
   "metadata": {},
   "outputs": [],
   "source": [
    "import collections\n",
    "instr = [x.strip().split() for x in open('day08.in').readlines()]"
   ]
  },
  {
   "cell_type": "code",
   "execution_count": 13,
   "metadata": {},
   "outputs": [],
   "source": [
    "conds = {\n",
    "    '>': lambda x, y: x > y,\n",
    "    '>=': lambda x, y: x >= y,\n",
    "    '<': lambda x, y: x < y,\n",
    "    '<=': lambda x, y: x <= y,\n",
    "    '==': lambda x, y: x == y,\n",
    "    '!=': lambda x, y: x != y\n",
    "}\n",
    "muts = {\n",
    "    'inc': lambda x, y: x + y,\n",
    "    'dec': lambda x, y: x - y\n",
    "}"
   ]
  },
  {
   "cell_type": "code",
   "execution_count": 17,
   "metadata": {},
   "outputs": [
    {
     "data": {
      "text/plain": [
       "('m', 4163)"
      ]
     },
     "execution_count": 17,
     "metadata": {},
     "output_type": "execute_result"
    }
   ],
   "source": [
    "regs = collections.defaultdict(int)\n",
    "for r1, mut, v1, _, r2, cond, v2 in instr:\n",
    "    v1, v2 = int(v1), int(v2)\n",
    "    if conds[cond](regs[r2], v2):\n",
    "        regs[r1] = muts[mut](regs[r1], v1)\n",
    "max(regs.items(), key=lambda x: x[1])"
   ]
  },
  {
   "cell_type": "markdown",
   "metadata": {},
   "source": [
    "### Part 2"
   ]
  },
  {
   "cell_type": "code",
   "execution_count": 19,
   "metadata": {},
   "outputs": [
    {
     "data": {
      "text/plain": [
       "5347"
      ]
     },
     "execution_count": 19,
     "metadata": {},
     "output_type": "execute_result"
    }
   ],
   "source": [
    "regs = collections.defaultdict(int)\n",
    "biggest = 0\n",
    "for r1, mut, v1, _, r2, cond, v2 in instr:\n",
    "    v1, v2 = int(v1), int(v2)\n",
    "    if conds[cond](regs[r2], v2):\n",
    "        regs[r1] = muts[mut](regs[r1], v1)\n",
    "        if regs[r1] > biggest:\n",
    "            biggest = regs[r1]\n",
    "biggest"
   ]
  },
  {
   "cell_type": "code",
   "execution_count": null,
   "metadata": {
    "collapsed": true
   },
   "outputs": [],
   "source": []
  }
 ],
 "metadata": {
  "anaconda-cloud": {},
  "kernelspec": {
   "display_name": "Python 3",
   "language": "python",
   "name": "python3"
  },
  "language_info": {
   "codemirror_mode": {
    "name": "ipython",
    "version": 3
   },
   "file_extension": ".py",
   "mimetype": "text/x-python",
   "name": "python",
   "nbconvert_exporter": "python",
   "pygments_lexer": "ipython3",
   "version": "3.5.4"
  }
 },
 "nbformat": 4,
 "nbformat_minor": 1
}
